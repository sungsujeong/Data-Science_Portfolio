{
 "cells": [
  {
   "cell_type": "markdown",
   "metadata": {},
   "source": [
    "## 2. Simple Linear Regression Analysis\n",
    "\n",
    "<a id='Table of Contents'></a>\n",
    "### Table of Contents\n",
    "1. What is linear regression?\n",
    "2. <a href='#Linear Regression Line'>Linear regression line</a>\n",
    "3. <a href='#Find the best fit regression line'>Find the best fit regression line</a>\n",
    "4. <a href='#Prediction with linear regression'>Prediction with linear regression</a>\n",
    "5. <a href='#Linear Regression Visualization'>Linear regression visualization</a>"
   ]
  },
  {
   "cell_type": "markdown",
   "metadata": {},
   "source": [
    "### 1) What is linear regression?\n",
    "1. Linear regression is a great tool to explain the relationship between two numeric variables using a straight line. For example, here I have two numeric variables from this data set, the percentage of ball possession and the percentage of pass accuracy. I then wonder, \"what is the relationship between the ball possession and the pass accuracy?\" or \"How is the ball possession is related to the pass accuracy?\". \n",
    "2. To answer these questions, I dot-plotted all values on the grid to get easy and quick understanding of potential correlation between two variables."
   ]
  },
  {
   "cell_type": "code",
   "execution_count": 2,
   "metadata": {
    "scrolled": true
   },
   "outputs": [
    {
     "name": "stderr",
     "output_type": "stream",
     "text": [
      "C:\\Users\\james\\anaconda3\\lib\\site-packages\\sklearn\\utils\\deprecation.py:143: FutureWarning: The sklearn.ensemble.forest module is  deprecated in version 0.22 and will be removed in version 0.24. The corresponding classes / functions should instead be imported from sklearn.ensemble. Anything that cannot be imported from sklearn.ensemble is now part of the private API.\n",
      "  warnings.warn(message, FutureWarning)\n"
     ]
    }
   ],
   "source": [
    "# Import libraries\n",
    "\n",
    "import os\n",
    "import numpy as np\n",
    "import pandas as pd\n",
    "import matplotlib.pyplot as plt\n",
    "%matplotlib inline\n",
    "import seaborn as sns\n",
    "import missingno as msno\n",
    "\n",
    "import plotly.express as px\n",
    "import plotly.graph_objects as go\n",
    "\n",
    "import rfpimp\n",
    "from sklearn import linear_model\n",
    "from sklearn.linear_model import LinearRegression\n",
    "from sklearn.ensemble import RandomForestRegressor\n",
    "from sklearn.preprocessing import PolynomialFeatures\n",
    "from sklearn.model_selection import train_test_split\n",
    "from sklearn.svm import SVR\n",
    "\n",
    "import statsmodels.formula.api as smf\n",
    "from scipy import stats"
   ]
  },
  {
   "cell_type": "code",
   "execution_count": 4,
   "metadata": {},
   "outputs": [],
   "source": [
    "# Define working directory\n",
    "os.chdir(\"C:/Users/james/Desktop/Coding/Kaggle/FIFA 2018\")\n",
    "\n",
    "# Import csv file\n",
    "df = pd.read_csv(\"FIFA 2018.csv\")"
   ]
  },
  {
   "cell_type": "code",
   "execution_count": 7,
   "metadata": {},
   "outputs": [
    {
     "data": {
      "text/html": [
       "<div>\n",
       "<style scoped>\n",
       "    .dataframe tbody tr th:only-of-type {\n",
       "        vertical-align: middle;\n",
       "    }\n",
       "\n",
       "    .dataframe tbody tr th {\n",
       "        vertical-align: top;\n",
       "    }\n",
       "\n",
       "    .dataframe thead th {\n",
       "        text-align: right;\n",
       "    }\n",
       "</style>\n",
       "<table border=\"1\" class=\"dataframe\">\n",
       "  <thead>\n",
       "    <tr style=\"text-align: right;\">\n",
       "      <th></th>\n",
       "      <th>Own goals</th>\n",
       "      <th>Own goal Time</th>\n",
       "    </tr>\n",
       "  </thead>\n",
       "  <tbody>\n",
       "    <tr>\n",
       "      <th>0</th>\n",
       "      <td>0.0</td>\n",
       "      <td>0.0</td>\n",
       "    </tr>\n",
       "    <tr>\n",
       "      <th>1</th>\n",
       "      <td>0.0</td>\n",
       "      <td>0.0</td>\n",
       "    </tr>\n",
       "    <tr>\n",
       "      <th>2</th>\n",
       "      <td>0.0</td>\n",
       "      <td>0.0</td>\n",
       "    </tr>\n",
       "    <tr>\n",
       "      <th>3</th>\n",
       "      <td>0.0</td>\n",
       "      <td>0.0</td>\n",
       "    </tr>\n",
       "    <tr>\n",
       "      <th>5</th>\n",
       "      <td>0.0</td>\n",
       "      <td>0.0</td>\n",
       "    </tr>\n",
       "    <tr>\n",
       "      <th>...</th>\n",
       "      <td>...</td>\n",
       "      <td>...</td>\n",
       "    </tr>\n",
       "    <tr>\n",
       "      <th>122</th>\n",
       "      <td>0.0</td>\n",
       "      <td>0.0</td>\n",
       "    </tr>\n",
       "    <tr>\n",
       "      <th>123</th>\n",
       "      <td>0.0</td>\n",
       "      <td>0.0</td>\n",
       "    </tr>\n",
       "    <tr>\n",
       "      <th>124</th>\n",
       "      <td>0.0</td>\n",
       "      <td>0.0</td>\n",
       "    </tr>\n",
       "    <tr>\n",
       "      <th>125</th>\n",
       "      <td>0.0</td>\n",
       "      <td>0.0</td>\n",
       "    </tr>\n",
       "    <tr>\n",
       "      <th>127</th>\n",
       "      <td>0.0</td>\n",
       "      <td>0.0</td>\n",
       "    </tr>\n",
       "  </tbody>\n",
       "</table>\n",
       "<p>116 rows × 2 columns</p>\n",
       "</div>"
      ],
      "text/plain": [
       "     Own goals  Own goal Time\n",
       "0          0.0            0.0\n",
       "1          0.0            0.0\n",
       "2          0.0            0.0\n",
       "3          0.0            0.0\n",
       "5          0.0            0.0\n",
       "..         ...            ...\n",
       "122        0.0            0.0\n",
       "123        0.0            0.0\n",
       "124        0.0            0.0\n",
       "125        0.0            0.0\n",
       "127        0.0            0.0\n",
       "\n",
       "[116 rows x 2 columns]"
      ]
     },
     "execution_count": 7,
     "metadata": {},
     "output_type": "execute_result"
    }
   ],
   "source": [
    "# Fill missing values in 1st Goal with 0\n",
    "df[\"1st Goal\"].fillna(0)\n",
    "\n",
    "# Print missing values only in both columns\n",
    "og = [\"Own goals\", \"Own goal Time\"]\n",
    "og_null = df.loc[df[\"Own goals\"].isna(), og]\n",
    "\n",
    "df.loc[og_null.index, og]\n",
    "df.loc[og_null.index, og].head()\n",
    "\n",
    "# Fill missing values with 0\n",
    "df.loc[og_null.index, og].fillna(0)"
   ]
  },
  {
   "cell_type": "code",
   "execution_count": 8,
   "metadata": {},
   "outputs": [
    {
     "data": {
      "text/html": [
       "<div>\n",
       "<style scoped>\n",
       "    .dataframe tbody tr th:only-of-type {\n",
       "        vertical-align: middle;\n",
       "    }\n",
       "\n",
       "    .dataframe tbody tr th {\n",
       "        vertical-align: top;\n",
       "    }\n",
       "\n",
       "    .dataframe thead th {\n",
       "        text-align: right;\n",
       "    }\n",
       "</style>\n",
       "<table border=\"1\" class=\"dataframe\">\n",
       "  <thead>\n",
       "    <tr style=\"text-align: right;\">\n",
       "      <th></th>\n",
       "      <th>Result</th>\n",
       "    </tr>\n",
       "  </thead>\n",
       "  <tbody>\n",
       "    <tr>\n",
       "      <th>0</th>\n",
       "      <td>win</td>\n",
       "    </tr>\n",
       "    <tr>\n",
       "      <th>1</th>\n",
       "      <td>lose</td>\n",
       "    </tr>\n",
       "    <tr>\n",
       "      <th>2</th>\n",
       "      <td>lose</td>\n",
       "    </tr>\n",
       "    <tr>\n",
       "      <th>3</th>\n",
       "      <td>win</td>\n",
       "    </tr>\n",
       "    <tr>\n",
       "      <th>4</th>\n",
       "      <td>lose</td>\n",
       "    </tr>\n",
       "    <tr>\n",
       "      <th>5</th>\n",
       "      <td>win</td>\n",
       "    </tr>\n",
       "  </tbody>\n",
       "</table>\n",
       "</div>"
      ],
      "text/plain": [
       "  Result\n",
       "0    win\n",
       "1   lose\n",
       "2   lose\n",
       "3    win\n",
       "4   lose\n",
       "5    win"
      ]
     },
     "execution_count": 8,
     "metadata": {},
     "output_type": "execute_result"
    }
   ],
   "source": [
    "# Create a new column \"Result\" that contains the result of each match and add it to the dataframe\n",
    "\n",
    "df = df.copy()\n",
    "\n",
    "df[\"Result\"]=np.nan\n",
    "for i in range(0, 128, 2):\n",
    "    a_team=df.iloc[i]['Goal Scored']\n",
    "    b_team=df.iloc[i+1]['Goal Scored']\n",
    "    \n",
    "    if a_team > b_team:\n",
    "        df.iloc[i, -1] = \"win\"\n",
    "        df.iloc[i+1, -1] = \"lose\"\n",
    "    elif b_team > a_team:\n",
    "        df.iloc[i, -1] = \"lose\"\n",
    "        df.iloc[i+1, -1] = \"win\"\n",
    "    else:\n",
    "        df.iloc[i, -1] = \"draw\"\n",
    "        df.iloc[i+1, -1] = \"draw\"\n",
    "        \n",
    "df[[\"Result\"]].head(6)"
   ]
  },
  {
   "cell_type": "code",
   "execution_count": 9,
   "metadata": {},
   "outputs": [
    {
     "data": {
      "application/vnd.plotly.v1+json": {
       "config": {
        "plotlyServerURL": "https://plot.ly"
       },
       "data": [
        {
         "hovertemplate": "Ball Possession %=%{x}<br>Pass Accuracy %=%{y}<extra></extra>",
         "legendgroup": "",
         "marker": {
          "color": "#636efa",
          "symbol": "circle"
         },
         "mode": "markers",
         "name": "",
         "orientation": "v",
         "showlegend": false,
         "type": "scatter",
         "x": [
          40,
          60,
          43,
          57,
          64,
          36,
          39,
          61,
          51,
          49,
          72,
          28,
          52,
          48,
          54,
          46,
          50,
          50,
          60,
          40,
          52,
          48,
          52,
          48,
          61,
          39,
          41,
          59,
          41,
          59,
          57,
          43,
          47,
          53,
          47,
          53,
          47,
          53,
          30,
          70,
          49,
          51,
          44,
          56,
          58,
          42,
          66,
          34,
          58,
          42,
          42,
          58,
          52,
          48,
          41,
          59,
          71,
          29,
          58,
          42,
          54,
          46,
          45,
          55,
          56,
          44,
          61,
          39,
          68,
          32,
          32,
          68,
          38,
          62,
          53,
          47,
          34,
          66,
          41,
          59,
          30,
          70,
          65,
          35,
          44,
          56,
          60,
          40,
          54,
          46,
          43,
          57,
          36,
          64,
          48,
          52,
          41,
          59,
          39,
          61,
          75,
          25,
          54,
          46,
          47,
          53,
          56,
          44,
          37,
          63,
          48,
          51,
          42,
          58,
          57,
          43,
          43,
          57,
          38,
          62,
          40,
          60,
          54,
          46,
          43,
          57,
          39,
          61
         ],
         "xaxis": "x",
         "y": [
          78,
          86,
          78,
          86,
          86,
          86,
          87,
          93,
          87,
          85,
          92,
          67,
          85,
          82,
          84,
          84,
          83,
          83,
          88,
          82,
          88,
          83,
          84,
          79,
          89,
          82,
          82,
          91,
          82,
          87,
          88,
          81,
          76,
          81,
          76,
          77,
          88,
          86,
          69,
          89,
          88,
          85,
          77,
          81,
          81,
          80,
          90,
          73,
          84,
          75,
          78,
          87,
          84,
          82,
          82,
          89,
          91,
          77,
          94,
          88,
          84,
          79,
          79,
          82,
          88,
          83,
          90,
          82,
          91,
          84,
          69,
          89,
          72,
          87,
          86,
          81,
          76,
          84,
          73,
          87,
          74,
          88,
          83,
          67,
          78,
          88,
          87,
          82,
          86,
          83,
          78,
          83,
          77,
          87,
          88,
          88,
          84,
          86,
          69,
          84,
          91,
          72,
          81,
          79,
          83,
          85,
          87,
          83,
          73,
          84,
          78,
          82,
          67,
          81,
          89,
          83,
          74,
          80,
          69,
          82,
          86,
          90,
          79,
          79,
          88,
          92,
          75,
          83
         ],
         "yaxis": "y"
        }
       ],
       "layout": {
        "legend": {
         "tracegroupgap": 0
        },
        "margin": {
         "t": 60
        },
        "template": {
         "data": {
          "bar": [
           {
            "error_x": {
             "color": "#2a3f5f"
            },
            "error_y": {
             "color": "#2a3f5f"
            },
            "marker": {
             "line": {
              "color": "#E5ECF6",
              "width": 0.5
             }
            },
            "type": "bar"
           }
          ],
          "barpolar": [
           {
            "marker": {
             "line": {
              "color": "#E5ECF6",
              "width": 0.5
             }
            },
            "type": "barpolar"
           }
          ],
          "carpet": [
           {
            "aaxis": {
             "endlinecolor": "#2a3f5f",
             "gridcolor": "white",
             "linecolor": "white",
             "minorgridcolor": "white",
             "startlinecolor": "#2a3f5f"
            },
            "baxis": {
             "endlinecolor": "#2a3f5f",
             "gridcolor": "white",
             "linecolor": "white",
             "minorgridcolor": "white",
             "startlinecolor": "#2a3f5f"
            },
            "type": "carpet"
           }
          ],
          "choropleth": [
           {
            "colorbar": {
             "outlinewidth": 0,
             "ticks": ""
            },
            "type": "choropleth"
           }
          ],
          "contour": [
           {
            "colorbar": {
             "outlinewidth": 0,
             "ticks": ""
            },
            "colorscale": [
             [
              0,
              "#0d0887"
             ],
             [
              0.1111111111111111,
              "#46039f"
             ],
             [
              0.2222222222222222,
              "#7201a8"
             ],
             [
              0.3333333333333333,
              "#9c179e"
             ],
             [
              0.4444444444444444,
              "#bd3786"
             ],
             [
              0.5555555555555556,
              "#d8576b"
             ],
             [
              0.6666666666666666,
              "#ed7953"
             ],
             [
              0.7777777777777778,
              "#fb9f3a"
             ],
             [
              0.8888888888888888,
              "#fdca26"
             ],
             [
              1,
              "#f0f921"
             ]
            ],
            "type": "contour"
           }
          ],
          "contourcarpet": [
           {
            "colorbar": {
             "outlinewidth": 0,
             "ticks": ""
            },
            "type": "contourcarpet"
           }
          ],
          "heatmap": [
           {
            "colorbar": {
             "outlinewidth": 0,
             "ticks": ""
            },
            "colorscale": [
             [
              0,
              "#0d0887"
             ],
             [
              0.1111111111111111,
              "#46039f"
             ],
             [
              0.2222222222222222,
              "#7201a8"
             ],
             [
              0.3333333333333333,
              "#9c179e"
             ],
             [
              0.4444444444444444,
              "#bd3786"
             ],
             [
              0.5555555555555556,
              "#d8576b"
             ],
             [
              0.6666666666666666,
              "#ed7953"
             ],
             [
              0.7777777777777778,
              "#fb9f3a"
             ],
             [
              0.8888888888888888,
              "#fdca26"
             ],
             [
              1,
              "#f0f921"
             ]
            ],
            "type": "heatmap"
           }
          ],
          "heatmapgl": [
           {
            "colorbar": {
             "outlinewidth": 0,
             "ticks": ""
            },
            "colorscale": [
             [
              0,
              "#0d0887"
             ],
             [
              0.1111111111111111,
              "#46039f"
             ],
             [
              0.2222222222222222,
              "#7201a8"
             ],
             [
              0.3333333333333333,
              "#9c179e"
             ],
             [
              0.4444444444444444,
              "#bd3786"
             ],
             [
              0.5555555555555556,
              "#d8576b"
             ],
             [
              0.6666666666666666,
              "#ed7953"
             ],
             [
              0.7777777777777778,
              "#fb9f3a"
             ],
             [
              0.8888888888888888,
              "#fdca26"
             ],
             [
              1,
              "#f0f921"
             ]
            ],
            "type": "heatmapgl"
           }
          ],
          "histogram": [
           {
            "marker": {
             "colorbar": {
              "outlinewidth": 0,
              "ticks": ""
             }
            },
            "type": "histogram"
           }
          ],
          "histogram2d": [
           {
            "colorbar": {
             "outlinewidth": 0,
             "ticks": ""
            },
            "colorscale": [
             [
              0,
              "#0d0887"
             ],
             [
              0.1111111111111111,
              "#46039f"
             ],
             [
              0.2222222222222222,
              "#7201a8"
             ],
             [
              0.3333333333333333,
              "#9c179e"
             ],
             [
              0.4444444444444444,
              "#bd3786"
             ],
             [
              0.5555555555555556,
              "#d8576b"
             ],
             [
              0.6666666666666666,
              "#ed7953"
             ],
             [
              0.7777777777777778,
              "#fb9f3a"
             ],
             [
              0.8888888888888888,
              "#fdca26"
             ],
             [
              1,
              "#f0f921"
             ]
            ],
            "type": "histogram2d"
           }
          ],
          "histogram2dcontour": [
           {
            "colorbar": {
             "outlinewidth": 0,
             "ticks": ""
            },
            "colorscale": [
             [
              0,
              "#0d0887"
             ],
             [
              0.1111111111111111,
              "#46039f"
             ],
             [
              0.2222222222222222,
              "#7201a8"
             ],
             [
              0.3333333333333333,
              "#9c179e"
             ],
             [
              0.4444444444444444,
              "#bd3786"
             ],
             [
              0.5555555555555556,
              "#d8576b"
             ],
             [
              0.6666666666666666,
              "#ed7953"
             ],
             [
              0.7777777777777778,
              "#fb9f3a"
             ],
             [
              0.8888888888888888,
              "#fdca26"
             ],
             [
              1,
              "#f0f921"
             ]
            ],
            "type": "histogram2dcontour"
           }
          ],
          "mesh3d": [
           {
            "colorbar": {
             "outlinewidth": 0,
             "ticks": ""
            },
            "type": "mesh3d"
           }
          ],
          "parcoords": [
           {
            "line": {
             "colorbar": {
              "outlinewidth": 0,
              "ticks": ""
             }
            },
            "type": "parcoords"
           }
          ],
          "pie": [
           {
            "automargin": true,
            "type": "pie"
           }
          ],
          "scatter": [
           {
            "marker": {
             "colorbar": {
              "outlinewidth": 0,
              "ticks": ""
             }
            },
            "type": "scatter"
           }
          ],
          "scatter3d": [
           {
            "line": {
             "colorbar": {
              "outlinewidth": 0,
              "ticks": ""
             }
            },
            "marker": {
             "colorbar": {
              "outlinewidth": 0,
              "ticks": ""
             }
            },
            "type": "scatter3d"
           }
          ],
          "scattercarpet": [
           {
            "marker": {
             "colorbar": {
              "outlinewidth": 0,
              "ticks": ""
             }
            },
            "type": "scattercarpet"
           }
          ],
          "scattergeo": [
           {
            "marker": {
             "colorbar": {
              "outlinewidth": 0,
              "ticks": ""
             }
            },
            "type": "scattergeo"
           }
          ],
          "scattergl": [
           {
            "marker": {
             "colorbar": {
              "outlinewidth": 0,
              "ticks": ""
             }
            },
            "type": "scattergl"
           }
          ],
          "scattermapbox": [
           {
            "marker": {
             "colorbar": {
              "outlinewidth": 0,
              "ticks": ""
             }
            },
            "type": "scattermapbox"
           }
          ],
          "scatterpolar": [
           {
            "marker": {
             "colorbar": {
              "outlinewidth": 0,
              "ticks": ""
             }
            },
            "type": "scatterpolar"
           }
          ],
          "scatterpolargl": [
           {
            "marker": {
             "colorbar": {
              "outlinewidth": 0,
              "ticks": ""
             }
            },
            "type": "scatterpolargl"
           }
          ],
          "scatterternary": [
           {
            "marker": {
             "colorbar": {
              "outlinewidth": 0,
              "ticks": ""
             }
            },
            "type": "scatterternary"
           }
          ],
          "surface": [
           {
            "colorbar": {
             "outlinewidth": 0,
             "ticks": ""
            },
            "colorscale": [
             [
              0,
              "#0d0887"
             ],
             [
              0.1111111111111111,
              "#46039f"
             ],
             [
              0.2222222222222222,
              "#7201a8"
             ],
             [
              0.3333333333333333,
              "#9c179e"
             ],
             [
              0.4444444444444444,
              "#bd3786"
             ],
             [
              0.5555555555555556,
              "#d8576b"
             ],
             [
              0.6666666666666666,
              "#ed7953"
             ],
             [
              0.7777777777777778,
              "#fb9f3a"
             ],
             [
              0.8888888888888888,
              "#fdca26"
             ],
             [
              1,
              "#f0f921"
             ]
            ],
            "type": "surface"
           }
          ],
          "table": [
           {
            "cells": {
             "fill": {
              "color": "#EBF0F8"
             },
             "line": {
              "color": "white"
             }
            },
            "header": {
             "fill": {
              "color": "#C8D4E3"
             },
             "line": {
              "color": "white"
             }
            },
            "type": "table"
           }
          ]
         },
         "layout": {
          "annotationdefaults": {
           "arrowcolor": "#2a3f5f",
           "arrowhead": 0,
           "arrowwidth": 1
          },
          "coloraxis": {
           "colorbar": {
            "outlinewidth": 0,
            "ticks": ""
           }
          },
          "colorscale": {
           "diverging": [
            [
             0,
             "#8e0152"
            ],
            [
             0.1,
             "#c51b7d"
            ],
            [
             0.2,
             "#de77ae"
            ],
            [
             0.3,
             "#f1b6da"
            ],
            [
             0.4,
             "#fde0ef"
            ],
            [
             0.5,
             "#f7f7f7"
            ],
            [
             0.6,
             "#e6f5d0"
            ],
            [
             0.7,
             "#b8e186"
            ],
            [
             0.8,
             "#7fbc41"
            ],
            [
             0.9,
             "#4d9221"
            ],
            [
             1,
             "#276419"
            ]
           ],
           "sequential": [
            [
             0,
             "#0d0887"
            ],
            [
             0.1111111111111111,
             "#46039f"
            ],
            [
             0.2222222222222222,
             "#7201a8"
            ],
            [
             0.3333333333333333,
             "#9c179e"
            ],
            [
             0.4444444444444444,
             "#bd3786"
            ],
            [
             0.5555555555555556,
             "#d8576b"
            ],
            [
             0.6666666666666666,
             "#ed7953"
            ],
            [
             0.7777777777777778,
             "#fb9f3a"
            ],
            [
             0.8888888888888888,
             "#fdca26"
            ],
            [
             1,
             "#f0f921"
            ]
           ],
           "sequentialminus": [
            [
             0,
             "#0d0887"
            ],
            [
             0.1111111111111111,
             "#46039f"
            ],
            [
             0.2222222222222222,
             "#7201a8"
            ],
            [
             0.3333333333333333,
             "#9c179e"
            ],
            [
             0.4444444444444444,
             "#bd3786"
            ],
            [
             0.5555555555555556,
             "#d8576b"
            ],
            [
             0.6666666666666666,
             "#ed7953"
            ],
            [
             0.7777777777777778,
             "#fb9f3a"
            ],
            [
             0.8888888888888888,
             "#fdca26"
            ],
            [
             1,
             "#f0f921"
            ]
           ]
          },
          "colorway": [
           "#636efa",
           "#EF553B",
           "#00cc96",
           "#ab63fa",
           "#FFA15A",
           "#19d3f3",
           "#FF6692",
           "#B6E880",
           "#FF97FF",
           "#FECB52"
          ],
          "font": {
           "color": "#2a3f5f"
          },
          "geo": {
           "bgcolor": "white",
           "lakecolor": "white",
           "landcolor": "#E5ECF6",
           "showlakes": true,
           "showland": true,
           "subunitcolor": "white"
          },
          "hoverlabel": {
           "align": "left"
          },
          "hovermode": "closest",
          "mapbox": {
           "style": "light"
          },
          "paper_bgcolor": "white",
          "plot_bgcolor": "#E5ECF6",
          "polar": {
           "angularaxis": {
            "gridcolor": "white",
            "linecolor": "white",
            "ticks": ""
           },
           "bgcolor": "#E5ECF6",
           "radialaxis": {
            "gridcolor": "white",
            "linecolor": "white",
            "ticks": ""
           }
          },
          "scene": {
           "xaxis": {
            "backgroundcolor": "#E5ECF6",
            "gridcolor": "white",
            "gridwidth": 2,
            "linecolor": "white",
            "showbackground": true,
            "ticks": "",
            "zerolinecolor": "white"
           },
           "yaxis": {
            "backgroundcolor": "#E5ECF6",
            "gridcolor": "white",
            "gridwidth": 2,
            "linecolor": "white",
            "showbackground": true,
            "ticks": "",
            "zerolinecolor": "white"
           },
           "zaxis": {
            "backgroundcolor": "#E5ECF6",
            "gridcolor": "white",
            "gridwidth": 2,
            "linecolor": "white",
            "showbackground": true,
            "ticks": "",
            "zerolinecolor": "white"
           }
          },
          "shapedefaults": {
           "line": {
            "color": "#2a3f5f"
           }
          },
          "ternary": {
           "aaxis": {
            "gridcolor": "white",
            "linecolor": "white",
            "ticks": ""
           },
           "baxis": {
            "gridcolor": "white",
            "linecolor": "white",
            "ticks": ""
           },
           "bgcolor": "#E5ECF6",
           "caxis": {
            "gridcolor": "white",
            "linecolor": "white",
            "ticks": ""
           }
          },
          "title": {
           "x": 0.05
          },
          "xaxis": {
           "automargin": true,
           "gridcolor": "white",
           "linecolor": "white",
           "ticks": "",
           "title": {
            "standoff": 15
           },
           "zerolinecolor": "white",
           "zerolinewidth": 2
          },
          "yaxis": {
           "automargin": true,
           "gridcolor": "white",
           "linecolor": "white",
           "ticks": "",
           "title": {
            "standoff": 15
           },
           "zerolinecolor": "white",
           "zerolinewidth": 2
          }
         }
        },
        "xaxis": {
         "anchor": "y",
         "domain": [
          0,
          1
         ],
         "title": {
          "text": "Ball Possession %"
         }
        },
        "yaxis": {
         "anchor": "x",
         "domain": [
          0,
          1
         ],
         "title": {
          "text": "Pass Accuracy %"
         }
        }
       }
      },
      "text/html": [
       "<div>\n",
       "        \n",
       "        \n",
       "            <div id=\"c7a32be5-e960-49e9-bcc7-4ca26d587202\" class=\"plotly-graph-div\" style=\"height:525px; width:100%;\"></div>\n",
       "            <script type=\"text/javascript\">\n",
       "                require([\"plotly\"], function(Plotly) {\n",
       "                    window.PLOTLYENV=window.PLOTLYENV || {};\n",
       "                    \n",
       "                if (document.getElementById(\"c7a32be5-e960-49e9-bcc7-4ca26d587202\")) {\n",
       "                    Plotly.newPlot(\n",
       "                        'c7a32be5-e960-49e9-bcc7-4ca26d587202',\n",
       "                        [{\"hovertemplate\": \"Ball Possession %=%{x}<br>Pass Accuracy %=%{y}<extra></extra>\", \"legendgroup\": \"\", \"marker\": {\"color\": \"#636efa\", \"symbol\": \"circle\"}, \"mode\": \"markers\", \"name\": \"\", \"orientation\": \"v\", \"showlegend\": false, \"type\": \"scatter\", \"x\": [40, 60, 43, 57, 64, 36, 39, 61, 51, 49, 72, 28, 52, 48, 54, 46, 50, 50, 60, 40, 52, 48, 52, 48, 61, 39, 41, 59, 41, 59, 57, 43, 47, 53, 47, 53, 47, 53, 30, 70, 49, 51, 44, 56, 58, 42, 66, 34, 58, 42, 42, 58, 52, 48, 41, 59, 71, 29, 58, 42, 54, 46, 45, 55, 56, 44, 61, 39, 68, 32, 32, 68, 38, 62, 53, 47, 34, 66, 41, 59, 30, 70, 65, 35, 44, 56, 60, 40, 54, 46, 43, 57, 36, 64, 48, 52, 41, 59, 39, 61, 75, 25, 54, 46, 47, 53, 56, 44, 37, 63, 48, 51, 42, 58, 57, 43, 43, 57, 38, 62, 40, 60, 54, 46, 43, 57, 39, 61], \"xaxis\": \"x\", \"y\": [78, 86, 78, 86, 86, 86, 87, 93, 87, 85, 92, 67, 85, 82, 84, 84, 83, 83, 88, 82, 88, 83, 84, 79, 89, 82, 82, 91, 82, 87, 88, 81, 76, 81, 76, 77, 88, 86, 69, 89, 88, 85, 77, 81, 81, 80, 90, 73, 84, 75, 78, 87, 84, 82, 82, 89, 91, 77, 94, 88, 84, 79, 79, 82, 88, 83, 90, 82, 91, 84, 69, 89, 72, 87, 86, 81, 76, 84, 73, 87, 74, 88, 83, 67, 78, 88, 87, 82, 86, 83, 78, 83, 77, 87, 88, 88, 84, 86, 69, 84, 91, 72, 81, 79, 83, 85, 87, 83, 73, 84, 78, 82, 67, 81, 89, 83, 74, 80, 69, 82, 86, 90, 79, 79, 88, 92, 75, 83], \"yaxis\": \"y\"}],\n",
       "                        {\"legend\": {\"tracegroupgap\": 0}, \"margin\": {\"t\": 60}, \"template\": {\"data\": {\"bar\": [{\"error_x\": {\"color\": \"#2a3f5f\"}, \"error_y\": {\"color\": \"#2a3f5f\"}, \"marker\": {\"line\": {\"color\": \"#E5ECF6\", \"width\": 0.5}}, \"type\": \"bar\"}], \"barpolar\": [{\"marker\": {\"line\": {\"color\": \"#E5ECF6\", \"width\": 0.5}}, \"type\": \"barpolar\"}], \"carpet\": [{\"aaxis\": {\"endlinecolor\": \"#2a3f5f\", \"gridcolor\": \"white\", \"linecolor\": \"white\", \"minorgridcolor\": \"white\", \"startlinecolor\": \"#2a3f5f\"}, \"baxis\": {\"endlinecolor\": \"#2a3f5f\", \"gridcolor\": \"white\", \"linecolor\": \"white\", \"minorgridcolor\": \"white\", \"startlinecolor\": \"#2a3f5f\"}, \"type\": \"carpet\"}], \"choropleth\": [{\"colorbar\": {\"outlinewidth\": 0, \"ticks\": \"\"}, \"type\": \"choropleth\"}], \"contour\": [{\"colorbar\": {\"outlinewidth\": 0, \"ticks\": \"\"}, \"colorscale\": [[0.0, \"#0d0887\"], [0.1111111111111111, \"#46039f\"], [0.2222222222222222, \"#7201a8\"], [0.3333333333333333, \"#9c179e\"], [0.4444444444444444, \"#bd3786\"], [0.5555555555555556, \"#d8576b\"], [0.6666666666666666, \"#ed7953\"], [0.7777777777777778, \"#fb9f3a\"], [0.8888888888888888, \"#fdca26\"], [1.0, \"#f0f921\"]], \"type\": \"contour\"}], \"contourcarpet\": [{\"colorbar\": {\"outlinewidth\": 0, \"ticks\": \"\"}, \"type\": \"contourcarpet\"}], \"heatmap\": [{\"colorbar\": {\"outlinewidth\": 0, \"ticks\": \"\"}, \"colorscale\": [[0.0, \"#0d0887\"], [0.1111111111111111, \"#46039f\"], [0.2222222222222222, \"#7201a8\"], [0.3333333333333333, \"#9c179e\"], [0.4444444444444444, \"#bd3786\"], [0.5555555555555556, \"#d8576b\"], [0.6666666666666666, \"#ed7953\"], [0.7777777777777778, \"#fb9f3a\"], [0.8888888888888888, \"#fdca26\"], [1.0, \"#f0f921\"]], \"type\": \"heatmap\"}], \"heatmapgl\": [{\"colorbar\": {\"outlinewidth\": 0, \"ticks\": \"\"}, \"colorscale\": [[0.0, \"#0d0887\"], [0.1111111111111111, \"#46039f\"], [0.2222222222222222, \"#7201a8\"], [0.3333333333333333, \"#9c179e\"], [0.4444444444444444, \"#bd3786\"], [0.5555555555555556, \"#d8576b\"], [0.6666666666666666, \"#ed7953\"], [0.7777777777777778, \"#fb9f3a\"], [0.8888888888888888, \"#fdca26\"], [1.0, \"#f0f921\"]], \"type\": \"heatmapgl\"}], \"histogram\": [{\"marker\": {\"colorbar\": {\"outlinewidth\": 0, \"ticks\": \"\"}}, \"type\": \"histogram\"}], \"histogram2d\": [{\"colorbar\": {\"outlinewidth\": 0, \"ticks\": \"\"}, \"colorscale\": [[0.0, \"#0d0887\"], [0.1111111111111111, \"#46039f\"], [0.2222222222222222, \"#7201a8\"], [0.3333333333333333, \"#9c179e\"], [0.4444444444444444, \"#bd3786\"], [0.5555555555555556, \"#d8576b\"], [0.6666666666666666, \"#ed7953\"], [0.7777777777777778, \"#fb9f3a\"], [0.8888888888888888, \"#fdca26\"], [1.0, \"#f0f921\"]], \"type\": \"histogram2d\"}], \"histogram2dcontour\": [{\"colorbar\": {\"outlinewidth\": 0, \"ticks\": \"\"}, \"colorscale\": [[0.0, \"#0d0887\"], [0.1111111111111111, \"#46039f\"], [0.2222222222222222, \"#7201a8\"], [0.3333333333333333, \"#9c179e\"], [0.4444444444444444, \"#bd3786\"], [0.5555555555555556, \"#d8576b\"], [0.6666666666666666, \"#ed7953\"], [0.7777777777777778, \"#fb9f3a\"], [0.8888888888888888, \"#fdca26\"], [1.0, \"#f0f921\"]], \"type\": \"histogram2dcontour\"}], \"mesh3d\": [{\"colorbar\": {\"outlinewidth\": 0, \"ticks\": \"\"}, \"type\": \"mesh3d\"}], \"parcoords\": [{\"line\": {\"colorbar\": {\"outlinewidth\": 0, \"ticks\": \"\"}}, \"type\": \"parcoords\"}], \"pie\": [{\"automargin\": true, \"type\": \"pie\"}], \"scatter\": [{\"marker\": {\"colorbar\": {\"outlinewidth\": 0, \"ticks\": \"\"}}, \"type\": \"scatter\"}], \"scatter3d\": [{\"line\": {\"colorbar\": {\"outlinewidth\": 0, \"ticks\": \"\"}}, \"marker\": {\"colorbar\": {\"outlinewidth\": 0, \"ticks\": \"\"}}, \"type\": \"scatter3d\"}], \"scattercarpet\": [{\"marker\": {\"colorbar\": {\"outlinewidth\": 0, \"ticks\": \"\"}}, \"type\": \"scattercarpet\"}], \"scattergeo\": [{\"marker\": {\"colorbar\": {\"outlinewidth\": 0, \"ticks\": \"\"}}, \"type\": \"scattergeo\"}], \"scattergl\": [{\"marker\": {\"colorbar\": {\"outlinewidth\": 0, \"ticks\": \"\"}}, \"type\": \"scattergl\"}], \"scattermapbox\": [{\"marker\": {\"colorbar\": {\"outlinewidth\": 0, \"ticks\": \"\"}}, \"type\": \"scattermapbox\"}], \"scatterpolar\": [{\"marker\": {\"colorbar\": {\"outlinewidth\": 0, \"ticks\": \"\"}}, \"type\": \"scatterpolar\"}], \"scatterpolargl\": [{\"marker\": {\"colorbar\": {\"outlinewidth\": 0, \"ticks\": \"\"}}, \"type\": \"scatterpolargl\"}], \"scatterternary\": [{\"marker\": {\"colorbar\": {\"outlinewidth\": 0, \"ticks\": \"\"}}, \"type\": \"scatterternary\"}], \"surface\": [{\"colorbar\": {\"outlinewidth\": 0, \"ticks\": \"\"}, \"colorscale\": [[0.0, \"#0d0887\"], [0.1111111111111111, \"#46039f\"], [0.2222222222222222, \"#7201a8\"], [0.3333333333333333, \"#9c179e\"], [0.4444444444444444, \"#bd3786\"], [0.5555555555555556, \"#d8576b\"], [0.6666666666666666, \"#ed7953\"], [0.7777777777777778, \"#fb9f3a\"], [0.8888888888888888, \"#fdca26\"], [1.0, \"#f0f921\"]], \"type\": \"surface\"}], \"table\": [{\"cells\": {\"fill\": {\"color\": \"#EBF0F8\"}, \"line\": {\"color\": \"white\"}}, \"header\": {\"fill\": {\"color\": \"#C8D4E3\"}, \"line\": {\"color\": \"white\"}}, \"type\": \"table\"}]}, \"layout\": {\"annotationdefaults\": {\"arrowcolor\": \"#2a3f5f\", \"arrowhead\": 0, \"arrowwidth\": 1}, \"coloraxis\": {\"colorbar\": {\"outlinewidth\": 0, \"ticks\": \"\"}}, \"colorscale\": {\"diverging\": [[0, \"#8e0152\"], [0.1, \"#c51b7d\"], [0.2, \"#de77ae\"], [0.3, \"#f1b6da\"], [0.4, \"#fde0ef\"], [0.5, \"#f7f7f7\"], [0.6, \"#e6f5d0\"], [0.7, \"#b8e186\"], [0.8, \"#7fbc41\"], [0.9, \"#4d9221\"], [1, \"#276419\"]], \"sequential\": [[0.0, \"#0d0887\"], [0.1111111111111111, \"#46039f\"], [0.2222222222222222, \"#7201a8\"], [0.3333333333333333, \"#9c179e\"], [0.4444444444444444, \"#bd3786\"], [0.5555555555555556, \"#d8576b\"], [0.6666666666666666, \"#ed7953\"], [0.7777777777777778, \"#fb9f3a\"], [0.8888888888888888, \"#fdca26\"], [1.0, \"#f0f921\"]], \"sequentialminus\": [[0.0, \"#0d0887\"], [0.1111111111111111, \"#46039f\"], [0.2222222222222222, \"#7201a8\"], [0.3333333333333333, \"#9c179e\"], [0.4444444444444444, \"#bd3786\"], [0.5555555555555556, \"#d8576b\"], [0.6666666666666666, \"#ed7953\"], [0.7777777777777778, \"#fb9f3a\"], [0.8888888888888888, \"#fdca26\"], [1.0, \"#f0f921\"]]}, \"colorway\": [\"#636efa\", \"#EF553B\", \"#00cc96\", \"#ab63fa\", \"#FFA15A\", \"#19d3f3\", \"#FF6692\", \"#B6E880\", \"#FF97FF\", \"#FECB52\"], \"font\": {\"color\": \"#2a3f5f\"}, \"geo\": {\"bgcolor\": \"white\", \"lakecolor\": \"white\", \"landcolor\": \"#E5ECF6\", \"showlakes\": true, \"showland\": true, \"subunitcolor\": \"white\"}, \"hoverlabel\": {\"align\": \"left\"}, \"hovermode\": \"closest\", \"mapbox\": {\"style\": \"light\"}, \"paper_bgcolor\": \"white\", \"plot_bgcolor\": \"#E5ECF6\", \"polar\": {\"angularaxis\": {\"gridcolor\": \"white\", \"linecolor\": \"white\", \"ticks\": \"\"}, \"bgcolor\": \"#E5ECF6\", \"radialaxis\": {\"gridcolor\": \"white\", \"linecolor\": \"white\", \"ticks\": \"\"}}, \"scene\": {\"xaxis\": {\"backgroundcolor\": \"#E5ECF6\", \"gridcolor\": \"white\", \"gridwidth\": 2, \"linecolor\": \"white\", \"showbackground\": true, \"ticks\": \"\", \"zerolinecolor\": \"white\"}, \"yaxis\": {\"backgroundcolor\": \"#E5ECF6\", \"gridcolor\": \"white\", \"gridwidth\": 2, \"linecolor\": \"white\", \"showbackground\": true, \"ticks\": \"\", \"zerolinecolor\": \"white\"}, \"zaxis\": {\"backgroundcolor\": \"#E5ECF6\", \"gridcolor\": \"white\", \"gridwidth\": 2, \"linecolor\": \"white\", \"showbackground\": true, \"ticks\": \"\", \"zerolinecolor\": \"white\"}}, \"shapedefaults\": {\"line\": {\"color\": \"#2a3f5f\"}}, \"ternary\": {\"aaxis\": {\"gridcolor\": \"white\", \"linecolor\": \"white\", \"ticks\": \"\"}, \"baxis\": {\"gridcolor\": \"white\", \"linecolor\": \"white\", \"ticks\": \"\"}, \"bgcolor\": \"#E5ECF6\", \"caxis\": {\"gridcolor\": \"white\", \"linecolor\": \"white\", \"ticks\": \"\"}}, \"title\": {\"x\": 0.05}, \"xaxis\": {\"automargin\": true, \"gridcolor\": \"white\", \"linecolor\": \"white\", \"ticks\": \"\", \"title\": {\"standoff\": 15}, \"zerolinecolor\": \"white\", \"zerolinewidth\": 2}, \"yaxis\": {\"automargin\": true, \"gridcolor\": \"white\", \"linecolor\": \"white\", \"ticks\": \"\", \"title\": {\"standoff\": 15}, \"zerolinecolor\": \"white\", \"zerolinewidth\": 2}}}, \"xaxis\": {\"anchor\": \"y\", \"domain\": [0.0, 1.0], \"title\": {\"text\": \"Ball Possession %\"}}, \"yaxis\": {\"anchor\": \"x\", \"domain\": [0.0, 1.0], \"title\": {\"text\": \"Pass Accuracy %\"}}},\n",
       "                        {\"responsive\": true}\n",
       "                    ).then(function(){\n",
       "                            \n",
       "var gd = document.getElementById('c7a32be5-e960-49e9-bcc7-4ca26d587202');\n",
       "var x = new MutationObserver(function (mutations, observer) {{\n",
       "        var display = window.getComputedStyle(gd).display;\n",
       "        if (!display || display === 'none') {{\n",
       "            console.log([gd, 'removed!']);\n",
       "            Plotly.purge(gd);\n",
       "            observer.disconnect();\n",
       "        }}\n",
       "}});\n",
       "\n",
       "// Listen for the removal of the full notebook cells\n",
       "var notebookContainer = gd.closest('#notebook-container');\n",
       "if (notebookContainer) {{\n",
       "    x.observe(notebookContainer, {childList: true});\n",
       "}}\n",
       "\n",
       "// Listen for the clearing of the current output cell\n",
       "var outputEl = gd.closest('.output');\n",
       "if (outputEl) {{\n",
       "    x.observe(outputEl, {childList: true});\n",
       "}}\n",
       "\n",
       "                        })\n",
       "                };\n",
       "                });\n",
       "            </script>\n",
       "        </div>"
      ]
     },
     "metadata": {},
     "output_type": "display_data"
    }
   ],
   "source": [
    "fig = px.scatter(df, x=\"Ball Possession %\", y=\"Pass Accuracy %\")\n",
    "fig.show()"
   ]
  },
  {
   "cell_type": "code",
   "execution_count": 10,
   "metadata": {},
   "outputs": [
    {
     "data": {
      "application/vnd.plotly.v1+json": {
       "config": {
        "plotlyServerURL": "https://plot.ly"
       },
       "data": [
        {
         "hovertemplate": "<b>%{hovertext}</b><br><br>Result=win<br>Ball Possession %=%{x}<br>Pass Accuracy %=%{y}<br>Passes=%{marker.size}<extra></extra>",
         "hovertext": [
          "Russia",
          "Uruguay",
          "Iran",
          "France",
          "Denmark",
          "Croatia",
          "Serbia",
          "Mexico",
          "Sweden",
          "Belgium",
          "England",
          "Japan",
          "Senegal",
          "Russia",
          "Portugal",
          "Uruguay",
          "Spain",
          "France",
          "Croatia",
          "Brazil",
          "Nigeria",
          "Switzerland",
          "Belgium",
          "Mexico",
          "Germany",
          "England",
          "Colombia",
          "Uruguay",
          "Saudi Arabia",
          "Peru",
          "Argentina",
          "Croatia",
          "Korea Republic",
          "Sweden",
          "Brazil",
          "Poland",
          "Colombia",
          "Tunisia",
          "Belgium",
          "France",
          "Uruguay",
          "Brazil",
          "Belgium",
          "Sweden",
          "France",
          "Belgium",
          "England",
          "France",
          "Croatia",
          "Belgium",
          "France"
         ],
         "legendgroup": "win",
         "marker": {
          "color": "#636efa",
          "size": [
           306,
           589,
           194,
           484,
           342,
           462,
           392,
           281,
           417,
           544,
           492,
           565,
           328,
           380,
           387,
           521,
           805,
           405,
           372,
           732,
           473,
           547,
           468,
           485,
           699,
           593,
           514,
           492,
           655,
           418,
           565,
           524,
           237,
           212,
           631,
           462,
           431,
           626,
           556,
           351,
           269,
           398,
           621,
           271,
           524,
           370,
           525,
           342,
           622,
           510,
           271
          ],
          "sizemode": "area",
          "sizeref": 2.8425,
          "symbol": "circle"
         },
         "mode": "markers",
         "name": "win",
         "orientation": "v",
         "showlegend": true,
         "type": "scatter",
         "x": [
          40,
          57,
          36,
          51,
          48,
          54,
          50,
          40,
          52,
          61,
          59,
          59,
          43,
          47,
          47,
          47,
          70,
          44,
          42,
          66,
          58,
          58,
          52,
          59,
          71,
          58,
          55,
          56,
          61,
          47,
          66,
          59,
          30,
          35,
          56,
          46,
          57,
          64,
          52,
          41,
          39,
          47,
          56,
          37,
          58,
          43,
          57,
          40,
          54,
          43,
          39
         ],
         "xaxis": "x",
         "y": [
          78,
          86,
          86,
          87,
          82,
          84,
          83,
          82,
          84,
          89,
          91,
          87,
          81,
          76,
          76,
          88,
          89,
          77,
          80,
          90,
          84,
          87,
          84,
          89,
          91,
          94,
          82,
          88,
          90,
          81,
          84,
          87,
          74,
          67,
          88,
          83,
          83,
          87,
          88,
          84,
          69,
          83,
          87,
          73,
          81,
          83,
          80,
          86,
          79,
          88,
          75
         ],
         "yaxis": "y"
        },
        {
         "hovertemplate": "<b>%{hovertext}</b><br><br>Result=lose<br>Ball Possession %=%{x}<br>Pass Accuracy %=%{y}<br>Passes=%{marker.size}<extra></extra>",
         "hovertext": [
          "Saudi Arabia",
          "Egypt",
          "Morocco",
          "Australia",
          "Peru",
          "Nigeria",
          "Costa Rica",
          "Germany",
          "Korea Republic",
          "Panama",
          "Tunisia",
          "Colombia",
          "Poland",
          "Egypt",
          "Morocco",
          "Saudi Arabia",
          "Iran",
          "Peru",
          "Argentina",
          "Costa Rica",
          "Iceland",
          "Serbia",
          "Tunisia",
          "Korea Republic",
          "Sweden",
          "Panama",
          "Poland",
          "Russia",
          "Egypt",
          "Australia",
          "Nigeria",
          "Iceland",
          "Germany",
          "Mexico",
          "Serbia",
          "Japan",
          "Senegal",
          "Panama",
          "England",
          "Argentina",
          "Portugal",
          "Mexico",
          "Japan",
          "Switzerland",
          "Uruguay",
          "Brazil",
          "Sweden",
          "Belgium",
          "England",
          "England",
          "Croatia"
         ],
         "legendgroup": "lose",
         "marker": {
          "color": "#EF553B",
          "size": [
           511,
           395,
           433,
           390,
           394,
           388,
           428,
           595,
           351,
           317,
           326,
           352,
           552,
           438,
           466,
           590,
           219,
           532,
           505,
           271,
           291,
           309,
           477,
           346,
           213,
           398,
           424,
           355,
           357,
           555,
           244,
           324,
           719,
           487,
           467,
           557,
           281,
           284,
           484,
           547,
           583,
           424,
           453,
           599,
           322,
           557,
           379,
           629,
           479,
           698,
           547
          ],
          "sizemode": "area",
          "sizeref": 2.8425,
          "symbol": "circle"
         },
         "mode": "markers",
         "name": "lose",
         "orientation": "v",
         "showlegend": true,
         "type": "scatter",
         "x": [
          60,
          43,
          64,
          49,
          52,
          46,
          50,
          60,
          48,
          39,
          41,
          41,
          57,
          53,
          53,
          53,
          30,
          56,
          58,
          34,
          42,
          42,
          48,
          41,
          29,
          42,
          45,
          44,
          39,
          53,
          34,
          41,
          70,
          65,
          44,
          54,
          43,
          36,
          48,
          59,
          61,
          53,
          44,
          63,
          42,
          57,
          43,
          60,
          46,
          57,
          61
         ],
         "xaxis": "x",
         "y": [
          86,
          78,
          86,
          85,
          85,
          84,
          83,
          88,
          79,
          82,
          82,
          82,
          88,
          81,
          77,
          86,
          69,
          81,
          81,
          73,
          75,
          78,
          82,
          82,
          77,
          88,
          79,
          83,
          82,
          86,
          76,
          73,
          88,
          83,
          78,
          86,
          78,
          77,
          88,
          86,
          84,
          85,
          83,
          84,
          67,
          89,
          74,
          90,
          79,
          92,
          83
         ],
         "yaxis": "y"
        },
        {
         "hovertemplate": "<b>%{hovertext}</b><br><br>Result=draw<br>Ball Possession %=%{x}<br>Pass Accuracy %=%{y}<br>Passes=%{marker.size}<extra></extra>",
         "hovertext": [
          "Portugal",
          "Spain",
          "Argentina",
          "Iceland",
          "Brazil",
          "Switzerland",
          "Denmark",
          "Australia",
          "Japan",
          "Senegal",
          "Spain",
          "Morocco",
          "Iran",
          "Portugal",
          "Denmark",
          "France",
          "Switzerland",
          "Costa Rica",
          "Spain",
          "Russia",
          "Croatia",
          "Denmark",
          "Colombia",
          "England",
          "Russia",
          "Croatia"
         ],
         "legendgroup": "draw",
         "marker": {
          "color": "#00cc96",
          "size": [
           366,
           727,
           718,
           189,
           521,
           436,
           458,
           520,
           449,
           338,
           762,
           247,
           226,
           619,
           305,
           669,
           594,
           348,
           1137,
           284,
           626,
           539,
           516,
           571,
           399,
           753
          ],
          "sizemode": "area",
          "sizeref": 2.8425,
          "symbol": "circle"
         },
         "mode": "markers",
         "name": "draw",
         "orientation": "v",
         "showlegend": true,
         "type": "scatter",
         "x": [
          39,
          61,
          72,
          28,
          52,
          48,
          49,
          51,
          54,
          46,
          68,
          32,
          32,
          68,
          38,
          62,
          60,
          40,
          75,
          25,
          54,
          46,
          48,
          51,
          38,
          62
         ],
         "xaxis": "x",
         "y": [
          87,
          93,
          92,
          67,
          88,
          83,
          88,
          85,
          84,
          79,
          91,
          84,
          69,
          89,
          72,
          87,
          87,
          82,
          91,
          72,
          81,
          79,
          78,
          82,
          69,
          82
         ],
         "yaxis": "y"
        }
       ],
       "layout": {
        "legend": {
         "itemsizing": "constant",
         "title": {
          "text": "Result"
         },
         "tracegroupgap": 0
        },
        "margin": {
         "t": 60
        },
        "template": {
         "data": {
          "bar": [
           {
            "error_x": {
             "color": "#2a3f5f"
            },
            "error_y": {
             "color": "#2a3f5f"
            },
            "marker": {
             "line": {
              "color": "#E5ECF6",
              "width": 0.5
             }
            },
            "type": "bar"
           }
          ],
          "barpolar": [
           {
            "marker": {
             "line": {
              "color": "#E5ECF6",
              "width": 0.5
             }
            },
            "type": "barpolar"
           }
          ],
          "carpet": [
           {
            "aaxis": {
             "endlinecolor": "#2a3f5f",
             "gridcolor": "white",
             "linecolor": "white",
             "minorgridcolor": "white",
             "startlinecolor": "#2a3f5f"
            },
            "baxis": {
             "endlinecolor": "#2a3f5f",
             "gridcolor": "white",
             "linecolor": "white",
             "minorgridcolor": "white",
             "startlinecolor": "#2a3f5f"
            },
            "type": "carpet"
           }
          ],
          "choropleth": [
           {
            "colorbar": {
             "outlinewidth": 0,
             "ticks": ""
            },
            "type": "choropleth"
           }
          ],
          "contour": [
           {
            "colorbar": {
             "outlinewidth": 0,
             "ticks": ""
            },
            "colorscale": [
             [
              0,
              "#0d0887"
             ],
             [
              0.1111111111111111,
              "#46039f"
             ],
             [
              0.2222222222222222,
              "#7201a8"
             ],
             [
              0.3333333333333333,
              "#9c179e"
             ],
             [
              0.4444444444444444,
              "#bd3786"
             ],
             [
              0.5555555555555556,
              "#d8576b"
             ],
             [
              0.6666666666666666,
              "#ed7953"
             ],
             [
              0.7777777777777778,
              "#fb9f3a"
             ],
             [
              0.8888888888888888,
              "#fdca26"
             ],
             [
              1,
              "#f0f921"
             ]
            ],
            "type": "contour"
           }
          ],
          "contourcarpet": [
           {
            "colorbar": {
             "outlinewidth": 0,
             "ticks": ""
            },
            "type": "contourcarpet"
           }
          ],
          "heatmap": [
           {
            "colorbar": {
             "outlinewidth": 0,
             "ticks": ""
            },
            "colorscale": [
             [
              0,
              "#0d0887"
             ],
             [
              0.1111111111111111,
              "#46039f"
             ],
             [
              0.2222222222222222,
              "#7201a8"
             ],
             [
              0.3333333333333333,
              "#9c179e"
             ],
             [
              0.4444444444444444,
              "#bd3786"
             ],
             [
              0.5555555555555556,
              "#d8576b"
             ],
             [
              0.6666666666666666,
              "#ed7953"
             ],
             [
              0.7777777777777778,
              "#fb9f3a"
             ],
             [
              0.8888888888888888,
              "#fdca26"
             ],
             [
              1,
              "#f0f921"
             ]
            ],
            "type": "heatmap"
           }
          ],
          "heatmapgl": [
           {
            "colorbar": {
             "outlinewidth": 0,
             "ticks": ""
            },
            "colorscale": [
             [
              0,
              "#0d0887"
             ],
             [
              0.1111111111111111,
              "#46039f"
             ],
             [
              0.2222222222222222,
              "#7201a8"
             ],
             [
              0.3333333333333333,
              "#9c179e"
             ],
             [
              0.4444444444444444,
              "#bd3786"
             ],
             [
              0.5555555555555556,
              "#d8576b"
             ],
             [
              0.6666666666666666,
              "#ed7953"
             ],
             [
              0.7777777777777778,
              "#fb9f3a"
             ],
             [
              0.8888888888888888,
              "#fdca26"
             ],
             [
              1,
              "#f0f921"
             ]
            ],
            "type": "heatmapgl"
           }
          ],
          "histogram": [
           {
            "marker": {
             "colorbar": {
              "outlinewidth": 0,
              "ticks": ""
             }
            },
            "type": "histogram"
           }
          ],
          "histogram2d": [
           {
            "colorbar": {
             "outlinewidth": 0,
             "ticks": ""
            },
            "colorscale": [
             [
              0,
              "#0d0887"
             ],
             [
              0.1111111111111111,
              "#46039f"
             ],
             [
              0.2222222222222222,
              "#7201a8"
             ],
             [
              0.3333333333333333,
              "#9c179e"
             ],
             [
              0.4444444444444444,
              "#bd3786"
             ],
             [
              0.5555555555555556,
              "#d8576b"
             ],
             [
              0.6666666666666666,
              "#ed7953"
             ],
             [
              0.7777777777777778,
              "#fb9f3a"
             ],
             [
              0.8888888888888888,
              "#fdca26"
             ],
             [
              1,
              "#f0f921"
             ]
            ],
            "type": "histogram2d"
           }
          ],
          "histogram2dcontour": [
           {
            "colorbar": {
             "outlinewidth": 0,
             "ticks": ""
            },
            "colorscale": [
             [
              0,
              "#0d0887"
             ],
             [
              0.1111111111111111,
              "#46039f"
             ],
             [
              0.2222222222222222,
              "#7201a8"
             ],
             [
              0.3333333333333333,
              "#9c179e"
             ],
             [
              0.4444444444444444,
              "#bd3786"
             ],
             [
              0.5555555555555556,
              "#d8576b"
             ],
             [
              0.6666666666666666,
              "#ed7953"
             ],
             [
              0.7777777777777778,
              "#fb9f3a"
             ],
             [
              0.8888888888888888,
              "#fdca26"
             ],
             [
              1,
              "#f0f921"
             ]
            ],
            "type": "histogram2dcontour"
           }
          ],
          "mesh3d": [
           {
            "colorbar": {
             "outlinewidth": 0,
             "ticks": ""
            },
            "type": "mesh3d"
           }
          ],
          "parcoords": [
           {
            "line": {
             "colorbar": {
              "outlinewidth": 0,
              "ticks": ""
             }
            },
            "type": "parcoords"
           }
          ],
          "pie": [
           {
            "automargin": true,
            "type": "pie"
           }
          ],
          "scatter": [
           {
            "marker": {
             "colorbar": {
              "outlinewidth": 0,
              "ticks": ""
             }
            },
            "type": "scatter"
           }
          ],
          "scatter3d": [
           {
            "line": {
             "colorbar": {
              "outlinewidth": 0,
              "ticks": ""
             }
            },
            "marker": {
             "colorbar": {
              "outlinewidth": 0,
              "ticks": ""
             }
            },
            "type": "scatter3d"
           }
          ],
          "scattercarpet": [
           {
            "marker": {
             "colorbar": {
              "outlinewidth": 0,
              "ticks": ""
             }
            },
            "type": "scattercarpet"
           }
          ],
          "scattergeo": [
           {
            "marker": {
             "colorbar": {
              "outlinewidth": 0,
              "ticks": ""
             }
            },
            "type": "scattergeo"
           }
          ],
          "scattergl": [
           {
            "marker": {
             "colorbar": {
              "outlinewidth": 0,
              "ticks": ""
             }
            },
            "type": "scattergl"
           }
          ],
          "scattermapbox": [
           {
            "marker": {
             "colorbar": {
              "outlinewidth": 0,
              "ticks": ""
             }
            },
            "type": "scattermapbox"
           }
          ],
          "scatterpolar": [
           {
            "marker": {
             "colorbar": {
              "outlinewidth": 0,
              "ticks": ""
             }
            },
            "type": "scatterpolar"
           }
          ],
          "scatterpolargl": [
           {
            "marker": {
             "colorbar": {
              "outlinewidth": 0,
              "ticks": ""
             }
            },
            "type": "scatterpolargl"
           }
          ],
          "scatterternary": [
           {
            "marker": {
             "colorbar": {
              "outlinewidth": 0,
              "ticks": ""
             }
            },
            "type": "scatterternary"
           }
          ],
          "surface": [
           {
            "colorbar": {
             "outlinewidth": 0,
             "ticks": ""
            },
            "colorscale": [
             [
              0,
              "#0d0887"
             ],
             [
              0.1111111111111111,
              "#46039f"
             ],
             [
              0.2222222222222222,
              "#7201a8"
             ],
             [
              0.3333333333333333,
              "#9c179e"
             ],
             [
              0.4444444444444444,
              "#bd3786"
             ],
             [
              0.5555555555555556,
              "#d8576b"
             ],
             [
              0.6666666666666666,
              "#ed7953"
             ],
             [
              0.7777777777777778,
              "#fb9f3a"
             ],
             [
              0.8888888888888888,
              "#fdca26"
             ],
             [
              1,
              "#f0f921"
             ]
            ],
            "type": "surface"
           }
          ],
          "table": [
           {
            "cells": {
             "fill": {
              "color": "#EBF0F8"
             },
             "line": {
              "color": "white"
             }
            },
            "header": {
             "fill": {
              "color": "#C8D4E3"
             },
             "line": {
              "color": "white"
             }
            },
            "type": "table"
           }
          ]
         },
         "layout": {
          "annotationdefaults": {
           "arrowcolor": "#2a3f5f",
           "arrowhead": 0,
           "arrowwidth": 1
          },
          "coloraxis": {
           "colorbar": {
            "outlinewidth": 0,
            "ticks": ""
           }
          },
          "colorscale": {
           "diverging": [
            [
             0,
             "#8e0152"
            ],
            [
             0.1,
             "#c51b7d"
            ],
            [
             0.2,
             "#de77ae"
            ],
            [
             0.3,
             "#f1b6da"
            ],
            [
             0.4,
             "#fde0ef"
            ],
            [
             0.5,
             "#f7f7f7"
            ],
            [
             0.6,
             "#e6f5d0"
            ],
            [
             0.7,
             "#b8e186"
            ],
            [
             0.8,
             "#7fbc41"
            ],
            [
             0.9,
             "#4d9221"
            ],
            [
             1,
             "#276419"
            ]
           ],
           "sequential": [
            [
             0,
             "#0d0887"
            ],
            [
             0.1111111111111111,
             "#46039f"
            ],
            [
             0.2222222222222222,
             "#7201a8"
            ],
            [
             0.3333333333333333,
             "#9c179e"
            ],
            [
             0.4444444444444444,
             "#bd3786"
            ],
            [
             0.5555555555555556,
             "#d8576b"
            ],
            [
             0.6666666666666666,
             "#ed7953"
            ],
            [
             0.7777777777777778,
             "#fb9f3a"
            ],
            [
             0.8888888888888888,
             "#fdca26"
            ],
            [
             1,
             "#f0f921"
            ]
           ],
           "sequentialminus": [
            [
             0,
             "#0d0887"
            ],
            [
             0.1111111111111111,
             "#46039f"
            ],
            [
             0.2222222222222222,
             "#7201a8"
            ],
            [
             0.3333333333333333,
             "#9c179e"
            ],
            [
             0.4444444444444444,
             "#bd3786"
            ],
            [
             0.5555555555555556,
             "#d8576b"
            ],
            [
             0.6666666666666666,
             "#ed7953"
            ],
            [
             0.7777777777777778,
             "#fb9f3a"
            ],
            [
             0.8888888888888888,
             "#fdca26"
            ],
            [
             1,
             "#f0f921"
            ]
           ]
          },
          "colorway": [
           "#636efa",
           "#EF553B",
           "#00cc96",
           "#ab63fa",
           "#FFA15A",
           "#19d3f3",
           "#FF6692",
           "#B6E880",
           "#FF97FF",
           "#FECB52"
          ],
          "font": {
           "color": "#2a3f5f"
          },
          "geo": {
           "bgcolor": "white",
           "lakecolor": "white",
           "landcolor": "#E5ECF6",
           "showlakes": true,
           "showland": true,
           "subunitcolor": "white"
          },
          "hoverlabel": {
           "align": "left"
          },
          "hovermode": "closest",
          "mapbox": {
           "style": "light"
          },
          "paper_bgcolor": "white",
          "plot_bgcolor": "#E5ECF6",
          "polar": {
           "angularaxis": {
            "gridcolor": "white",
            "linecolor": "white",
            "ticks": ""
           },
           "bgcolor": "#E5ECF6",
           "radialaxis": {
            "gridcolor": "white",
            "linecolor": "white",
            "ticks": ""
           }
          },
          "scene": {
           "xaxis": {
            "backgroundcolor": "#E5ECF6",
            "gridcolor": "white",
            "gridwidth": 2,
            "linecolor": "white",
            "showbackground": true,
            "ticks": "",
            "zerolinecolor": "white"
           },
           "yaxis": {
            "backgroundcolor": "#E5ECF6",
            "gridcolor": "white",
            "gridwidth": 2,
            "linecolor": "white",
            "showbackground": true,
            "ticks": "",
            "zerolinecolor": "white"
           },
           "zaxis": {
            "backgroundcolor": "#E5ECF6",
            "gridcolor": "white",
            "gridwidth": 2,
            "linecolor": "white",
            "showbackground": true,
            "ticks": "",
            "zerolinecolor": "white"
           }
          },
          "shapedefaults": {
           "line": {
            "color": "#2a3f5f"
           }
          },
          "ternary": {
           "aaxis": {
            "gridcolor": "white",
            "linecolor": "white",
            "ticks": ""
           },
           "baxis": {
            "gridcolor": "white",
            "linecolor": "white",
            "ticks": ""
           },
           "bgcolor": "#E5ECF6",
           "caxis": {
            "gridcolor": "white",
            "linecolor": "white",
            "ticks": ""
           }
          },
          "title": {
           "x": 0.05
          },
          "xaxis": {
           "automargin": true,
           "gridcolor": "white",
           "linecolor": "white",
           "ticks": "",
           "title": {
            "standoff": 15
           },
           "zerolinecolor": "white",
           "zerolinewidth": 2
          },
          "yaxis": {
           "automargin": true,
           "gridcolor": "white",
           "linecolor": "white",
           "ticks": "",
           "title": {
            "standoff": 15
           },
           "zerolinecolor": "white",
           "zerolinewidth": 2
          }
         }
        },
        "xaxis": {
         "anchor": "y",
         "domain": [
          0,
          1
         ],
         "title": {
          "text": "Ball Possession %"
         }
        },
        "yaxis": {
         "anchor": "x",
         "domain": [
          0,
          1
         ],
         "title": {
          "text": "Pass Accuracy %"
         }
        }
       }
      },
      "text/html": [
       "<div>\n",
       "        \n",
       "        \n",
       "            <div id=\"5440c391-c19c-41c6-a9a6-3d0903121885\" class=\"plotly-graph-div\" style=\"height:525px; width:100%;\"></div>\n",
       "            <script type=\"text/javascript\">\n",
       "                require([\"plotly\"], function(Plotly) {\n",
       "                    window.PLOTLYENV=window.PLOTLYENV || {};\n",
       "                    \n",
       "                if (document.getElementById(\"5440c391-c19c-41c6-a9a6-3d0903121885\")) {\n",
       "                    Plotly.newPlot(\n",
       "                        '5440c391-c19c-41c6-a9a6-3d0903121885',\n",
       "                        [{\"hovertemplate\": \"<b>%{hovertext}</b><br><br>Result=win<br>Ball Possession %=%{x}<br>Pass Accuracy %=%{y}<br>Passes=%{marker.size}<extra></extra>\", \"hovertext\": [\"Russia\", \"Uruguay\", \"Iran\", \"France\", \"Denmark\", \"Croatia\", \"Serbia\", \"Mexico\", \"Sweden\", \"Belgium\", \"England\", \"Japan\", \"Senegal\", \"Russia\", \"Portugal\", \"Uruguay\", \"Spain\", \"France\", \"Croatia\", \"Brazil\", \"Nigeria\", \"Switzerland\", \"Belgium\", \"Mexico\", \"Germany\", \"England\", \"Colombia\", \"Uruguay\", \"Saudi Arabia\", \"Peru\", \"Argentina\", \"Croatia\", \"Korea Republic\", \"Sweden\", \"Brazil\", \"Poland\", \"Colombia\", \"Tunisia\", \"Belgium\", \"France\", \"Uruguay\", \"Brazil\", \"Belgium\", \"Sweden\", \"France\", \"Belgium\", \"England\", \"France\", \"Croatia\", \"Belgium\", \"France\"], \"legendgroup\": \"win\", \"marker\": {\"color\": \"#636efa\", \"size\": [306, 589, 194, 484, 342, 462, 392, 281, 417, 544, 492, 565, 328, 380, 387, 521, 805, 405, 372, 732, 473, 547, 468, 485, 699, 593, 514, 492, 655, 418, 565, 524, 237, 212, 631, 462, 431, 626, 556, 351, 269, 398, 621, 271, 524, 370, 525, 342, 622, 510, 271], \"sizemode\": \"area\", \"sizeref\": 2.8425, \"symbol\": \"circle\"}, \"mode\": \"markers\", \"name\": \"win\", \"orientation\": \"v\", \"showlegend\": true, \"type\": \"scatter\", \"x\": [40, 57, 36, 51, 48, 54, 50, 40, 52, 61, 59, 59, 43, 47, 47, 47, 70, 44, 42, 66, 58, 58, 52, 59, 71, 58, 55, 56, 61, 47, 66, 59, 30, 35, 56, 46, 57, 64, 52, 41, 39, 47, 56, 37, 58, 43, 57, 40, 54, 43, 39], \"xaxis\": \"x\", \"y\": [78, 86, 86, 87, 82, 84, 83, 82, 84, 89, 91, 87, 81, 76, 76, 88, 89, 77, 80, 90, 84, 87, 84, 89, 91, 94, 82, 88, 90, 81, 84, 87, 74, 67, 88, 83, 83, 87, 88, 84, 69, 83, 87, 73, 81, 83, 80, 86, 79, 88, 75], \"yaxis\": \"y\"}, {\"hovertemplate\": \"<b>%{hovertext}</b><br><br>Result=lose<br>Ball Possession %=%{x}<br>Pass Accuracy %=%{y}<br>Passes=%{marker.size}<extra></extra>\", \"hovertext\": [\"Saudi Arabia\", \"Egypt\", \"Morocco\", \"Australia\", \"Peru\", \"Nigeria\", \"Costa Rica\", \"Germany\", \"Korea Republic\", \"Panama\", \"Tunisia\", \"Colombia\", \"Poland\", \"Egypt\", \"Morocco\", \"Saudi Arabia\", \"Iran\", \"Peru\", \"Argentina\", \"Costa Rica\", \"Iceland\", \"Serbia\", \"Tunisia\", \"Korea Republic\", \"Sweden\", \"Panama\", \"Poland\", \"Russia\", \"Egypt\", \"Australia\", \"Nigeria\", \"Iceland\", \"Germany\", \"Mexico\", \"Serbia\", \"Japan\", \"Senegal\", \"Panama\", \"England\", \"Argentina\", \"Portugal\", \"Mexico\", \"Japan\", \"Switzerland\", \"Uruguay\", \"Brazil\", \"Sweden\", \"Belgium\", \"England\", \"England\", \"Croatia\"], \"legendgroup\": \"lose\", \"marker\": {\"color\": \"#EF553B\", \"size\": [511, 395, 433, 390, 394, 388, 428, 595, 351, 317, 326, 352, 552, 438, 466, 590, 219, 532, 505, 271, 291, 309, 477, 346, 213, 398, 424, 355, 357, 555, 244, 324, 719, 487, 467, 557, 281, 284, 484, 547, 583, 424, 453, 599, 322, 557, 379, 629, 479, 698, 547], \"sizemode\": \"area\", \"sizeref\": 2.8425, \"symbol\": \"circle\"}, \"mode\": \"markers\", \"name\": \"lose\", \"orientation\": \"v\", \"showlegend\": true, \"type\": \"scatter\", \"x\": [60, 43, 64, 49, 52, 46, 50, 60, 48, 39, 41, 41, 57, 53, 53, 53, 30, 56, 58, 34, 42, 42, 48, 41, 29, 42, 45, 44, 39, 53, 34, 41, 70, 65, 44, 54, 43, 36, 48, 59, 61, 53, 44, 63, 42, 57, 43, 60, 46, 57, 61], \"xaxis\": \"x\", \"y\": [86, 78, 86, 85, 85, 84, 83, 88, 79, 82, 82, 82, 88, 81, 77, 86, 69, 81, 81, 73, 75, 78, 82, 82, 77, 88, 79, 83, 82, 86, 76, 73, 88, 83, 78, 86, 78, 77, 88, 86, 84, 85, 83, 84, 67, 89, 74, 90, 79, 92, 83], \"yaxis\": \"y\"}, {\"hovertemplate\": \"<b>%{hovertext}</b><br><br>Result=draw<br>Ball Possession %=%{x}<br>Pass Accuracy %=%{y}<br>Passes=%{marker.size}<extra></extra>\", \"hovertext\": [\"Portugal\", \"Spain\", \"Argentina\", \"Iceland\", \"Brazil\", \"Switzerland\", \"Denmark\", \"Australia\", \"Japan\", \"Senegal\", \"Spain\", \"Morocco\", \"Iran\", \"Portugal\", \"Denmark\", \"France\", \"Switzerland\", \"Costa Rica\", \"Spain\", \"Russia\", \"Croatia\", \"Denmark\", \"Colombia\", \"England\", \"Russia\", \"Croatia\"], \"legendgroup\": \"draw\", \"marker\": {\"color\": \"#00cc96\", \"size\": [366, 727, 718, 189, 521, 436, 458, 520, 449, 338, 762, 247, 226, 619, 305, 669, 594, 348, 1137, 284, 626, 539, 516, 571, 399, 753], \"sizemode\": \"area\", \"sizeref\": 2.8425, \"symbol\": \"circle\"}, \"mode\": \"markers\", \"name\": \"draw\", \"orientation\": \"v\", \"showlegend\": true, \"type\": \"scatter\", \"x\": [39, 61, 72, 28, 52, 48, 49, 51, 54, 46, 68, 32, 32, 68, 38, 62, 60, 40, 75, 25, 54, 46, 48, 51, 38, 62], \"xaxis\": \"x\", \"y\": [87, 93, 92, 67, 88, 83, 88, 85, 84, 79, 91, 84, 69, 89, 72, 87, 87, 82, 91, 72, 81, 79, 78, 82, 69, 82], \"yaxis\": \"y\"}],\n",
       "                        {\"legend\": {\"itemsizing\": \"constant\", \"title\": {\"text\": \"Result\"}, \"tracegroupgap\": 0}, \"margin\": {\"t\": 60}, \"template\": {\"data\": {\"bar\": [{\"error_x\": {\"color\": \"#2a3f5f\"}, \"error_y\": {\"color\": \"#2a3f5f\"}, \"marker\": {\"line\": {\"color\": \"#E5ECF6\", \"width\": 0.5}}, \"type\": \"bar\"}], \"barpolar\": [{\"marker\": {\"line\": {\"color\": \"#E5ECF6\", \"width\": 0.5}}, \"type\": \"barpolar\"}], \"carpet\": [{\"aaxis\": {\"endlinecolor\": \"#2a3f5f\", \"gridcolor\": \"white\", \"linecolor\": \"white\", \"minorgridcolor\": \"white\", \"startlinecolor\": \"#2a3f5f\"}, \"baxis\": {\"endlinecolor\": \"#2a3f5f\", \"gridcolor\": \"white\", \"linecolor\": \"white\", \"minorgridcolor\": \"white\", \"startlinecolor\": \"#2a3f5f\"}, \"type\": \"carpet\"}], \"choropleth\": [{\"colorbar\": {\"outlinewidth\": 0, \"ticks\": \"\"}, \"type\": \"choropleth\"}], \"contour\": [{\"colorbar\": {\"outlinewidth\": 0, \"ticks\": \"\"}, \"colorscale\": [[0.0, \"#0d0887\"], [0.1111111111111111, \"#46039f\"], [0.2222222222222222, \"#7201a8\"], [0.3333333333333333, \"#9c179e\"], [0.4444444444444444, \"#bd3786\"], [0.5555555555555556, \"#d8576b\"], [0.6666666666666666, \"#ed7953\"], [0.7777777777777778, \"#fb9f3a\"], [0.8888888888888888, \"#fdca26\"], [1.0, \"#f0f921\"]], \"type\": \"contour\"}], \"contourcarpet\": [{\"colorbar\": {\"outlinewidth\": 0, \"ticks\": \"\"}, \"type\": \"contourcarpet\"}], \"heatmap\": [{\"colorbar\": {\"outlinewidth\": 0, \"ticks\": \"\"}, \"colorscale\": [[0.0, \"#0d0887\"], [0.1111111111111111, \"#46039f\"], [0.2222222222222222, \"#7201a8\"], [0.3333333333333333, \"#9c179e\"], [0.4444444444444444, \"#bd3786\"], [0.5555555555555556, \"#d8576b\"], [0.6666666666666666, \"#ed7953\"], [0.7777777777777778, \"#fb9f3a\"], [0.8888888888888888, \"#fdca26\"], [1.0, \"#f0f921\"]], \"type\": \"heatmap\"}], \"heatmapgl\": [{\"colorbar\": {\"outlinewidth\": 0, \"ticks\": \"\"}, \"colorscale\": [[0.0, \"#0d0887\"], [0.1111111111111111, \"#46039f\"], [0.2222222222222222, \"#7201a8\"], [0.3333333333333333, \"#9c179e\"], [0.4444444444444444, \"#bd3786\"], [0.5555555555555556, \"#d8576b\"], [0.6666666666666666, \"#ed7953\"], [0.7777777777777778, \"#fb9f3a\"], [0.8888888888888888, \"#fdca26\"], [1.0, \"#f0f921\"]], \"type\": \"heatmapgl\"}], \"histogram\": [{\"marker\": {\"colorbar\": {\"outlinewidth\": 0, \"ticks\": \"\"}}, \"type\": \"histogram\"}], \"histogram2d\": [{\"colorbar\": {\"outlinewidth\": 0, \"ticks\": \"\"}, \"colorscale\": [[0.0, \"#0d0887\"], [0.1111111111111111, \"#46039f\"], [0.2222222222222222, \"#7201a8\"], [0.3333333333333333, \"#9c179e\"], [0.4444444444444444, \"#bd3786\"], [0.5555555555555556, \"#d8576b\"], [0.6666666666666666, \"#ed7953\"], [0.7777777777777778, \"#fb9f3a\"], [0.8888888888888888, \"#fdca26\"], [1.0, \"#f0f921\"]], \"type\": \"histogram2d\"}], \"histogram2dcontour\": [{\"colorbar\": {\"outlinewidth\": 0, \"ticks\": \"\"}, \"colorscale\": [[0.0, \"#0d0887\"], [0.1111111111111111, \"#46039f\"], [0.2222222222222222, \"#7201a8\"], [0.3333333333333333, \"#9c179e\"], [0.4444444444444444, \"#bd3786\"], [0.5555555555555556, \"#d8576b\"], [0.6666666666666666, \"#ed7953\"], [0.7777777777777778, \"#fb9f3a\"], [0.8888888888888888, \"#fdca26\"], [1.0, \"#f0f921\"]], \"type\": \"histogram2dcontour\"}], \"mesh3d\": [{\"colorbar\": {\"outlinewidth\": 0, \"ticks\": \"\"}, \"type\": \"mesh3d\"}], \"parcoords\": [{\"line\": {\"colorbar\": {\"outlinewidth\": 0, \"ticks\": \"\"}}, \"type\": \"parcoords\"}], \"pie\": [{\"automargin\": true, \"type\": \"pie\"}], \"scatter\": [{\"marker\": {\"colorbar\": {\"outlinewidth\": 0, \"ticks\": \"\"}}, \"type\": \"scatter\"}], \"scatter3d\": [{\"line\": {\"colorbar\": {\"outlinewidth\": 0, \"ticks\": \"\"}}, \"marker\": {\"colorbar\": {\"outlinewidth\": 0, \"ticks\": \"\"}}, \"type\": \"scatter3d\"}], \"scattercarpet\": [{\"marker\": {\"colorbar\": {\"outlinewidth\": 0, \"ticks\": \"\"}}, \"type\": \"scattercarpet\"}], \"scattergeo\": [{\"marker\": {\"colorbar\": {\"outlinewidth\": 0, \"ticks\": \"\"}}, \"type\": \"scattergeo\"}], \"scattergl\": [{\"marker\": {\"colorbar\": {\"outlinewidth\": 0, \"ticks\": \"\"}}, \"type\": \"scattergl\"}], \"scattermapbox\": [{\"marker\": {\"colorbar\": {\"outlinewidth\": 0, \"ticks\": \"\"}}, \"type\": \"scattermapbox\"}], \"scatterpolar\": [{\"marker\": {\"colorbar\": {\"outlinewidth\": 0, \"ticks\": \"\"}}, \"type\": \"scatterpolar\"}], \"scatterpolargl\": [{\"marker\": {\"colorbar\": {\"outlinewidth\": 0, \"ticks\": \"\"}}, \"type\": \"scatterpolargl\"}], \"scatterternary\": [{\"marker\": {\"colorbar\": {\"outlinewidth\": 0, \"ticks\": \"\"}}, \"type\": \"scatterternary\"}], \"surface\": [{\"colorbar\": {\"outlinewidth\": 0, \"ticks\": \"\"}, \"colorscale\": [[0.0, \"#0d0887\"], [0.1111111111111111, \"#46039f\"], [0.2222222222222222, \"#7201a8\"], [0.3333333333333333, \"#9c179e\"], [0.4444444444444444, \"#bd3786\"], [0.5555555555555556, \"#d8576b\"], [0.6666666666666666, \"#ed7953\"], [0.7777777777777778, \"#fb9f3a\"], [0.8888888888888888, \"#fdca26\"], [1.0, \"#f0f921\"]], \"type\": \"surface\"}], \"table\": [{\"cells\": {\"fill\": {\"color\": \"#EBF0F8\"}, \"line\": {\"color\": \"white\"}}, \"header\": {\"fill\": {\"color\": \"#C8D4E3\"}, \"line\": {\"color\": \"white\"}}, \"type\": \"table\"}]}, \"layout\": {\"annotationdefaults\": {\"arrowcolor\": \"#2a3f5f\", \"arrowhead\": 0, \"arrowwidth\": 1}, \"coloraxis\": {\"colorbar\": {\"outlinewidth\": 0, \"ticks\": \"\"}}, \"colorscale\": {\"diverging\": [[0, \"#8e0152\"], [0.1, \"#c51b7d\"], [0.2, \"#de77ae\"], [0.3, \"#f1b6da\"], [0.4, \"#fde0ef\"], [0.5, \"#f7f7f7\"], [0.6, \"#e6f5d0\"], [0.7, \"#b8e186\"], [0.8, \"#7fbc41\"], [0.9, \"#4d9221\"], [1, \"#276419\"]], \"sequential\": [[0.0, \"#0d0887\"], [0.1111111111111111, \"#46039f\"], [0.2222222222222222, \"#7201a8\"], [0.3333333333333333, \"#9c179e\"], [0.4444444444444444, \"#bd3786\"], [0.5555555555555556, \"#d8576b\"], [0.6666666666666666, \"#ed7953\"], [0.7777777777777778, \"#fb9f3a\"], [0.8888888888888888, \"#fdca26\"], [1.0, \"#f0f921\"]], \"sequentialminus\": [[0.0, \"#0d0887\"], [0.1111111111111111, \"#46039f\"], [0.2222222222222222, \"#7201a8\"], [0.3333333333333333, \"#9c179e\"], [0.4444444444444444, \"#bd3786\"], [0.5555555555555556, \"#d8576b\"], [0.6666666666666666, \"#ed7953\"], [0.7777777777777778, \"#fb9f3a\"], [0.8888888888888888, \"#fdca26\"], [1.0, \"#f0f921\"]]}, \"colorway\": [\"#636efa\", \"#EF553B\", \"#00cc96\", \"#ab63fa\", \"#FFA15A\", \"#19d3f3\", \"#FF6692\", \"#B6E880\", \"#FF97FF\", \"#FECB52\"], \"font\": {\"color\": \"#2a3f5f\"}, \"geo\": {\"bgcolor\": \"white\", \"lakecolor\": \"white\", \"landcolor\": \"#E5ECF6\", \"showlakes\": true, \"showland\": true, \"subunitcolor\": \"white\"}, \"hoverlabel\": {\"align\": \"left\"}, \"hovermode\": \"closest\", \"mapbox\": {\"style\": \"light\"}, \"paper_bgcolor\": \"white\", \"plot_bgcolor\": \"#E5ECF6\", \"polar\": {\"angularaxis\": {\"gridcolor\": \"white\", \"linecolor\": \"white\", \"ticks\": \"\"}, \"bgcolor\": \"#E5ECF6\", \"radialaxis\": {\"gridcolor\": \"white\", \"linecolor\": \"white\", \"ticks\": \"\"}}, \"scene\": {\"xaxis\": {\"backgroundcolor\": \"#E5ECF6\", \"gridcolor\": \"white\", \"gridwidth\": 2, \"linecolor\": \"white\", \"showbackground\": true, \"ticks\": \"\", \"zerolinecolor\": \"white\"}, \"yaxis\": {\"backgroundcolor\": \"#E5ECF6\", \"gridcolor\": \"white\", \"gridwidth\": 2, \"linecolor\": \"white\", \"showbackground\": true, \"ticks\": \"\", \"zerolinecolor\": \"white\"}, \"zaxis\": {\"backgroundcolor\": \"#E5ECF6\", \"gridcolor\": \"white\", \"gridwidth\": 2, \"linecolor\": \"white\", \"showbackground\": true, \"ticks\": \"\", \"zerolinecolor\": \"white\"}}, \"shapedefaults\": {\"line\": {\"color\": \"#2a3f5f\"}}, \"ternary\": {\"aaxis\": {\"gridcolor\": \"white\", \"linecolor\": \"white\", \"ticks\": \"\"}, \"baxis\": {\"gridcolor\": \"white\", \"linecolor\": \"white\", \"ticks\": \"\"}, \"bgcolor\": \"#E5ECF6\", \"caxis\": {\"gridcolor\": \"white\", \"linecolor\": \"white\", \"ticks\": \"\"}}, \"title\": {\"x\": 0.05}, \"xaxis\": {\"automargin\": true, \"gridcolor\": \"white\", \"linecolor\": \"white\", \"ticks\": \"\", \"title\": {\"standoff\": 15}, \"zerolinecolor\": \"white\", \"zerolinewidth\": 2}, \"yaxis\": {\"automargin\": true, \"gridcolor\": \"white\", \"linecolor\": \"white\", \"ticks\": \"\", \"title\": {\"standoff\": 15}, \"zerolinecolor\": \"white\", \"zerolinewidth\": 2}}}, \"xaxis\": {\"anchor\": \"y\", \"domain\": [0.0, 1.0], \"title\": {\"text\": \"Ball Possession %\"}}, \"yaxis\": {\"anchor\": \"x\", \"domain\": [0.0, 1.0], \"title\": {\"text\": \"Pass Accuracy %\"}}},\n",
       "                        {\"responsive\": true}\n",
       "                    ).then(function(){\n",
       "                            \n",
       "var gd = document.getElementById('5440c391-c19c-41c6-a9a6-3d0903121885');\n",
       "var x = new MutationObserver(function (mutations, observer) {{\n",
       "        var display = window.getComputedStyle(gd).display;\n",
       "        if (!display || display === 'none') {{\n",
       "            console.log([gd, 'removed!']);\n",
       "            Plotly.purge(gd);\n",
       "            observer.disconnect();\n",
       "        }}\n",
       "}});\n",
       "\n",
       "// Listen for the removal of the full notebook cells\n",
       "var notebookContainer = gd.closest('#notebook-container');\n",
       "if (notebookContainer) {{\n",
       "    x.observe(notebookContainer, {childList: true});\n",
       "}}\n",
       "\n",
       "// Listen for the clearing of the current output cell\n",
       "var outputEl = gd.closest('.output');\n",
       "if (outputEl) {{\n",
       "    x.observe(outputEl, {childList: true});\n",
       "}}\n",
       "\n",
       "                        })\n",
       "                };\n",
       "                });\n",
       "            </script>\n",
       "        </div>"
      ]
     },
     "metadata": {},
     "output_type": "display_data"
    }
   ],
   "source": [
    "# Bubble chart setting marker size and color with match results\n",
    "fig = px.scatter(df, x=\"Ball Possession %\", y=\"Pass Accuracy %\", color=\"Result\", size=\"Passes\", hover_name=\"Team\")\n",
    "fig.show()"
   ]
  },
  {
   "cell_type": "markdown",
   "metadata": {},
   "source": [
    "#### Observations\n",
    "1. In the scatterplot above, it is noticeable that there is certain correlation between two variables as the percentage of the ball possession increases, the percentage of the pass accuracy increases as well.\n",
    "2. Then, how do we assess the magnitude of the correlation between two variables? In other words, how do we quantify how much these two variables are correlated? With Pearson correlation coefficient, we can answer this question.\n",
    "3. Pearson correlation coefficient is a value with the range between -1 and +1. It measures correlation between two numeric variables. It gives information about the magnitude of the association, or correlation, as well as the direction of the relationship. A value of +1 is total positive linear correlation, 0 is no linear correlation, and −1 is total negative linear correlation."
   ]
  },
  {
   "cell_type": "code",
   "execution_count": 11,
   "metadata": {},
   "outputs": [
    {
     "name": "stdout",
     "output_type": "stream",
     "text": [
      "0.71\n"
     ]
    }
   ],
   "source": [
    "def pearson_r(x, y):\n",
    "    \"\"\"Compute Pearson correlation coefficient between two arrays\"\"\"\n",
    "    # Compute correlation matrix: corr_mat\n",
    "    corr_mat = np.corrcoef(x, y)\n",
    "    \n",
    "    # Return entry [0, 1]\n",
    "    return corr_mat[0, 1]\n",
    "\n",
    "# Calculate the Pearson correlation coefficient between two variables\n",
    "corr_bp_pa = pearson_r(df[\"Ball Possession %\"], df[\"Pass Accuracy %\"])\n",
    "print(round(corr_bp_pa, 2))"
   ]
  },
  {
   "cell_type": "code",
   "execution_count": 12,
   "metadata": {},
   "outputs": [
    {
     "data": {
      "image/png": "[encoded data removed]",
      "text/plain": [
       "<Figure size 576x432 with 2 Axes>"
      ]
     },
     "metadata": {
      "needs_background": "light"
     },
     "output_type": "display_data"
    }
   ],
   "source": [
    "# Pearson's r with heatmap\n",
    "corr = df[[\"Ball Possession %\", \"Pass Accuracy %\"]]\n",
    "\n",
    "plt.figure(figsize=(8, 6))\n",
    "sns.heatmap(corr.corr(), annot=True)\n",
    "plt.show()"
   ]
  },
  {
   "cell_type": "markdown",
   "metadata": {},
   "source": [
    "#### Observations\n",
    "1. If the abosolute value of Pearson's r is greater than 0.6, it is usually considered that strong correlation exists between variables. The value of 0.71 tells us that there is strong, positive, and linear correlation between those two variables.\n",
    "2. Then, the followup question is \"How do we describe this linear correlation between those two variables?\n",
    "3. Put it simply, since they have a linear correlation, we can represent it with a linear line.\n",
    "4. And this is where a linear regression line comes into play.\n",
    "\n",
    "\n",
    "#### <a href='#Table of Contents'>[Move to the Table of Contents]</a>\n",
    "<a id='Linear Regression Line'></a>\n",
    "### 2) Linear regression line\n",
    "1. The linear regression line can be expressed by an equation, Y = AX + B, where X is the explanatory variable, which in this example is Ball Possession, and Y is a dependent variable, Pass Accuracy. A is a slope that sets how steep the line is, and B is the intercept that sets where the line corsses the y-axis.\n",
    "2. We can represent the relationship between those two variables with this equation. However, the problem is that there are many lines we can draw throug these scattered dots on the grid.\n",
    "3. Let's see how many possible lines we can draw."
   ]
  },
  {
   "cell_type": "code",
   "execution_count": 13,
   "metadata": {},
   "outputs": [],
   "source": [
    "def draw_bs_pairs_linreg(x, y, size=1):\n",
    "    \"\"\"Perform pairs bootstrap for linear regression.\"\"\"\n",
    "\n",
    "    # Set up array of indices to sample from: inds\n",
    "    inds = np.arange(len(x))\n",
    "\n",
    "    # Initialize replicates: bs_slope_reps, bs_intercept_reps\n",
    "    bs_slope_reps = np.empty(size)\n",
    "    bs_intercept_reps = np.empty(size)\n",
    "\n",
    "    # Generate replicates\n",
    "    for i in range(size):\n",
    "        bs_inds = np.random.choice(inds, size=len(inds))\n",
    "        bs_x, bs_y = x[bs_inds], y[bs_inds]\n",
    "        bs_slope_reps[i], bs_intercept_reps[i] = np.polyfit(bs_x, bs_y, 1)\n",
    "\n",
    "    return bs_slope_reps, bs_intercept_reps"
   ]
  },
  {
   "cell_type": "code",
   "execution_count": 14,
   "metadata": {},
   "outputs": [
    {
     "data": {
      "image/png": "[encoded data removed]",
      "text/plain": [
       "<Figure size 864x648 with 1 Axes>"
      ]
     },
     "metadata": {
      "needs_background": "light"
     },
     "output_type": "display_data"
    }
   ],
   "source": [
    "# Generate pair bootstrap for x, y respectively\n",
    "x = df[\"Ball Possession %\"]\n",
    "y = df[\"Pass Accuracy %\"]\n",
    "\n",
    "bs_slope_reps, bs_intercept_reps = draw_bs_pairs_linreg(x, y, 100)\n",
    "\n",
    "# Plot the bootstrap lines\n",
    "plt.figure(figsize=(12, 9))\n",
    "for i in range(100):\n",
    "    plt.plot(x, bs_slope_reps[i]*x + bs_intercept_reps[i], linewidth=0.5, alpha=0.2, color='red')\n",
    "\n",
    "# Plot the data\n",
    "sns.set_style(\"darkgrid\")\n",
    "plt.plot(df[\"Ball Possession %\"], df[\"Pass Accuracy %\"], color='navy', marker='.', linestyle='none')\n",
    "\n",
    "# Label axes, set the margins, and show the plot\n",
    "plt.xlabel('Ball Possession %', fontsize=14)\n",
    "plt.ylabel('Pass Accuracy %', fontsize=14)\n",
    "plt.title('Possible Linear Regerssion Lines', fontsize=16)\n",
    "plt.xticks(fontsize=12)\n",
    "plt.yticks(fontsize=12)\n",
    "plt.margins(0.02)\n",
    "plt.show()"
   ]
  },
  {
   "cell_type": "markdown",
   "metadata": {},
   "source": [
    "#### Observations\n",
    "1. These lines are bootstrapping linear regression lines, meaning that I drew those lines from 100 resampled data, called bootstrap samples, from the original data.\n",
    "2. Graphically, we can confirm that there can be lots of possible linear regression lines. \n",
    "    1. Then, the next question is, \"What is the best fit line to the data?\" and \"How can we get the best fit line?\"\n",
    "    2. To answer these questions, we need to find the optimal parameters, the optimal slope and the intercept.\n",
    "\n",
    "#### <a href='#Table of Contents'>[Move to the Table of Contents]</a>\n",
    "<a id='Find the best fit regression line'></a>\n",
    "### 3) Find the best fit regression line\n",
    "1. Then, you may wonder, \"How do we figure out which slope and intercept best describe the data?\"\n",
    "2. A simple answer is that we want to choose the slope and intercept such that the data points collectively lie as close as possible to the line.\n",
    "3. Put it simply, we need to find the value of the slope and intercept that make a line closest to each value of the data on the grid. \n",
    "    1. The process of finding the optimal parameters for which the sum of the suqares of the residuals is minimal is called least squares.\n",
    "4. Let's find the best fit line!"
   ]
  },
  {
   "cell_type": "code",
   "execution_count": 15,
   "metadata": {},
   "outputs": [
    {
     "name": "stdout",
     "output_type": "stream",
     "text": [
      "slope =  0.4056 ball possession (%)\n",
      "intercept = 62.2786 pass accuracy (%)\n",
      "linear regression line: Pass Accuracy (%) =  0.4056 * ball possession (%) + 62.2786\n"
     ]
    }
   ],
   "source": [
    "# Compute the optimal parameters using np.ployfit function\n",
    "x = df[\"Ball Possession %\"]\n",
    "y = df[\"Pass Accuracy %\"]\n",
    "       \n",
    "a, b = np.polyfit(x, y, 1)\n",
    "print('slope = ', round(a, 4), 'ball possession (%)')\n",
    "print('intercept =', round(b, 4), 'pass accuracy (%)')\n",
    "print('linear regression line:', 'Pass Accuracy (%) = ', round(a, 4),'*','ball possession (%)', '+', round(b, 4))"
   ]
  },
  {
   "cell_type": "code",
   "execution_count": 16,
   "metadata": {},
   "outputs": [
    {
     "data": {
      "application/vnd.plotly.v1+json": {
       "config": {
        "plotlyServerURL": "https://plot.ly"
       },
       "data": [
        {
         "hovertemplate": "Ball Possession %=%{x}<br>Pass Accuracy %=%{y}<extra></extra>",
         "legendgroup": "",
         "marker": {
          "color": "#636efa",
          "opacity": 0.7,
          "symbol": "circle"
         },
         "mode": "markers",
         "name": "",
         "orientation": "v",
         "showlegend": false,
         "type": "scatter",
         "x": [
          40,
          60,
          43,
          57,
          64,
          36,
          39,
          61,
          51,
          49,
          72,
          28,
          52,
          48,
          54,
          46,
          50,
          50,
          60,
          40,
          52,
          48,
          52,
          48,
          61,
          39,
          41,
          59,
          41,
          59,
          57,
          43,
          47,
          53,
          47,
          53,
          47,
          53,
          30,
          70,
          49,
          51,
          44,
          56,
          58,
          42,
          66,
          34,
          58,
          42,
          42,
          58,
          52,
          48,
          41,
          59,
          71,
          29,
          58,
          42,
          54,
          46,
          45,
          55,
          56,
          44,
          61,
          39,
          68,
          32,
          32,
          68,
          38,
          62,
          53,
          47,
          34,
          66,
          41,
          59,
          30,
          70,
          65,
          35,
          44,
          56,
          60,
          40,
          54,
          46,
          43,
          57,
          36,
          64,
          48,
          52,
          41,
          59,
          39,
          61,
          75,
          25,
          54,
          46,
          47,
          53,
          56,
          44,
          37,
          63,
          48,
          51,
          42,
          58,
          57,
          43,
          43,
          57,
          38,
          62,
          40,
          60,
          54,
          46,
          43,
          57,
          39,
          61
         ],
         "xaxis": "x",
         "y": [
          78,
          86,
          78,
          86,
          86,
          86,
          87,
          93,
          87,
          85,
          92,
          67,
          85,
          82,
          84,
          84,
          83,
          83,
          88,
          82,
          88,
          83,
          84,
          79,
          89,
          82,
          82,
          91,
          82,
          87,
          88,
          81,
          76,
          81,
          76,
          77,
          88,
          86,
          69,
          89,
          88,
          85,
          77,
          81,
          81,
          80,
          90,
          73,
          84,
          75,
          78,
          87,
          84,
          82,
          82,
          89,
          91,
          77,
          94,
          88,
          84,
          79,
          79,
          82,
          88,
          83,
          90,
          82,
          91,
          84,
          69,
          89,
          72,
          87,
          86,
          81,
          76,
          84,
          73,
          87,
          74,
          88,
          83,
          67,
          78,
          88,
          87,
          82,
          86,
          83,
          78,
          83,
          77,
          87,
          88,
          88,
          84,
          86,
          69,
          84,
          91,
          72,
          81,
          79,
          83,
          85,
          87,
          83,
          73,
          84,
          78,
          82,
          67,
          81,
          89,
          83,
          74,
          80,
          69,
          82,
          86,
          90,
          79,
          79,
          88,
          92,
          75,
          83
         ],
         "yaxis": "y"
        },
        {
         "hovertemplate": "<b>OLS trendline</b><br>Pass Accuracy % = 0.405584 * Ball Possession % + 62.2786<br>R<sup>2</sup>=0.509614<br><br>Ball Possession %=%{x}<br>Pass Accuracy %=%{y} <b>(trend)</b><extra></extra>",
         "legendgroup": "",
         "line": {
          "color": "darkblue"
         },
         "marker": {
          "color": "#636efa",
          "symbol": "circle"
         },
         "mode": "lines",
         "name": "",
         "showlegend": false,
         "type": "scatter",
         "x": [
          25,
          28,
          29,
          30,
          30,
          32,
          32,
          34,
          34,
          35,
          36,
          36,
          37,
          38,
          38,
          39,
          39,
          39,
          39,
          39,
          40,
          40,
          40,
          40,
          41,
          41,
          41,
          41,
          41,
          42,
          42,
          42,
          42,
          42,
          43,
          43,
          43,
          43,
          43,
          43,
          44,
          44,
          44,
          44,
          45,
          46,
          46,
          46,
          46,
          46,
          47,
          47,
          47,
          47,
          47,
          48,
          48,
          48,
          48,
          48,
          48,
          49,
          49,
          50,
          50,
          51,
          51,
          51,
          52,
          52,
          52,
          52,
          52,
          53,
          53,
          53,
          53,
          53,
          54,
          54,
          54,
          54,
          54,
          55,
          56,
          56,
          56,
          56,
          57,
          57,
          57,
          57,
          57,
          57,
          58,
          58,
          58,
          58,
          58,
          59,
          59,
          59,
          59,
          59,
          60,
          60,
          60,
          60,
          61,
          61,
          61,
          61,
          61,
          62,
          62,
          63,
          64,
          64,
          65,
          66,
          66,
          68,
          68,
          70,
          70,
          71,
          72,
          75
         ],
         "xaxis": "x",
         "y": [
          72.41825124648722,
          73.63500383209175,
          74.04058802729327,
          74.44617222249478,
          74.44617222249478,
          75.25734061289779,
          75.25734061289779,
          76.06850900330082,
          76.06850900330082,
          76.47409319850233,
          76.87967739370384,
          76.87967739370384,
          77.28526158890534,
          77.69084578410686,
          77.69084578410686,
          78.09642997930837,
          78.09642997930837,
          78.09642997930837,
          78.09642997930837,
          78.09642997930837,
          78.50201417450988,
          78.50201417450988,
          78.50201417450988,
          78.50201417450988,
          78.9075983697114,
          78.9075983697114,
          78.9075983697114,
          78.9075983697114,
          78.9075983697114,
          79.31318256491289,
          79.31318256491289,
          79.31318256491289,
          79.31318256491289,
          79.31318256491289,
          79.7187667601144,
          79.7187667601144,
          79.7187667601144,
          79.7187667601144,
          79.7187667601144,
          79.7187667601144,
          80.12435095531592,
          80.12435095531592,
          80.12435095531592,
          80.12435095531592,
          80.52993515051743,
          80.93551934571894,
          80.93551934571894,
          80.93551934571894,
          80.93551934571894,
          80.93551934571894,
          81.34110354092044,
          81.34110354092044,
          81.34110354092044,
          81.34110354092044,
          81.34110354092044,
          81.74668773612197,
          81.74668773612197,
          81.74668773612197,
          81.74668773612197,
          81.74668773612197,
          81.74668773612197,
          82.15227193132347,
          82.15227193132347,
          82.55785612652498,
          82.55785612652498,
          82.9634403217265,
          82.9634403217265,
          82.9634403217265,
          83.36902451692801,
          83.36902451692801,
          83.36902451692801,
          83.36902451692801,
          83.36902451692801,
          83.77460871212952,
          83.77460871212952,
          83.77460871212952,
          83.77460871212952,
          83.77460871212952,
          84.18019290733102,
          84.18019290733102,
          84.18019290733102,
          84.18019290733102,
          84.18019290733102,
          84.58577710253253,
          84.99136129773404,
          84.99136129773404,
          84.99136129773404,
          84.99136129773404,
          85.39694549293556,
          85.39694549293556,
          85.39694549293556,
          85.39694549293556,
          85.39694549293556,
          85.39694549293556,
          85.80252968813707,
          85.80252968813707,
          85.80252968813707,
          85.80252968813707,
          85.80252968813707,
          86.20811388333857,
          86.20811388333857,
          86.20811388333857,
          86.20811388333857,
          86.20811388333857,
          86.61369807854008,
          86.61369807854008,
          86.61369807854008,
          86.61369807854008,
          87.0192822737416,
          87.0192822737416,
          87.0192822737416,
          87.0192822737416,
          87.0192822737416,
          87.42486646894311,
          87.42486646894311,
          87.83045066414462,
          88.23603485934612,
          88.23603485934612,
          88.64161905454763,
          89.04720324974915,
          89.04720324974915,
          89.85837164015217,
          89.85837164015217,
          90.6695400305552,
          90.6695400305552,
          91.0751242257567,
          91.48070842095821,
          92.69746100656275
         ],
         "yaxis": "y"
        }
       ],
       "layout": {
        "legend": {
         "tracegroupgap": 0
        },
        "margin": {
         "t": 60
        },
        "template": {
         "data": {
          "bar": [
           {
            "error_x": {
             "color": "#2a3f5f"
            },
            "error_y": {
             "color": "#2a3f5f"
            },
            "marker": {
             "line": {
              "color": "#E5ECF6",
              "width": 0.5
             }
            },
            "type": "bar"
           }
          ],
          "barpolar": [
           {
            "marker": {
             "line": {
              "color": "#E5ECF6",
              "width": 0.5
             }
            },
            "type": "barpolar"
           }
          ],
          "carpet": [
           {
            "aaxis": {
             "endlinecolor": "#2a3f5f",
             "gridcolor": "white",
             "linecolor": "white",
             "minorgridcolor": "white",
             "startlinecolor": "#2a3f5f"
            },
            "baxis": {
             "endlinecolor": "#2a3f5f",
             "gridcolor": "white",
             "linecolor": "white",
             "minorgridcolor": "white",
             "startlinecolor": "#2a3f5f"
            },
            "type": "carpet"
           }
          ],
          "choropleth": [
           {
            "colorbar": {
             "outlinewidth": 0,
             "ticks": ""
            },
            "type": "choropleth"
           }
          ],
          "contour": [
           {
            "colorbar": {
             "outlinewidth": 0,
             "ticks": ""
            },
            "colorscale": [
             [
              0,
              "#0d0887"
             ],
             [
              0.1111111111111111,
              "#46039f"
             ],
             [
              0.2222222222222222,
              "#7201a8"
             ],
             [
              0.3333333333333333,
              "#9c179e"
             ],
             [
              0.4444444444444444,
              "#bd3786"
             ],
             [
              0.5555555555555556,
              "#d8576b"
             ],
             [
              0.6666666666666666,
              "#ed7953"
             ],
             [
              0.7777777777777778,
              "#fb9f3a"
             ],
             [
              0.8888888888888888,
              "#fdca26"
             ],
             [
              1,
              "#f0f921"
             ]
            ],
            "type": "contour"
           }
          ],
          "contourcarpet": [
           {
            "colorbar": {
             "outlinewidth": 0,
             "ticks": ""
            },
            "type": "contourcarpet"
           }
          ],
          "heatmap": [
           {
            "colorbar": {
             "outlinewidth": 0,
             "ticks": ""
            },
            "colorscale": [
             [
              0,
              "#0d0887"
             ],
             [
              0.1111111111111111,
              "#46039f"
             ],
             [
              0.2222222222222222,
              "#7201a8"
             ],
             [
              0.3333333333333333,
              "#9c179e"
             ],
             [
              0.4444444444444444,
              "#bd3786"
             ],
             [
              0.5555555555555556,
              "#d8576b"
             ],
             [
              0.6666666666666666,
              "#ed7953"
             ],
             [
              0.7777777777777778,
              "#fb9f3a"
             ],
             [
              0.8888888888888888,
              "#fdca26"
             ],
             [
              1,
              "#f0f921"
             ]
            ],
            "type": "heatmap"
           }
          ],
          "heatmapgl": [
           {
            "colorbar": {
             "outlinewidth": 0,
             "ticks": ""
            },
            "colorscale": [
             [
              0,
              "#0d0887"
             ],
             [
              0.1111111111111111,
              "#46039f"
             ],
             [
              0.2222222222222222,
              "#7201a8"
             ],
             [
              0.3333333333333333,
              "#9c179e"
             ],
             [
              0.4444444444444444,
              "#bd3786"
             ],
             [
              0.5555555555555556,
              "#d8576b"
             ],
             [
              0.6666666666666666,
              "#ed7953"
             ],
             [
              0.7777777777777778,
              "#fb9f3a"
             ],
             [
              0.8888888888888888,
              "#fdca26"
             ],
             [
              1,
              "#f0f921"
             ]
            ],
            "type": "heatmapgl"
           }
          ],
          "histogram": [
           {
            "marker": {
             "colorbar": {
              "outlinewidth": 0,
              "ticks": ""
             }
            },
            "type": "histogram"
           }
          ],
          "histogram2d": [
           {
            "colorbar": {
             "outlinewidth": 0,
             "ticks": ""
            },
            "colorscale": [
             [
              0,
              "#0d0887"
             ],
             [
              0.1111111111111111,
              "#46039f"
             ],
             [
              0.2222222222222222,
              "#7201a8"
             ],
             [
              0.3333333333333333,
              "#9c179e"
             ],
             [
              0.4444444444444444,
              "#bd3786"
             ],
             [
              0.5555555555555556,
              "#d8576b"
             ],
             [
              0.6666666666666666,
              "#ed7953"
             ],
             [
              0.7777777777777778,
              "#fb9f3a"
             ],
             [
              0.8888888888888888,
              "#fdca26"
             ],
             [
              1,
              "#f0f921"
             ]
            ],
            "type": "histogram2d"
           }
          ],
          "histogram2dcontour": [
           {
            "colorbar": {
             "outlinewidth": 0,
             "ticks": ""
            },
            "colorscale": [
             [
              0,
              "#0d0887"
             ],
             [
              0.1111111111111111,
              "#46039f"
             ],
             [
              0.2222222222222222,
              "#7201a8"
             ],
             [
              0.3333333333333333,
              "#9c179e"
             ],
             [
              0.4444444444444444,
              "#bd3786"
             ],
             [
              0.5555555555555556,
              "#d8576b"
             ],
             [
              0.6666666666666666,
              "#ed7953"
             ],
             [
              0.7777777777777778,
              "#fb9f3a"
             ],
             [
              0.8888888888888888,
              "#fdca26"
             ],
             [
              1,
              "#f0f921"
             ]
            ],
            "type": "histogram2dcontour"
           }
          ],
          "mesh3d": [
           {
            "colorbar": {
             "outlinewidth": 0,
             "ticks": ""
            },
            "type": "mesh3d"
           }
          ],
          "parcoords": [
           {
            "line": {
             "colorbar": {
              "outlinewidth": 0,
              "ticks": ""
             }
            },
            "type": "parcoords"
           }
          ],
          "pie": [
           {
            "automargin": true,
            "type": "pie"
           }
          ],
          "scatter": [
           {
            "marker": {
             "colorbar": {
              "outlinewidth": 0,
              "ticks": ""
             }
            },
            "type": "scatter"
           }
          ],
          "scatter3d": [
           {
            "line": {
             "colorbar": {
              "outlinewidth": 0,
              "ticks": ""
             }
            },
            "marker": {
             "colorbar": {
              "outlinewidth": 0,
              "ticks": ""
             }
            },
            "type": "scatter3d"
           }
          ],
          "scattercarpet": [
           {
            "marker": {
             "colorbar": {
              "outlinewidth": 0,
              "ticks": ""
             }
            },
            "type": "scattercarpet"
           }
          ],
          "scattergeo": [
           {
            "marker": {
             "colorbar": {
              "outlinewidth": 0,
              "ticks": ""
             }
            },
            "type": "scattergeo"
           }
          ],
          "scattergl": [
           {
            "marker": {
             "colorbar": {
              "outlinewidth": 0,
              "ticks": ""
             }
            },
            "type": "scattergl"
           }
          ],
          "scattermapbox": [
           {
            "marker": {
             "colorbar": {
              "outlinewidth": 0,
              "ticks": ""
             }
            },
            "type": "scattermapbox"
           }
          ],
          "scatterpolar": [
           {
            "marker": {
             "colorbar": {
              "outlinewidth": 0,
              "ticks": ""
             }
            },
            "type": "scatterpolar"
           }
          ],
          "scatterpolargl": [
           {
            "marker": {
             "colorbar": {
              "outlinewidth": 0,
              "ticks": ""
             }
            },
            "type": "scatterpolargl"
           }
          ],
          "scatterternary": [
           {
            "marker": {
             "colorbar": {
              "outlinewidth": 0,
              "ticks": ""
             }
            },
            "type": "scatterternary"
           }
          ],
          "surface": [
           {
            "colorbar": {
             "outlinewidth": 0,
             "ticks": ""
            },
            "colorscale": [
             [
              0,
              "#0d0887"
             ],
             [
              0.1111111111111111,
              "#46039f"
             ],
             [
              0.2222222222222222,
              "#7201a8"
             ],
             [
              0.3333333333333333,
              "#9c179e"
             ],
             [
              0.4444444444444444,
              "#bd3786"
             ],
             [
              0.5555555555555556,
              "#d8576b"
             ],
             [
              0.6666666666666666,
              "#ed7953"
             ],
             [
              0.7777777777777778,
              "#fb9f3a"
             ],
             [
              0.8888888888888888,
              "#fdca26"
             ],
             [
              1,
              "#f0f921"
             ]
            ],
            "type": "surface"
           }
          ],
          "table": [
           {
            "cells": {
             "fill": {
              "color": "#EBF0F8"
             },
             "line": {
              "color": "white"
             }
            },
            "header": {
             "fill": {
              "color": "#C8D4E3"
             },
             "line": {
              "color": "white"
             }
            },
            "type": "table"
           }
          ]
         },
         "layout": {
          "annotationdefaults": {
           "arrowcolor": "#2a3f5f",
           "arrowhead": 0,
           "arrowwidth": 1
          },
          "coloraxis": {
           "colorbar": {
            "outlinewidth": 0,
            "ticks": ""
           }
          },
          "colorscale": {
           "diverging": [
            [
             0,
             "#8e0152"
            ],
            [
             0.1,
             "#c51b7d"
            ],
            [
             0.2,
             "#de77ae"
            ],
            [
             0.3,
             "#f1b6da"
            ],
            [
             0.4,
             "#fde0ef"
            ],
            [
             0.5,
             "#f7f7f7"
            ],
            [
             0.6,
             "#e6f5d0"
            ],
            [
             0.7,
             "#b8e186"
            ],
            [
             0.8,
             "#7fbc41"
            ],
            [
             0.9,
             "#4d9221"
            ],
            [
             1,
             "#276419"
            ]
           ],
           "sequential": [
            [
             0,
             "#0d0887"
            ],
            [
             0.1111111111111111,
             "#46039f"
            ],
            [
             0.2222222222222222,
             "#7201a8"
            ],
            [
             0.3333333333333333,
             "#9c179e"
            ],
            [
             0.4444444444444444,
             "#bd3786"
            ],
            [
             0.5555555555555556,
             "#d8576b"
            ],
            [
             0.6666666666666666,
             "#ed7953"
            ],
            [
             0.7777777777777778,
             "#fb9f3a"
            ],
            [
             0.8888888888888888,
             "#fdca26"
            ],
            [
             1,
             "#f0f921"
            ]
           ],
           "sequentialminus": [
            [
             0,
             "#0d0887"
            ],
            [
             0.1111111111111111,
             "#46039f"
            ],
            [
             0.2222222222222222,
             "#7201a8"
            ],
            [
             0.3333333333333333,
             "#9c179e"
            ],
            [
             0.4444444444444444,
             "#bd3786"
            ],
            [
             0.5555555555555556,
             "#d8576b"
            ],
            [
             0.6666666666666666,
             "#ed7953"
            ],
            [
             0.7777777777777778,
             "#fb9f3a"
            ],
            [
             0.8888888888888888,
             "#fdca26"
            ],
            [
             1,
             "#f0f921"
            ]
           ]
          },
          "colorway": [
           "#636efa",
           "#EF553B",
           "#00cc96",
           "#ab63fa",
           "#FFA15A",
           "#19d3f3",
           "#FF6692",
           "#B6E880",
           "#FF97FF",
           "#FECB52"
          ],
          "font": {
           "color": "#2a3f5f"
          },
          "geo": {
           "bgcolor": "white",
           "lakecolor": "white",
           "landcolor": "#E5ECF6",
           "showlakes": true,
           "showland": true,
           "subunitcolor": "white"
          },
          "hoverlabel": {
           "align": "left"
          },
          "hovermode": "closest",
          "mapbox": {
           "style": "light"
          },
          "paper_bgcolor": "white",
          "plot_bgcolor": "#E5ECF6",
          "polar": {
           "angularaxis": {
            "gridcolor": "white",
            "linecolor": "white",
            "ticks": ""
           },
           "bgcolor": "#E5ECF6",
           "radialaxis": {
            "gridcolor": "white",
            "linecolor": "white",
            "ticks": ""
           }
          },
          "scene": {
           "xaxis": {
            "backgroundcolor": "#E5ECF6",
            "gridcolor": "white",
            "gridwidth": 2,
            "linecolor": "white",
            "showbackground": true,
            "ticks": "",
            "zerolinecolor": "white"
           },
           "yaxis": {
            "backgroundcolor": "#E5ECF6",
            "gridcolor": "white",
            "gridwidth": 2,
            "linecolor": "white",
            "showbackground": true,
            "ticks": "",
            "zerolinecolor": "white"
           },
           "zaxis": {
            "backgroundcolor": "#E5ECF6",
            "gridcolor": "white",
            "gridwidth": 2,
            "linecolor": "white",
            "showbackground": true,
            "ticks": "",
            "zerolinecolor": "white"
           }
          },
          "shapedefaults": {
           "line": {
            "color": "#2a3f5f"
           }
          },
          "ternary": {
           "aaxis": {
            "gridcolor": "white",
            "linecolor": "white",
            "ticks": ""
           },
           "baxis": {
            "gridcolor": "white",
            "linecolor": "white",
            "ticks": ""
           },
           "bgcolor": "#E5ECF6",
           "caxis": {
            "gridcolor": "white",
            "linecolor": "white",
            "ticks": ""
           }
          },
          "title": {
           "x": 0.05
          },
          "xaxis": {
           "automargin": true,
           "gridcolor": "white",
           "linecolor": "white",
           "ticks": "",
           "title": {
            "standoff": 15
           },
           "zerolinecolor": "white",
           "zerolinewidth": 2
          },
          "yaxis": {
           "automargin": true,
           "gridcolor": "white",
           "linecolor": "white",
           "ticks": "",
           "title": {
            "standoff": 15
           },
           "zerolinecolor": "white",
           "zerolinewidth": 2
          }
         }
        },
        "xaxis": {
         "anchor": "y",
         "domain": [
          0,
          1
         ],
         "title": {
          "text": "Ball Possession %"
         }
        },
        "yaxis": {
         "anchor": "x",
         "domain": [
          0,
          1
         ],
         "title": {
          "text": "Pass Accuracy %"
         }
        }
       }
      },
      "text/html": [
       "<div>\n",
       "        \n",
       "        \n",
       "            <div id=\"7c9e7233-123f-4229-8ba6-d52ed74990d3\" class=\"plotly-graph-div\" style=\"height:525px; width:100%;\"></div>\n",
       "            <script type=\"text/javascript\">\n",
       "                require([\"plotly\"], function(Plotly) {\n",
       "                    window.PLOTLYENV=window.PLOTLYENV || {};\n",
       "                    \n",
       "                if (document.getElementById(\"7c9e7233-123f-4229-8ba6-d52ed74990d3\")) {\n",
       "                    Plotly.newPlot(\n",
       "                        '7c9e7233-123f-4229-8ba6-d52ed74990d3',\n",
       "                        [{\"hovertemplate\": \"Ball Possession %=%{x}<br>Pass Accuracy %=%{y}<extra></extra>\", \"legendgroup\": \"\", \"marker\": {\"color\": \"#636efa\", \"opacity\": 0.7, \"symbol\": \"circle\"}, \"mode\": \"markers\", \"name\": \"\", \"orientation\": \"v\", \"showlegend\": false, \"type\": \"scatter\", \"x\": [40, 60, 43, 57, 64, 36, 39, 61, 51, 49, 72, 28, 52, 48, 54, 46, 50, 50, 60, 40, 52, 48, 52, 48, 61, 39, 41, 59, 41, 59, 57, 43, 47, 53, 47, 53, 47, 53, 30, 70, 49, 51, 44, 56, 58, 42, 66, 34, 58, 42, 42, 58, 52, 48, 41, 59, 71, 29, 58, 42, 54, 46, 45, 55, 56, 44, 61, 39, 68, 32, 32, 68, 38, 62, 53, 47, 34, 66, 41, 59, 30, 70, 65, 35, 44, 56, 60, 40, 54, 46, 43, 57, 36, 64, 48, 52, 41, 59, 39, 61, 75, 25, 54, 46, 47, 53, 56, 44, 37, 63, 48, 51, 42, 58, 57, 43, 43, 57, 38, 62, 40, 60, 54, 46, 43, 57, 39, 61], \"xaxis\": \"x\", \"y\": [78, 86, 78, 86, 86, 86, 87, 93, 87, 85, 92, 67, 85, 82, 84, 84, 83, 83, 88, 82, 88, 83, 84, 79, 89, 82, 82, 91, 82, 87, 88, 81, 76, 81, 76, 77, 88, 86, 69, 89, 88, 85, 77, 81, 81, 80, 90, 73, 84, 75, 78, 87, 84, 82, 82, 89, 91, 77, 94, 88, 84, 79, 79, 82, 88, 83, 90, 82, 91, 84, 69, 89, 72, 87, 86, 81, 76, 84, 73, 87, 74, 88, 83, 67, 78, 88, 87, 82, 86, 83, 78, 83, 77, 87, 88, 88, 84, 86, 69, 84, 91, 72, 81, 79, 83, 85, 87, 83, 73, 84, 78, 82, 67, 81, 89, 83, 74, 80, 69, 82, 86, 90, 79, 79, 88, 92, 75, 83], \"yaxis\": \"y\"}, {\"hovertemplate\": \"<b>OLS trendline</b><br>Pass Accuracy % = 0.405584 * Ball Possession % + 62.2786<br>R<sup>2</sup>=0.509614<br><br>Ball Possession %=%{x}<br>Pass Accuracy %=%{y} <b>(trend)</b><extra></extra>\", \"legendgroup\": \"\", \"line\": {\"color\": \"darkblue\"}, \"marker\": {\"color\": \"#636efa\", \"symbol\": \"circle\"}, \"mode\": \"lines\", \"name\": \"\", \"showlegend\": false, \"type\": \"scatter\", \"x\": [25, 28, 29, 30, 30, 32, 32, 34, 34, 35, 36, 36, 37, 38, 38, 39, 39, 39, 39, 39, 40, 40, 40, 40, 41, 41, 41, 41, 41, 42, 42, 42, 42, 42, 43, 43, 43, 43, 43, 43, 44, 44, 44, 44, 45, 46, 46, 46, 46, 46, 47, 47, 47, 47, 47, 48, 48, 48, 48, 48, 48, 49, 49, 50, 50, 51, 51, 51, 52, 52, 52, 52, 52, 53, 53, 53, 53, 53, 54, 54, 54, 54, 54, 55, 56, 56, 56, 56, 57, 57, 57, 57, 57, 57, 58, 58, 58, 58, 58, 59, 59, 59, 59, 59, 60, 60, 60, 60, 61, 61, 61, 61, 61, 62, 62, 63, 64, 64, 65, 66, 66, 68, 68, 70, 70, 71, 72, 75], \"xaxis\": \"x\", \"y\": [72.41825124648722, 73.63500383209175, 74.04058802729327, 74.44617222249478, 74.44617222249478, 75.25734061289779, 75.25734061289779, 76.06850900330082, 76.06850900330082, 76.47409319850233, 76.87967739370384, 76.87967739370384, 77.28526158890534, 77.69084578410686, 77.69084578410686, 78.09642997930837, 78.09642997930837, 78.09642997930837, 78.09642997930837, 78.09642997930837, 78.50201417450988, 78.50201417450988, 78.50201417450988, 78.50201417450988, 78.9075983697114, 78.9075983697114, 78.9075983697114, 78.9075983697114, 78.9075983697114, 79.31318256491289, 79.31318256491289, 79.31318256491289, 79.31318256491289, 79.31318256491289, 79.7187667601144, 79.7187667601144, 79.7187667601144, 79.7187667601144, 79.7187667601144, 79.7187667601144, 80.12435095531592, 80.12435095531592, 80.12435095531592, 80.12435095531592, 80.52993515051743, 80.93551934571894, 80.93551934571894, 80.93551934571894, 80.93551934571894, 80.93551934571894, 81.34110354092044, 81.34110354092044, 81.34110354092044, 81.34110354092044, 81.34110354092044, 81.74668773612197, 81.74668773612197, 81.74668773612197, 81.74668773612197, 81.74668773612197, 81.74668773612197, 82.15227193132347, 82.15227193132347, 82.55785612652498, 82.55785612652498, 82.9634403217265, 82.9634403217265, 82.9634403217265, 83.36902451692801, 83.36902451692801, 83.36902451692801, 83.36902451692801, 83.36902451692801, 83.77460871212952, 83.77460871212952, 83.77460871212952, 83.77460871212952, 83.77460871212952, 84.18019290733102, 84.18019290733102, 84.18019290733102, 84.18019290733102, 84.18019290733102, 84.58577710253253, 84.99136129773404, 84.99136129773404, 84.99136129773404, 84.99136129773404, 85.39694549293556, 85.39694549293556, 85.39694549293556, 85.39694549293556, 85.39694549293556, 85.39694549293556, 85.80252968813707, 85.80252968813707, 85.80252968813707, 85.80252968813707, 85.80252968813707, 86.20811388333857, 86.20811388333857, 86.20811388333857, 86.20811388333857, 86.20811388333857, 86.61369807854008, 86.61369807854008, 86.61369807854008, 86.61369807854008, 87.0192822737416, 87.0192822737416, 87.0192822737416, 87.0192822737416, 87.0192822737416, 87.42486646894311, 87.42486646894311, 87.83045066414462, 88.23603485934612, 88.23603485934612, 88.64161905454763, 89.04720324974915, 89.04720324974915, 89.85837164015217, 89.85837164015217, 90.6695400305552, 90.6695400305552, 91.0751242257567, 91.48070842095821, 92.69746100656275], \"yaxis\": \"y\"}],\n",
       "                        {\"legend\": {\"tracegroupgap\": 0}, \"margin\": {\"t\": 60}, \"template\": {\"data\": {\"bar\": [{\"error_x\": {\"color\": \"#2a3f5f\"}, \"error_y\": {\"color\": \"#2a3f5f\"}, \"marker\": {\"line\": {\"color\": \"#E5ECF6\", \"width\": 0.5}}, \"type\": \"bar\"}], \"barpolar\": [{\"marker\": {\"line\": {\"color\": \"#E5ECF6\", \"width\": 0.5}}, \"type\": \"barpolar\"}], \"carpet\": [{\"aaxis\": {\"endlinecolor\": \"#2a3f5f\", \"gridcolor\": \"white\", \"linecolor\": \"white\", \"minorgridcolor\": \"white\", \"startlinecolor\": \"#2a3f5f\"}, \"baxis\": {\"endlinecolor\": \"#2a3f5f\", \"gridcolor\": \"white\", \"linecolor\": \"white\", \"minorgridcolor\": \"white\", \"startlinecolor\": \"#2a3f5f\"}, \"type\": \"carpet\"}], \"choropleth\": [{\"colorbar\": {\"outlinewidth\": 0, \"ticks\": \"\"}, \"type\": \"choropleth\"}], \"contour\": [{\"colorbar\": {\"outlinewidth\": 0, \"ticks\": \"\"}, \"colorscale\": [[0.0, \"#0d0887\"], [0.1111111111111111, \"#46039f\"], [0.2222222222222222, \"#7201a8\"], [0.3333333333333333, \"#9c179e\"], [0.4444444444444444, \"#bd3786\"], [0.5555555555555556, \"#d8576b\"], [0.6666666666666666, \"#ed7953\"], [0.7777777777777778, \"#fb9f3a\"], [0.8888888888888888, \"#fdca26\"], [1.0, \"#f0f921\"]], \"type\": \"contour\"}], \"contourcarpet\": [{\"colorbar\": {\"outlinewidth\": 0, \"ticks\": \"\"}, \"type\": \"contourcarpet\"}], \"heatmap\": [{\"colorbar\": {\"outlinewidth\": 0, \"ticks\": \"\"}, \"colorscale\": [[0.0, \"#0d0887\"], [0.1111111111111111, \"#46039f\"], [0.2222222222222222, \"#7201a8\"], [0.3333333333333333, \"#9c179e\"], [0.4444444444444444, \"#bd3786\"], [0.5555555555555556, \"#d8576b\"], [0.6666666666666666, \"#ed7953\"], [0.7777777777777778, \"#fb9f3a\"], [0.8888888888888888, \"#fdca26\"], [1.0, \"#f0f921\"]], \"type\": \"heatmap\"}], \"heatmapgl\": [{\"colorbar\": {\"outlinewidth\": 0, \"ticks\": \"\"}, \"colorscale\": [[0.0, \"#0d0887\"], [0.1111111111111111, \"#46039f\"], [0.2222222222222222, \"#7201a8\"], [0.3333333333333333, \"#9c179e\"], [0.4444444444444444, \"#bd3786\"], [0.5555555555555556, \"#d8576b\"], [0.6666666666666666, \"#ed7953\"], [0.7777777777777778, \"#fb9f3a\"], [0.8888888888888888, \"#fdca26\"], [1.0, \"#f0f921\"]], \"type\": \"heatmapgl\"}], \"histogram\": [{\"marker\": {\"colorbar\": {\"outlinewidth\": 0, \"ticks\": \"\"}}, \"type\": \"histogram\"}], \"histogram2d\": [{\"colorbar\": {\"outlinewidth\": 0, \"ticks\": \"\"}, \"colorscale\": [[0.0, \"#0d0887\"], [0.1111111111111111, \"#46039f\"], [0.2222222222222222, \"#7201a8\"], [0.3333333333333333, \"#9c179e\"], [0.4444444444444444, \"#bd3786\"], [0.5555555555555556, \"#d8576b\"], [0.6666666666666666, \"#ed7953\"], [0.7777777777777778, \"#fb9f3a\"], [0.8888888888888888, \"#fdca26\"], [1.0, \"#f0f921\"]], \"type\": \"histogram2d\"}], \"histogram2dcontour\": [{\"colorbar\": {\"outlinewidth\": 0, \"ticks\": \"\"}, \"colorscale\": [[0.0, \"#0d0887\"], [0.1111111111111111, \"#46039f\"], [0.2222222222222222, \"#7201a8\"], [0.3333333333333333, \"#9c179e\"], [0.4444444444444444, \"#bd3786\"], [0.5555555555555556, \"#d8576b\"], [0.6666666666666666, \"#ed7953\"], [0.7777777777777778, \"#fb9f3a\"], [0.8888888888888888, \"#fdca26\"], [1.0, \"#f0f921\"]], \"type\": \"histogram2dcontour\"}], \"mesh3d\": [{\"colorbar\": {\"outlinewidth\": 0, \"ticks\": \"\"}, \"type\": \"mesh3d\"}], \"parcoords\": [{\"line\": {\"colorbar\": {\"outlinewidth\": 0, \"ticks\": \"\"}}, \"type\": \"parcoords\"}], \"pie\": [{\"automargin\": true, \"type\": \"pie\"}], \"scatter\": [{\"marker\": {\"colorbar\": {\"outlinewidth\": 0, \"ticks\": \"\"}}, \"type\": \"scatter\"}], \"scatter3d\": [{\"line\": {\"colorbar\": {\"outlinewidth\": 0, \"ticks\": \"\"}}, \"marker\": {\"colorbar\": {\"outlinewidth\": 0, \"ticks\": \"\"}}, \"type\": \"scatter3d\"}], \"scattercarpet\": [{\"marker\": {\"colorbar\": {\"outlinewidth\": 0, \"ticks\": \"\"}}, \"type\": \"scattercarpet\"}], \"scattergeo\": [{\"marker\": {\"colorbar\": {\"outlinewidth\": 0, \"ticks\": \"\"}}, \"type\": \"scattergeo\"}], \"scattergl\": [{\"marker\": {\"colorbar\": {\"outlinewidth\": 0, \"ticks\": \"\"}}, \"type\": \"scattergl\"}], \"scattermapbox\": [{\"marker\": {\"colorbar\": {\"outlinewidth\": 0, \"ticks\": \"\"}}, \"type\": \"scattermapbox\"}], \"scatterpolar\": [{\"marker\": {\"colorbar\": {\"outlinewidth\": 0, \"ticks\": \"\"}}, \"type\": \"scatterpolar\"}], \"scatterpolargl\": [{\"marker\": {\"colorbar\": {\"outlinewidth\": 0, \"ticks\": \"\"}}, \"type\": \"scatterpolargl\"}], \"scatterternary\": [{\"marker\": {\"colorbar\": {\"outlinewidth\": 0, \"ticks\": \"\"}}, \"type\": \"scatterternary\"}], \"surface\": [{\"colorbar\": {\"outlinewidth\": 0, \"ticks\": \"\"}, \"colorscale\": [[0.0, \"#0d0887\"], [0.1111111111111111, \"#46039f\"], [0.2222222222222222, \"#7201a8\"], [0.3333333333333333, \"#9c179e\"], [0.4444444444444444, \"#bd3786\"], [0.5555555555555556, \"#d8576b\"], [0.6666666666666666, \"#ed7953\"], [0.7777777777777778, \"#fb9f3a\"], [0.8888888888888888, \"#fdca26\"], [1.0, \"#f0f921\"]], \"type\": \"surface\"}], \"table\": [{\"cells\": {\"fill\": {\"color\": \"#EBF0F8\"}, \"line\": {\"color\": \"white\"}}, \"header\": {\"fill\": {\"color\": \"#C8D4E3\"}, \"line\": {\"color\": \"white\"}}, \"type\": \"table\"}]}, \"layout\": {\"annotationdefaults\": {\"arrowcolor\": \"#2a3f5f\", \"arrowhead\": 0, \"arrowwidth\": 1}, \"coloraxis\": {\"colorbar\": {\"outlinewidth\": 0, \"ticks\": \"\"}}, \"colorscale\": {\"diverging\": [[0, \"#8e0152\"], [0.1, \"#c51b7d\"], [0.2, \"#de77ae\"], [0.3, \"#f1b6da\"], [0.4, \"#fde0ef\"], [0.5, \"#f7f7f7\"], [0.6, \"#e6f5d0\"], [0.7, \"#b8e186\"], [0.8, \"#7fbc41\"], [0.9, \"#4d9221\"], [1, \"#276419\"]], \"sequential\": [[0.0, \"#0d0887\"], [0.1111111111111111, \"#46039f\"], [0.2222222222222222, \"#7201a8\"], [0.3333333333333333, \"#9c179e\"], [0.4444444444444444, \"#bd3786\"], [0.5555555555555556, \"#d8576b\"], [0.6666666666666666, \"#ed7953\"], [0.7777777777777778, \"#fb9f3a\"], [0.8888888888888888, \"#fdca26\"], [1.0, \"#f0f921\"]], \"sequentialminus\": [[0.0, \"#0d0887\"], [0.1111111111111111, \"#46039f\"], [0.2222222222222222, \"#7201a8\"], [0.3333333333333333, \"#9c179e\"], [0.4444444444444444, \"#bd3786\"], [0.5555555555555556, \"#d8576b\"], [0.6666666666666666, \"#ed7953\"], [0.7777777777777778, \"#fb9f3a\"], [0.8888888888888888, \"#fdca26\"], [1.0, \"#f0f921\"]]}, \"colorway\": [\"#636efa\", \"#EF553B\", \"#00cc96\", \"#ab63fa\", \"#FFA15A\", \"#19d3f3\", \"#FF6692\", \"#B6E880\", \"#FF97FF\", \"#FECB52\"], \"font\": {\"color\": \"#2a3f5f\"}, \"geo\": {\"bgcolor\": \"white\", \"lakecolor\": \"white\", \"landcolor\": \"#E5ECF6\", \"showlakes\": true, \"showland\": true, \"subunitcolor\": \"white\"}, \"hoverlabel\": {\"align\": \"left\"}, \"hovermode\": \"closest\", \"mapbox\": {\"style\": \"light\"}, \"paper_bgcolor\": \"white\", \"plot_bgcolor\": \"#E5ECF6\", \"polar\": {\"angularaxis\": {\"gridcolor\": \"white\", \"linecolor\": \"white\", \"ticks\": \"\"}, \"bgcolor\": \"#E5ECF6\", \"radialaxis\": {\"gridcolor\": \"white\", \"linecolor\": \"white\", \"ticks\": \"\"}}, \"scene\": {\"xaxis\": {\"backgroundcolor\": \"#E5ECF6\", \"gridcolor\": \"white\", \"gridwidth\": 2, \"linecolor\": \"white\", \"showbackground\": true, \"ticks\": \"\", \"zerolinecolor\": \"white\"}, \"yaxis\": {\"backgroundcolor\": \"#E5ECF6\", \"gridcolor\": \"white\", \"gridwidth\": 2, \"linecolor\": \"white\", \"showbackground\": true, \"ticks\": \"\", \"zerolinecolor\": \"white\"}, \"zaxis\": {\"backgroundcolor\": \"#E5ECF6\", \"gridcolor\": \"white\", \"gridwidth\": 2, \"linecolor\": \"white\", \"showbackground\": true, \"ticks\": \"\", \"zerolinecolor\": \"white\"}}, \"shapedefaults\": {\"line\": {\"color\": \"#2a3f5f\"}}, \"ternary\": {\"aaxis\": {\"gridcolor\": \"white\", \"linecolor\": \"white\", \"ticks\": \"\"}, \"baxis\": {\"gridcolor\": \"white\", \"linecolor\": \"white\", \"ticks\": \"\"}, \"bgcolor\": \"#E5ECF6\", \"caxis\": {\"gridcolor\": \"white\", \"linecolor\": \"white\", \"ticks\": \"\"}}, \"title\": {\"x\": 0.05}, \"xaxis\": {\"automargin\": true, \"gridcolor\": \"white\", \"linecolor\": \"white\", \"ticks\": \"\", \"title\": {\"standoff\": 15}, \"zerolinecolor\": \"white\", \"zerolinewidth\": 2}, \"yaxis\": {\"automargin\": true, \"gridcolor\": \"white\", \"linecolor\": \"white\", \"ticks\": \"\", \"title\": {\"standoff\": 15}, \"zerolinecolor\": \"white\", \"zerolinewidth\": 2}}}, \"xaxis\": {\"anchor\": \"y\", \"domain\": [0.0, 1.0], \"title\": {\"text\": \"Ball Possession %\"}}, \"yaxis\": {\"anchor\": \"x\", \"domain\": [0.0, 1.0], \"title\": {\"text\": \"Pass Accuracy %\"}}},\n",
       "                        {\"responsive\": true}\n",
       "                    ).then(function(){\n",
       "                            \n",
       "var gd = document.getElementById('7c9e7233-123f-4229-8ba6-d52ed74990d3');\n",
       "var x = new MutationObserver(function (mutations, observer) {{\n",
       "        var display = window.getComputedStyle(gd).display;\n",
       "        if (!display || display === 'none') {{\n",
       "            console.log([gd, 'removed!']);\n",
       "            Plotly.purge(gd);\n",
       "            observer.disconnect();\n",
       "        }}\n",
       "}});\n",
       "\n",
       "// Listen for the removal of the full notebook cells\n",
       "var notebookContainer = gd.closest('#notebook-container');\n",
       "if (notebookContainer) {{\n",
       "    x.observe(notebookContainer, {childList: true});\n",
       "}}\n",
       "\n",
       "// Listen for the clearing of the current output cell\n",
       "var outputEl = gd.closest('.output');\n",
       "if (outputEl) {{\n",
       "    x.observe(outputEl, {childList: true});\n",
       "}}\n",
       "\n",
       "                        })\n",
       "                };\n",
       "                });\n",
       "            </script>\n",
       "        </div>"
      ]
     },
     "metadata": {},
     "output_type": "display_data"
    },
    {
     "name": "stdout",
     "output_type": "stream",
     "text": [
      "                                      px_fit_results\n",
      "0  <statsmodels.regression.linear_model.Regressio...\n"
     ]
    },
    {
     "data": {
      "text/html": [
       "<table class=\"simpletable\">\n",
       "<caption>OLS Regression Results</caption>\n",
       "<tr>\n",
       "  <th>Dep. Variable:</th>            <td>y</td>        <th>  R-squared:         </th> <td>   0.510</td>\n",
       "</tr>\n",
       "<tr>\n",
       "  <th>Model:</th>                   <td>OLS</td>       <th>  Adj. R-squared:    </th> <td>   0.506</td>\n",
       "</tr>\n",
       "<tr>\n",
       "  <th>Method:</th>             <td>Least Squares</td>  <th>  F-statistic:       </th> <td>   130.9</td>\n",
       "</tr>\n",
       "<tr>\n",
       "  <th>Date:</th>             <td>Sun, 27 Sep 2020</td> <th>  Prob (F-statistic):</th> <td>3.15e-21</td>\n",
       "</tr>\n",
       "<tr>\n",
       "  <th>Time:</th>                 <td>18:33:07</td>     <th>  Log-Likelihood:    </th> <td> -363.44</td>\n",
       "</tr>\n",
       "<tr>\n",
       "  <th>No. Observations:</th>      <td>   128</td>      <th>  AIC:               </th> <td>   730.9</td>\n",
       "</tr>\n",
       "<tr>\n",
       "  <th>Df Residuals:</th>          <td>   126</td>      <th>  BIC:               </th> <td>   736.6</td>\n",
       "</tr>\n",
       "<tr>\n",
       "  <th>Df Model:</th>              <td>     1</td>      <th>                     </th>     <td> </td>   \n",
       "</tr>\n",
       "<tr>\n",
       "  <th>Covariance Type:</th>      <td>nonrobust</td>    <th>                     </th>     <td> </td>   \n",
       "</tr>\n",
       "</table>\n",
       "<table class=\"simpletable\">\n",
       "<tr>\n",
       "    <td></td>       <th>coef</th>     <th>std err</th>      <th>t</th>      <th>P>|t|</th>  <th>[0.025</th>    <th>0.975]</th>  \n",
       "</tr>\n",
       "<tr>\n",
       "  <th>const</th> <td>   62.2786</td> <td>    1.810</td> <td>   34.410</td> <td> 0.000</td> <td>   58.697</td> <td>   65.860</td>\n",
       "</tr>\n",
       "<tr>\n",
       "  <th>x1</th>    <td>    0.4056</td> <td>    0.035</td> <td>   11.443</td> <td> 0.000</td> <td>    0.335</td> <td>    0.476</td>\n",
       "</tr>\n",
       "</table>\n",
       "<table class=\"simpletable\">\n",
       "<tr>\n",
       "  <th>Omnibus:</th>       <td> 0.300</td> <th>  Durbin-Watson:     </th> <td>   2.226</td>\n",
       "</tr>\n",
       "<tr>\n",
       "  <th>Prob(Omnibus):</th> <td> 0.861</td> <th>  Jarque-Bera (JB):  </th> <td>   0.209</td>\n",
       "</tr>\n",
       "<tr>\n",
       "  <th>Skew:</th>          <td>-0.099</td> <th>  Prob(JB):          </th> <td>   0.901</td>\n",
       "</tr>\n",
       "<tr>\n",
       "  <th>Kurtosis:</th>      <td> 2.990</td> <th>  Cond. No.          </th> <td>    251.</td>\n",
       "</tr>\n",
       "</table><br/><br/>Warnings:<br/>[1] Standard Errors assume that the covariance matrix of the errors is correctly specified."
      ],
      "text/plain": [
       "<class 'statsmodels.iolib.summary.Summary'>\n",
       "\"\"\"\n",
       "                            OLS Regression Results                            \n",
       "==============================================================================\n",
       "Dep. Variable:                      y   R-squared:                       0.510\n",
       "Model:                            OLS   Adj. R-squared:                  0.506\n",
       "Method:                 Least Squares   F-statistic:                     130.9\n",
       "Date:                Sun, 27 Sep 2020   Prob (F-statistic):           3.15e-21\n",
       "Time:                        18:33:07   Log-Likelihood:                -363.44\n",
       "No. Observations:                 128   AIC:                             730.9\n",
       "Df Residuals:                     126   BIC:                             736.6\n",
       "Df Model:                           1                                         \n",
       "Covariance Type:            nonrobust                                         \n",
       "==============================================================================\n",
       "                 coef    std err          t      P>|t|      [0.025      0.975]\n",
       "------------------------------------------------------------------------------\n",
       "const         62.2786      1.810     34.410      0.000      58.697      65.860\n",
       "x1             0.4056      0.035     11.443      0.000       0.335       0.476\n",
       "==============================================================================\n",
       "Omnibus:                        0.300   Durbin-Watson:                   2.226\n",
       "Prob(Omnibus):                  0.861   Jarque-Bera (JB):                0.209\n",
       "Skew:                          -0.099   Prob(JB):                        0.901\n",
       "Kurtosis:                       2.990   Cond. No.                         251.\n",
       "==============================================================================\n",
       "\n",
       "Warnings:\n",
       "[1] Standard Errors assume that the covariance matrix of the errors is correctly specified.\n",
       "\"\"\""
      ]
     },
     "execution_count": 16,
     "metadata": {},
     "output_type": "execute_result"
    }
   ],
   "source": [
    "# Add best fit linear regression line\n",
    "fig = px.scatter(df, x=\"Ball Possession %\", y=\"Pass Accuracy %\", opacity=0.7, \n",
    "                 trendline=\"ols\", trendline_color_override='darkblue')\n",
    "fig.show()\n",
    "\n",
    "results = px.get_trendline_results(fig)\n",
    "print(results)\n",
    "\n",
    "# Show summary results\n",
    "results.px_fit_results.iloc[0].summary()"
   ]
  },
  {
   "cell_type": "code",
   "execution_count": 17,
   "metadata": {},
   "outputs": [
    {
     "data": {
      "application/vnd.plotly.v1+json": {
       "config": {
        "plotlyServerURL": "https://plot.ly"
       },
       "data": [
        {
         "hovertemplate": "ball_possession=%{x}<br>pass_accuracy=%{y}<extra></extra>",
         "legendgroup": "",
         "marker": {
          "color": "#636efa",
          "opacity": 0.65,
          "symbol": "circle"
         },
         "mode": "markers",
         "name": "",
         "orientation": "v",
         "showlegend": false,
         "type": "scatter",
         "x": [
          40,
          60,
          43,
          57,
          64,
          36,
          39,
          61,
          51,
          49,
          72,
          28,
          52,
          48,
          54,
          46,
          50,
          50,
          60,
          40,
          52,
          48,
          52,
          48,
          61,
          39,
          41,
          59,
          41,
          59,
          57,
          43,
          47,
          53,
          47,
          53,
          47,
          53,
          30,
          70,
          49,
          51,
          44,
          56,
          58,
          42,
          66,
          34,
          58,
          42,
          42,
          58,
          52,
          48,
          41,
          59,
          71,
          29,
          58,
          42,
          54,
          46,
          45,
          55,
          56,
          44,
          61,
          39,
          68,
          32,
          32,
          68,
          38,
          62,
          53,
          47,
          34,
          66,
          41,
          59,
          30,
          70,
          65,
          35,
          44,
          56,
          60,
          40,
          54,
          46,
          43,
          57,
          36,
          64,
          48,
          52,
          41,
          59,
          39,
          61,
          75,
          25,
          54,
          46,
          47,
          53,
          56,
          44,
          37,
          63,
          48,
          51,
          42,
          58,
          57,
          43,
          43,
          57,
          38,
          62,
          40,
          60,
          54,
          46,
          43,
          57,
          39,
          61
         ],
         "xaxis": "x",
         "y": [
          78,
          86,
          78,
          86,
          86,
          86,
          87,
          93,
          87,
          85,
          92,
          67,
          85,
          82,
          84,
          84,
          83,
          83,
          88,
          82,
          88,
          83,
          84,
          79,
          89,
          82,
          82,
          91,
          82,
          87,
          88,
          81,
          76,
          81,
          76,
          77,
          88,
          86,
          69,
          89,
          88,
          85,
          77,
          81,
          81,
          80,
          90,
          73,
          84,
          75,
          78,
          87,
          84,
          82,
          82,
          89,
          91,
          77,
          94,
          88,
          84,
          79,
          79,
          82,
          88,
          83,
          90,
          82,
          91,
          84,
          69,
          89,
          72,
          87,
          86,
          81,
          76,
          84,
          73,
          87,
          74,
          88,
          83,
          67,
          78,
          88,
          87,
          82,
          86,
          83,
          78,
          83,
          77,
          87,
          88,
          88,
          84,
          86,
          69,
          84,
          91,
          72,
          81,
          79,
          83,
          85,
          87,
          83,
          73,
          84,
          78,
          82,
          67,
          81,
          89,
          83,
          74,
          80,
          69,
          82,
          86,
          90,
          79,
          79,
          88,
          92,
          75,
          83
         ],
         "yaxis": "y"
        },
        {
         "name": "Regression Fit",
         "type": "scatter",
         "x": [
          25,
          25.505050505050505,
          26.01010101010101,
          26.515151515151516,
          27.02020202020202,
          27.525252525252526,
          28.03030303030303,
          28.535353535353536,
          29.04040404040404,
          29.545454545454547,
          30.050505050505052,
          30.555555555555557,
          31.060606060606062,
          31.565656565656568,
          32.07070707070707,
          32.57575757575758,
          33.08080808080808,
          33.58585858585859,
          34.09090909090909,
          34.5959595959596,
          35.101010101010104,
          35.60606060606061,
          36.111111111111114,
          36.61616161616162,
          37.121212121212125,
          37.62626262626263,
          38.131313131313135,
          38.63636363636364,
          39.141414141414145,
          39.64646464646465,
          40.151515151515156,
          40.65656565656566,
          41.161616161616166,
          41.66666666666667,
          42.17171717171718,
          42.67676767676768,
          43.18181818181819,
          43.68686868686869,
          44.1919191919192,
          44.6969696969697,
          45.20202020202021,
          45.70707070707071,
          46.21212121212122,
          46.71717171717172,
          47.22222222222223,
          47.727272727272734,
          48.23232323232324,
          48.737373737373744,
          49.24242424242424,
          49.74747474747475,
          50.25252525252525,
          50.75757575757576,
          51.26262626262626,
          51.76767676767677,
          52.27272727272727,
          52.77777777777778,
          53.282828282828284,
          53.78787878787879,
          54.292929292929294,
          54.7979797979798,
          55.303030303030305,
          55.80808080808081,
          56.313131313131315,
          56.81818181818182,
          57.323232323232325,
          57.82828282828283,
          58.333333333333336,
          58.83838383838384,
          59.343434343434346,
          59.84848484848485,
          60.35353535353536,
          60.85858585858586,
          61.36363636363637,
          61.86868686868687,
          62.37373737373738,
          62.87878787878788,
          63.38383838383839,
          63.88888888888889,
          64.3939393939394,
          64.8989898989899,
          65.40404040404042,
          65.9090909090909,
          66.41414141414143,
          66.91919191919192,
          67.42424242424244,
          67.92929292929293,
          68.43434343434345,
          68.93939393939394,
          69.44444444444446,
          69.94949494949495,
          70.45454545454547,
          70.95959595959596,
          71.46464646464648,
          71.96969696969697,
          72.47474747474749,
          72.97979797979798,
          73.48484848484848,
          73.98989898989899,
          74.4949494949495,
          75
         ],
         "y": [
          72.41825124648724,
          72.62309174911428,
          72.8279322517413,
          73.03277275436832,
          73.23761325699535,
          73.44245375962238,
          73.6472942622494,
          73.85213476487642,
          74.05697526750345,
          74.26181577013048,
          74.4666562727575,
          74.67149677538453,
          74.87633727801156,
          75.08117778063858,
          75.2860182832656,
          75.49085878589263,
          75.69569928851966,
          75.90053979114668,
          76.1053802937737,
          76.31022079640073,
          76.51506129902776,
          76.71990180165479,
          76.9247423042818,
          77.12958280690884,
          77.33442330953586,
          77.53926381216289,
          77.74410431478991,
          77.94894481741694,
          78.15378532004397,
          78.35862582267099,
          78.56346632529801,
          78.76830682792504,
          78.97314733055207,
          79.17798783317909,
          79.38282833580612,
          79.58766883843315,
          79.79250934106017,
          79.9973498436872,
          80.20219034631423,
          80.40703084894125,
          80.61187135156827,
          80.81671185419529,
          81.02155235682233,
          81.22639285944935,
          81.43123336207637,
          81.6360738647034,
          81.84091436733043,
          82.04575486995745,
          82.25059537258447,
          82.45543587521149,
          82.66027637783853,
          82.86511688046555,
          83.06995738309257,
          83.27479788571961,
          83.47963838834663,
          83.68447889097365,
          83.88931939360067,
          84.09415989622771,
          84.29900039885473,
          84.50384090148175,
          84.70868140410877,
          84.91352190673581,
          85.11836240936283,
          85.32320291198985,
          85.52804341461689,
          85.73288391724391,
          85.93772441987093,
          86.14256492249797,
          86.34740542512499,
          86.55224592775201,
          86.75708643037903,
          86.96192693300605,
          87.16676743563309,
          87.37160793826011,
          87.57644844088713,
          87.78128894351417,
          87.98612944614119,
          88.19096994876821,
          88.39581045139525,
          88.60065095402226,
          88.80549145664929,
          89.01033195927631,
          89.21517246190335,
          89.42001296453037,
          89.6248534671574,
          89.82969396978442,
          90.03453447241145,
          90.23937497503847,
          90.4442154776655,
          90.64905598029252,
          90.85389648291955,
          91.05873698554657,
          91.26357748817361,
          91.46841799080062,
          91.67325849342765,
          91.87809899605467,
          92.0829394986817,
          92.28778000130872,
          92.49262050393575,
          92.69746100656278
         ]
        }
       ],
       "layout": {
        "legend": {
         "tracegroupgap": 0
        },
        "margin": {
         "t": 60
        },
        "template": {
         "data": {
          "bar": [
           {
            "error_x": {
             "color": "#2a3f5f"
            },
            "error_y": {
             "color": "#2a3f5f"
            },
            "marker": {
             "line": {
              "color": "#E5ECF6",
              "width": 0.5
             }
            },
            "type": "bar"
           }
          ],
          "barpolar": [
           {
            "marker": {
             "line": {
              "color": "#E5ECF6",
              "width": 0.5
             }
            },
            "type": "barpolar"
           }
          ],
          "carpet": [
           {
            "aaxis": {
             "endlinecolor": "#2a3f5f",
             "gridcolor": "white",
             "linecolor": "white",
             "minorgridcolor": "white",
             "startlinecolor": "#2a3f5f"
            },
            "baxis": {
             "endlinecolor": "#2a3f5f",
             "gridcolor": "white",
             "linecolor": "white",
             "minorgridcolor": "white",
             "startlinecolor": "#2a3f5f"
            },
            "type": "carpet"
           }
          ],
          "choropleth": [
           {
            "colorbar": {
             "outlinewidth": 0,
             "ticks": ""
            },
            "type": "choropleth"
           }
          ],
          "contour": [
           {
            "colorbar": {
             "outlinewidth": 0,
             "ticks": ""
            },
            "colorscale": [
             [
              0,
              "#0d0887"
             ],
             [
              0.1111111111111111,
              "#46039f"
             ],
             [
              0.2222222222222222,
              "#7201a8"
             ],
             [
              0.3333333333333333,
              "#9c179e"
             ],
             [
              0.4444444444444444,
              "#bd3786"
             ],
             [
              0.5555555555555556,
              "#d8576b"
             ],
             [
              0.6666666666666666,
              "#ed7953"
             ],
             [
              0.7777777777777778,
              "#fb9f3a"
             ],
             [
              0.8888888888888888,
              "#fdca26"
             ],
             [
              1,
              "#f0f921"
             ]
            ],
            "type": "contour"
           }
          ],
          "contourcarpet": [
           {
            "colorbar": {
             "outlinewidth": 0,
             "ticks": ""
            },
            "type": "contourcarpet"
           }
          ],
          "heatmap": [
           {
            "colorbar": {
             "outlinewidth": 0,
             "ticks": ""
            },
            "colorscale": [
             [
              0,
              "#0d0887"
             ],
             [
              0.1111111111111111,
              "#46039f"
             ],
             [
              0.2222222222222222,
              "#7201a8"
             ],
             [
              0.3333333333333333,
              "#9c179e"
             ],
             [
              0.4444444444444444,
              "#bd3786"
             ],
             [
              0.5555555555555556,
              "#d8576b"
             ],
             [
              0.6666666666666666,
              "#ed7953"
             ],
             [
              0.7777777777777778,
              "#fb9f3a"
             ],
             [
              0.8888888888888888,
              "#fdca26"
             ],
             [
              1,
              "#f0f921"
             ]
            ],
            "type": "heatmap"
           }
          ],
          "heatmapgl": [
           {
            "colorbar": {
             "outlinewidth": 0,
             "ticks": ""
            },
            "colorscale": [
             [
              0,
              "#0d0887"
             ],
             [
              0.1111111111111111,
              "#46039f"
             ],
             [
              0.2222222222222222,
              "#7201a8"
             ],
             [
              0.3333333333333333,
              "#9c179e"
             ],
             [
              0.4444444444444444,
              "#bd3786"
             ],
             [
              0.5555555555555556,
              "#d8576b"
             ],
             [
              0.6666666666666666,
              "#ed7953"
             ],
             [
              0.7777777777777778,
              "#fb9f3a"
             ],
             [
              0.8888888888888888,
              "#fdca26"
             ],
             [
              1,
              "#f0f921"
             ]
            ],
            "type": "heatmapgl"
           }
          ],
          "histogram": [
           {
            "marker": {
             "colorbar": {
              "outlinewidth": 0,
              "ticks": ""
             }
            },
            "type": "histogram"
           }
          ],
          "histogram2d": [
           {
            "colorbar": {
             "outlinewidth": 0,
             "ticks": ""
            },
            "colorscale": [
             [
              0,
              "#0d0887"
             ],
             [
              0.1111111111111111,
              "#46039f"
             ],
             [
              0.2222222222222222,
              "#7201a8"
             ],
             [
              0.3333333333333333,
              "#9c179e"
             ],
             [
              0.4444444444444444,
              "#bd3786"
             ],
             [
              0.5555555555555556,
              "#d8576b"
             ],
             [
              0.6666666666666666,
              "#ed7953"
             ],
             [
              0.7777777777777778,
              "#fb9f3a"
             ],
             [
              0.8888888888888888,
              "#fdca26"
             ],
             [
              1,
              "#f0f921"
             ]
            ],
            "type": "histogram2d"
           }
          ],
          "histogram2dcontour": [
           {
            "colorbar": {
             "outlinewidth": 0,
             "ticks": ""
            },
            "colorscale": [
             [
              0,
              "#0d0887"
             ],
             [
              0.1111111111111111,
              "#46039f"
             ],
             [
              0.2222222222222222,
              "#7201a8"
             ],
             [
              0.3333333333333333,
              "#9c179e"
             ],
             [
              0.4444444444444444,
              "#bd3786"
             ],
             [
              0.5555555555555556,
              "#d8576b"
             ],
             [
              0.6666666666666666,
              "#ed7953"
             ],
             [
              0.7777777777777778,
              "#fb9f3a"
             ],
             [
              0.8888888888888888,
              "#fdca26"
             ],
             [
              1,
              "#f0f921"
             ]
            ],
            "type": "histogram2dcontour"
           }
          ],
          "mesh3d": [
           {
            "colorbar": {
             "outlinewidth": 0,
             "ticks": ""
            },
            "type": "mesh3d"
           }
          ],
          "parcoords": [
           {
            "line": {
             "colorbar": {
              "outlinewidth": 0,
              "ticks": ""
             }
            },
            "type": "parcoords"
           }
          ],
          "pie": [
           {
            "automargin": true,
            "type": "pie"
           }
          ],
          "scatter": [
           {
            "marker": {
             "colorbar": {
              "outlinewidth": 0,
              "ticks": ""
             }
            },
            "type": "scatter"
           }
          ],
          "scatter3d": [
           {
            "line": {
             "colorbar": {
              "outlinewidth": 0,
              "ticks": ""
             }
            },
            "marker": {
             "colorbar": {
              "outlinewidth": 0,
              "ticks": ""
             }
            },
            "type": "scatter3d"
           }
          ],
          "scattercarpet": [
           {
            "marker": {
             "colorbar": {
              "outlinewidth": 0,
              "ticks": ""
             }
            },
            "type": "scattercarpet"
           }
          ],
          "scattergeo": [
           {
            "marker": {
             "colorbar": {
              "outlinewidth": 0,
              "ticks": ""
             }
            },
            "type": "scattergeo"
           }
          ],
          "scattergl": [
           {
            "marker": {
             "colorbar": {
              "outlinewidth": 0,
              "ticks": ""
             }
            },
            "type": "scattergl"
           }
          ],
          "scattermapbox": [
           {
            "marker": {
             "colorbar": {
              "outlinewidth": 0,
              "ticks": ""
             }
            },
            "type": "scattermapbox"
           }
          ],
          "scatterpolar": [
           {
            "marker": {
             "colorbar": {
              "outlinewidth": 0,
              "ticks": ""
             }
            },
            "type": "scatterpolar"
           }
          ],
          "scatterpolargl": [
           {
            "marker": {
             "colorbar": {
              "outlinewidth": 0,
              "ticks": ""
             }
            },
            "type": "scatterpolargl"
           }
          ],
          "scatterternary": [
           {
            "marker": {
             "colorbar": {
              "outlinewidth": 0,
              "ticks": ""
             }
            },
            "type": "scatterternary"
           }
          ],
          "surface": [
           {
            "colorbar": {
             "outlinewidth": 0,
             "ticks": ""
            },
            "colorscale": [
             [
              0,
              "#0d0887"
             ],
             [
              0.1111111111111111,
              "#46039f"
             ],
             [
              0.2222222222222222,
              "#7201a8"
             ],
             [
              0.3333333333333333,
              "#9c179e"
             ],
             [
              0.4444444444444444,
              "#bd3786"
             ],
             [
              0.5555555555555556,
              "#d8576b"
             ],
             [
              0.6666666666666666,
              "#ed7953"
             ],
             [
              0.7777777777777778,
              "#fb9f3a"
             ],
             [
              0.8888888888888888,
              "#fdca26"
             ],
             [
              1,
              "#f0f921"
             ]
            ],
            "type": "surface"
           }
          ],
          "table": [
           {
            "cells": {
             "fill": {
              "color": "#EBF0F8"
             },
             "line": {
              "color": "white"
             }
            },
            "header": {
             "fill": {
              "color": "#C8D4E3"
             },
             "line": {
              "color": "white"
             }
            },
            "type": "table"
           }
          ]
         },
         "layout": {
          "annotationdefaults": {
           "arrowcolor": "#2a3f5f",
           "arrowhead": 0,
           "arrowwidth": 1
          },
          "coloraxis": {
           "colorbar": {
            "outlinewidth": 0,
            "ticks": ""
           }
          },
          "colorscale": {
           "diverging": [
            [
             0,
             "#8e0152"
            ],
            [
             0.1,
             "#c51b7d"
            ],
            [
             0.2,
             "#de77ae"
            ],
            [
             0.3,
             "#f1b6da"
            ],
            [
             0.4,
             "#fde0ef"
            ],
            [
             0.5,
             "#f7f7f7"
            ],
            [
             0.6,
             "#e6f5d0"
            ],
            [
             0.7,
             "#b8e186"
            ],
            [
             0.8,
             "#7fbc41"
            ],
            [
             0.9,
             "#4d9221"
            ],
            [
             1,
             "#276419"
            ]
           ],
           "sequential": [
            [
             0,
             "#0d0887"
            ],
            [
             0.1111111111111111,
             "#46039f"
            ],
            [
             0.2222222222222222,
             "#7201a8"
            ],
            [
             0.3333333333333333,
             "#9c179e"
            ],
            [
             0.4444444444444444,
             "#bd3786"
            ],
            [
             0.5555555555555556,
             "#d8576b"
            ],
            [
             0.6666666666666666,
             "#ed7953"
            ],
            [
             0.7777777777777778,
             "#fb9f3a"
            ],
            [
             0.8888888888888888,
             "#fdca26"
            ],
            [
             1,
             "#f0f921"
            ]
           ],
           "sequentialminus": [
            [
             0,
             "#0d0887"
            ],
            [
             0.1111111111111111,
             "#46039f"
            ],
            [
             0.2222222222222222,
             "#7201a8"
            ],
            [
             0.3333333333333333,
             "#9c179e"
            ],
            [
             0.4444444444444444,
             "#bd3786"
            ],
            [
             0.5555555555555556,
             "#d8576b"
            ],
            [
             0.6666666666666666,
             "#ed7953"
            ],
            [
             0.7777777777777778,
             "#fb9f3a"
            ],
            [
             0.8888888888888888,
             "#fdca26"
            ],
            [
             1,
             "#f0f921"
            ]
           ]
          },
          "colorway": [
           "#636efa",
           "#EF553B",
           "#00cc96",
           "#ab63fa",
           "#FFA15A",
           "#19d3f3",
           "#FF6692",
           "#B6E880",
           "#FF97FF",
           "#FECB52"
          ],
          "font": {
           "color": "#2a3f5f"
          },
          "geo": {
           "bgcolor": "white",
           "lakecolor": "white",
           "landcolor": "#E5ECF6",
           "showlakes": true,
           "showland": true,
           "subunitcolor": "white"
          },
          "hoverlabel": {
           "align": "left"
          },
          "hovermode": "closest",
          "mapbox": {
           "style": "light"
          },
          "paper_bgcolor": "white",
          "plot_bgcolor": "#E5ECF6",
          "polar": {
           "angularaxis": {
            "gridcolor": "white",
            "linecolor": "white",
            "ticks": ""
           },
           "bgcolor": "#E5ECF6",
           "radialaxis": {
            "gridcolor": "white",
            "linecolor": "white",
            "ticks": ""
           }
          },
          "scene": {
           "xaxis": {
            "backgroundcolor": "#E5ECF6",
            "gridcolor": "white",
            "gridwidth": 2,
            "linecolor": "white",
            "showbackground": true,
            "ticks": "",
            "zerolinecolor": "white"
           },
           "yaxis": {
            "backgroundcolor": "#E5ECF6",
            "gridcolor": "white",
            "gridwidth": 2,
            "linecolor": "white",
            "showbackground": true,
            "ticks": "",
            "zerolinecolor": "white"
           },
           "zaxis": {
            "backgroundcolor": "#E5ECF6",
            "gridcolor": "white",
            "gridwidth": 2,
            "linecolor": "white",
            "showbackground": true,
            "ticks": "",
            "zerolinecolor": "white"
           }
          },
          "shapedefaults": {
           "line": {
            "color": "#2a3f5f"
           }
          },
          "ternary": {
           "aaxis": {
            "gridcolor": "white",
            "linecolor": "white",
            "ticks": ""
           },
           "baxis": {
            "gridcolor": "white",
            "linecolor": "white",
            "ticks": ""
           },
           "bgcolor": "#E5ECF6",
           "caxis": {
            "gridcolor": "white",
            "linecolor": "white",
            "ticks": ""
           }
          },
          "title": {
           "x": 0.05
          },
          "xaxis": {
           "automargin": true,
           "gridcolor": "white",
           "linecolor": "white",
           "ticks": "",
           "title": {
            "standoff": 15
           },
           "zerolinecolor": "white",
           "zerolinewidth": 2
          },
          "yaxis": {
           "automargin": true,
           "gridcolor": "white",
           "linecolor": "white",
           "ticks": "",
           "title": {
            "standoff": 15
           },
           "zerolinecolor": "white",
           "zerolinewidth": 2
          }
         }
        },
        "xaxis": {
         "anchor": "y",
         "domain": [
          0,
          1
         ],
         "title": {
          "text": "ball_possession"
         }
        },
        "yaxis": {
         "anchor": "x",
         "domain": [
          0,
          1
         ],
         "title": {
          "text": "pass_accuracy"
         }
        }
       }
      },
      "text/html": [
       "<div>\n",
       "        \n",
       "        \n",
       "            <div id=\"89c666c9-c1fa-44c3-a47d-4a56b2a86180\" class=\"plotly-graph-div\" style=\"height:525px; width:100%;\"></div>\n",
       "            <script type=\"text/javascript\">\n",
       "                require([\"plotly\"], function(Plotly) {\n",
       "                    window.PLOTLYENV=window.PLOTLYENV || {};\n",
       "                    \n",
       "                if (document.getElementById(\"89c666c9-c1fa-44c3-a47d-4a56b2a86180\")) {\n",
       "                    Plotly.newPlot(\n",
       "                        '89c666c9-c1fa-44c3-a47d-4a56b2a86180',\n",
       "                        [{\"hovertemplate\": \"ball_possession=%{x}<br>pass_accuracy=%{y}<extra></extra>\", \"legendgroup\": \"\", \"marker\": {\"color\": \"#636efa\", \"opacity\": 0.65, \"symbol\": \"circle\"}, \"mode\": \"markers\", \"name\": \"\", \"orientation\": \"v\", \"showlegend\": false, \"type\": \"scatter\", \"x\": [40, 60, 43, 57, 64, 36, 39, 61, 51, 49, 72, 28, 52, 48, 54, 46, 50, 50, 60, 40, 52, 48, 52, 48, 61, 39, 41, 59, 41, 59, 57, 43, 47, 53, 47, 53, 47, 53, 30, 70, 49, 51, 44, 56, 58, 42, 66, 34, 58, 42, 42, 58, 52, 48, 41, 59, 71, 29, 58, 42, 54, 46, 45, 55, 56, 44, 61, 39, 68, 32, 32, 68, 38, 62, 53, 47, 34, 66, 41, 59, 30, 70, 65, 35, 44, 56, 60, 40, 54, 46, 43, 57, 36, 64, 48, 52, 41, 59, 39, 61, 75, 25, 54, 46, 47, 53, 56, 44, 37, 63, 48, 51, 42, 58, 57, 43, 43, 57, 38, 62, 40, 60, 54, 46, 43, 57, 39, 61], \"xaxis\": \"x\", \"y\": [78, 86, 78, 86, 86, 86, 87, 93, 87, 85, 92, 67, 85, 82, 84, 84, 83, 83, 88, 82, 88, 83, 84, 79, 89, 82, 82, 91, 82, 87, 88, 81, 76, 81, 76, 77, 88, 86, 69, 89, 88, 85, 77, 81, 81, 80, 90, 73, 84, 75, 78, 87, 84, 82, 82, 89, 91, 77, 94, 88, 84, 79, 79, 82, 88, 83, 90, 82, 91, 84, 69, 89, 72, 87, 86, 81, 76, 84, 73, 87, 74, 88, 83, 67, 78, 88, 87, 82, 86, 83, 78, 83, 77, 87, 88, 88, 84, 86, 69, 84, 91, 72, 81, 79, 83, 85, 87, 83, 73, 84, 78, 82, 67, 81, 89, 83, 74, 80, 69, 82, 86, 90, 79, 79, 88, 92, 75, 83], \"yaxis\": \"y\"}, {\"name\": \"Regression Fit\", \"type\": \"scatter\", \"x\": [25.0, 25.505050505050505, 26.01010101010101, 26.515151515151516, 27.02020202020202, 27.525252525252526, 28.03030303030303, 28.535353535353536, 29.04040404040404, 29.545454545454547, 30.050505050505052, 30.555555555555557, 31.060606060606062, 31.565656565656568, 32.07070707070707, 32.57575757575758, 33.08080808080808, 33.58585858585859, 34.09090909090909, 34.5959595959596, 35.101010101010104, 35.60606060606061, 36.111111111111114, 36.61616161616162, 37.121212121212125, 37.62626262626263, 38.131313131313135, 38.63636363636364, 39.141414141414145, 39.64646464646465, 40.151515151515156, 40.65656565656566, 41.161616161616166, 41.66666666666667, 42.17171717171718, 42.67676767676768, 43.18181818181819, 43.68686868686869, 44.1919191919192, 44.6969696969697, 45.20202020202021, 45.70707070707071, 46.21212121212122, 46.71717171717172, 47.22222222222223, 47.727272727272734, 48.23232323232324, 48.737373737373744, 49.24242424242424, 49.74747474747475, 50.25252525252525, 50.75757575757576, 51.26262626262626, 51.76767676767677, 52.27272727272727, 52.77777777777778, 53.282828282828284, 53.78787878787879, 54.292929292929294, 54.7979797979798, 55.303030303030305, 55.80808080808081, 56.313131313131315, 56.81818181818182, 57.323232323232325, 57.82828282828283, 58.333333333333336, 58.83838383838384, 59.343434343434346, 59.84848484848485, 60.35353535353536, 60.85858585858586, 61.36363636363637, 61.86868686868687, 62.37373737373738, 62.87878787878788, 63.38383838383839, 63.88888888888889, 64.3939393939394, 64.8989898989899, 65.40404040404042, 65.9090909090909, 66.41414141414143, 66.91919191919192, 67.42424242424244, 67.92929292929293, 68.43434343434345, 68.93939393939394, 69.44444444444446, 69.94949494949495, 70.45454545454547, 70.95959595959596, 71.46464646464648, 71.96969696969697, 72.47474747474749, 72.97979797979798, 73.48484848484848, 73.98989898989899, 74.4949494949495, 75.0], \"y\": [72.41825124648724, 72.62309174911428, 72.8279322517413, 73.03277275436832, 73.23761325699535, 73.44245375962238, 73.6472942622494, 73.85213476487642, 74.05697526750345, 74.26181577013048, 74.4666562727575, 74.67149677538453, 74.87633727801156, 75.08117778063858, 75.2860182832656, 75.49085878589263, 75.69569928851966, 75.90053979114668, 76.1053802937737, 76.31022079640073, 76.51506129902776, 76.71990180165479, 76.9247423042818, 77.12958280690884, 77.33442330953586, 77.53926381216289, 77.74410431478991, 77.94894481741694, 78.15378532004397, 78.35862582267099, 78.56346632529801, 78.76830682792504, 78.97314733055207, 79.17798783317909, 79.38282833580612, 79.58766883843315, 79.79250934106017, 79.9973498436872, 80.20219034631423, 80.40703084894125, 80.61187135156827, 80.81671185419529, 81.02155235682233, 81.22639285944935, 81.43123336207637, 81.6360738647034, 81.84091436733043, 82.04575486995745, 82.25059537258447, 82.45543587521149, 82.66027637783853, 82.86511688046555, 83.06995738309257, 83.27479788571961, 83.47963838834663, 83.68447889097365, 83.88931939360067, 84.09415989622771, 84.29900039885473, 84.50384090148175, 84.70868140410877, 84.91352190673581, 85.11836240936283, 85.32320291198985, 85.52804341461689, 85.73288391724391, 85.93772441987093, 86.14256492249797, 86.34740542512499, 86.55224592775201, 86.75708643037903, 86.96192693300605, 87.16676743563309, 87.37160793826011, 87.57644844088713, 87.78128894351417, 87.98612944614119, 88.19096994876821, 88.39581045139525, 88.60065095402226, 88.80549145664929, 89.01033195927631, 89.21517246190335, 89.42001296453037, 89.6248534671574, 89.82969396978442, 90.03453447241145, 90.23937497503847, 90.4442154776655, 90.64905598029252, 90.85389648291955, 91.05873698554657, 91.26357748817361, 91.46841799080062, 91.67325849342765, 91.87809899605467, 92.0829394986817, 92.28778000130872, 92.49262050393575, 92.69746100656278]}],\n",
       "                        {\"legend\": {\"tracegroupgap\": 0}, \"margin\": {\"t\": 60}, \"template\": {\"data\": {\"bar\": [{\"error_x\": {\"color\": \"#2a3f5f\"}, \"error_y\": {\"color\": \"#2a3f5f\"}, \"marker\": {\"line\": {\"color\": \"#E5ECF6\", \"width\": 0.5}}, \"type\": \"bar\"}], \"barpolar\": [{\"marker\": {\"line\": {\"color\": \"#E5ECF6\", \"width\": 0.5}}, \"type\": \"barpolar\"}], \"carpet\": [{\"aaxis\": {\"endlinecolor\": \"#2a3f5f\", \"gridcolor\": \"white\", \"linecolor\": \"white\", \"minorgridcolor\": \"white\", \"startlinecolor\": \"#2a3f5f\"}, \"baxis\": {\"endlinecolor\": \"#2a3f5f\", \"gridcolor\": \"white\", \"linecolor\": \"white\", \"minorgridcolor\": \"white\", \"startlinecolor\": \"#2a3f5f\"}, \"type\": \"carpet\"}], \"choropleth\": [{\"colorbar\": {\"outlinewidth\": 0, \"ticks\": \"\"}, \"type\": \"choropleth\"}], \"contour\": [{\"colorbar\": {\"outlinewidth\": 0, \"ticks\": \"\"}, \"colorscale\": [[0.0, \"#0d0887\"], [0.1111111111111111, \"#46039f\"], [0.2222222222222222, \"#7201a8\"], [0.3333333333333333, \"#9c179e\"], [0.4444444444444444, \"#bd3786\"], [0.5555555555555556, \"#d8576b\"], [0.6666666666666666, \"#ed7953\"], [0.7777777777777778, \"#fb9f3a\"], [0.8888888888888888, \"#fdca26\"], [1.0, \"#f0f921\"]], \"type\": \"contour\"}], \"contourcarpet\": [{\"colorbar\": {\"outlinewidth\": 0, \"ticks\": \"\"}, \"type\": \"contourcarpet\"}], \"heatmap\": [{\"colorbar\": {\"outlinewidth\": 0, \"ticks\": \"\"}, \"colorscale\": [[0.0, \"#0d0887\"], [0.1111111111111111, \"#46039f\"], [0.2222222222222222, \"#7201a8\"], [0.3333333333333333, \"#9c179e\"], [0.4444444444444444, \"#bd3786\"], [0.5555555555555556, \"#d8576b\"], [0.6666666666666666, \"#ed7953\"], [0.7777777777777778, \"#fb9f3a\"], [0.8888888888888888, \"#fdca26\"], [1.0, \"#f0f921\"]], \"type\": \"heatmap\"}], \"heatmapgl\": [{\"colorbar\": {\"outlinewidth\": 0, \"ticks\": \"\"}, \"colorscale\": [[0.0, \"#0d0887\"], [0.1111111111111111, \"#46039f\"], [0.2222222222222222, \"#7201a8\"], [0.3333333333333333, \"#9c179e\"], [0.4444444444444444, \"#bd3786\"], [0.5555555555555556, \"#d8576b\"], [0.6666666666666666, \"#ed7953\"], [0.7777777777777778, \"#fb9f3a\"], [0.8888888888888888, \"#fdca26\"], [1.0, \"#f0f921\"]], \"type\": \"heatmapgl\"}], \"histogram\": [{\"marker\": {\"colorbar\": {\"outlinewidth\": 0, \"ticks\": \"\"}}, \"type\": \"histogram\"}], \"histogram2d\": [{\"colorbar\": {\"outlinewidth\": 0, \"ticks\": \"\"}, \"colorscale\": [[0.0, \"#0d0887\"], [0.1111111111111111, \"#46039f\"], [0.2222222222222222, \"#7201a8\"], [0.3333333333333333, \"#9c179e\"], [0.4444444444444444, \"#bd3786\"], [0.5555555555555556, \"#d8576b\"], [0.6666666666666666, \"#ed7953\"], [0.7777777777777778, \"#fb9f3a\"], [0.8888888888888888, \"#fdca26\"], [1.0, \"#f0f921\"]], \"type\": \"histogram2d\"}], \"histogram2dcontour\": [{\"colorbar\": {\"outlinewidth\": 0, \"ticks\": \"\"}, \"colorscale\": [[0.0, \"#0d0887\"], [0.1111111111111111, \"#46039f\"], [0.2222222222222222, \"#7201a8\"], [0.3333333333333333, \"#9c179e\"], [0.4444444444444444, \"#bd3786\"], [0.5555555555555556, \"#d8576b\"], [0.6666666666666666, \"#ed7953\"], [0.7777777777777778, \"#fb9f3a\"], [0.8888888888888888, \"#fdca26\"], [1.0, \"#f0f921\"]], \"type\": \"histogram2dcontour\"}], \"mesh3d\": [{\"colorbar\": {\"outlinewidth\": 0, \"ticks\": \"\"}, \"type\": \"mesh3d\"}], \"parcoords\": [{\"line\": {\"colorbar\": {\"outlinewidth\": 0, \"ticks\": \"\"}}, \"type\": \"parcoords\"}], \"pie\": [{\"automargin\": true, \"type\": \"pie\"}], \"scatter\": [{\"marker\": {\"colorbar\": {\"outlinewidth\": 0, \"ticks\": \"\"}}, \"type\": \"scatter\"}], \"scatter3d\": [{\"line\": {\"colorbar\": {\"outlinewidth\": 0, \"ticks\": \"\"}}, \"marker\": {\"colorbar\": {\"outlinewidth\": 0, \"ticks\": \"\"}}, \"type\": \"scatter3d\"}], \"scattercarpet\": [{\"marker\": {\"colorbar\": {\"outlinewidth\": 0, \"ticks\": \"\"}}, \"type\": \"scattercarpet\"}], \"scattergeo\": [{\"marker\": {\"colorbar\": {\"outlinewidth\": 0, \"ticks\": \"\"}}, \"type\": \"scattergeo\"}], \"scattergl\": [{\"marker\": {\"colorbar\": {\"outlinewidth\": 0, \"ticks\": \"\"}}, \"type\": \"scattergl\"}], \"scattermapbox\": [{\"marker\": {\"colorbar\": {\"outlinewidth\": 0, \"ticks\": \"\"}}, \"type\": \"scattermapbox\"}], \"scatterpolar\": [{\"marker\": {\"colorbar\": {\"outlinewidth\": 0, \"ticks\": \"\"}}, \"type\": \"scatterpolar\"}], \"scatterpolargl\": [{\"marker\": {\"colorbar\": {\"outlinewidth\": 0, \"ticks\": \"\"}}, \"type\": \"scatterpolargl\"}], \"scatterternary\": [{\"marker\": {\"colorbar\": {\"outlinewidth\": 0, \"ticks\": \"\"}}, \"type\": \"scatterternary\"}], \"surface\": [{\"colorbar\": {\"outlinewidth\": 0, \"ticks\": \"\"}, \"colorscale\": [[0.0, \"#0d0887\"], [0.1111111111111111, \"#46039f\"], [0.2222222222222222, \"#7201a8\"], [0.3333333333333333, \"#9c179e\"], [0.4444444444444444, \"#bd3786\"], [0.5555555555555556, \"#d8576b\"], [0.6666666666666666, \"#ed7953\"], [0.7777777777777778, \"#fb9f3a\"], [0.8888888888888888, \"#fdca26\"], [1.0, \"#f0f921\"]], \"type\": \"surface\"}], \"table\": [{\"cells\": {\"fill\": {\"color\": \"#EBF0F8\"}, \"line\": {\"color\": \"white\"}}, \"header\": {\"fill\": {\"color\": \"#C8D4E3\"}, \"line\": {\"color\": \"white\"}}, \"type\": \"table\"}]}, \"layout\": {\"annotationdefaults\": {\"arrowcolor\": \"#2a3f5f\", \"arrowhead\": 0, \"arrowwidth\": 1}, \"coloraxis\": {\"colorbar\": {\"outlinewidth\": 0, \"ticks\": \"\"}}, \"colorscale\": {\"diverging\": [[0, \"#8e0152\"], [0.1, \"#c51b7d\"], [0.2, \"#de77ae\"], [0.3, \"#f1b6da\"], [0.4, \"#fde0ef\"], [0.5, \"#f7f7f7\"], [0.6, \"#e6f5d0\"], [0.7, \"#b8e186\"], [0.8, \"#7fbc41\"], [0.9, \"#4d9221\"], [1, \"#276419\"]], \"sequential\": [[0.0, \"#0d0887\"], [0.1111111111111111, \"#46039f\"], [0.2222222222222222, \"#7201a8\"], [0.3333333333333333, \"#9c179e\"], [0.4444444444444444, \"#bd3786\"], [0.5555555555555556, \"#d8576b\"], [0.6666666666666666, \"#ed7953\"], [0.7777777777777778, \"#fb9f3a\"], [0.8888888888888888, \"#fdca26\"], [1.0, \"#f0f921\"]], \"sequentialminus\": [[0.0, \"#0d0887\"], [0.1111111111111111, \"#46039f\"], [0.2222222222222222, \"#7201a8\"], [0.3333333333333333, \"#9c179e\"], [0.4444444444444444, \"#bd3786\"], [0.5555555555555556, \"#d8576b\"], [0.6666666666666666, \"#ed7953\"], [0.7777777777777778, \"#fb9f3a\"], [0.8888888888888888, \"#fdca26\"], [1.0, \"#f0f921\"]]}, \"colorway\": [\"#636efa\", \"#EF553B\", \"#00cc96\", \"#ab63fa\", \"#FFA15A\", \"#19d3f3\", \"#FF6692\", \"#B6E880\", \"#FF97FF\", \"#FECB52\"], \"font\": {\"color\": \"#2a3f5f\"}, \"geo\": {\"bgcolor\": \"white\", \"lakecolor\": \"white\", \"landcolor\": \"#E5ECF6\", \"showlakes\": true, \"showland\": true, \"subunitcolor\": \"white\"}, \"hoverlabel\": {\"align\": \"left\"}, \"hovermode\": \"closest\", \"mapbox\": {\"style\": \"light\"}, \"paper_bgcolor\": \"white\", \"plot_bgcolor\": \"#E5ECF6\", \"polar\": {\"angularaxis\": {\"gridcolor\": \"white\", \"linecolor\": \"white\", \"ticks\": \"\"}, \"bgcolor\": \"#E5ECF6\", \"radialaxis\": {\"gridcolor\": \"white\", \"linecolor\": \"white\", \"ticks\": \"\"}}, \"scene\": {\"xaxis\": {\"backgroundcolor\": \"#E5ECF6\", \"gridcolor\": \"white\", \"gridwidth\": 2, \"linecolor\": \"white\", \"showbackground\": true, \"ticks\": \"\", \"zerolinecolor\": \"white\"}, \"yaxis\": {\"backgroundcolor\": \"#E5ECF6\", \"gridcolor\": \"white\", \"gridwidth\": 2, \"linecolor\": \"white\", \"showbackground\": true, \"ticks\": \"\", \"zerolinecolor\": \"white\"}, \"zaxis\": {\"backgroundcolor\": \"#E5ECF6\", \"gridcolor\": \"white\", \"gridwidth\": 2, \"linecolor\": \"white\", \"showbackground\": true, \"ticks\": \"\", \"zerolinecolor\": \"white\"}}, \"shapedefaults\": {\"line\": {\"color\": \"#2a3f5f\"}}, \"ternary\": {\"aaxis\": {\"gridcolor\": \"white\", \"linecolor\": \"white\", \"ticks\": \"\"}, \"baxis\": {\"gridcolor\": \"white\", \"linecolor\": \"white\", \"ticks\": \"\"}, \"bgcolor\": \"#E5ECF6\", \"caxis\": {\"gridcolor\": \"white\", \"linecolor\": \"white\", \"ticks\": \"\"}}, \"title\": {\"x\": 0.05}, \"xaxis\": {\"automargin\": true, \"gridcolor\": \"white\", \"linecolor\": \"white\", \"ticks\": \"\", \"title\": {\"standoff\": 15}, \"zerolinecolor\": \"white\", \"zerolinewidth\": 2}, \"yaxis\": {\"automargin\": true, \"gridcolor\": \"white\", \"linecolor\": \"white\", \"ticks\": \"\", \"title\": {\"standoff\": 15}, \"zerolinecolor\": \"white\", \"zerolinewidth\": 2}}}, \"xaxis\": {\"anchor\": \"y\", \"domain\": [0.0, 1.0], \"title\": {\"text\": \"ball_possession\"}}, \"yaxis\": {\"anchor\": \"x\", \"domain\": [0.0, 1.0], \"title\": {\"text\": \"pass_accuracy\"}}},\n",
       "                        {\"responsive\": true}\n",
       "                    ).then(function(){\n",
       "                            \n",
       "var gd = document.getElementById('89c666c9-c1fa-44c3-a47d-4a56b2a86180');\n",
       "var x = new MutationObserver(function (mutations, observer) {{\n",
       "        var display = window.getComputedStyle(gd).display;\n",
       "        if (!display || display === 'none') {{\n",
       "            console.log([gd, 'removed!']);\n",
       "            Plotly.purge(gd);\n",
       "            observer.disconnect();\n",
       "        }}\n",
       "}});\n",
       "\n",
       "// Listen for the removal of the full notebook cells\n",
       "var notebookContainer = gd.closest('#notebook-container');\n",
       "if (notebookContainer) {{\n",
       "    x.observe(notebookContainer, {childList: true});\n",
       "}}\n",
       "\n",
       "// Listen for the clearing of the current output cell\n",
       "var outputEl = gd.closest('.output');\n",
       "if (outputEl) {{\n",
       "    x.observe(outputEl, {childList: true});\n",
       "}}\n",
       "\n",
       "                        })\n",
       "                };\n",
       "                });\n",
       "            </script>\n",
       "        </div>"
      ]
     },
     "metadata": {},
     "output_type": "display_data"
    }
   ],
   "source": [
    "# Liner Regression with Scikit-learn\n",
    "\n",
    "df['pass_accuracy'] = df['Pass Accuracy %'].rename()\n",
    "df['ball_possession'] = df['Ball Possession %'].rename()\n",
    "\n",
    "X = df.ball_possession.values.reshape(-1, 1)\n",
    "y = df.pass_accuracy\n",
    "\n",
    "model = LinearRegression()\n",
    "model.fit(X, y)\n",
    "\n",
    "x_range = np.linspace(X.min(), X.max(), 100)\n",
    "y_range = model.predict(x_range.reshape(-1, 1))\n",
    "\n",
    "fig = px.scatter(df, x='ball_possession', y='pass_accuracy', opacity=0.65)\n",
    "fig.add_traces(go.Scatter(x=x_range, y=y_range, name='Regression Fit'))\n",
    "fig.show()"
   ]
  },
  {
   "cell_type": "code",
   "execution_count": 18,
   "metadata": {},
   "outputs": [
    {
     "data": {
      "application/vnd.plotly.v1+json": {
       "config": {
        "plotlyServerURL": "https://plot.ly"
       },
       "data": [
        {
         "mode": "markers",
         "name": "Train",
         "type": "scatter",
         "x": [
          34,
          56,
          46,
          64,
          52,
          42,
          57,
          75,
          39,
          36,
          52,
          59,
          45,
          51,
          41,
          56,
          57,
          59,
          60,
          53,
          28,
          61,
          47,
          55,
          44,
          46,
          60,
          71,
          41,
          48,
          44,
          51,
          64,
          50,
          30,
          36,
          48,
          43,
          68,
          40,
          47,
          41,
          59,
          53,
          48,
          53,
          43,
          62,
          29,
          39,
          63,
          47,
          44,
          54,
          56,
          40,
          59,
          42,
          47,
          65,
          43,
          39,
          59,
          32,
          30,
          52,
          40,
          38,
          66,
          39,
          53,
          70,
          42,
          66,
          43,
          70,
          54,
          44,
          58,
          52,
          58,
          54,
          32,
          40,
          47,
          57,
          48,
          35,
          49,
          46,
          46,
          39,
          56,
          57,
          34,
          58
         ],
         "y": [
          76,
          81,
          84,
          87,
          88,
          80,
          86,
          91,
          87,
          77,
          84,
          86,
          79,
          82,
          82,
          88,
          92,
          91,
          88,
          85,
          67,
          90,
          81,
          82,
          78,
          79,
          86,
          91,
          73,
          78,
          77,
          85,
          86,
          83,
          69,
          86,
          82,
          74,
          89,
          78,
          76,
          82,
          89,
          77,
          79,
          86,
          81,
          82,
          77,
          69,
          84,
          76,
          83,
          84,
          87,
          82,
          87,
          75,
          83,
          83,
          88,
          75,
          87,
          84,
          74,
          88,
          86,
          72,
          84,
          82,
          86,
          88,
          67,
          90,
          83,
          89,
          81,
          83,
          94,
          85,
          81,
          86,
          69,
          82,
          88,
          89,
          83,
          67,
          85,
          79,
          79,
          82,
          88,
          80,
          73,
          81
         ]
        },
        {
         "mode": "markers",
         "name": "Test",
         "type": "scatter",
         "x": [
          49,
          61,
          60,
          58,
          51,
          37,
          61,
          41,
          62,
          61,
          54,
          72,
          46,
          48,
          57,
          53,
          43,
          42,
          42,
          41,
          52,
          25,
          58,
          68,
          60,
          54,
          57,
          50,
          43,
          38,
          48,
          61
         ],
         "y": [
          88,
          89,
          87,
          87,
          87,
          73,
          83,
          84,
          87,
          93,
          84,
          92,
          83,
          88,
          88,
          81,
          78,
          88,
          78,
          82,
          84,
          72,
          84,
          91,
          90,
          79,
          83,
          83,
          78,
          69,
          82,
          84
         ]
        },
        {
         "name": "Prediction",
         "type": "scatter",
         "x": [
          25,
          25.505050505050505,
          26.01010101010101,
          26.515151515151516,
          27.02020202020202,
          27.525252525252526,
          28.03030303030303,
          28.535353535353536,
          29.04040404040404,
          29.545454545454547,
          30.050505050505052,
          30.555555555555557,
          31.060606060606062,
          31.565656565656568,
          32.07070707070707,
          32.57575757575758,
          33.08080808080808,
          33.58585858585859,
          34.09090909090909,
          34.5959595959596,
          35.101010101010104,
          35.60606060606061,
          36.111111111111114,
          36.61616161616162,
          37.121212121212125,
          37.62626262626263,
          38.131313131313135,
          38.63636363636364,
          39.141414141414145,
          39.64646464646465,
          40.151515151515156,
          40.65656565656566,
          41.161616161616166,
          41.66666666666667,
          42.17171717171718,
          42.67676767676768,
          43.18181818181819,
          43.68686868686869,
          44.1919191919192,
          44.6969696969697,
          45.20202020202021,
          45.70707070707071,
          46.21212121212122,
          46.71717171717172,
          47.22222222222223,
          47.727272727272734,
          48.23232323232324,
          48.737373737373744,
          49.24242424242424,
          49.74747474747475,
          50.25252525252525,
          50.75757575757576,
          51.26262626262626,
          51.76767676767677,
          52.27272727272727,
          52.77777777777778,
          53.282828282828284,
          53.78787878787879,
          54.292929292929294,
          54.7979797979798,
          55.303030303030305,
          55.80808080808081,
          56.313131313131315,
          56.81818181818182,
          57.323232323232325,
          57.82828282828283,
          58.333333333333336,
          58.83838383838384,
          59.343434343434346,
          59.84848484848485,
          60.35353535353536,
          60.85858585858586,
          61.36363636363637,
          61.86868686868687,
          62.37373737373738,
          62.87878787878788,
          63.38383838383839,
          63.88888888888889,
          64.3939393939394,
          64.8989898989899,
          65.40404040404042,
          65.9090909090909,
          66.41414141414143,
          66.91919191919192,
          67.42424242424244,
          67.92929292929293,
          68.43434343434345,
          68.93939393939394,
          69.44444444444446,
          69.94949494949495,
          70.45454545454547,
          70.95959595959596,
          71.46464646464648,
          71.96969696969697,
          72.47474747474749,
          72.97979797979798,
          73.48484848484848,
          73.98989898989899,
          74.4949494949495,
          75
         ],
         "y": [
          72.46442193533629,
          72.66493850215703,
          72.86545506897778,
          73.06597163579853,
          73.26648820261927,
          73.46700476944002,
          73.66752133626076,
          73.86803790308151,
          74.06855446990227,
          74.269071036723,
          74.46958760354376,
          74.67010417036451,
          74.87062073718525,
          75.071137304006,
          75.27165387082675,
          75.47217043764749,
          75.67268700446824,
          75.873203571289,
          76.07372013810973,
          76.27423670493049,
          76.47475327175124,
          76.67526983857198,
          76.87578640539273,
          77.07630297221348,
          77.27681953903422,
          77.47733610585497,
          77.67785267267571,
          77.87836923949646,
          78.07888580631722,
          78.27940237313796,
          78.47991893995871,
          78.68043550677945,
          78.8809520736002,
          79.08146864042095,
          79.28198520724169,
          79.48250177406244,
          79.6830183408832,
          79.88353490770393,
          80.08405147452468,
          80.28456804134544,
          80.48508460816618,
          80.68560117498693,
          80.88611774180768,
          81.08663430862842,
          81.28715087544917,
          81.48766744226992,
          81.68818400909066,
          81.88870057591141,
          82.08921714273215,
          82.2897337095529,
          82.49025027637364,
          82.6907668431944,
          82.89128341001515,
          83.09179997683589,
          83.29231654365664,
          83.49283311047739,
          83.69334967729813,
          83.89386624411888,
          84.09438281093963,
          84.29489937776037,
          84.49541594458113,
          84.69593251140188,
          84.89644907822262,
          85.09696564504337,
          85.29748221186412,
          85.49799877868486,
          85.69851534550561,
          85.89903191232636,
          86.0995484791471,
          86.30006504596786,
          86.50058161278861,
          86.70109817960935,
          86.9016147464301,
          87.10213131325085,
          87.30264788007159,
          87.50316444689234,
          87.70368101371308,
          87.90419758053383,
          88.10471414735458,
          88.30523071417532,
          88.50574728099608,
          88.70626384781681,
          88.90678041463758,
          89.10729698145832,
          89.30781354827907,
          89.50833011509981,
          89.70884668192056,
          89.9093632487413,
          90.10987981556205,
          90.3103963823828,
          90.51091294920354,
          90.7114295160243,
          90.91194608284505,
          91.11246264966579,
          91.31297921648654,
          91.51349578330728,
          91.71401235012803,
          91.91452891694878,
          92.11504548376952,
          92.31556205059027
         ]
        }
       ],
       "layout": {
        "template": {
         "data": {
          "bar": [
           {
            "error_x": {
             "color": "#2a3f5f"
            },
            "error_y": {
             "color": "#2a3f5f"
            },
            "marker": {
             "line": {
              "color": "#E5ECF6",
              "width": 0.5
             }
            },
            "type": "bar"
           }
          ],
          "barpolar": [
           {
            "marker": {
             "line": {
              "color": "#E5ECF6",
              "width": 0.5
             }
            },
            "type": "barpolar"
           }
          ],
          "carpet": [
           {
            "aaxis": {
             "endlinecolor": "#2a3f5f",
             "gridcolor": "white",
             "linecolor": "white",
             "minorgridcolor": "white",
             "startlinecolor": "#2a3f5f"
            },
            "baxis": {
             "endlinecolor": "#2a3f5f",
             "gridcolor": "white",
             "linecolor": "white",
             "minorgridcolor": "white",
             "startlinecolor": "#2a3f5f"
            },
            "type": "carpet"
           }
          ],
          "choropleth": [
           {
            "colorbar": {
             "outlinewidth": 0,
             "ticks": ""
            },
            "type": "choropleth"
           }
          ],
          "contour": [
           {
            "colorbar": {
             "outlinewidth": 0,
             "ticks": ""
            },
            "colorscale": [
             [
              0,
              "#0d0887"
             ],
             [
              0.1111111111111111,
              "#46039f"
             ],
             [
              0.2222222222222222,
              "#7201a8"
             ],
             [
              0.3333333333333333,
              "#9c179e"
             ],
             [
              0.4444444444444444,
              "#bd3786"
             ],
             [
              0.5555555555555556,
              "#d8576b"
             ],
             [
              0.6666666666666666,
              "#ed7953"
             ],
             [
              0.7777777777777778,
              "#fb9f3a"
             ],
             [
              0.8888888888888888,
              "#fdca26"
             ],
             [
              1,
              "#f0f921"
             ]
            ],
            "type": "contour"
           }
          ],
          "contourcarpet": [
           {
            "colorbar": {
             "outlinewidth": 0,
             "ticks": ""
            },
            "type": "contourcarpet"
           }
          ],
          "heatmap": [
           {
            "colorbar": {
             "outlinewidth": 0,
             "ticks": ""
            },
            "colorscale": [
             [
              0,
              "#0d0887"
             ],
             [
              0.1111111111111111,
              "#46039f"
             ],
             [
              0.2222222222222222,
              "#7201a8"
             ],
             [
              0.3333333333333333,
              "#9c179e"
             ],
             [
              0.4444444444444444,
              "#bd3786"
             ],
             [
              0.5555555555555556,
              "#d8576b"
             ],
             [
              0.6666666666666666,
              "#ed7953"
             ],
             [
              0.7777777777777778,
              "#fb9f3a"
             ],
             [
              0.8888888888888888,
              "#fdca26"
             ],
             [
              1,
              "#f0f921"
             ]
            ],
            "type": "heatmap"
           }
          ],
          "heatmapgl": [
           {
            "colorbar": {
             "outlinewidth": 0,
             "ticks": ""
            },
            "colorscale": [
             [
              0,
              "#0d0887"
             ],
             [
              0.1111111111111111,
              "#46039f"
             ],
             [
              0.2222222222222222,
              "#7201a8"
             ],
             [
              0.3333333333333333,
              "#9c179e"
             ],
             [
              0.4444444444444444,
              "#bd3786"
             ],
             [
              0.5555555555555556,
              "#d8576b"
             ],
             [
              0.6666666666666666,
              "#ed7953"
             ],
             [
              0.7777777777777778,
              "#fb9f3a"
             ],
             [
              0.8888888888888888,
              "#fdca26"
             ],
             [
              1,
              "#f0f921"
             ]
            ],
            "type": "heatmapgl"
           }
          ],
          "histogram": [
           {
            "marker": {
             "colorbar": {
              "outlinewidth": 0,
              "ticks": ""
             }
            },
            "type": "histogram"
           }
          ],
          "histogram2d": [
           {
            "colorbar": {
             "outlinewidth": 0,
             "ticks": ""
            },
            "colorscale": [
             [
              0,
              "#0d0887"
             ],
             [
              0.1111111111111111,
              "#46039f"
             ],
             [
              0.2222222222222222,
              "#7201a8"
             ],
             [
              0.3333333333333333,
              "#9c179e"
             ],
             [
              0.4444444444444444,
              "#bd3786"
             ],
             [
              0.5555555555555556,
              "#d8576b"
             ],
             [
              0.6666666666666666,
              "#ed7953"
             ],
             [
              0.7777777777777778,
              "#fb9f3a"
             ],
             [
              0.8888888888888888,
              "#fdca26"
             ],
             [
              1,
              "#f0f921"
             ]
            ],
            "type": "histogram2d"
           }
          ],
          "histogram2dcontour": [
           {
            "colorbar": {
             "outlinewidth": 0,
             "ticks": ""
            },
            "colorscale": [
             [
              0,
              "#0d0887"
             ],
             [
              0.1111111111111111,
              "#46039f"
             ],
             [
              0.2222222222222222,
              "#7201a8"
             ],
             [
              0.3333333333333333,
              "#9c179e"
             ],
             [
              0.4444444444444444,
              "#bd3786"
             ],
             [
              0.5555555555555556,
              "#d8576b"
             ],
             [
              0.6666666666666666,
              "#ed7953"
             ],
             [
              0.7777777777777778,
              "#fb9f3a"
             ],
             [
              0.8888888888888888,
              "#fdca26"
             ],
             [
              1,
              "#f0f921"
             ]
            ],
            "type": "histogram2dcontour"
           }
          ],
          "mesh3d": [
           {
            "colorbar": {
             "outlinewidth": 0,
             "ticks": ""
            },
            "type": "mesh3d"
           }
          ],
          "parcoords": [
           {
            "line": {
             "colorbar": {
              "outlinewidth": 0,
              "ticks": ""
             }
            },
            "type": "parcoords"
           }
          ],
          "pie": [
           {
            "automargin": true,
            "type": "pie"
           }
          ],
          "scatter": [
           {
            "marker": {
             "colorbar": {
              "outlinewidth": 0,
              "ticks": ""
             }
            },
            "type": "scatter"
           }
          ],
          "scatter3d": [
           {
            "line": {
             "colorbar": {
              "outlinewidth": 0,
              "ticks": ""
             }
            },
            "marker": {
             "colorbar": {
              "outlinewidth": 0,
              "ticks": ""
             }
            },
            "type": "scatter3d"
           }
          ],
          "scattercarpet": [
           {
            "marker": {
             "colorbar": {
              "outlinewidth": 0,
              "ticks": ""
             }
            },
            "type": "scattercarpet"
           }
          ],
          "scattergeo": [
           {
            "marker": {
             "colorbar": {
              "outlinewidth": 0,
              "ticks": ""
             }
            },
            "type": "scattergeo"
           }
          ],
          "scattergl": [
           {
            "marker": {
             "colorbar": {
              "outlinewidth": 0,
              "ticks": ""
             }
            },
            "type": "scattergl"
           }
          ],
          "scattermapbox": [
           {
            "marker": {
             "colorbar": {
              "outlinewidth": 0,
              "ticks": ""
             }
            },
            "type": "scattermapbox"
           }
          ],
          "scatterpolar": [
           {
            "marker": {
             "colorbar": {
              "outlinewidth": 0,
              "ticks": ""
             }
            },
            "type": "scatterpolar"
           }
          ],
          "scatterpolargl": [
           {
            "marker": {
             "colorbar": {
              "outlinewidth": 0,
              "ticks": ""
             }
            },
            "type": "scatterpolargl"
           }
          ],
          "scatterternary": [
           {
            "marker": {
             "colorbar": {
              "outlinewidth": 0,
              "ticks": ""
             }
            },
            "type": "scatterternary"
           }
          ],
          "surface": [
           {
            "colorbar": {
             "outlinewidth": 0,
             "ticks": ""
            },
            "colorscale": [
             [
              0,
              "#0d0887"
             ],
             [
              0.1111111111111111,
              "#46039f"
             ],
             [
              0.2222222222222222,
              "#7201a8"
             ],
             [
              0.3333333333333333,
              "#9c179e"
             ],
             [
              0.4444444444444444,
              "#bd3786"
             ],
             [
              0.5555555555555556,
              "#d8576b"
             ],
             [
              0.6666666666666666,
              "#ed7953"
             ],
             [
              0.7777777777777778,
              "#fb9f3a"
             ],
             [
              0.8888888888888888,
              "#fdca26"
             ],
             [
              1,
              "#f0f921"
             ]
            ],
            "type": "surface"
           }
          ],
          "table": [
           {
            "cells": {
             "fill": {
              "color": "#EBF0F8"
             },
             "line": {
              "color": "white"
             }
            },
            "header": {
             "fill": {
              "color": "#C8D4E3"
             },
             "line": {
              "color": "white"
             }
            },
            "type": "table"
           }
          ]
         },
         "layout": {
          "annotationdefaults": {
           "arrowcolor": "#2a3f5f",
           "arrowhead": 0,
           "arrowwidth": 1
          },
          "coloraxis": {
           "colorbar": {
            "outlinewidth": 0,
            "ticks": ""
           }
          },
          "colorscale": {
           "diverging": [
            [
             0,
             "#8e0152"
            ],
            [
             0.1,
             "#c51b7d"
            ],
            [
             0.2,
             "#de77ae"
            ],
            [
             0.3,
             "#f1b6da"
            ],
            [
             0.4,
             "#fde0ef"
            ],
            [
             0.5,
             "#f7f7f7"
            ],
            [
             0.6,
             "#e6f5d0"
            ],
            [
             0.7,
             "#b8e186"
            ],
            [
             0.8,
             "#7fbc41"
            ],
            [
             0.9,
             "#4d9221"
            ],
            [
             1,
             "#276419"
            ]
           ],
           "sequential": [
            [
             0,
             "#0d0887"
            ],
            [
             0.1111111111111111,
             "#46039f"
            ],
            [
             0.2222222222222222,
             "#7201a8"
            ],
            [
             0.3333333333333333,
             "#9c179e"
            ],
            [
             0.4444444444444444,
             "#bd3786"
            ],
            [
             0.5555555555555556,
             "#d8576b"
            ],
            [
             0.6666666666666666,
             "#ed7953"
            ],
            [
             0.7777777777777778,
             "#fb9f3a"
            ],
            [
             0.8888888888888888,
             "#fdca26"
            ],
            [
             1,
             "#f0f921"
            ]
           ],
           "sequentialminus": [
            [
             0,
             "#0d0887"
            ],
            [
             0.1111111111111111,
             "#46039f"
            ],
            [
             0.2222222222222222,
             "#7201a8"
            ],
            [
             0.3333333333333333,
             "#9c179e"
            ],
            [
             0.4444444444444444,
             "#bd3786"
            ],
            [
             0.5555555555555556,
             "#d8576b"
            ],
            [
             0.6666666666666666,
             "#ed7953"
            ],
            [
             0.7777777777777778,
             "#fb9f3a"
            ],
            [
             0.8888888888888888,
             "#fdca26"
            ],
            [
             1,
             "#f0f921"
            ]
           ]
          },
          "colorway": [
           "#636efa",
           "#EF553B",
           "#00cc96",
           "#ab63fa",
           "#FFA15A",
           "#19d3f3",
           "#FF6692",
           "#B6E880",
           "#FF97FF",
           "#FECB52"
          ],
          "font": {
           "color": "#2a3f5f"
          },
          "geo": {
           "bgcolor": "white",
           "lakecolor": "white",
           "landcolor": "#E5ECF6",
           "showlakes": true,
           "showland": true,
           "subunitcolor": "white"
          },
          "hoverlabel": {
           "align": "left"
          },
          "hovermode": "closest",
          "mapbox": {
           "style": "light"
          },
          "paper_bgcolor": "white",
          "plot_bgcolor": "#E5ECF6",
          "polar": {
           "angularaxis": {
            "gridcolor": "white",
            "linecolor": "white",
            "ticks": ""
           },
           "bgcolor": "#E5ECF6",
           "radialaxis": {
            "gridcolor": "white",
            "linecolor": "white",
            "ticks": ""
           }
          },
          "scene": {
           "xaxis": {
            "backgroundcolor": "#E5ECF6",
            "gridcolor": "white",
            "gridwidth": 2,
            "linecolor": "white",
            "showbackground": true,
            "ticks": "",
            "zerolinecolor": "white"
           },
           "yaxis": {
            "backgroundcolor": "#E5ECF6",
            "gridcolor": "white",
            "gridwidth": 2,
            "linecolor": "white",
            "showbackground": true,
            "ticks": "",
            "zerolinecolor": "white"
           },
           "zaxis": {
            "backgroundcolor": "#E5ECF6",
            "gridcolor": "white",
            "gridwidth": 2,
            "linecolor": "white",
            "showbackground": true,
            "ticks": "",
            "zerolinecolor": "white"
           }
          },
          "shapedefaults": {
           "line": {
            "color": "#2a3f5f"
           }
          },
          "ternary": {
           "aaxis": {
            "gridcolor": "white",
            "linecolor": "white",
            "ticks": ""
           },
           "baxis": {
            "gridcolor": "white",
            "linecolor": "white",
            "ticks": ""
           },
           "bgcolor": "#E5ECF6",
           "caxis": {
            "gridcolor": "white",
            "linecolor": "white",
            "ticks": ""
           }
          },
          "title": {
           "x": 0.05
          },
          "xaxis": {
           "automargin": true,
           "gridcolor": "white",
           "linecolor": "white",
           "ticks": "",
           "title": {
            "standoff": 15
           },
           "zerolinecolor": "white",
           "zerolinewidth": 2
          },
          "yaxis": {
           "automargin": true,
           "gridcolor": "white",
           "linecolor": "white",
           "ticks": "",
           "title": {
            "standoff": 15
           },
           "zerolinecolor": "white",
           "zerolinewidth": 2
          }
         }
        }
       }
      },
      "text/html": [
       "<div>\n",
       "        \n",
       "        \n",
       "            <div id=\"25678634-b93b-4ace-b481-26acf89981ed\" class=\"plotly-graph-div\" style=\"height:525px; width:100%;\"></div>\n",
       "            <script type=\"text/javascript\">\n",
       "                require([\"plotly\"], function(Plotly) {\n",
       "                    window.PLOTLYENV=window.PLOTLYENV || {};\n",
       "                    \n",
       "                if (document.getElementById(\"25678634-b93b-4ace-b481-26acf89981ed\")) {\n",
       "                    Plotly.newPlot(\n",
       "                        '25678634-b93b-4ace-b481-26acf89981ed',\n",
       "                        [{\"mode\": \"markers\", \"name\": \"Train\", \"type\": \"scatter\", \"x\": [34, 56, 46, 64, 52, 42, 57, 75, 39, 36, 52, 59, 45, 51, 41, 56, 57, 59, 60, 53, 28, 61, 47, 55, 44, 46, 60, 71, 41, 48, 44, 51, 64, 50, 30, 36, 48, 43, 68, 40, 47, 41, 59, 53, 48, 53, 43, 62, 29, 39, 63, 47, 44, 54, 56, 40, 59, 42, 47, 65, 43, 39, 59, 32, 30, 52, 40, 38, 66, 39, 53, 70, 42, 66, 43, 70, 54, 44, 58, 52, 58, 54, 32, 40, 47, 57, 48, 35, 49, 46, 46, 39, 56, 57, 34, 58], \"y\": [76, 81, 84, 87, 88, 80, 86, 91, 87, 77, 84, 86, 79, 82, 82, 88, 92, 91, 88, 85, 67, 90, 81, 82, 78, 79, 86, 91, 73, 78, 77, 85, 86, 83, 69, 86, 82, 74, 89, 78, 76, 82, 89, 77, 79, 86, 81, 82, 77, 69, 84, 76, 83, 84, 87, 82, 87, 75, 83, 83, 88, 75, 87, 84, 74, 88, 86, 72, 84, 82, 86, 88, 67, 90, 83, 89, 81, 83, 94, 85, 81, 86, 69, 82, 88, 89, 83, 67, 85, 79, 79, 82, 88, 80, 73, 81]}, {\"mode\": \"markers\", \"name\": \"Test\", \"type\": \"scatter\", \"x\": [49, 61, 60, 58, 51, 37, 61, 41, 62, 61, 54, 72, 46, 48, 57, 53, 43, 42, 42, 41, 52, 25, 58, 68, 60, 54, 57, 50, 43, 38, 48, 61], \"y\": [88, 89, 87, 87, 87, 73, 83, 84, 87, 93, 84, 92, 83, 88, 88, 81, 78, 88, 78, 82, 84, 72, 84, 91, 90, 79, 83, 83, 78, 69, 82, 84]}, {\"name\": \"Prediction\", \"type\": \"scatter\", \"x\": [25.0, 25.505050505050505, 26.01010101010101, 26.515151515151516, 27.02020202020202, 27.525252525252526, 28.03030303030303, 28.535353535353536, 29.04040404040404, 29.545454545454547, 30.050505050505052, 30.555555555555557, 31.060606060606062, 31.565656565656568, 32.07070707070707, 32.57575757575758, 33.08080808080808, 33.58585858585859, 34.09090909090909, 34.5959595959596, 35.101010101010104, 35.60606060606061, 36.111111111111114, 36.61616161616162, 37.121212121212125, 37.62626262626263, 38.131313131313135, 38.63636363636364, 39.141414141414145, 39.64646464646465, 40.151515151515156, 40.65656565656566, 41.161616161616166, 41.66666666666667, 42.17171717171718, 42.67676767676768, 43.18181818181819, 43.68686868686869, 44.1919191919192, 44.6969696969697, 45.20202020202021, 45.70707070707071, 46.21212121212122, 46.71717171717172, 47.22222222222223, 47.727272727272734, 48.23232323232324, 48.737373737373744, 49.24242424242424, 49.74747474747475, 50.25252525252525, 50.75757575757576, 51.26262626262626, 51.76767676767677, 52.27272727272727, 52.77777777777778, 53.282828282828284, 53.78787878787879, 54.292929292929294, 54.7979797979798, 55.303030303030305, 55.80808080808081, 56.313131313131315, 56.81818181818182, 57.323232323232325, 57.82828282828283, 58.333333333333336, 58.83838383838384, 59.343434343434346, 59.84848484848485, 60.35353535353536, 60.85858585858586, 61.36363636363637, 61.86868686868687, 62.37373737373738, 62.87878787878788, 63.38383838383839, 63.88888888888889, 64.3939393939394, 64.8989898989899, 65.40404040404042, 65.9090909090909, 66.41414141414143, 66.91919191919192, 67.42424242424244, 67.92929292929293, 68.43434343434345, 68.93939393939394, 69.44444444444446, 69.94949494949495, 70.45454545454547, 70.95959595959596, 71.46464646464648, 71.96969696969697, 72.47474747474749, 72.97979797979798, 73.48484848484848, 73.98989898989899, 74.4949494949495, 75.0], \"y\": [72.46442193533629, 72.66493850215703, 72.86545506897778, 73.06597163579853, 73.26648820261927, 73.46700476944002, 73.66752133626076, 73.86803790308151, 74.06855446990227, 74.269071036723, 74.46958760354376, 74.67010417036451, 74.87062073718525, 75.071137304006, 75.27165387082675, 75.47217043764749, 75.67268700446824, 75.873203571289, 76.07372013810973, 76.27423670493049, 76.47475327175124, 76.67526983857198, 76.87578640539273, 77.07630297221348, 77.27681953903422, 77.47733610585497, 77.67785267267571, 77.87836923949646, 78.07888580631722, 78.27940237313796, 78.47991893995871, 78.68043550677945, 78.8809520736002, 79.08146864042095, 79.28198520724169, 79.48250177406244, 79.6830183408832, 79.88353490770393, 80.08405147452468, 80.28456804134544, 80.48508460816618, 80.68560117498693, 80.88611774180768, 81.08663430862842, 81.28715087544917, 81.48766744226992, 81.68818400909066, 81.88870057591141, 82.08921714273215, 82.2897337095529, 82.49025027637364, 82.6907668431944, 82.89128341001515, 83.09179997683589, 83.29231654365664, 83.49283311047739, 83.69334967729813, 83.89386624411888, 84.09438281093963, 84.29489937776037, 84.49541594458113, 84.69593251140188, 84.89644907822262, 85.09696564504337, 85.29748221186412, 85.49799877868486, 85.69851534550561, 85.89903191232636, 86.0995484791471, 86.30006504596786, 86.50058161278861, 86.70109817960935, 86.9016147464301, 87.10213131325085, 87.30264788007159, 87.50316444689234, 87.70368101371308, 87.90419758053383, 88.10471414735458, 88.30523071417532, 88.50574728099608, 88.70626384781681, 88.90678041463758, 89.10729698145832, 89.30781354827907, 89.50833011509981, 89.70884668192056, 89.9093632487413, 90.10987981556205, 90.3103963823828, 90.51091294920354, 90.7114295160243, 90.91194608284505, 91.11246264966579, 91.31297921648654, 91.51349578330728, 91.71401235012803, 91.91452891694878, 92.11504548376952, 92.31556205059027]}],\n",
       "                        {\"template\": {\"data\": {\"bar\": [{\"error_x\": {\"color\": \"#2a3f5f\"}, \"error_y\": {\"color\": \"#2a3f5f\"}, \"marker\": {\"line\": {\"color\": \"#E5ECF6\", \"width\": 0.5}}, \"type\": \"bar\"}], \"barpolar\": [{\"marker\": {\"line\": {\"color\": \"#E5ECF6\", \"width\": 0.5}}, \"type\": \"barpolar\"}], \"carpet\": [{\"aaxis\": {\"endlinecolor\": \"#2a3f5f\", \"gridcolor\": \"white\", \"linecolor\": \"white\", \"minorgridcolor\": \"white\", \"startlinecolor\": \"#2a3f5f\"}, \"baxis\": {\"endlinecolor\": \"#2a3f5f\", \"gridcolor\": \"white\", \"linecolor\": \"white\", \"minorgridcolor\": \"white\", \"startlinecolor\": \"#2a3f5f\"}, \"type\": \"carpet\"}], \"choropleth\": [{\"colorbar\": {\"outlinewidth\": 0, \"ticks\": \"\"}, \"type\": \"choropleth\"}], \"contour\": [{\"colorbar\": {\"outlinewidth\": 0, \"ticks\": \"\"}, \"colorscale\": [[0.0, \"#0d0887\"], [0.1111111111111111, \"#46039f\"], [0.2222222222222222, \"#7201a8\"], [0.3333333333333333, \"#9c179e\"], [0.4444444444444444, \"#bd3786\"], [0.5555555555555556, \"#d8576b\"], [0.6666666666666666, \"#ed7953\"], [0.7777777777777778, \"#fb9f3a\"], [0.8888888888888888, \"#fdca26\"], [1.0, \"#f0f921\"]], \"type\": \"contour\"}], \"contourcarpet\": [{\"colorbar\": {\"outlinewidth\": 0, \"ticks\": \"\"}, \"type\": \"contourcarpet\"}], \"heatmap\": [{\"colorbar\": {\"outlinewidth\": 0, \"ticks\": \"\"}, \"colorscale\": [[0.0, \"#0d0887\"], [0.1111111111111111, \"#46039f\"], [0.2222222222222222, \"#7201a8\"], [0.3333333333333333, \"#9c179e\"], [0.4444444444444444, \"#bd3786\"], [0.5555555555555556, \"#d8576b\"], [0.6666666666666666, \"#ed7953\"], [0.7777777777777778, \"#fb9f3a\"], [0.8888888888888888, \"#fdca26\"], [1.0, \"#f0f921\"]], \"type\": \"heatmap\"}], \"heatmapgl\": [{\"colorbar\": {\"outlinewidth\": 0, \"ticks\": \"\"}, \"colorscale\": [[0.0, \"#0d0887\"], [0.1111111111111111, \"#46039f\"], [0.2222222222222222, \"#7201a8\"], [0.3333333333333333, \"#9c179e\"], [0.4444444444444444, \"#bd3786\"], [0.5555555555555556, \"#d8576b\"], [0.6666666666666666, \"#ed7953\"], [0.7777777777777778, \"#fb9f3a\"], [0.8888888888888888, \"#fdca26\"], [1.0, \"#f0f921\"]], \"type\": \"heatmapgl\"}], \"histogram\": [{\"marker\": {\"colorbar\": {\"outlinewidth\": 0, \"ticks\": \"\"}}, \"type\": \"histogram\"}], \"histogram2d\": [{\"colorbar\": {\"outlinewidth\": 0, \"ticks\": \"\"}, \"colorscale\": [[0.0, \"#0d0887\"], [0.1111111111111111, \"#46039f\"], [0.2222222222222222, \"#7201a8\"], [0.3333333333333333, \"#9c179e\"], [0.4444444444444444, \"#bd3786\"], [0.5555555555555556, \"#d8576b\"], [0.6666666666666666, \"#ed7953\"], [0.7777777777777778, \"#fb9f3a\"], [0.8888888888888888, \"#fdca26\"], [1.0, \"#f0f921\"]], \"type\": \"histogram2d\"}], \"histogram2dcontour\": [{\"colorbar\": {\"outlinewidth\": 0, \"ticks\": \"\"}, \"colorscale\": [[0.0, \"#0d0887\"], [0.1111111111111111, \"#46039f\"], [0.2222222222222222, \"#7201a8\"], [0.3333333333333333, \"#9c179e\"], [0.4444444444444444, \"#bd3786\"], [0.5555555555555556, \"#d8576b\"], [0.6666666666666666, \"#ed7953\"], [0.7777777777777778, \"#fb9f3a\"], [0.8888888888888888, \"#fdca26\"], [1.0, \"#f0f921\"]], \"type\": \"histogram2dcontour\"}], \"mesh3d\": [{\"colorbar\": {\"outlinewidth\": 0, \"ticks\": \"\"}, \"type\": \"mesh3d\"}], \"parcoords\": [{\"line\": {\"colorbar\": {\"outlinewidth\": 0, \"ticks\": \"\"}}, \"type\": \"parcoords\"}], \"pie\": [{\"automargin\": true, \"type\": \"pie\"}], \"scatter\": [{\"marker\": {\"colorbar\": {\"outlinewidth\": 0, \"ticks\": \"\"}}, \"type\": \"scatter\"}], \"scatter3d\": [{\"line\": {\"colorbar\": {\"outlinewidth\": 0, \"ticks\": \"\"}}, \"marker\": {\"colorbar\": {\"outlinewidth\": 0, \"ticks\": \"\"}}, \"type\": \"scatter3d\"}], \"scattercarpet\": [{\"marker\": {\"colorbar\": {\"outlinewidth\": 0, \"ticks\": \"\"}}, \"type\": \"scattercarpet\"}], \"scattergeo\": [{\"marker\": {\"colorbar\": {\"outlinewidth\": 0, \"ticks\": \"\"}}, \"type\": \"scattergeo\"}], \"scattergl\": [{\"marker\": {\"colorbar\": {\"outlinewidth\": 0, \"ticks\": \"\"}}, \"type\": \"scattergl\"}], \"scattermapbox\": [{\"marker\": {\"colorbar\": {\"outlinewidth\": 0, \"ticks\": \"\"}}, \"type\": \"scattermapbox\"}], \"scatterpolar\": [{\"marker\": {\"colorbar\": {\"outlinewidth\": 0, \"ticks\": \"\"}}, \"type\": \"scatterpolar\"}], \"scatterpolargl\": [{\"marker\": {\"colorbar\": {\"outlinewidth\": 0, \"ticks\": \"\"}}, \"type\": \"scatterpolargl\"}], \"scatterternary\": [{\"marker\": {\"colorbar\": {\"outlinewidth\": 0, \"ticks\": \"\"}}, \"type\": \"scatterternary\"}], \"surface\": [{\"colorbar\": {\"outlinewidth\": 0, \"ticks\": \"\"}, \"colorscale\": [[0.0, \"#0d0887\"], [0.1111111111111111, \"#46039f\"], [0.2222222222222222, \"#7201a8\"], [0.3333333333333333, \"#9c179e\"], [0.4444444444444444, \"#bd3786\"], [0.5555555555555556, \"#d8576b\"], [0.6666666666666666, \"#ed7953\"], [0.7777777777777778, \"#fb9f3a\"], [0.8888888888888888, \"#fdca26\"], [1.0, \"#f0f921\"]], \"type\": \"surface\"}], \"table\": [{\"cells\": {\"fill\": {\"color\": \"#EBF0F8\"}, \"line\": {\"color\": \"white\"}}, \"header\": {\"fill\": {\"color\": \"#C8D4E3\"}, \"line\": {\"color\": \"white\"}}, \"type\": \"table\"}]}, \"layout\": {\"annotationdefaults\": {\"arrowcolor\": \"#2a3f5f\", \"arrowhead\": 0, \"arrowwidth\": 1}, \"coloraxis\": {\"colorbar\": {\"outlinewidth\": 0, \"ticks\": \"\"}}, \"colorscale\": {\"diverging\": [[0, \"#8e0152\"], [0.1, \"#c51b7d\"], [0.2, \"#de77ae\"], [0.3, \"#f1b6da\"], [0.4, \"#fde0ef\"], [0.5, \"#f7f7f7\"], [0.6, \"#e6f5d0\"], [0.7, \"#b8e186\"], [0.8, \"#7fbc41\"], [0.9, \"#4d9221\"], [1, \"#276419\"]], \"sequential\": [[0.0, \"#0d0887\"], [0.1111111111111111, \"#46039f\"], [0.2222222222222222, \"#7201a8\"], [0.3333333333333333, \"#9c179e\"], [0.4444444444444444, \"#bd3786\"], [0.5555555555555556, \"#d8576b\"], [0.6666666666666666, \"#ed7953\"], [0.7777777777777778, \"#fb9f3a\"], [0.8888888888888888, \"#fdca26\"], [1.0, \"#f0f921\"]], \"sequentialminus\": [[0.0, \"#0d0887\"], [0.1111111111111111, \"#46039f\"], [0.2222222222222222, \"#7201a8\"], [0.3333333333333333, \"#9c179e\"], [0.4444444444444444, \"#bd3786\"], [0.5555555555555556, \"#d8576b\"], [0.6666666666666666, \"#ed7953\"], [0.7777777777777778, \"#fb9f3a\"], [0.8888888888888888, \"#fdca26\"], [1.0, \"#f0f921\"]]}, \"colorway\": [\"#636efa\", \"#EF553B\", \"#00cc96\", \"#ab63fa\", \"#FFA15A\", \"#19d3f3\", \"#FF6692\", \"#B6E880\", \"#FF97FF\", \"#FECB52\"], \"font\": {\"color\": \"#2a3f5f\"}, \"geo\": {\"bgcolor\": \"white\", \"lakecolor\": \"white\", \"landcolor\": \"#E5ECF6\", \"showlakes\": true, \"showland\": true, \"subunitcolor\": \"white\"}, \"hoverlabel\": {\"align\": \"left\"}, \"hovermode\": \"closest\", \"mapbox\": {\"style\": \"light\"}, \"paper_bgcolor\": \"white\", \"plot_bgcolor\": \"#E5ECF6\", \"polar\": {\"angularaxis\": {\"gridcolor\": \"white\", \"linecolor\": \"white\", \"ticks\": \"\"}, \"bgcolor\": \"#E5ECF6\", \"radialaxis\": {\"gridcolor\": \"white\", \"linecolor\": \"white\", \"ticks\": \"\"}}, \"scene\": {\"xaxis\": {\"backgroundcolor\": \"#E5ECF6\", \"gridcolor\": \"white\", \"gridwidth\": 2, \"linecolor\": \"white\", \"showbackground\": true, \"ticks\": \"\", \"zerolinecolor\": \"white\"}, \"yaxis\": {\"backgroundcolor\": \"#E5ECF6\", \"gridcolor\": \"white\", \"gridwidth\": 2, \"linecolor\": \"white\", \"showbackground\": true, \"ticks\": \"\", \"zerolinecolor\": \"white\"}, \"zaxis\": {\"backgroundcolor\": \"#E5ECF6\", \"gridcolor\": \"white\", \"gridwidth\": 2, \"linecolor\": \"white\", \"showbackground\": true, \"ticks\": \"\", \"zerolinecolor\": \"white\"}}, \"shapedefaults\": {\"line\": {\"color\": \"#2a3f5f\"}}, \"ternary\": {\"aaxis\": {\"gridcolor\": \"white\", \"linecolor\": \"white\", \"ticks\": \"\"}, \"baxis\": {\"gridcolor\": \"white\", \"linecolor\": \"white\", \"ticks\": \"\"}, \"bgcolor\": \"#E5ECF6\", \"caxis\": {\"gridcolor\": \"white\", \"linecolor\": \"white\", \"ticks\": \"\"}}, \"title\": {\"x\": 0.05}, \"xaxis\": {\"automargin\": true, \"gridcolor\": \"white\", \"linecolor\": \"white\", \"ticks\": \"\", \"title\": {\"standoff\": 15}, \"zerolinecolor\": \"white\", \"zerolinewidth\": 2}, \"yaxis\": {\"automargin\": true, \"gridcolor\": \"white\", \"linecolor\": \"white\", \"ticks\": \"\", \"title\": {\"standoff\": 15}, \"zerolinecolor\": \"white\", \"zerolinewidth\": 2}}}},\n",
       "                        {\"responsive\": true}\n",
       "                    ).then(function(){\n",
       "                            \n",
       "var gd = document.getElementById('25678634-b93b-4ace-b481-26acf89981ed');\n",
       "var x = new MutationObserver(function (mutations, observer) {{\n",
       "        var display = window.getComputedStyle(gd).display;\n",
       "        if (!display || display === 'none') {{\n",
       "            console.log([gd, 'removed!']);\n",
       "            Plotly.purge(gd);\n",
       "            observer.disconnect();\n",
       "        }}\n",
       "}});\n",
       "\n",
       "// Listen for the removal of the full notebook cells\n",
       "var notebookContainer = gd.closest('#notebook-container');\n",
       "if (notebookContainer) {{\n",
       "    x.observe(notebookContainer, {childList: true});\n",
       "}}\n",
       "\n",
       "// Listen for the clearing of the current output cell\n",
       "var outputEl = gd.closest('.output');\n",
       "if (outputEl) {{\n",
       "    x.observe(outputEl, {childList: true});\n",
       "}}\n",
       "\n",
       "                        })\n",
       "                };\n",
       "                });\n",
       "            </script>\n",
       "        </div>"
      ]
     },
     "metadata": {},
     "output_type": "display_data"
    }
   ],
   "source": [
    "# Model generalization on unseen data\n",
    "\n",
    "X = df.ball_possession[:, None]\n",
    "Y = df.pass_accuracy\n",
    "X_train, X_test, y_train, y_test = train_test_split(X, df.pass_accuracy, random_state=0)\n",
    "\n",
    "model = LinearRegression()\n",
    "model.fit(X_train, y_train)\n",
    "\n",
    "x_range = np.linspace(X.min(), X.max(), 100)\n",
    "y_range = model.predict(x_range.reshape(-1, 1))\n",
    "\n",
    "fig = go.Figure([\n",
    "    go.Scatter(x=X_train.squeeze(), y=y_train, name='Train', mode='markers'),\n",
    "    go.Scatter(x=X_test.squeeze(), y=y_test, name='Test', mode='markers'),\n",
    "    go.Scatter(x=x_range, y=y_range, name='Prediction')])\n",
    "fig.show()"
   ]
  },
  {
   "cell_type": "code",
   "execution_count": 19,
   "metadata": {},
   "outputs": [
    {
     "data": {
      "image/png": "[encoded data removed]",
      "text/plain": [
       "<Figure size 864x648 with 1 Axes>"
      ]
     },
     "metadata": {},
     "output_type": "display_data"
    }
   ],
   "source": [
    "# Residual plot for model evaluation\n",
    "\n",
    "plt.figure(figsize=(12, 9))\n",
    "sns.residplot(data=df, x=df[\"Ball Possession %\"], y=df[\"Pass Accuracy %\"])\n",
    "plt.xlabel(\"Ball Possession %\", fontsize=14)\n",
    "plt.ylabel(\"Pass Accuracy %\", fontsize=14)\n",
    "plt.title(\"Residual Plot\", fontsize=16)\n",
    "plt.show()"
   ]
  },
  {
   "cell_type": "code",
   "execution_count": 20,
   "metadata": {},
   "outputs": [
    {
     "data": {
      "application/vnd.plotly.v1+json": {
       "config": {
        "plotlyServerURL": "https://plot.ly"
       },
       "data": [
        {
         "hovertemplate": "split=train<br>prediction=%{x}<br>residual=%{y}<extra></extra>",
         "legendgroup": "train",
         "marker": {
          "color": "#636efa",
          "symbol": "circle"
         },
         "mode": "markers",
         "name": "train",
         "orientation": "v",
         "showlegend": true,
         "type": "scatter",
         "x": [
          78.41976396991248,
          86.36022001601407,
          85.16915160909883,
          87.94831122523439,
          76.83167276069216,
          78.0227411676074,
          81.9929691906582,
          73.65549034225153,
          83.18403759757344,
          83.9780832021836,
          80.80190078374295,
          82.38999199296327,
          86.36022001601407,
          78.41976396991248,
          83.18403759757344,
          81.59594638835313,
          81.59594638835313,
          78.0227411676074,
          85.963197213709,
          78.81678677221757,
          85.963197213709,
          79.61083237682772,
          81.19892358604804,
          81.19892358604804,
          83.58106039987851,
          81.19892358604804,
          83.58106039987851,
          74.44953594686169,
          90.33044803906488,
          82.78701479526836,
          80.0078551791328,
          84.77212880679376,
          85.56617441140392,
          79.21380957452264,
          88.74235682984455,
          76.03762715608201,
          79.21380957452264,
          83.18403759757344,
          81.59594638835313,
          78.81678677221757,
          85.963197213709,
          90.72747084136995,
          74.0525131445566,
          85.56617441140392,
          80.80190078374295,
          80.40487798143788,
          84.37510600448869,
          84.77212880679376,
          80.0078551791328,
          86.75724281831916,
          78.0227411676074,
          75.24358155147185,
          75.24358155147185,
          89.53640243445471,
          77.62571836530232,
          83.58106039987851,
          81.19892358604804,
          76.03762715608201,
          88.74235682984455,
          78.81678677221757,
          85.963197213709,
          74.44953594686169,
          90.33044803906488,
          88.34533402753948,
          76.43464995838708,
          80.0078551791328,
          84.77212880679376,
          78.41976396991248,
          83.9780832021836,
          76.83167276069216,
          87.94831122523439,
          83.18403759757344,
          85.963197213709,
          78.0227411676074,
          92.31556205059027,
          83.9780832021836,
          80.80190078374295,
          81.19892358604804,
          83.58106039987851,
          84.77212880679376,
          80.0078551791328,
          87.55128842292932,
          81.59594638835313,
          82.78701479526836,
          79.21380957452264,
          85.56617441140392,
          85.16915160909883,
          79.61083237682772,
          79.61083237682772,
          85.16915160909883,
          87.15426562062424,
          78.41976396991248,
          80.80190078374295,
          79.61083237682772,
          85.16915160909883,
          78.0227411676074
         ],
         "xaxis": "x",
         "y": [
          0.41976396991248066,
          0.3602200160140683,
          -0.830848390901167,
          1.9483112252343915,
          -9.168327239307843,
          -8.977258832392593,
          -3.0070308093417992,
          6.655490342251525,
          -1.815962402426564,
          -0.021916797816402322,
          -3.1980992162570487,
          -0.6100080070367255,
          -1.6397799839859317,
          -3.5802360300875193,
          -4.815962402426564,
          -1.404053611646873,
          2.595946388353127,
          -3.977258832392593,
          -5.036802786291005,
          -3.1832132277824314,
          -1.0368027862910054,
          -1.389167623172284,
          5.198923586048039,
          5.198923586048039,
          6.58106039987851,
          -6.801076413951961,
          -2.4189396001214902,
          5.449535946861687,
          1.3304480390648763,
          -2.2129852047316376,
          3.007855179132804,
          3.7721288067937593,
          4.566174411403921,
          -0.7861904254773577,
          -1.257643170155447,
          3.03762715608201,
          4.213809574522642,
          -0.8159624024265639,
          -0.4040536116468729,
          -3.1832132277824314,
          -3.0368027862910054,
          -0.27252915863005,
          -2.947486855443401,
          -8.43382558859608,
          1.8019007837429513,
          1.4048779814378776,
          2.3751060044886856,
          -3.2278711932062407,
          -2.992144820867196,
          -3.242757181680844,
          -3.977258832392593,
          -8.756418448528152,
          6.2435815514718485,
          0.5364024344547147,
          5.625718365302319,
          -2.4189396001214902,
          0.19892358604803917,
          0.03762715608201006,
          4.742356829844553,
          5.816786772217569,
          -1.0368027862910054,
          0.44953594686168685,
          2.3304480390648763,
          5.345334027539479,
          9.434649958387084,
          2.007855179132804,
          -3.2278711932062407,
          -3.5802360300875193,
          -2.0219167978164023,
          -0.16832723930784255,
          0.9483112252343915,
          -4.815962402426564,
          -0.03680278629100542,
          9.022741167607407,
          1.3155620505902732,
          2.9780832021835977,
          1.8019007837429513,
          -1.8010764139519608,
          -1.4189396001214902,
          -2.2278711932062407,
          -2.992144820867196,
          3.551288422929318,
          3.595946388353127,
          0.7870147952683624,
          12.213809574522642,
          4.566174411403921,
          -3.830848390901167,
          -3.389167623172284,
          5.610832376827716,
          5.169151609098833,
          5.154265620624244,
          -7.580236030087519,
          1.8019007837429513,
          -8.389167623172284,
          -6.830848390901167,
          3.022741167607407
         ],
         "yaxis": "y"
        },
        {
         "alignmentgroup": "True",
         "hovertemplate": "split=train<br>residual=%{y}<extra></extra>",
         "legendgroup": "train",
         "marker": {
          "color": "#636efa",
          "symbol": "circle"
         },
         "name": "train",
         "offsetgroup": "train",
         "scalegroup": "y",
         "showlegend": false,
         "type": "violin",
         "xaxis": "x2",
         "y": [
          0.41976396991248066,
          0.3602200160140683,
          -0.830848390901167,
          1.9483112252343915,
          -9.168327239307843,
          -8.977258832392593,
          -3.0070308093417992,
          6.655490342251525,
          -1.815962402426564,
          -0.021916797816402322,
          -3.1980992162570487,
          -0.6100080070367255,
          -1.6397799839859317,
          -3.5802360300875193,
          -4.815962402426564,
          -1.404053611646873,
          2.595946388353127,
          -3.977258832392593,
          -5.036802786291005,
          -3.1832132277824314,
          -1.0368027862910054,
          -1.389167623172284,
          5.198923586048039,
          5.198923586048039,
          6.58106039987851,
          -6.801076413951961,
          -2.4189396001214902,
          5.449535946861687,
          1.3304480390648763,
          -2.2129852047316376,
          3.007855179132804,
          3.7721288067937593,
          4.566174411403921,
          -0.7861904254773577,
          -1.257643170155447,
          3.03762715608201,
          4.213809574522642,
          -0.8159624024265639,
          -0.4040536116468729,
          -3.1832132277824314,
          -3.0368027862910054,
          -0.27252915863005,
          -2.947486855443401,
          -8.43382558859608,
          1.8019007837429513,
          1.4048779814378776,
          2.3751060044886856,
          -3.2278711932062407,
          -2.992144820867196,
          -3.242757181680844,
          -3.977258832392593,
          -8.756418448528152,
          6.2435815514718485,
          0.5364024344547147,
          5.625718365302319,
          -2.4189396001214902,
          0.19892358604803917,
          0.03762715608201006,
          4.742356829844553,
          5.816786772217569,
          -1.0368027862910054,
          0.44953594686168685,
          2.3304480390648763,
          5.345334027539479,
          9.434649958387084,
          2.007855179132804,
          -3.2278711932062407,
          -3.5802360300875193,
          -2.0219167978164023,
          -0.16832723930784255,
          0.9483112252343915,
          -4.815962402426564,
          -0.03680278629100542,
          9.022741167607407,
          1.3155620505902732,
          2.9780832021835977,
          1.8019007837429513,
          -1.8010764139519608,
          -1.4189396001214902,
          -2.2278711932062407,
          -2.992144820867196,
          3.551288422929318,
          3.595946388353127,
          0.7870147952683624,
          12.213809574522642,
          4.566174411403921,
          -3.830848390901167,
          -3.389167623172284,
          5.610832376827716,
          5.169151609098833,
          5.154265620624244,
          -7.580236030087519,
          1.8019007837429513,
          -8.389167623172284,
          -6.830848390901167,
          3.022741167607407
         ],
         "yaxis": "y2"
        },
        {
         "hovertemplate": "<b>OLS trendline</b><br>residual = -1.59595e-16 * prediction + 1.82077e-14<br>R<sup>2</sup>=0.000000<br><br>split=train<br>prediction=%{x}<br>residual=%{y} <b>(trend)</b><extra></extra>",
         "legendgroup": "train",
         "marker": {
          "color": "#636efa",
          "symbol": "circle"
         },
         "mode": "lines",
         "name": "train",
         "showlegend": false,
         "type": "scatter",
         "x": [
          73.65549034225153,
          74.0525131445566,
          74.44953594686169,
          74.44953594686169,
          75.24358155147185,
          75.24358155147185,
          76.03762715608201,
          76.03762715608201,
          76.43464995838708,
          76.83167276069216,
          76.83167276069216,
          77.62571836530232,
          78.0227411676074,
          78.0227411676074,
          78.0227411676074,
          78.0227411676074,
          78.0227411676074,
          78.41976396991248,
          78.41976396991248,
          78.41976396991248,
          78.41976396991248,
          78.81678677221757,
          78.81678677221757,
          78.81678677221757,
          79.21380957452264,
          79.21380957452264,
          79.21380957452264,
          79.61083237682772,
          79.61083237682772,
          79.61083237682772,
          79.61083237682772,
          80.0078551791328,
          80.0078551791328,
          80.0078551791328,
          80.0078551791328,
          80.40487798143788,
          80.80190078374295,
          80.80190078374295,
          80.80190078374295,
          80.80190078374295,
          81.19892358604804,
          81.19892358604804,
          81.19892358604804,
          81.19892358604804,
          81.19892358604804,
          81.59594638835313,
          81.59594638835313,
          81.59594638835313,
          81.59594638835313,
          81.9929691906582,
          82.38999199296327,
          82.78701479526836,
          82.78701479526836,
          83.18403759757344,
          83.18403759757344,
          83.18403759757344,
          83.18403759757344,
          83.58106039987851,
          83.58106039987851,
          83.58106039987851,
          83.58106039987851,
          83.9780832021836,
          83.9780832021836,
          83.9780832021836,
          84.37510600448869,
          84.77212880679376,
          84.77212880679376,
          84.77212880679376,
          84.77212880679376,
          85.16915160909883,
          85.16915160909883,
          85.16915160909883,
          85.16915160909883,
          85.56617441140392,
          85.56617441140392,
          85.56617441140392,
          85.963197213709,
          85.963197213709,
          85.963197213709,
          85.963197213709,
          85.963197213709,
          86.36022001601407,
          86.36022001601407,
          86.75724281831916,
          87.15426562062424,
          87.55128842292932,
          87.94831122523439,
          87.94831122523439,
          88.34533402753948,
          88.74235682984455,
          88.74235682984455,
          89.53640243445471,
          90.33044803906488,
          90.33044803906488,
          90.72747084136995,
          92.31556205059027
         ],
         "xaxis": "x",
         "y": [
          6.4526420465741896e-15,
          6.389279367213772e-15,
          6.325916687853353e-15,
          6.325916687853353e-15,
          6.199191329132517e-15,
          6.199191329132517e-15,
          6.072465970411679e-15,
          6.072465970411679e-15,
          6.009103291051261e-15,
          5.945740611690844e-15,
          5.945740611690844e-15,
          5.819015252970007e-15,
          5.755652573609588e-15,
          5.755652573609588e-15,
          5.755652573609588e-15,
          5.755652573609588e-15,
          5.755652573609588e-15,
          5.692289894249171e-15,
          5.692289894249171e-15,
          5.692289894249171e-15,
          5.692289894249171e-15,
          5.62892721488875e-15,
          5.62892721488875e-15,
          5.62892721488875e-15,
          5.565564535528333e-15,
          5.565564535528333e-15,
          5.565564535528333e-15,
          5.5022018561679155e-15,
          5.5022018561679155e-15,
          5.5022018561679155e-15,
          5.5022018561679155e-15,
          5.4388391768074965e-15,
          5.4388391768074965e-15,
          5.4388391768074965e-15,
          5.4388391768074965e-15,
          5.375476497447079e-15,
          5.312113818086662e-15,
          5.312113818086662e-15,
          5.312113818086662e-15,
          5.312113818086662e-15,
          5.2487511387262426e-15,
          5.2487511387262426e-15,
          5.2487511387262426e-15,
          5.2487511387262426e-15,
          5.2487511387262426e-15,
          5.1853884593658236e-15,
          5.1853884593658236e-15,
          5.1853884593658236e-15,
          5.1853884593658236e-15,
          5.122025780005406e-15,
          5.058663100644989e-15,
          4.995300421284568e-15,
          4.995300421284568e-15,
          4.931937741924151e-15,
          4.931937741924151e-15,
          4.931937741924151e-15,
          4.931937741924151e-15,
          4.868575062563733e-15,
          4.868575062563733e-15,
          4.868575062563733e-15,
          4.868575062563733e-15,
          4.805212383203314e-15,
          4.805212383203314e-15,
          4.805212383203314e-15,
          4.741849703842895e-15,
          4.678487024482478e-15,
          4.678487024482478e-15,
          4.678487024482478e-15,
          4.678487024482478e-15,
          4.6151243451220604e-15,
          4.6151243451220604e-15,
          4.6151243451220604e-15,
          4.6151243451220604e-15,
          4.55176166576164e-15,
          4.55176166576164e-15,
          4.55176166576164e-15,
          4.488398986401222e-15,
          4.488398986401222e-15,
          4.488398986401222e-15,
          4.488398986401222e-15,
          4.488398986401222e-15,
          4.425036307040805e-15,
          4.425036307040805e-15,
          4.361673627680386e-15,
          4.298310948319967e-15,
          4.2349482689595495e-15,
          4.171585589599132e-15,
          4.171585589599132e-15,
          4.108222910238713e-15,
          4.044860230878296e-15,
          4.044860230878296e-15,
          3.918134872157459e-15,
          3.791409513436621e-15,
          3.791409513436621e-15,
          3.728046834076202e-15,
          3.4745961166345293e-15
         ],
         "yaxis": "y"
        },
        {
         "hovertemplate": "split=test<br>prediction=%{x}<br>residual=%{y}<extra></extra>",
         "legendgroup": "test",
         "marker": {
          "color": "#EF553B",
          "symbol": "circle"
         },
         "mode": "markers",
         "name": "test",
         "orientation": "v",
         "showlegend": true,
         "type": "scatter",
         "x": [
          79.61083237682772,
          86.75724281831916,
          82.78701479526836,
          91.12449364367504,
          81.59594638835313,
          82.38999199296327,
          83.18403759757344,
          86.75724281831916,
          78.81678677221757,
          85.16915160909883,
          83.58106039987851,
          81.9929691906582,
          85.56617441140392,
          79.21380957452264,
          85.56617441140392,
          79.21380957452264,
          83.9780832021836,
          89.53640243445471,
          87.15426562062424,
          86.36022001601407,
          80.80190078374295,
          79.61083237682772,
          85.16915160909883,
          81.59594638835313,
          78.81678677221757,
          86.75724281831916,
          72.46442193533629,
          77.22869556299725,
          77.62571836530232,
          86.36022001601407,
          83.9780832021836,
          86.75724281831916
         ],
         "xaxis": "x",
         "y": [
          1.610832376827716,
          -6.242757181680844,
          -4.212985204731638,
          -0.8755063563249621,
          -0.4040536116468729,
          -0.6100080070367255,
          -0.8159624024265639,
          -2.242757181680844,
          -3.1832132277824314,
          -2.830848390901167,
          2.5810603998785098,
          -6.007030809341799,
          1.5661744114039209,
          1.2138095745226423,
          -1.4338255885960791,
          -8.786190425477358,
          -0.021916797816402322,
          -1.4635975655452853,
          0.1542656206242441,
          -0.6397799839859317,
          -2.1980992162570487,
          1.610832376827716,
          2.169151609098833,
          -6.404053611646873,
          -5.183213227782431,
          2.757242818319156,
          0.46442193533628995,
          4.228695562997245,
          8.625718365302319,
          -3.6397799839859317,
          4.978083202183598,
          3.757242818319156
         ],
         "yaxis": "y"
        },
        {
         "alignmentgroup": "True",
         "hovertemplate": "split=test<br>residual=%{y}<extra></extra>",
         "legendgroup": "test",
         "marker": {
          "color": "#EF553B",
          "symbol": "circle"
         },
         "name": "test",
         "offsetgroup": "test",
         "scalegroup": "y",
         "showlegend": false,
         "type": "violin",
         "xaxis": "x2",
         "y": [
          1.610832376827716,
          -6.242757181680844,
          -4.212985204731638,
          -0.8755063563249621,
          -0.4040536116468729,
          -0.6100080070367255,
          -0.8159624024265639,
          -2.242757181680844,
          -3.1832132277824314,
          -2.830848390901167,
          2.5810603998785098,
          -6.007030809341799,
          1.5661744114039209,
          1.2138095745226423,
          -1.4338255885960791,
          -8.786190425477358,
          -0.021916797816402322,
          -1.4635975655452853,
          0.1542656206242441,
          -0.6397799839859317,
          -2.1980992162570487,
          1.610832376827716,
          2.169151609098833,
          -6.404053611646873,
          -5.183213227782431,
          2.757242818319156,
          0.46442193533628995,
          4.228695562997245,
          8.625718365302319,
          -3.6397799839859317,
          4.978083202183598,
          3.757242818319156
         ],
         "yaxis": "y2"
        },
        {
         "hovertemplate": "<b>OLS trendline</b><br>residual = -0.0658118 * prediction + 4.79432<br>R<sup>2</sup>=0.005026<br><br>split=test<br>prediction=%{x}<br>residual=%{y} <b>(trend)</b><extra></extra>",
         "legendgroup": "test",
         "marker": {
          "color": "#EF553B",
          "symbol": "circle"
         },
         "mode": "lines",
         "name": "test",
         "showlegend": false,
         "type": "scatter",
         "x": [
          72.46442193533629,
          77.22869556299725,
          77.62571836530232,
          78.81678677221757,
          78.81678677221757,
          79.21380957452264,
          79.21380957452264,
          79.61083237682772,
          79.61083237682772,
          80.80190078374295,
          81.59594638835313,
          81.59594638835313,
          81.9929691906582,
          82.38999199296327,
          82.78701479526836,
          83.18403759757344,
          83.58106039987851,
          83.9780832021836,
          83.9780832021836,
          85.16915160909883,
          85.16915160909883,
          85.56617441140392,
          85.56617441140392,
          86.36022001601407,
          86.36022001601407,
          86.75724281831916,
          86.75724281831916,
          86.75724281831916,
          86.75724281831916,
          87.15426562062424,
          89.53640243445471,
          91.12449364367504
         ],
         "xaxis": "x",
         "y": [
          0.02530645331538306,
          -0.28823897518306474,
          -0.31436776089126806,
          -0.39275411801588067,
          -0.39275411801588067,
          -0.418882903724084,
          -0.418882903724084,
          -0.4450116894322882,
          -0.4450116894322882,
          -0.5233980465568999,
          -0.5756556179733083,
          -0.5756556179733083,
          -0.6017844036815125,
          -0.6279131893897159,
          -0.6540419750979201,
          -0.6801707608061243,
          -0.7062995465143276,
          -0.7324283322225318,
          -0.7324283322225318,
          -0.8108146893471435,
          -0.8108146893471435,
          -0.8369434750553486,
          -0.8369434750553486,
          -0.8892010464717552,
          -0.8892010464717552,
          -0.9153298321799603,
          -0.9153298321799603,
          -0.9153298321799603,
          -0.9153298321799603,
          -0.9414586178881645,
          -1.098231332137388,
          -1.202746474970204
         ],
         "yaxis": "y"
        }
       ],
       "layout": {
        "legend": {
         "title": {
          "text": "split"
         },
         "tracegroupgap": 0
        },
        "margin": {
         "t": 60
        },
        "template": {
         "data": {
          "bar": [
           {
            "error_x": {
             "color": "#2a3f5f"
            },
            "error_y": {
             "color": "#2a3f5f"
            },
            "marker": {
             "line": {
              "color": "#E5ECF6",
              "width": 0.5
             }
            },
            "type": "bar"
           }
          ],
          "barpolar": [
           {
            "marker": {
             "line": {
              "color": "#E5ECF6",
              "width": 0.5
             }
            },
            "type": "barpolar"
           }
          ],
          "carpet": [
           {
            "aaxis": {
             "endlinecolor": "#2a3f5f",
             "gridcolor": "white",
             "linecolor": "white",
             "minorgridcolor": "white",
             "startlinecolor": "#2a3f5f"
            },
            "baxis": {
             "endlinecolor": "#2a3f5f",
             "gridcolor": "white",
             "linecolor": "white",
             "minorgridcolor": "white",
             "startlinecolor": "#2a3f5f"
            },
            "type": "carpet"
           }
          ],
          "choropleth": [
           {
            "colorbar": {
             "outlinewidth": 0,
             "ticks": ""
            },
            "type": "choropleth"
           }
          ],
          "contour": [
           {
            "colorbar": {
             "outlinewidth": 0,
             "ticks": ""
            },
            "colorscale": [
             [
              0,
              "#0d0887"
             ],
             [
              0.1111111111111111,
              "#46039f"
             ],
             [
              0.2222222222222222,
              "#7201a8"
             ],
             [
              0.3333333333333333,
              "#9c179e"
             ],
             [
              0.4444444444444444,
              "#bd3786"
             ],
             [
              0.5555555555555556,
              "#d8576b"
             ],
             [
              0.6666666666666666,
              "#ed7953"
             ],
             [
              0.7777777777777778,
              "#fb9f3a"
             ],
             [
              0.8888888888888888,
              "#fdca26"
             ],
             [
              1,
              "#f0f921"
             ]
            ],
            "type": "contour"
           }
          ],
          "contourcarpet": [
           {
            "colorbar": {
             "outlinewidth": 0,
             "ticks": ""
            },
            "type": "contourcarpet"
           }
          ],
          "heatmap": [
           {
            "colorbar": {
             "outlinewidth": 0,
             "ticks": ""
            },
            "colorscale": [
             [
              0,
              "#0d0887"
             ],
             [
              0.1111111111111111,
              "#46039f"
             ],
             [
              0.2222222222222222,
              "#7201a8"
             ],
             [
              0.3333333333333333,
              "#9c179e"
             ],
             [
              0.4444444444444444,
              "#bd3786"
             ],
             [
              0.5555555555555556,
              "#d8576b"
             ],
             [
              0.6666666666666666,
              "#ed7953"
             ],
             [
              0.7777777777777778,
              "#fb9f3a"
             ],
             [
              0.8888888888888888,
              "#fdca26"
             ],
             [
              1,
              "#f0f921"
             ]
            ],
            "type": "heatmap"
           }
          ],
          "heatmapgl": [
           {
            "colorbar": {
             "outlinewidth": 0,
             "ticks": ""
            },
            "colorscale": [
             [
              0,
              "#0d0887"
             ],
             [
              0.1111111111111111,
              "#46039f"
             ],
             [
              0.2222222222222222,
              "#7201a8"
             ],
             [
              0.3333333333333333,
              "#9c179e"
             ],
             [
              0.4444444444444444,
              "#bd3786"
             ],
             [
              0.5555555555555556,
              "#d8576b"
             ],
             [
              0.6666666666666666,
              "#ed7953"
             ],
             [
              0.7777777777777778,
              "#fb9f3a"
             ],
             [
              0.8888888888888888,
              "#fdca26"
             ],
             [
              1,
              "#f0f921"
             ]
            ],
            "type": "heatmapgl"
           }
          ],
          "histogram": [
           {
            "marker": {
             "colorbar": {
              "outlinewidth": 0,
              "ticks": ""
             }
            },
            "type": "histogram"
           }
          ],
          "histogram2d": [
           {
            "colorbar": {
             "outlinewidth": 0,
             "ticks": ""
            },
            "colorscale": [
             [
              0,
              "#0d0887"
             ],
             [
              0.1111111111111111,
              "#46039f"
             ],
             [
              0.2222222222222222,
              "#7201a8"
             ],
             [
              0.3333333333333333,
              "#9c179e"
             ],
             [
              0.4444444444444444,
              "#bd3786"
             ],
             [
              0.5555555555555556,
              "#d8576b"
             ],
             [
              0.6666666666666666,
              "#ed7953"
             ],
             [
              0.7777777777777778,
              "#fb9f3a"
             ],
             [
              0.8888888888888888,
              "#fdca26"
             ],
             [
              1,
              "#f0f921"
             ]
            ],
            "type": "histogram2d"
           }
          ],
          "histogram2dcontour": [
           {
            "colorbar": {
             "outlinewidth": 0,
             "ticks": ""
            },
            "colorscale": [
             [
              0,
              "#0d0887"
             ],
             [
              0.1111111111111111,
              "#46039f"
             ],
             [
              0.2222222222222222,
              "#7201a8"
             ],
             [
              0.3333333333333333,
              "#9c179e"
             ],
             [
              0.4444444444444444,
              "#bd3786"
             ],
             [
              0.5555555555555556,
              "#d8576b"
             ],
             [
              0.6666666666666666,
              "#ed7953"
             ],
             [
              0.7777777777777778,
              "#fb9f3a"
             ],
             [
              0.8888888888888888,
              "#fdca26"
             ],
             [
              1,
              "#f0f921"
             ]
            ],
            "type": "histogram2dcontour"
           }
          ],
          "mesh3d": [
           {
            "colorbar": {
             "outlinewidth": 0,
             "ticks": ""
            },
            "type": "mesh3d"
           }
          ],
          "parcoords": [
           {
            "line": {
             "colorbar": {
              "outlinewidth": 0,
              "ticks": ""
             }
            },
            "type": "parcoords"
           }
          ],
          "pie": [
           {
            "automargin": true,
            "type": "pie"
           }
          ],
          "scatter": [
           {
            "marker": {
             "colorbar": {
              "outlinewidth": 0,
              "ticks": ""
             }
            },
            "type": "scatter"
           }
          ],
          "scatter3d": [
           {
            "line": {
             "colorbar": {
              "outlinewidth": 0,
              "ticks": ""
             }
            },
            "marker": {
             "colorbar": {
              "outlinewidth": 0,
              "ticks": ""
             }
            },
            "type": "scatter3d"
           }
          ],
          "scattercarpet": [
           {
            "marker": {
             "colorbar": {
              "outlinewidth": 0,
              "ticks": ""
             }
            },
            "type": "scattercarpet"
           }
          ],
          "scattergeo": [
           {
            "marker": {
             "colorbar": {
              "outlinewidth": 0,
              "ticks": ""
             }
            },
            "type": "scattergeo"
           }
          ],
          "scattergl": [
           {
            "marker": {
             "colorbar": {
              "outlinewidth": 0,
              "ticks": ""
             }
            },
            "type": "scattergl"
           }
          ],
          "scattermapbox": [
           {
            "marker": {
             "colorbar": {
              "outlinewidth": 0,
              "ticks": ""
             }
            },
            "type": "scattermapbox"
           }
          ],
          "scatterpolar": [
           {
            "marker": {
             "colorbar": {
              "outlinewidth": 0,
              "ticks": ""
             }
            },
            "type": "scatterpolar"
           }
          ],
          "scatterpolargl": [
           {
            "marker": {
             "colorbar": {
              "outlinewidth": 0,
              "ticks": ""
             }
            },
            "type": "scatterpolargl"
           }
          ],
          "scatterternary": [
           {
            "marker": {
             "colorbar": {
              "outlinewidth": 0,
              "ticks": ""
             }
            },
            "type": "scatterternary"
           }
          ],
          "surface": [
           {
            "colorbar": {
             "outlinewidth": 0,
             "ticks": ""
            },
            "colorscale": [
             [
              0,
              "#0d0887"
             ],
             [
              0.1111111111111111,
              "#46039f"
             ],
             [
              0.2222222222222222,
              "#7201a8"
             ],
             [
              0.3333333333333333,
              "#9c179e"
             ],
             [
              0.4444444444444444,
              "#bd3786"
             ],
             [
              0.5555555555555556,
              "#d8576b"
             ],
             [
              0.6666666666666666,
              "#ed7953"
             ],
             [
              0.7777777777777778,
              "#fb9f3a"
             ],
             [
              0.8888888888888888,
              "#fdca26"
             ],
             [
              1,
              "#f0f921"
             ]
            ],
            "type": "surface"
           }
          ],
          "table": [
           {
            "cells": {
             "fill": {
              "color": "#EBF0F8"
             },
             "line": {
              "color": "white"
             }
            },
            "header": {
             "fill": {
              "color": "#C8D4E3"
             },
             "line": {
              "color": "white"
             }
            },
            "type": "table"
           }
          ]
         },
         "layout": {
          "annotationdefaults": {
           "arrowcolor": "#2a3f5f",
           "arrowhead": 0,
           "arrowwidth": 1
          },
          "coloraxis": {
           "colorbar": {
            "outlinewidth": 0,
            "ticks": ""
           }
          },
          "colorscale": {
           "diverging": [
            [
             0,
             "#8e0152"
            ],
            [
             0.1,
             "#c51b7d"
            ],
            [
             0.2,
             "#de77ae"
            ],
            [
             0.3,
             "#f1b6da"
            ],
            [
             0.4,
             "#fde0ef"
            ],
            [
             0.5,
             "#f7f7f7"
            ],
            [
             0.6,
             "#e6f5d0"
            ],
            [
             0.7,
             "#b8e186"
            ],
            [
             0.8,
             "#7fbc41"
            ],
            [
             0.9,
             "#4d9221"
            ],
            [
             1,
             "#276419"
            ]
           ],
           "sequential": [
            [
             0,
             "#0d0887"
            ],
            [
             0.1111111111111111,
             "#46039f"
            ],
            [
             0.2222222222222222,
             "#7201a8"
            ],
            [
             0.3333333333333333,
             "#9c179e"
            ],
            [
             0.4444444444444444,
             "#bd3786"
            ],
            [
             0.5555555555555556,
             "#d8576b"
            ],
            [
             0.6666666666666666,
             "#ed7953"
            ],
            [
             0.7777777777777778,
             "#fb9f3a"
            ],
            [
             0.8888888888888888,
             "#fdca26"
            ],
            [
             1,
             "#f0f921"
            ]
           ],
           "sequentialminus": [
            [
             0,
             "#0d0887"
            ],
            [
             0.1111111111111111,
             "#46039f"
            ],
            [
             0.2222222222222222,
             "#7201a8"
            ],
            [
             0.3333333333333333,
             "#9c179e"
            ],
            [
             0.4444444444444444,
             "#bd3786"
            ],
            [
             0.5555555555555556,
             "#d8576b"
            ],
            [
             0.6666666666666666,
             "#ed7953"
            ],
            [
             0.7777777777777778,
             "#fb9f3a"
            ],
            [
             0.8888888888888888,
             "#fdca26"
            ],
            [
             1,
             "#f0f921"
            ]
           ]
          },
          "colorway": [
           "#636efa",
           "#EF553B",
           "#00cc96",
           "#ab63fa",
           "#FFA15A",
           "#19d3f3",
           "#FF6692",
           "#B6E880",
           "#FF97FF",
           "#FECB52"
          ],
          "font": {
           "color": "#2a3f5f"
          },
          "geo": {
           "bgcolor": "white",
           "lakecolor": "white",
           "landcolor": "#E5ECF6",
           "showlakes": true,
           "showland": true,
           "subunitcolor": "white"
          },
          "hoverlabel": {
           "align": "left"
          },
          "hovermode": "closest",
          "mapbox": {
           "style": "light"
          },
          "paper_bgcolor": "white",
          "plot_bgcolor": "#E5ECF6",
          "polar": {
           "angularaxis": {
            "gridcolor": "white",
            "linecolor": "white",
            "ticks": ""
           },
           "bgcolor": "#E5ECF6",
           "radialaxis": {
            "gridcolor": "white",
            "linecolor": "white",
            "ticks": ""
           }
          },
          "scene": {
           "xaxis": {
            "backgroundcolor": "#E5ECF6",
            "gridcolor": "white",
            "gridwidth": 2,
            "linecolor": "white",
            "showbackground": true,
            "ticks": "",
            "zerolinecolor": "white"
           },
           "yaxis": {
            "backgroundcolor": "#E5ECF6",
            "gridcolor": "white",
            "gridwidth": 2,
            "linecolor": "white",
            "showbackground": true,
            "ticks": "",
            "zerolinecolor": "white"
           },
           "zaxis": {
            "backgroundcolor": "#E5ECF6",
            "gridcolor": "white",
            "gridwidth": 2,
            "linecolor": "white",
            "showbackground": true,
            "ticks": "",
            "zerolinecolor": "white"
           }
          },
          "shapedefaults": {
           "line": {
            "color": "#2a3f5f"
           }
          },
          "ternary": {
           "aaxis": {
            "gridcolor": "white",
            "linecolor": "white",
            "ticks": ""
           },
           "baxis": {
            "gridcolor": "white",
            "linecolor": "white",
            "ticks": ""
           },
           "bgcolor": "#E5ECF6",
           "caxis": {
            "gridcolor": "white",
            "linecolor": "white",
            "ticks": ""
           }
          },
          "title": {
           "x": 0.05
          },
          "xaxis": {
           "automargin": true,
           "gridcolor": "white",
           "linecolor": "white",
           "ticks": "",
           "title": {
            "standoff": 15
           },
           "zerolinecolor": "white",
           "zerolinewidth": 2
          },
          "yaxis": {
           "automargin": true,
           "gridcolor": "white",
           "linecolor": "white",
           "ticks": "",
           "title": {
            "standoff": 15
           },
           "zerolinecolor": "white",
           "zerolinewidth": 2
          }
         }
        },
        "xaxis": {
         "anchor": "y",
         "domain": [
          0,
          0.7363
         ],
         "title": {
          "text": "prediction"
         }
        },
        "xaxis2": {
         "anchor": "y2",
         "domain": [
          0.7413,
          1
         ],
         "matches": "x2",
         "showgrid": false,
         "showline": false,
         "showticklabels": false,
         "ticks": ""
        },
        "yaxis": {
         "anchor": "x",
         "domain": [
          0,
          1
         ],
         "title": {
          "text": "residual"
         }
        },
        "yaxis2": {
         "anchor": "x2",
         "domain": [
          0,
          1
         ],
         "matches": "y",
         "showgrid": true,
         "showticklabels": false
        }
       }
      },
      "text/html": [
       "<div>\n",
       "        \n",
       "        \n",
       "            <div id=\"6c13798c-db2d-41ea-9ed8-6f02a6fc7ab1\" class=\"plotly-graph-div\" style=\"height:525px; width:100%;\"></div>\n",
       "            <script type=\"text/javascript\">\n",
       "                require([\"plotly\"], function(Plotly) {\n",
       "                    window.PLOTLYENV=window.PLOTLYENV || {};\n",
       "                    \n",
       "                if (document.getElementById(\"6c13798c-db2d-41ea-9ed8-6f02a6fc7ab1\")) {\n",
       "                    Plotly.newPlot(\n",
       "                        '6c13798c-db2d-41ea-9ed8-6f02a6fc7ab1',\n",
       "                        [{\"hovertemplate\": \"split=train<br>prediction=%{x}<br>residual=%{y}<extra></extra>\", \"legendgroup\": \"train\", \"marker\": {\"color\": \"#636efa\", \"symbol\": \"circle\"}, \"mode\": \"markers\", \"name\": \"train\", \"orientation\": \"v\", \"showlegend\": true, \"type\": \"scatter\", \"x\": [78.41976396991248, 86.36022001601407, 85.16915160909883, 87.94831122523439, 76.83167276069216, 78.0227411676074, 81.9929691906582, 73.65549034225153, 83.18403759757344, 83.9780832021836, 80.80190078374295, 82.38999199296327, 86.36022001601407, 78.41976396991248, 83.18403759757344, 81.59594638835313, 81.59594638835313, 78.0227411676074, 85.963197213709, 78.81678677221757, 85.963197213709, 79.61083237682772, 81.19892358604804, 81.19892358604804, 83.58106039987851, 81.19892358604804, 83.58106039987851, 74.44953594686169, 90.33044803906488, 82.78701479526836, 80.0078551791328, 84.77212880679376, 85.56617441140392, 79.21380957452264, 88.74235682984455, 76.03762715608201, 79.21380957452264, 83.18403759757344, 81.59594638835313, 78.81678677221757, 85.963197213709, 90.72747084136995, 74.0525131445566, 85.56617441140392, 80.80190078374295, 80.40487798143788, 84.37510600448869, 84.77212880679376, 80.0078551791328, 86.75724281831916, 78.0227411676074, 75.24358155147185, 75.24358155147185, 89.53640243445471, 77.62571836530232, 83.58106039987851, 81.19892358604804, 76.03762715608201, 88.74235682984455, 78.81678677221757, 85.963197213709, 74.44953594686169, 90.33044803906488, 88.34533402753948, 76.43464995838708, 80.0078551791328, 84.77212880679376, 78.41976396991248, 83.9780832021836, 76.83167276069216, 87.94831122523439, 83.18403759757344, 85.963197213709, 78.0227411676074, 92.31556205059027, 83.9780832021836, 80.80190078374295, 81.19892358604804, 83.58106039987851, 84.77212880679376, 80.0078551791328, 87.55128842292932, 81.59594638835313, 82.78701479526836, 79.21380957452264, 85.56617441140392, 85.16915160909883, 79.61083237682772, 79.61083237682772, 85.16915160909883, 87.15426562062424, 78.41976396991248, 80.80190078374295, 79.61083237682772, 85.16915160909883, 78.0227411676074], \"xaxis\": \"x\", \"y\": [0.41976396991248066, 0.3602200160140683, -0.830848390901167, 1.9483112252343915, -9.168327239307843, -8.977258832392593, -3.0070308093417992, 6.655490342251525, -1.815962402426564, -0.021916797816402322, -3.1980992162570487, -0.6100080070367255, -1.6397799839859317, -3.5802360300875193, -4.815962402426564, -1.404053611646873, 2.595946388353127, -3.977258832392593, -5.036802786291005, -3.1832132277824314, -1.0368027862910054, -1.389167623172284, 5.198923586048039, 5.198923586048039, 6.58106039987851, -6.801076413951961, -2.4189396001214902, 5.449535946861687, 1.3304480390648763, -2.2129852047316376, 3.007855179132804, 3.7721288067937593, 4.566174411403921, -0.7861904254773577, -1.257643170155447, 3.03762715608201, 4.213809574522642, -0.8159624024265639, -0.4040536116468729, -3.1832132277824314, -3.0368027862910054, -0.27252915863005, -2.947486855443401, -8.43382558859608, 1.8019007837429513, 1.4048779814378776, 2.3751060044886856, -3.2278711932062407, -2.992144820867196, -3.242757181680844, -3.977258832392593, -8.756418448528152, 6.2435815514718485, 0.5364024344547147, 5.625718365302319, -2.4189396001214902, 0.19892358604803917, 0.03762715608201006, 4.742356829844553, 5.816786772217569, -1.0368027862910054, 0.44953594686168685, 2.3304480390648763, 5.345334027539479, 9.434649958387084, 2.007855179132804, -3.2278711932062407, -3.5802360300875193, -2.0219167978164023, -0.16832723930784255, 0.9483112252343915, -4.815962402426564, -0.03680278629100542, 9.022741167607407, 1.3155620505902732, 2.9780832021835977, 1.8019007837429513, -1.8010764139519608, -1.4189396001214902, -2.2278711932062407, -2.992144820867196, 3.551288422929318, 3.595946388353127, 0.7870147952683624, 12.213809574522642, 4.566174411403921, -3.830848390901167, -3.389167623172284, 5.610832376827716, 5.169151609098833, 5.154265620624244, -7.580236030087519, 1.8019007837429513, -8.389167623172284, -6.830848390901167, 3.022741167607407], \"yaxis\": \"y\"}, {\"alignmentgroup\": \"True\", \"hovertemplate\": \"split=train<br>residual=%{y}<extra></extra>\", \"legendgroup\": \"train\", \"marker\": {\"color\": \"#636efa\", \"symbol\": \"circle\"}, \"name\": \"train\", \"offsetgroup\": \"train\", \"scalegroup\": \"y\", \"showlegend\": false, \"type\": \"violin\", \"xaxis\": \"x2\", \"y\": [0.41976396991248066, 0.3602200160140683, -0.830848390901167, 1.9483112252343915, -9.168327239307843, -8.977258832392593, -3.0070308093417992, 6.655490342251525, -1.815962402426564, -0.021916797816402322, -3.1980992162570487, -0.6100080070367255, -1.6397799839859317, -3.5802360300875193, -4.815962402426564, -1.404053611646873, 2.595946388353127, -3.977258832392593, -5.036802786291005, -3.1832132277824314, -1.0368027862910054, -1.389167623172284, 5.198923586048039, 5.198923586048039, 6.58106039987851, -6.801076413951961, -2.4189396001214902, 5.449535946861687, 1.3304480390648763, -2.2129852047316376, 3.007855179132804, 3.7721288067937593, 4.566174411403921, -0.7861904254773577, -1.257643170155447, 3.03762715608201, 4.213809574522642, -0.8159624024265639, -0.4040536116468729, -3.1832132277824314, -3.0368027862910054, -0.27252915863005, -2.947486855443401, -8.43382558859608, 1.8019007837429513, 1.4048779814378776, 2.3751060044886856, -3.2278711932062407, -2.992144820867196, -3.242757181680844, -3.977258832392593, -8.756418448528152, 6.2435815514718485, 0.5364024344547147, 5.625718365302319, -2.4189396001214902, 0.19892358604803917, 0.03762715608201006, 4.742356829844553, 5.816786772217569, -1.0368027862910054, 0.44953594686168685, 2.3304480390648763, 5.345334027539479, 9.434649958387084, 2.007855179132804, -3.2278711932062407, -3.5802360300875193, -2.0219167978164023, -0.16832723930784255, 0.9483112252343915, -4.815962402426564, -0.03680278629100542, 9.022741167607407, 1.3155620505902732, 2.9780832021835977, 1.8019007837429513, -1.8010764139519608, -1.4189396001214902, -2.2278711932062407, -2.992144820867196, 3.551288422929318, 3.595946388353127, 0.7870147952683624, 12.213809574522642, 4.566174411403921, -3.830848390901167, -3.389167623172284, 5.610832376827716, 5.169151609098833, 5.154265620624244, -7.580236030087519, 1.8019007837429513, -8.389167623172284, -6.830848390901167, 3.022741167607407], \"yaxis\": \"y2\"}, {\"hovertemplate\": \"<b>OLS trendline</b><br>residual = -1.59595e-16 * prediction + 1.82077e-14<br>R<sup>2</sup>=0.000000<br><br>split=train<br>prediction=%{x}<br>residual=%{y} <b>(trend)</b><extra></extra>\", \"legendgroup\": \"train\", \"marker\": {\"color\": \"#636efa\", \"symbol\": \"circle\"}, \"mode\": \"lines\", \"name\": \"train\", \"showlegend\": false, \"type\": \"scatter\", \"x\": [73.65549034225153, 74.0525131445566, 74.44953594686169, 74.44953594686169, 75.24358155147185, 75.24358155147185, 76.03762715608201, 76.03762715608201, 76.43464995838708, 76.83167276069216, 76.83167276069216, 77.62571836530232, 78.0227411676074, 78.0227411676074, 78.0227411676074, 78.0227411676074, 78.0227411676074, 78.41976396991248, 78.41976396991248, 78.41976396991248, 78.41976396991248, 78.81678677221757, 78.81678677221757, 78.81678677221757, 79.21380957452264, 79.21380957452264, 79.21380957452264, 79.61083237682772, 79.61083237682772, 79.61083237682772, 79.61083237682772, 80.0078551791328, 80.0078551791328, 80.0078551791328, 80.0078551791328, 80.40487798143788, 80.80190078374295, 80.80190078374295, 80.80190078374295, 80.80190078374295, 81.19892358604804, 81.19892358604804, 81.19892358604804, 81.19892358604804, 81.19892358604804, 81.59594638835313, 81.59594638835313, 81.59594638835313, 81.59594638835313, 81.9929691906582, 82.38999199296327, 82.78701479526836, 82.78701479526836, 83.18403759757344, 83.18403759757344, 83.18403759757344, 83.18403759757344, 83.58106039987851, 83.58106039987851, 83.58106039987851, 83.58106039987851, 83.9780832021836, 83.9780832021836, 83.9780832021836, 84.37510600448869, 84.77212880679376, 84.77212880679376, 84.77212880679376, 84.77212880679376, 85.16915160909883, 85.16915160909883, 85.16915160909883, 85.16915160909883, 85.56617441140392, 85.56617441140392, 85.56617441140392, 85.963197213709, 85.963197213709, 85.963197213709, 85.963197213709, 85.963197213709, 86.36022001601407, 86.36022001601407, 86.75724281831916, 87.15426562062424, 87.55128842292932, 87.94831122523439, 87.94831122523439, 88.34533402753948, 88.74235682984455, 88.74235682984455, 89.53640243445471, 90.33044803906488, 90.33044803906488, 90.72747084136995, 92.31556205059027], \"xaxis\": \"x\", \"y\": [6.4526420465741896e-15, 6.389279367213772e-15, 6.325916687853353e-15, 6.325916687853353e-15, 6.199191329132517e-15, 6.199191329132517e-15, 6.072465970411679e-15, 6.072465970411679e-15, 6.009103291051261e-15, 5.945740611690844e-15, 5.945740611690844e-15, 5.819015252970007e-15, 5.755652573609588e-15, 5.755652573609588e-15, 5.755652573609588e-15, 5.755652573609588e-15, 5.755652573609588e-15, 5.692289894249171e-15, 5.692289894249171e-15, 5.692289894249171e-15, 5.692289894249171e-15, 5.62892721488875e-15, 5.62892721488875e-15, 5.62892721488875e-15, 5.565564535528333e-15, 5.565564535528333e-15, 5.565564535528333e-15, 5.5022018561679155e-15, 5.5022018561679155e-15, 5.5022018561679155e-15, 5.5022018561679155e-15, 5.4388391768074965e-15, 5.4388391768074965e-15, 5.4388391768074965e-15, 5.4388391768074965e-15, 5.375476497447079e-15, 5.312113818086662e-15, 5.312113818086662e-15, 5.312113818086662e-15, 5.312113818086662e-15, 5.2487511387262426e-15, 5.2487511387262426e-15, 5.2487511387262426e-15, 5.2487511387262426e-15, 5.2487511387262426e-15, 5.1853884593658236e-15, 5.1853884593658236e-15, 5.1853884593658236e-15, 5.1853884593658236e-15, 5.122025780005406e-15, 5.058663100644989e-15, 4.995300421284568e-15, 4.995300421284568e-15, 4.931937741924151e-15, 4.931937741924151e-15, 4.931937741924151e-15, 4.931937741924151e-15, 4.868575062563733e-15, 4.868575062563733e-15, 4.868575062563733e-15, 4.868575062563733e-15, 4.805212383203314e-15, 4.805212383203314e-15, 4.805212383203314e-15, 4.741849703842895e-15, 4.678487024482478e-15, 4.678487024482478e-15, 4.678487024482478e-15, 4.678487024482478e-15, 4.6151243451220604e-15, 4.6151243451220604e-15, 4.6151243451220604e-15, 4.6151243451220604e-15, 4.55176166576164e-15, 4.55176166576164e-15, 4.55176166576164e-15, 4.488398986401222e-15, 4.488398986401222e-15, 4.488398986401222e-15, 4.488398986401222e-15, 4.488398986401222e-15, 4.425036307040805e-15, 4.425036307040805e-15, 4.361673627680386e-15, 4.298310948319967e-15, 4.2349482689595495e-15, 4.171585589599132e-15, 4.171585589599132e-15, 4.108222910238713e-15, 4.044860230878296e-15, 4.044860230878296e-15, 3.918134872157459e-15, 3.791409513436621e-15, 3.791409513436621e-15, 3.728046834076202e-15, 3.4745961166345293e-15], \"yaxis\": \"y\"}, {\"hovertemplate\": \"split=test<br>prediction=%{x}<br>residual=%{y}<extra></extra>\", \"legendgroup\": \"test\", \"marker\": {\"color\": \"#EF553B\", \"symbol\": \"circle\"}, \"mode\": \"markers\", \"name\": \"test\", \"orientation\": \"v\", \"showlegend\": true, \"type\": \"scatter\", \"x\": [79.61083237682772, 86.75724281831916, 82.78701479526836, 91.12449364367504, 81.59594638835313, 82.38999199296327, 83.18403759757344, 86.75724281831916, 78.81678677221757, 85.16915160909883, 83.58106039987851, 81.9929691906582, 85.56617441140392, 79.21380957452264, 85.56617441140392, 79.21380957452264, 83.9780832021836, 89.53640243445471, 87.15426562062424, 86.36022001601407, 80.80190078374295, 79.61083237682772, 85.16915160909883, 81.59594638835313, 78.81678677221757, 86.75724281831916, 72.46442193533629, 77.22869556299725, 77.62571836530232, 86.36022001601407, 83.9780832021836, 86.75724281831916], \"xaxis\": \"x\", \"y\": [1.610832376827716, -6.242757181680844, -4.212985204731638, -0.8755063563249621, -0.4040536116468729, -0.6100080070367255, -0.8159624024265639, -2.242757181680844, -3.1832132277824314, -2.830848390901167, 2.5810603998785098, -6.007030809341799, 1.5661744114039209, 1.2138095745226423, -1.4338255885960791, -8.786190425477358, -0.021916797816402322, -1.4635975655452853, 0.1542656206242441, -0.6397799839859317, -2.1980992162570487, 1.610832376827716, 2.169151609098833, -6.404053611646873, -5.183213227782431, 2.757242818319156, 0.46442193533628995, 4.228695562997245, 8.625718365302319, -3.6397799839859317, 4.978083202183598, 3.757242818319156], \"yaxis\": \"y\"}, {\"alignmentgroup\": \"True\", \"hovertemplate\": \"split=test<br>residual=%{y}<extra></extra>\", \"legendgroup\": \"test\", \"marker\": {\"color\": \"#EF553B\", \"symbol\": \"circle\"}, \"name\": \"test\", \"offsetgroup\": \"test\", \"scalegroup\": \"y\", \"showlegend\": false, \"type\": \"violin\", \"xaxis\": \"x2\", \"y\": [1.610832376827716, -6.242757181680844, -4.212985204731638, -0.8755063563249621, -0.4040536116468729, -0.6100080070367255, -0.8159624024265639, -2.242757181680844, -3.1832132277824314, -2.830848390901167, 2.5810603998785098, -6.007030809341799, 1.5661744114039209, 1.2138095745226423, -1.4338255885960791, -8.786190425477358, -0.021916797816402322, -1.4635975655452853, 0.1542656206242441, -0.6397799839859317, -2.1980992162570487, 1.610832376827716, 2.169151609098833, -6.404053611646873, -5.183213227782431, 2.757242818319156, 0.46442193533628995, 4.228695562997245, 8.625718365302319, -3.6397799839859317, 4.978083202183598, 3.757242818319156], \"yaxis\": \"y2\"}, {\"hovertemplate\": \"<b>OLS trendline</b><br>residual = -0.0658118 * prediction + 4.79432<br>R<sup>2</sup>=0.005026<br><br>split=test<br>prediction=%{x}<br>residual=%{y} <b>(trend)</b><extra></extra>\", \"legendgroup\": \"test\", \"marker\": {\"color\": \"#EF553B\", \"symbol\": \"circle\"}, \"mode\": \"lines\", \"name\": \"test\", \"showlegend\": false, \"type\": \"scatter\", \"x\": [72.46442193533629, 77.22869556299725, 77.62571836530232, 78.81678677221757, 78.81678677221757, 79.21380957452264, 79.21380957452264, 79.61083237682772, 79.61083237682772, 80.80190078374295, 81.59594638835313, 81.59594638835313, 81.9929691906582, 82.38999199296327, 82.78701479526836, 83.18403759757344, 83.58106039987851, 83.9780832021836, 83.9780832021836, 85.16915160909883, 85.16915160909883, 85.56617441140392, 85.56617441140392, 86.36022001601407, 86.36022001601407, 86.75724281831916, 86.75724281831916, 86.75724281831916, 86.75724281831916, 87.15426562062424, 89.53640243445471, 91.12449364367504], \"xaxis\": \"x\", \"y\": [0.02530645331538306, -0.28823897518306474, -0.31436776089126806, -0.39275411801588067, -0.39275411801588067, -0.418882903724084, -0.418882903724084, -0.4450116894322882, -0.4450116894322882, -0.5233980465568999, -0.5756556179733083, -0.5756556179733083, -0.6017844036815125, -0.6279131893897159, -0.6540419750979201, -0.6801707608061243, -0.7062995465143276, -0.7324283322225318, -0.7324283322225318, -0.8108146893471435, -0.8108146893471435, -0.8369434750553486, -0.8369434750553486, -0.8892010464717552, -0.8892010464717552, -0.9153298321799603, -0.9153298321799603, -0.9153298321799603, -0.9153298321799603, -0.9414586178881645, -1.098231332137388, -1.202746474970204], \"yaxis\": \"y\"}],\n",
       "                        {\"legend\": {\"title\": {\"text\": \"split\"}, \"tracegroupgap\": 0}, \"margin\": {\"t\": 60}, \"template\": {\"data\": {\"bar\": [{\"error_x\": {\"color\": \"#2a3f5f\"}, \"error_y\": {\"color\": \"#2a3f5f\"}, \"marker\": {\"line\": {\"color\": \"#E5ECF6\", \"width\": 0.5}}, \"type\": \"bar\"}], \"barpolar\": [{\"marker\": {\"line\": {\"color\": \"#E5ECF6\", \"width\": 0.5}}, \"type\": \"barpolar\"}], \"carpet\": [{\"aaxis\": {\"endlinecolor\": \"#2a3f5f\", \"gridcolor\": \"white\", \"linecolor\": \"white\", \"minorgridcolor\": \"white\", \"startlinecolor\": \"#2a3f5f\"}, \"baxis\": {\"endlinecolor\": \"#2a3f5f\", \"gridcolor\": \"white\", \"linecolor\": \"white\", \"minorgridcolor\": \"white\", \"startlinecolor\": \"#2a3f5f\"}, \"type\": \"carpet\"}], \"choropleth\": [{\"colorbar\": {\"outlinewidth\": 0, \"ticks\": \"\"}, \"type\": \"choropleth\"}], \"contour\": [{\"colorbar\": {\"outlinewidth\": 0, \"ticks\": \"\"}, \"colorscale\": [[0.0, \"#0d0887\"], [0.1111111111111111, \"#46039f\"], [0.2222222222222222, \"#7201a8\"], [0.3333333333333333, \"#9c179e\"], [0.4444444444444444, \"#bd3786\"], [0.5555555555555556, \"#d8576b\"], [0.6666666666666666, \"#ed7953\"], [0.7777777777777778, \"#fb9f3a\"], [0.8888888888888888, \"#fdca26\"], [1.0, \"#f0f921\"]], \"type\": \"contour\"}], \"contourcarpet\": [{\"colorbar\": {\"outlinewidth\": 0, \"ticks\": \"\"}, \"type\": \"contourcarpet\"}], \"heatmap\": [{\"colorbar\": {\"outlinewidth\": 0, \"ticks\": \"\"}, \"colorscale\": [[0.0, \"#0d0887\"], [0.1111111111111111, \"#46039f\"], [0.2222222222222222, \"#7201a8\"], [0.3333333333333333, \"#9c179e\"], [0.4444444444444444, \"#bd3786\"], [0.5555555555555556, \"#d8576b\"], [0.6666666666666666, \"#ed7953\"], [0.7777777777777778, \"#fb9f3a\"], [0.8888888888888888, \"#fdca26\"], [1.0, \"#f0f921\"]], \"type\": \"heatmap\"}], \"heatmapgl\": [{\"colorbar\": {\"outlinewidth\": 0, \"ticks\": \"\"}, \"colorscale\": [[0.0, \"#0d0887\"], [0.1111111111111111, \"#46039f\"], [0.2222222222222222, \"#7201a8\"], [0.3333333333333333, \"#9c179e\"], [0.4444444444444444, \"#bd3786\"], [0.5555555555555556, \"#d8576b\"], [0.6666666666666666, \"#ed7953\"], [0.7777777777777778, \"#fb9f3a\"], [0.8888888888888888, \"#fdca26\"], [1.0, \"#f0f921\"]], \"type\": \"heatmapgl\"}], \"histogram\": [{\"marker\": {\"colorbar\": {\"outlinewidth\": 0, \"ticks\": \"\"}}, \"type\": \"histogram\"}], \"histogram2d\": [{\"colorbar\": {\"outlinewidth\": 0, \"ticks\": \"\"}, \"colorscale\": [[0.0, \"#0d0887\"], [0.1111111111111111, \"#46039f\"], [0.2222222222222222, \"#7201a8\"], [0.3333333333333333, \"#9c179e\"], [0.4444444444444444, \"#bd3786\"], [0.5555555555555556, \"#d8576b\"], [0.6666666666666666, \"#ed7953\"], [0.7777777777777778, \"#fb9f3a\"], [0.8888888888888888, \"#fdca26\"], [1.0, \"#f0f921\"]], \"type\": \"histogram2d\"}], \"histogram2dcontour\": [{\"colorbar\": {\"outlinewidth\": 0, \"ticks\": \"\"}, \"colorscale\": [[0.0, \"#0d0887\"], [0.1111111111111111, \"#46039f\"], [0.2222222222222222, \"#7201a8\"], [0.3333333333333333, \"#9c179e\"], [0.4444444444444444, \"#bd3786\"], [0.5555555555555556, \"#d8576b\"], [0.6666666666666666, \"#ed7953\"], [0.7777777777777778, \"#fb9f3a\"], [0.8888888888888888, \"#fdca26\"], [1.0, \"#f0f921\"]], \"type\": \"histogram2dcontour\"}], \"mesh3d\": [{\"colorbar\": {\"outlinewidth\": 0, \"ticks\": \"\"}, \"type\": \"mesh3d\"}], \"parcoords\": [{\"line\": {\"colorbar\": {\"outlinewidth\": 0, \"ticks\": \"\"}}, \"type\": \"parcoords\"}], \"pie\": [{\"automargin\": true, \"type\": \"pie\"}], \"scatter\": [{\"marker\": {\"colorbar\": {\"outlinewidth\": 0, \"ticks\": \"\"}}, \"type\": \"scatter\"}], \"scatter3d\": [{\"line\": {\"colorbar\": {\"outlinewidth\": 0, \"ticks\": \"\"}}, \"marker\": {\"colorbar\": {\"outlinewidth\": 0, \"ticks\": \"\"}}, \"type\": \"scatter3d\"}], \"scattercarpet\": [{\"marker\": {\"colorbar\": {\"outlinewidth\": 0, \"ticks\": \"\"}}, \"type\": \"scattercarpet\"}], \"scattergeo\": [{\"marker\": {\"colorbar\": {\"outlinewidth\": 0, \"ticks\": \"\"}}, \"type\": \"scattergeo\"}], \"scattergl\": [{\"marker\": {\"colorbar\": {\"outlinewidth\": 0, \"ticks\": \"\"}}, \"type\": \"scattergl\"}], \"scattermapbox\": [{\"marker\": {\"colorbar\": {\"outlinewidth\": 0, \"ticks\": \"\"}}, \"type\": \"scattermapbox\"}], \"scatterpolar\": [{\"marker\": {\"colorbar\": {\"outlinewidth\": 0, \"ticks\": \"\"}}, \"type\": \"scatterpolar\"}], \"scatterpolargl\": [{\"marker\": {\"colorbar\": {\"outlinewidth\": 0, \"ticks\": \"\"}}, \"type\": \"scatterpolargl\"}], \"scatterternary\": [{\"marker\": {\"colorbar\": {\"outlinewidth\": 0, \"ticks\": \"\"}}, \"type\": \"scatterternary\"}], \"surface\": [{\"colorbar\": {\"outlinewidth\": 0, \"ticks\": \"\"}, \"colorscale\": [[0.0, \"#0d0887\"], [0.1111111111111111, \"#46039f\"], [0.2222222222222222, \"#7201a8\"], [0.3333333333333333, \"#9c179e\"], [0.4444444444444444, \"#bd3786\"], [0.5555555555555556, \"#d8576b\"], [0.6666666666666666, \"#ed7953\"], [0.7777777777777778, \"#fb9f3a\"], [0.8888888888888888, \"#fdca26\"], [1.0, \"#f0f921\"]], \"type\": \"surface\"}], \"table\": [{\"cells\": {\"fill\": {\"color\": \"#EBF0F8\"}, \"line\": {\"color\": \"white\"}}, \"header\": {\"fill\": {\"color\": \"#C8D4E3\"}, \"line\": {\"color\": \"white\"}}, \"type\": \"table\"}]}, \"layout\": {\"annotationdefaults\": {\"arrowcolor\": \"#2a3f5f\", \"arrowhead\": 0, \"arrowwidth\": 1}, \"coloraxis\": {\"colorbar\": {\"outlinewidth\": 0, \"ticks\": \"\"}}, \"colorscale\": {\"diverging\": [[0, \"#8e0152\"], [0.1, \"#c51b7d\"], [0.2, \"#de77ae\"], [0.3, \"#f1b6da\"], [0.4, \"#fde0ef\"], [0.5, \"#f7f7f7\"], [0.6, \"#e6f5d0\"], [0.7, \"#b8e186\"], [0.8, \"#7fbc41\"], [0.9, \"#4d9221\"], [1, \"#276419\"]], \"sequential\": [[0.0, \"#0d0887\"], [0.1111111111111111, \"#46039f\"], [0.2222222222222222, \"#7201a8\"], [0.3333333333333333, \"#9c179e\"], [0.4444444444444444, \"#bd3786\"], [0.5555555555555556, \"#d8576b\"], [0.6666666666666666, \"#ed7953\"], [0.7777777777777778, \"#fb9f3a\"], [0.8888888888888888, \"#fdca26\"], [1.0, \"#f0f921\"]], \"sequentialminus\": [[0.0, \"#0d0887\"], [0.1111111111111111, \"#46039f\"], [0.2222222222222222, \"#7201a8\"], [0.3333333333333333, \"#9c179e\"], [0.4444444444444444, \"#bd3786\"], [0.5555555555555556, \"#d8576b\"], [0.6666666666666666, \"#ed7953\"], [0.7777777777777778, \"#fb9f3a\"], [0.8888888888888888, \"#fdca26\"], [1.0, \"#f0f921\"]]}, \"colorway\": [\"#636efa\", \"#EF553B\", \"#00cc96\", \"#ab63fa\", \"#FFA15A\", \"#19d3f3\", \"#FF6692\", \"#B6E880\", \"#FF97FF\", \"#FECB52\"], \"font\": {\"color\": \"#2a3f5f\"}, \"geo\": {\"bgcolor\": \"white\", \"lakecolor\": \"white\", \"landcolor\": \"#E5ECF6\", \"showlakes\": true, \"showland\": true, \"subunitcolor\": \"white\"}, \"hoverlabel\": {\"align\": \"left\"}, \"hovermode\": \"closest\", \"mapbox\": {\"style\": \"light\"}, \"paper_bgcolor\": \"white\", \"plot_bgcolor\": \"#E5ECF6\", \"polar\": {\"angularaxis\": {\"gridcolor\": \"white\", \"linecolor\": \"white\", \"ticks\": \"\"}, \"bgcolor\": \"#E5ECF6\", \"radialaxis\": {\"gridcolor\": \"white\", \"linecolor\": \"white\", \"ticks\": \"\"}}, \"scene\": {\"xaxis\": {\"backgroundcolor\": \"#E5ECF6\", \"gridcolor\": \"white\", \"gridwidth\": 2, \"linecolor\": \"white\", \"showbackground\": true, \"ticks\": \"\", \"zerolinecolor\": \"white\"}, \"yaxis\": {\"backgroundcolor\": \"#E5ECF6\", \"gridcolor\": \"white\", \"gridwidth\": 2, \"linecolor\": \"white\", \"showbackground\": true, \"ticks\": \"\", \"zerolinecolor\": \"white\"}, \"zaxis\": {\"backgroundcolor\": \"#E5ECF6\", \"gridcolor\": \"white\", \"gridwidth\": 2, \"linecolor\": \"white\", \"showbackground\": true, \"ticks\": \"\", \"zerolinecolor\": \"white\"}}, \"shapedefaults\": {\"line\": {\"color\": \"#2a3f5f\"}}, \"ternary\": {\"aaxis\": {\"gridcolor\": \"white\", \"linecolor\": \"white\", \"ticks\": \"\"}, \"baxis\": {\"gridcolor\": \"white\", \"linecolor\": \"white\", \"ticks\": \"\"}, \"bgcolor\": \"#E5ECF6\", \"caxis\": {\"gridcolor\": \"white\", \"linecolor\": \"white\", \"ticks\": \"\"}}, \"title\": {\"x\": 0.05}, \"xaxis\": {\"automargin\": true, \"gridcolor\": \"white\", \"linecolor\": \"white\", \"ticks\": \"\", \"title\": {\"standoff\": 15}, \"zerolinecolor\": \"white\", \"zerolinewidth\": 2}, \"yaxis\": {\"automargin\": true, \"gridcolor\": \"white\", \"linecolor\": \"white\", \"ticks\": \"\", \"title\": {\"standoff\": 15}, \"zerolinecolor\": \"white\", \"zerolinewidth\": 2}}}, \"xaxis\": {\"anchor\": \"y\", \"domain\": [0.0, 0.7363], \"title\": {\"text\": \"prediction\"}}, \"xaxis2\": {\"anchor\": \"y2\", \"domain\": [0.7413, 1.0], \"matches\": \"x2\", \"showgrid\": false, \"showline\": false, \"showticklabels\": false, \"ticks\": \"\"}, \"yaxis\": {\"anchor\": \"x\", \"domain\": [0.0, 1.0], \"title\": {\"text\": \"residual\"}}, \"yaxis2\": {\"anchor\": \"x2\", \"domain\": [0.0, 1.0], \"matches\": \"y\", \"showgrid\": true, \"showticklabels\": false}},\n",
       "                        {\"responsive\": true}\n",
       "                    ).then(function(){\n",
       "                            \n",
       "var gd = document.getElementById('6c13798c-db2d-41ea-9ed8-6f02a6fc7ab1');\n",
       "var x = new MutationObserver(function (mutations, observer) {{\n",
       "        var display = window.getComputedStyle(gd).display;\n",
       "        if (!display || display === 'none') {{\n",
       "            console.log([gd, 'removed!']);\n",
       "            Plotly.purge(gd);\n",
       "            observer.disconnect();\n",
       "        }}\n",
       "}});\n",
       "\n",
       "// Listen for the removal of the full notebook cells\n",
       "var notebookContainer = gd.closest('#notebook-container');\n",
       "if (notebookContainer) {{\n",
       "    x.observe(notebookContainer, {childList: true});\n",
       "}}\n",
       "\n",
       "// Listen for the clearing of the current output cell\n",
       "var outputEl = gd.closest('.output');\n",
       "if (outputEl) {{\n",
       "    x.observe(outputEl, {childList: true});\n",
       "}}\n",
       "\n",
       "                        })\n",
       "                };\n",
       "                });\n",
       "            </script>\n",
       "        </div>"
      ]
     },
     "metadata": {},
     "output_type": "display_data"
    }
   ],
   "source": [
    "# Residual plots with plotly\n",
    "\n",
    "df1 = df.ball_possession\n",
    "\n",
    "# Split data into training and test splits\n",
    "train_idx, test_idx = train_test_split(df1.index, test_size=0.25, random_state=0)\n",
    "df['split'] = 'train'\n",
    "df.loc[test_idx, 'split'] = 'test'\n",
    "\n",
    "X = df['ball_possession'].values.reshape(-1, 1)\n",
    "X_train = df.loc[train_idx, ['ball_possession']]\n",
    "y_trian = df.loc[train_idx, ['pass_accuracy']]\n",
    "\n",
    "# Condition the model on Ball Possession, predict the Pass Accuracy\n",
    "model = LinearRegression()\n",
    "model.fit(X_train, y_train)\n",
    "df['prediction'] = model.predict(X)\n",
    "df['residual'] = df['prediction'] - df['pass_accuracy']\n",
    "\n",
    "fig = px.scatter(df, x='prediction', y='residual', marginal_y='violin', color='split', trendline='ols')\n",
    "fig.show()"
   ]
  },
  {
   "cell_type": "markdown",
   "metadata": {},
   "source": [
    "####  Observations\n",
    "\n",
    "1. First, using numpy polyfit function, the optimal parameters, the slope and intercept, are computed. The results show that the slope is 0.4056 and the intercept is 62.2786. We then plug those values into the linear regression equation, we finally obtain the best fit regression line, Pass Accuracy (%) = 0.4056 * ball possession (%) + 62.2786 as shown above.\n",
    "\n",
    "2. Let's plot this best fit line on the grid. I used the plotly graphing library in drawing the line since it conveniently provides the linear regression equation on the grid. If comparing the optimal parameters with each other, we confirm that those values are identical.\n",
    "\n",
    "3. Beneath the scatterplot, we see the descriptive statistics of the linear regression model. I will simply go through 4 figures in the table.\n",
    "    1. R-squared\n",
    "        1. R-squared explains to what extent the variance of one variable explains the variance of the other variable. So, we see the R-squared is 0.51, meaning that 51% of the observed variation in Pass Accuray can be explained by the Ball Possession.\n",
    "    2. Coefficients: constant and x1\n",
    "        1. Basically, they are the optimal parameters we computed above.\n",
    "        2. The constant is the intercept, and the x1 is the slope.\n",
    "        3. The slope represents the mean change in the response variable for one unit of change in the predictor variable while holding other predictors in the model constant. Put it simply, the slope 0.40 means that the pass accuracy will increase by 0.40% when the ball possession increases by 1%.\n",
    "    3. P-value\n",
    "        1. The p-value for each parameter tests the null hypothesis that the coefficient is equal to zero (no effect). \n",
    "        2. A low p-value (< 0.05) indicates that we can reject the null hypothesis. In other words, a predictor that has a low p-value is likely to be a meaningful addition to a model because changes in the predictor's value are related to changes in the response variable.\n",
    "        3. In our model, a very low p-value means that changes in Ball possession's value are related to changes in the Pass Accuracy.\n",
    "\n",
    "4. Lastly, the residual plot is useful for evaluating the fit of a model. It seems that the values of Ball Possession between 30% and 50% have larger variance compared to the other values between 50% and 70%, but considered as a whole, we see a random scatter of points, meaning the linear regression model fits well a set of values."
   ]
  },
  {
   "cell_type": "markdown",
   "metadata": {},
   "source": [
    "#### <a href='#Table of Contents'>[Move to the Table of Contents]</a>\n",
    "<a id='Prediction with linear regression'></a>\n",
    "### 4) Prediction with linear regression\n",
    "#### (1) Predicted output vs. Actual output"
   ]
  },
  {
   "cell_type": "code",
   "execution_count": 21,
   "metadata": {},
   "outputs": [
    {
     "data": {
      "application/vnd.plotly.v1+json": {
       "config": {
        "plotlyServerURL": "https://plot.ly"
       },
       "data": [
        {
         "hovertemplate": "Ground truth=%{x}<br>Prediction=%{y}<extra></extra>",
         "legendgroup": "",
         "marker": {
          "color": "#636efa",
          "symbol": "circle"
         },
         "mode": "markers",
         "name": "",
         "orientation": "v",
         "showlegend": false,
         "type": "scatter",
         "x": [
          78,
          86,
          78,
          86,
          86,
          86,
          87,
          93,
          87,
          85,
          92,
          67,
          85,
          82,
          84,
          84,
          83,
          83,
          88,
          82,
          88,
          83,
          84,
          79,
          89,
          82,
          82,
          91,
          82,
          87,
          88,
          81,
          76,
          81,
          76,
          77,
          88,
          86,
          69,
          89,
          88,
          85,
          77,
          81,
          81,
          80,
          90,
          73,
          84,
          75,
          78,
          87,
          84,
          82,
          82,
          89,
          91,
          77,
          94,
          88,
          84,
          79,
          79,
          82,
          88,
          83,
          90,
          82,
          91,
          84,
          69,
          89,
          72,
          87,
          86,
          81,
          76,
          84,
          73,
          87,
          74,
          88,
          83,
          67,
          78,
          88,
          87,
          82,
          86,
          83,
          78,
          83,
          77,
          87,
          88,
          88,
          84,
          86,
          69,
          84,
          91,
          72,
          81,
          79,
          83,
          85,
          87,
          83,
          73,
          84,
          78,
          82,
          67,
          81,
          89,
          83,
          74,
          80,
          69,
          82,
          86,
          90,
          79,
          79,
          88,
          92,
          75,
          83
         ],
         "xaxis": "x",
         "y": [
          78.50201417450991,
          86.61369807854012,
          79.71876676011443,
          85.39694549293559,
          88.23603485934616,
          76.87967739370387,
          78.0964299793084,
          87.01928227374162,
          82.96344032172652,
          82.1522719313235,
          91.48070842095825,
          73.63500383209178,
          83.36902451692804,
          81.746687736122,
          84.18019290733105,
          80.93551934571897,
          82.55785612652501,
          82.55785612652501,
          86.61369807854012,
          78.50201417450991,
          83.36902451692804,
          81.746687736122,
          83.36902451692804,
          81.746687736122,
          87.01928227374162,
          78.0964299793084,
          78.90759836971142,
          86.2081138833386,
          78.90759836971142,
          86.2081138833386,
          85.39694549293559,
          79.71876676011443,
          81.34110354092047,
          83.77460871212955,
          81.34110354092047,
          83.77460871212955,
          81.34110354092047,
          83.77460871212955,
          74.4461722224948,
          90.66954003055523,
          82.1522719313235,
          82.96344032172652,
          80.12435095531595,
          84.99136129773407,
          85.8025296881371,
          79.31318256491292,
          89.04720324974917,
          76.06850900330085,
          85.8025296881371,
          79.31318256491292,
          79.31318256491292,
          85.8025296881371,
          83.36902451692804,
          81.746687736122,
          78.90759836971142,
          86.2081138833386,
          91.07512422575672,
          74.0405880272933,
          85.8025296881371,
          79.31318256491292,
          84.18019290733105,
          80.93551934571897,
          80.52993515051746,
          84.58577710253256,
          84.99136129773407,
          80.12435095531595,
          87.01928227374162,
          78.0964299793084,
          89.8583716401522,
          75.25734061289782,
          75.25734061289782,
          89.8583716401522,
          77.69084578410688,
          87.42486646894314,
          83.77460871212955,
          81.34110354092047,
          76.06850900330085,
          89.04720324974917,
          78.90759836971142,
          86.2081138833386,
          74.4461722224948,
          90.66954003055523,
          88.64161905454768,
          76.47409319850236,
          80.12435095531595,
          84.99136129773407,
          86.61369807854012,
          78.50201417450991,
          84.18019290733105,
          80.93551934571897,
          79.71876676011443,
          85.39694549293559,
          76.87967739370387,
          88.23603485934616,
          81.746687736122,
          83.36902451692804,
          78.90759836971142,
          86.2081138833386,
          78.0964299793084,
          87.01928227374162,
          92.69746100656278,
          72.41825124648724,
          84.18019290733105,
          80.93551934571897,
          81.34110354092047,
          83.77460871212955,
          84.99136129773407,
          80.12435095531595,
          77.28526158890537,
          87.83045066414465,
          81.746687736122,
          82.96344032172652,
          79.31318256491292,
          85.8025296881371,
          85.39694549293559,
          79.71876676011443,
          79.71876676011443,
          85.39694549293559,
          77.69084578410688,
          87.42486646894314,
          78.50201417450991,
          86.61369807854012,
          84.18019290733105,
          80.93551934571897,
          79.71876676011443,
          85.39694549293559,
          78.0964299793084,
          87.01928227374162
         ],
         "yaxis": "y"
        }
       ],
       "layout": {
        "legend": {
         "tracegroupgap": 0
        },
        "margin": {
         "t": 60
        },
        "shapes": [
         {
          "line": {
           "dash": "dash"
          },
          "type": "line",
          "x0": 67,
          "x1": 94,
          "y0": 67,
          "y1": 94
         }
        ],
        "template": {
         "data": {
          "bar": [
           {
            "error_x": {
             "color": "#2a3f5f"
            },
            "error_y": {
             "color": "#2a3f5f"
            },
            "marker": {
             "line": {
              "color": "#E5ECF6",
              "width": 0.5
             }
            },
            "type": "bar"
           }
          ],
          "barpolar": [
           {
            "marker": {
             "line": {
              "color": "#E5ECF6",
              "width": 0.5
             }
            },
            "type": "barpolar"
           }
          ],
          "carpet": [
           {
            "aaxis": {
             "endlinecolor": "#2a3f5f",
             "gridcolor": "white",
             "linecolor": "white",
             "minorgridcolor": "white",
             "startlinecolor": "#2a3f5f"
            },
            "baxis": {
             "endlinecolor": "#2a3f5f",
             "gridcolor": "white",
             "linecolor": "white",
             "minorgridcolor": "white",
             "startlinecolor": "#2a3f5f"
            },
            "type": "carpet"
           }
          ],
          "choropleth": [
           {
            "colorbar": {
             "outlinewidth": 0,
             "ticks": ""
            },
            "type": "choropleth"
           }
          ],
          "contour": [
           {
            "colorbar": {
             "outlinewidth": 0,
             "ticks": ""
            },
            "colorscale": [
             [
              0,
              "#0d0887"
             ],
             [
              0.1111111111111111,
              "#46039f"
             ],
             [
              0.2222222222222222,
              "#7201a8"
             ],
             [
              0.3333333333333333,
              "#9c179e"
             ],
             [
              0.4444444444444444,
              "#bd3786"
             ],
             [
              0.5555555555555556,
              "#d8576b"
             ],
             [
              0.6666666666666666,
              "#ed7953"
             ],
             [
              0.7777777777777778,
              "#fb9f3a"
             ],
             [
              0.8888888888888888,
              "#fdca26"
             ],
             [
              1,
              "#f0f921"
             ]
            ],
            "type": "contour"
           }
          ],
          "contourcarpet": [
           {
            "colorbar": {
             "outlinewidth": 0,
             "ticks": ""
            },
            "type": "contourcarpet"
           }
          ],
          "heatmap": [
           {
            "colorbar": {
             "outlinewidth": 0,
             "ticks": ""
            },
            "colorscale": [
             [
              0,
              "#0d0887"
             ],
             [
              0.1111111111111111,
              "#46039f"
             ],
             [
              0.2222222222222222,
              "#7201a8"
             ],
             [
              0.3333333333333333,
              "#9c179e"
             ],
             [
              0.4444444444444444,
              "#bd3786"
             ],
             [
              0.5555555555555556,
              "#d8576b"
             ],
             [
              0.6666666666666666,
              "#ed7953"
             ],
             [
              0.7777777777777778,
              "#fb9f3a"
             ],
             [
              0.8888888888888888,
              "#fdca26"
             ],
             [
              1,
              "#f0f921"
             ]
            ],
            "type": "heatmap"
           }
          ],
          "heatmapgl": [
           {
            "colorbar": {
             "outlinewidth": 0,
             "ticks": ""
            },
            "colorscale": [
             [
              0,
              "#0d0887"
             ],
             [
              0.1111111111111111,
              "#46039f"
             ],
             [
              0.2222222222222222,
              "#7201a8"
             ],
             [
              0.3333333333333333,
              "#9c179e"
             ],
             [
              0.4444444444444444,
              "#bd3786"
             ],
             [
              0.5555555555555556,
              "#d8576b"
             ],
             [
              0.6666666666666666,
              "#ed7953"
             ],
             [
              0.7777777777777778,
              "#fb9f3a"
             ],
             [
              0.8888888888888888,
              "#fdca26"
             ],
             [
              1,
              "#f0f921"
             ]
            ],
            "type": "heatmapgl"
           }
          ],
          "histogram": [
           {
            "marker": {
             "colorbar": {
              "outlinewidth": 0,
              "ticks": ""
             }
            },
            "type": "histogram"
           }
          ],
          "histogram2d": [
           {
            "colorbar": {
             "outlinewidth": 0,
             "ticks": ""
            },
            "colorscale": [
             [
              0,
              "#0d0887"
             ],
             [
              0.1111111111111111,
              "#46039f"
             ],
             [
              0.2222222222222222,
              "#7201a8"
             ],
             [
              0.3333333333333333,
              "#9c179e"
             ],
             [
              0.4444444444444444,
              "#bd3786"
             ],
             [
              0.5555555555555556,
              "#d8576b"
             ],
             [
              0.6666666666666666,
              "#ed7953"
             ],
             [
              0.7777777777777778,
              "#fb9f3a"
             ],
             [
              0.8888888888888888,
              "#fdca26"
             ],
             [
              1,
              "#f0f921"
             ]
            ],
            "type": "histogram2d"
           }
          ],
          "histogram2dcontour": [
           {
            "colorbar": {
             "outlinewidth": 0,
             "ticks": ""
            },
            "colorscale": [
             [
              0,
              "#0d0887"
             ],
             [
              0.1111111111111111,
              "#46039f"
             ],
             [
              0.2222222222222222,
              "#7201a8"
             ],
             [
              0.3333333333333333,
              "#9c179e"
             ],
             [
              0.4444444444444444,
              "#bd3786"
             ],
             [
              0.5555555555555556,
              "#d8576b"
             ],
             [
              0.6666666666666666,
              "#ed7953"
             ],
             [
              0.7777777777777778,
              "#fb9f3a"
             ],
             [
              0.8888888888888888,
              "#fdca26"
             ],
             [
              1,
              "#f0f921"
             ]
            ],
            "type": "histogram2dcontour"
           }
          ],
          "mesh3d": [
           {
            "colorbar": {
             "outlinewidth": 0,
             "ticks": ""
            },
            "type": "mesh3d"
           }
          ],
          "parcoords": [
           {
            "line": {
             "colorbar": {
              "outlinewidth": 0,
              "ticks": ""
             }
            },
            "type": "parcoords"
           }
          ],
          "pie": [
           {
            "automargin": true,
            "type": "pie"
           }
          ],
          "scatter": [
           {
            "marker": {
             "colorbar": {
              "outlinewidth": 0,
              "ticks": ""
             }
            },
            "type": "scatter"
           }
          ],
          "scatter3d": [
           {
            "line": {
             "colorbar": {
              "outlinewidth": 0,
              "ticks": ""
             }
            },
            "marker": {
             "colorbar": {
              "outlinewidth": 0,
              "ticks": ""
             }
            },
            "type": "scatter3d"
           }
          ],
          "scattercarpet": [
           {
            "marker": {
             "colorbar": {
              "outlinewidth": 0,
              "ticks": ""
             }
            },
            "type": "scattercarpet"
           }
          ],
          "scattergeo": [
           {
            "marker": {
             "colorbar": {
              "outlinewidth": 0,
              "ticks": ""
             }
            },
            "type": "scattergeo"
           }
          ],
          "scattergl": [
           {
            "marker": {
             "colorbar": {
              "outlinewidth": 0,
              "ticks": ""
             }
            },
            "type": "scattergl"
           }
          ],
          "scattermapbox": [
           {
            "marker": {
             "colorbar": {
              "outlinewidth": 0,
              "ticks": ""
             }
            },
            "type": "scattermapbox"
           }
          ],
          "scatterpolar": [
           {
            "marker": {
             "colorbar": {
              "outlinewidth": 0,
              "ticks": ""
             }
            },
            "type": "scatterpolar"
           }
          ],
          "scatterpolargl": [
           {
            "marker": {
             "colorbar": {
              "outlinewidth": 0,
              "ticks": ""
             }
            },
            "type": "scatterpolargl"
           }
          ],
          "scatterternary": [
           {
            "marker": {
             "colorbar": {
              "outlinewidth": 0,
              "ticks": ""
             }
            },
            "type": "scatterternary"
           }
          ],
          "surface": [
           {
            "colorbar": {
             "outlinewidth": 0,
             "ticks": ""
            },
            "colorscale": [
             [
              0,
              "#0d0887"
             ],
             [
              0.1111111111111111,
              "#46039f"
             ],
             [
              0.2222222222222222,
              "#7201a8"
             ],
             [
              0.3333333333333333,
              "#9c179e"
             ],
             [
              0.4444444444444444,
              "#bd3786"
             ],
             [
              0.5555555555555556,
              "#d8576b"
             ],
             [
              0.6666666666666666,
              "#ed7953"
             ],
             [
              0.7777777777777778,
              "#fb9f3a"
             ],
             [
              0.8888888888888888,
              "#fdca26"
             ],
             [
              1,
              "#f0f921"
             ]
            ],
            "type": "surface"
           }
          ],
          "table": [
           {
            "cells": {
             "fill": {
              "color": "#EBF0F8"
             },
             "line": {
              "color": "white"
             }
            },
            "header": {
             "fill": {
              "color": "#C8D4E3"
             },
             "line": {
              "color": "white"
             }
            },
            "type": "table"
           }
          ]
         },
         "layout": {
          "annotationdefaults": {
           "arrowcolor": "#2a3f5f",
           "arrowhead": 0,
           "arrowwidth": 1
          },
          "coloraxis": {
           "colorbar": {
            "outlinewidth": 0,
            "ticks": ""
           }
          },
          "colorscale": {
           "diverging": [
            [
             0,
             "#8e0152"
            ],
            [
             0.1,
             "#c51b7d"
            ],
            [
             0.2,
             "#de77ae"
            ],
            [
             0.3,
             "#f1b6da"
            ],
            [
             0.4,
             "#fde0ef"
            ],
            [
             0.5,
             "#f7f7f7"
            ],
            [
             0.6,
             "#e6f5d0"
            ],
            [
             0.7,
             "#b8e186"
            ],
            [
             0.8,
             "#7fbc41"
            ],
            [
             0.9,
             "#4d9221"
            ],
            [
             1,
             "#276419"
            ]
           ],
           "sequential": [
            [
             0,
             "#0d0887"
            ],
            [
             0.1111111111111111,
             "#46039f"
            ],
            [
             0.2222222222222222,
             "#7201a8"
            ],
            [
             0.3333333333333333,
             "#9c179e"
            ],
            [
             0.4444444444444444,
             "#bd3786"
            ],
            [
             0.5555555555555556,
             "#d8576b"
            ],
            [
             0.6666666666666666,
             "#ed7953"
            ],
            [
             0.7777777777777778,
             "#fb9f3a"
            ],
            [
             0.8888888888888888,
             "#fdca26"
            ],
            [
             1,
             "#f0f921"
            ]
           ],
           "sequentialminus": [
            [
             0,
             "#0d0887"
            ],
            [
             0.1111111111111111,
             "#46039f"
            ],
            [
             0.2222222222222222,
             "#7201a8"
            ],
            [
             0.3333333333333333,
             "#9c179e"
            ],
            [
             0.4444444444444444,
             "#bd3786"
            ],
            [
             0.5555555555555556,
             "#d8576b"
            ],
            [
             0.6666666666666666,
             "#ed7953"
            ],
            [
             0.7777777777777778,
             "#fb9f3a"
            ],
            [
             0.8888888888888888,
             "#fdca26"
            ],
            [
             1,
             "#f0f921"
            ]
           ]
          },
          "colorway": [
           "#636efa",
           "#EF553B",
           "#00cc96",
           "#ab63fa",
           "#FFA15A",
           "#19d3f3",
           "#FF6692",
           "#B6E880",
           "#FF97FF",
           "#FECB52"
          ],
          "font": {
           "color": "#2a3f5f"
          },
          "geo": {
           "bgcolor": "white",
           "lakecolor": "white",
           "landcolor": "#E5ECF6",
           "showlakes": true,
           "showland": true,
           "subunitcolor": "white"
          },
          "hoverlabel": {
           "align": "left"
          },
          "hovermode": "closest",
          "mapbox": {
           "style": "light"
          },
          "paper_bgcolor": "white",
          "plot_bgcolor": "#E5ECF6",
          "polar": {
           "angularaxis": {
            "gridcolor": "white",
            "linecolor": "white",
            "ticks": ""
           },
           "bgcolor": "#E5ECF6",
           "radialaxis": {
            "gridcolor": "white",
            "linecolor": "white",
            "ticks": ""
           }
          },
          "scene": {
           "xaxis": {
            "backgroundcolor": "#E5ECF6",
            "gridcolor": "white",
            "gridwidth": 2,
            "linecolor": "white",
            "showbackground": true,
            "ticks": "",
            "zerolinecolor": "white"
           },
           "yaxis": {
            "backgroundcolor": "#E5ECF6",
            "gridcolor": "white",
            "gridwidth": 2,
            "linecolor": "white",
            "showbackground": true,
            "ticks": "",
            "zerolinecolor": "white"
           },
           "zaxis": {
            "backgroundcolor": "#E5ECF6",
            "gridcolor": "white",
            "gridwidth": 2,
            "linecolor": "white",
            "showbackground": true,
            "ticks": "",
            "zerolinecolor": "white"
           }
          },
          "shapedefaults": {
           "line": {
            "color": "#2a3f5f"
           }
          },
          "ternary": {
           "aaxis": {
            "gridcolor": "white",
            "linecolor": "white",
            "ticks": ""
           },
           "baxis": {
            "gridcolor": "white",
            "linecolor": "white",
            "ticks": ""
           },
           "bgcolor": "#E5ECF6",
           "caxis": {
            "gridcolor": "white",
            "linecolor": "white",
            "ticks": ""
           }
          },
          "title": {
           "x": 0.05
          },
          "xaxis": {
           "automargin": true,
           "gridcolor": "white",
           "linecolor": "white",
           "ticks": "",
           "title": {
            "standoff": 15
           },
           "zerolinecolor": "white",
           "zerolinewidth": 2
          },
          "yaxis": {
           "automargin": true,
           "gridcolor": "white",
           "linecolor": "white",
           "ticks": "",
           "title": {
            "standoff": 15
           },
           "zerolinecolor": "white",
           "zerolinewidth": 2
          }
         }
        },
        "xaxis": {
         "anchor": "y",
         "domain": [
          0,
          1
         ],
         "title": {
          "text": "Ground truth"
         }
        },
        "yaxis": {
         "anchor": "x",
         "domain": [
          0,
          1
         ],
         "title": {
          "text": "Prediction"
         }
        }
       }
      },
      "text/html": [
       "<div>\n",
       "        \n",
       "        \n",
       "            <div id=\"df18571f-1b08-4da3-b9c0-56f1c1be6cf5\" class=\"plotly-graph-div\" style=\"height:525px; width:100%;\"></div>\n",
       "            <script type=\"text/javascript\">\n",
       "                require([\"plotly\"], function(Plotly) {\n",
       "                    window.PLOTLYENV=window.PLOTLYENV || {};\n",
       "                    \n",
       "                if (document.getElementById(\"df18571f-1b08-4da3-b9c0-56f1c1be6cf5\")) {\n",
       "                    Plotly.newPlot(\n",
       "                        'df18571f-1b08-4da3-b9c0-56f1c1be6cf5',\n",
       "                        [{\"hovertemplate\": \"Ground truth=%{x}<br>Prediction=%{y}<extra></extra>\", \"legendgroup\": \"\", \"marker\": {\"color\": \"#636efa\", \"symbol\": \"circle\"}, \"mode\": \"markers\", \"name\": \"\", \"orientation\": \"v\", \"showlegend\": false, \"type\": \"scatter\", \"x\": [78, 86, 78, 86, 86, 86, 87, 93, 87, 85, 92, 67, 85, 82, 84, 84, 83, 83, 88, 82, 88, 83, 84, 79, 89, 82, 82, 91, 82, 87, 88, 81, 76, 81, 76, 77, 88, 86, 69, 89, 88, 85, 77, 81, 81, 80, 90, 73, 84, 75, 78, 87, 84, 82, 82, 89, 91, 77, 94, 88, 84, 79, 79, 82, 88, 83, 90, 82, 91, 84, 69, 89, 72, 87, 86, 81, 76, 84, 73, 87, 74, 88, 83, 67, 78, 88, 87, 82, 86, 83, 78, 83, 77, 87, 88, 88, 84, 86, 69, 84, 91, 72, 81, 79, 83, 85, 87, 83, 73, 84, 78, 82, 67, 81, 89, 83, 74, 80, 69, 82, 86, 90, 79, 79, 88, 92, 75, 83], \"xaxis\": \"x\", \"y\": [78.50201417450991, 86.61369807854012, 79.71876676011443, 85.39694549293559, 88.23603485934616, 76.87967739370387, 78.0964299793084, 87.01928227374162, 82.96344032172652, 82.1522719313235, 91.48070842095825, 73.63500383209178, 83.36902451692804, 81.746687736122, 84.18019290733105, 80.93551934571897, 82.55785612652501, 82.55785612652501, 86.61369807854012, 78.50201417450991, 83.36902451692804, 81.746687736122, 83.36902451692804, 81.746687736122, 87.01928227374162, 78.0964299793084, 78.90759836971142, 86.2081138833386, 78.90759836971142, 86.2081138833386, 85.39694549293559, 79.71876676011443, 81.34110354092047, 83.77460871212955, 81.34110354092047, 83.77460871212955, 81.34110354092047, 83.77460871212955, 74.4461722224948, 90.66954003055523, 82.1522719313235, 82.96344032172652, 80.12435095531595, 84.99136129773407, 85.8025296881371, 79.31318256491292, 89.04720324974917, 76.06850900330085, 85.8025296881371, 79.31318256491292, 79.31318256491292, 85.8025296881371, 83.36902451692804, 81.746687736122, 78.90759836971142, 86.2081138833386, 91.07512422575672, 74.0405880272933, 85.8025296881371, 79.31318256491292, 84.18019290733105, 80.93551934571897, 80.52993515051746, 84.58577710253256, 84.99136129773407, 80.12435095531595, 87.01928227374162, 78.0964299793084, 89.8583716401522, 75.25734061289782, 75.25734061289782, 89.8583716401522, 77.69084578410688, 87.42486646894314, 83.77460871212955, 81.34110354092047, 76.06850900330085, 89.04720324974917, 78.90759836971142, 86.2081138833386, 74.4461722224948, 90.66954003055523, 88.64161905454768, 76.47409319850236, 80.12435095531595, 84.99136129773407, 86.61369807854012, 78.50201417450991, 84.18019290733105, 80.93551934571897, 79.71876676011443, 85.39694549293559, 76.87967739370387, 88.23603485934616, 81.746687736122, 83.36902451692804, 78.90759836971142, 86.2081138833386, 78.0964299793084, 87.01928227374162, 92.69746100656278, 72.41825124648724, 84.18019290733105, 80.93551934571897, 81.34110354092047, 83.77460871212955, 84.99136129773407, 80.12435095531595, 77.28526158890537, 87.83045066414465, 81.746687736122, 82.96344032172652, 79.31318256491292, 85.8025296881371, 85.39694549293559, 79.71876676011443, 79.71876676011443, 85.39694549293559, 77.69084578410688, 87.42486646894314, 78.50201417450991, 86.61369807854012, 84.18019290733105, 80.93551934571897, 79.71876676011443, 85.39694549293559, 78.0964299793084, 87.01928227374162], \"yaxis\": \"y\"}],\n",
       "                        {\"legend\": {\"tracegroupgap\": 0}, \"margin\": {\"t\": 60}, \"shapes\": [{\"line\": {\"dash\": \"dash\"}, \"type\": \"line\", \"x0\": 67, \"x1\": 94, \"y0\": 67, \"y1\": 94}], \"template\": {\"data\": {\"bar\": [{\"error_x\": {\"color\": \"#2a3f5f\"}, \"error_y\": {\"color\": \"#2a3f5f\"}, \"marker\": {\"line\": {\"color\": \"#E5ECF6\", \"width\": 0.5}}, \"type\": \"bar\"}], \"barpolar\": [{\"marker\": {\"line\": {\"color\": \"#E5ECF6\", \"width\": 0.5}}, \"type\": \"barpolar\"}], \"carpet\": [{\"aaxis\": {\"endlinecolor\": \"#2a3f5f\", \"gridcolor\": \"white\", \"linecolor\": \"white\", \"minorgridcolor\": \"white\", \"startlinecolor\": \"#2a3f5f\"}, \"baxis\": {\"endlinecolor\": \"#2a3f5f\", \"gridcolor\": \"white\", \"linecolor\": \"white\", \"minorgridcolor\": \"white\", \"startlinecolor\": \"#2a3f5f\"}, \"type\": \"carpet\"}], \"choropleth\": [{\"colorbar\": {\"outlinewidth\": 0, \"ticks\": \"\"}, \"type\": \"choropleth\"}], \"contour\": [{\"colorbar\": {\"outlinewidth\": 0, \"ticks\": \"\"}, \"colorscale\": [[0.0, \"#0d0887\"], [0.1111111111111111, \"#46039f\"], [0.2222222222222222, \"#7201a8\"], [0.3333333333333333, \"#9c179e\"], [0.4444444444444444, \"#bd3786\"], [0.5555555555555556, \"#d8576b\"], [0.6666666666666666, \"#ed7953\"], [0.7777777777777778, \"#fb9f3a\"], [0.8888888888888888, \"#fdca26\"], [1.0, \"#f0f921\"]], \"type\": \"contour\"}], \"contourcarpet\": [{\"colorbar\": {\"outlinewidth\": 0, \"ticks\": \"\"}, \"type\": \"contourcarpet\"}], \"heatmap\": [{\"colorbar\": {\"outlinewidth\": 0, \"ticks\": \"\"}, \"colorscale\": [[0.0, \"#0d0887\"], [0.1111111111111111, \"#46039f\"], [0.2222222222222222, \"#7201a8\"], [0.3333333333333333, \"#9c179e\"], [0.4444444444444444, \"#bd3786\"], [0.5555555555555556, \"#d8576b\"], [0.6666666666666666, \"#ed7953\"], [0.7777777777777778, \"#fb9f3a\"], [0.8888888888888888, \"#fdca26\"], [1.0, \"#f0f921\"]], \"type\": \"heatmap\"}], \"heatmapgl\": [{\"colorbar\": {\"outlinewidth\": 0, \"ticks\": \"\"}, \"colorscale\": [[0.0, \"#0d0887\"], [0.1111111111111111, \"#46039f\"], [0.2222222222222222, \"#7201a8\"], [0.3333333333333333, \"#9c179e\"], [0.4444444444444444, \"#bd3786\"], [0.5555555555555556, \"#d8576b\"], [0.6666666666666666, \"#ed7953\"], [0.7777777777777778, \"#fb9f3a\"], [0.8888888888888888, \"#fdca26\"], [1.0, \"#f0f921\"]], \"type\": \"heatmapgl\"}], \"histogram\": [{\"marker\": {\"colorbar\": {\"outlinewidth\": 0, \"ticks\": \"\"}}, \"type\": \"histogram\"}], \"histogram2d\": [{\"colorbar\": {\"outlinewidth\": 0, \"ticks\": \"\"}, \"colorscale\": [[0.0, \"#0d0887\"], [0.1111111111111111, \"#46039f\"], [0.2222222222222222, \"#7201a8\"], [0.3333333333333333, \"#9c179e\"], [0.4444444444444444, \"#bd3786\"], [0.5555555555555556, \"#d8576b\"], [0.6666666666666666, \"#ed7953\"], [0.7777777777777778, \"#fb9f3a\"], [0.8888888888888888, \"#fdca26\"], [1.0, \"#f0f921\"]], \"type\": \"histogram2d\"}], \"histogram2dcontour\": [{\"colorbar\": {\"outlinewidth\": 0, \"ticks\": \"\"}, \"colorscale\": [[0.0, \"#0d0887\"], [0.1111111111111111, \"#46039f\"], [0.2222222222222222, \"#7201a8\"], [0.3333333333333333, \"#9c179e\"], [0.4444444444444444, \"#bd3786\"], [0.5555555555555556, \"#d8576b\"], [0.6666666666666666, \"#ed7953\"], [0.7777777777777778, \"#fb9f3a\"], [0.8888888888888888, \"#fdca26\"], [1.0, \"#f0f921\"]], \"type\": \"histogram2dcontour\"}], \"mesh3d\": [{\"colorbar\": {\"outlinewidth\": 0, \"ticks\": \"\"}, \"type\": \"mesh3d\"}], \"parcoords\": [{\"line\": {\"colorbar\": {\"outlinewidth\": 0, \"ticks\": \"\"}}, \"type\": \"parcoords\"}], \"pie\": [{\"automargin\": true, \"type\": \"pie\"}], \"scatter\": [{\"marker\": {\"colorbar\": {\"outlinewidth\": 0, \"ticks\": \"\"}}, \"type\": \"scatter\"}], \"scatter3d\": [{\"line\": {\"colorbar\": {\"outlinewidth\": 0, \"ticks\": \"\"}}, \"marker\": {\"colorbar\": {\"outlinewidth\": 0, \"ticks\": \"\"}}, \"type\": \"scatter3d\"}], \"scattercarpet\": [{\"marker\": {\"colorbar\": {\"outlinewidth\": 0, \"ticks\": \"\"}}, \"type\": \"scattercarpet\"}], \"scattergeo\": [{\"marker\": {\"colorbar\": {\"outlinewidth\": 0, \"ticks\": \"\"}}, \"type\": \"scattergeo\"}], \"scattergl\": [{\"marker\": {\"colorbar\": {\"outlinewidth\": 0, \"ticks\": \"\"}}, \"type\": \"scattergl\"}], \"scattermapbox\": [{\"marker\": {\"colorbar\": {\"outlinewidth\": 0, \"ticks\": \"\"}}, \"type\": \"scattermapbox\"}], \"scatterpolar\": [{\"marker\": {\"colorbar\": {\"outlinewidth\": 0, \"ticks\": \"\"}}, \"type\": \"scatterpolar\"}], \"scatterpolargl\": [{\"marker\": {\"colorbar\": {\"outlinewidth\": 0, \"ticks\": \"\"}}, \"type\": \"scatterpolargl\"}], \"scatterternary\": [{\"marker\": {\"colorbar\": {\"outlinewidth\": 0, \"ticks\": \"\"}}, \"type\": \"scatterternary\"}], \"surface\": [{\"colorbar\": {\"outlinewidth\": 0, \"ticks\": \"\"}, \"colorscale\": [[0.0, \"#0d0887\"], [0.1111111111111111, \"#46039f\"], [0.2222222222222222, \"#7201a8\"], [0.3333333333333333, \"#9c179e\"], [0.4444444444444444, \"#bd3786\"], [0.5555555555555556, \"#d8576b\"], [0.6666666666666666, \"#ed7953\"], [0.7777777777777778, \"#fb9f3a\"], [0.8888888888888888, \"#fdca26\"], [1.0, \"#f0f921\"]], \"type\": \"surface\"}], \"table\": [{\"cells\": {\"fill\": {\"color\": \"#EBF0F8\"}, \"line\": {\"color\": \"white\"}}, \"header\": {\"fill\": {\"color\": \"#C8D4E3\"}, \"line\": {\"color\": \"white\"}}, \"type\": \"table\"}]}, \"layout\": {\"annotationdefaults\": {\"arrowcolor\": \"#2a3f5f\", \"arrowhead\": 0, \"arrowwidth\": 1}, \"coloraxis\": {\"colorbar\": {\"outlinewidth\": 0, \"ticks\": \"\"}}, \"colorscale\": {\"diverging\": [[0, \"#8e0152\"], [0.1, \"#c51b7d\"], [0.2, \"#de77ae\"], [0.3, \"#f1b6da\"], [0.4, \"#fde0ef\"], [0.5, \"#f7f7f7\"], [0.6, \"#e6f5d0\"], [0.7, \"#b8e186\"], [0.8, \"#7fbc41\"], [0.9, \"#4d9221\"], [1, \"#276419\"]], \"sequential\": [[0.0, \"#0d0887\"], [0.1111111111111111, \"#46039f\"], [0.2222222222222222, \"#7201a8\"], [0.3333333333333333, \"#9c179e\"], [0.4444444444444444, \"#bd3786\"], [0.5555555555555556, \"#d8576b\"], [0.6666666666666666, \"#ed7953\"], [0.7777777777777778, \"#fb9f3a\"], [0.8888888888888888, \"#fdca26\"], [1.0, \"#f0f921\"]], \"sequentialminus\": [[0.0, \"#0d0887\"], [0.1111111111111111, \"#46039f\"], [0.2222222222222222, \"#7201a8\"], [0.3333333333333333, \"#9c179e\"], [0.4444444444444444, \"#bd3786\"], [0.5555555555555556, \"#d8576b\"], [0.6666666666666666, \"#ed7953\"], [0.7777777777777778, \"#fb9f3a\"], [0.8888888888888888, \"#fdca26\"], [1.0, \"#f0f921\"]]}, \"colorway\": [\"#636efa\", \"#EF553B\", \"#00cc96\", \"#ab63fa\", \"#FFA15A\", \"#19d3f3\", \"#FF6692\", \"#B6E880\", \"#FF97FF\", \"#FECB52\"], \"font\": {\"color\": \"#2a3f5f\"}, \"geo\": {\"bgcolor\": \"white\", \"lakecolor\": \"white\", \"landcolor\": \"#E5ECF6\", \"showlakes\": true, \"showland\": true, \"subunitcolor\": \"white\"}, \"hoverlabel\": {\"align\": \"left\"}, \"hovermode\": \"closest\", \"mapbox\": {\"style\": \"light\"}, \"paper_bgcolor\": \"white\", \"plot_bgcolor\": \"#E5ECF6\", \"polar\": {\"angularaxis\": {\"gridcolor\": \"white\", \"linecolor\": \"white\", \"ticks\": \"\"}, \"bgcolor\": \"#E5ECF6\", \"radialaxis\": {\"gridcolor\": \"white\", \"linecolor\": \"white\", \"ticks\": \"\"}}, \"scene\": {\"xaxis\": {\"backgroundcolor\": \"#E5ECF6\", \"gridcolor\": \"white\", \"gridwidth\": 2, \"linecolor\": \"white\", \"showbackground\": true, \"ticks\": \"\", \"zerolinecolor\": \"white\"}, \"yaxis\": {\"backgroundcolor\": \"#E5ECF6\", \"gridcolor\": \"white\", \"gridwidth\": 2, \"linecolor\": \"white\", \"showbackground\": true, \"ticks\": \"\", \"zerolinecolor\": \"white\"}, \"zaxis\": {\"backgroundcolor\": \"#E5ECF6\", \"gridcolor\": \"white\", \"gridwidth\": 2, \"linecolor\": \"white\", \"showbackground\": true, \"ticks\": \"\", \"zerolinecolor\": \"white\"}}, \"shapedefaults\": {\"line\": {\"color\": \"#2a3f5f\"}}, \"ternary\": {\"aaxis\": {\"gridcolor\": \"white\", \"linecolor\": \"white\", \"ticks\": \"\"}, \"baxis\": {\"gridcolor\": \"white\", \"linecolor\": \"white\", \"ticks\": \"\"}, \"bgcolor\": \"#E5ECF6\", \"caxis\": {\"gridcolor\": \"white\", \"linecolor\": \"white\", \"ticks\": \"\"}}, \"title\": {\"x\": 0.05}, \"xaxis\": {\"automargin\": true, \"gridcolor\": \"white\", \"linecolor\": \"white\", \"ticks\": \"\", \"title\": {\"standoff\": 15}, \"zerolinecolor\": \"white\", \"zerolinewidth\": 2}, \"yaxis\": {\"automargin\": true, \"gridcolor\": \"white\", \"linecolor\": \"white\", \"ticks\": \"\", \"title\": {\"standoff\": 15}, \"zerolinecolor\": \"white\", \"zerolinewidth\": 2}}}, \"xaxis\": {\"anchor\": \"y\", \"domain\": [0.0, 1.0], \"title\": {\"text\": \"Ground truth\"}}, \"yaxis\": {\"anchor\": \"x\", \"domain\": [0.0, 1.0], \"title\": {\"text\": \"Prediction\"}}},\n",
       "                        {\"responsive\": true}\n",
       "                    ).then(function(){\n",
       "                            \n",
       "var gd = document.getElementById('df18571f-1b08-4da3-b9c0-56f1c1be6cf5');\n",
       "var x = new MutationObserver(function (mutations, observer) {{\n",
       "        var display = window.getComputedStyle(gd).display;\n",
       "        if (!display || display === 'none') {{\n",
       "            console.log([gd, 'removed!']);\n",
       "            Plotly.purge(gd);\n",
       "            observer.disconnect();\n",
       "        }}\n",
       "}});\n",
       "\n",
       "// Listen for the removal of the full notebook cells\n",
       "var notebookContainer = gd.closest('#notebook-container');\n",
       "if (notebookContainer) {{\n",
       "    x.observe(notebookContainer, {childList: true});\n",
       "}}\n",
       "\n",
       "// Listen for the clearing of the current output cell\n",
       "var outputEl = gd.closest('.output');\n",
       "if (outputEl) {{\n",
       "    x.observe(outputEl, {childList: true});\n",
       "}}\n",
       "\n",
       "                        })\n",
       "                };\n",
       "                });\n",
       "            </script>\n",
       "        </div>"
      ]
     },
     "metadata": {},
     "output_type": "display_data"
    }
   ],
   "source": [
    "# Simple actual vs predicted plot\n",
    "\n",
    "X = df['Ball Possession %'].values.reshape(-1, 1)\n",
    "y = df['Pass Accuracy %']\n",
    "\n",
    "# Condition the model on Ball Possession, predict the Pass Accuracy\n",
    "model = LinearRegression()\n",
    "model.fit(X, y)\n",
    "y_pred = model.predict(X)\n",
    "\n",
    "fig = px.scatter(x=y, y=y_pred, labels={'x': 'Ground truth', 'y': 'Prediction'})\n",
    "fig.add_shape(\n",
    "    type=\"line\", line=dict(dash='dash'),\n",
    "    x0=y.min(), y0=y.min(),\n",
    "    x1=y.max(), y1=y.max()\n",
    "    )\n",
    "fig.show()"
   ]
  },
  {
   "cell_type": "markdown",
   "metadata": {},
   "source": [
    "This shows the simplest way to compare the predicted output vs. the actual output. A good model will have most of the scatter dots near the diagonal black line.\n",
    "\n",
    "#### (2) Enhaned prediction error analysis"
   ]
  },
  {
   "cell_type": "code",
   "execution_count": 22,
   "metadata": {},
   "outputs": [
    {
     "data": {
      "application/vnd.plotly.v1+json": {
       "config": {
        "plotlyServerURL": "https://plot.ly"
       },
       "data": [
        {
         "hovertemplate": "split=train<br>pass_accuracy=%{x}<br>prediction=%{y}<extra></extra>",
         "legendgroup": "train",
         "marker": {
          "color": "#636efa",
          "symbol": "circle"
         },
         "mode": "markers",
         "name": "train",
         "orientation": "v",
         "showlegend": true,
         "type": "scatter",
         "x": [
          78,
          86,
          86,
          86,
          86,
          87,
          85,
          67,
          85,
          84,
          84,
          83,
          88,
          82,
          88,
          83,
          79,
          82,
          91,
          82,
          87,
          81,
          76,
          76,
          77,
          88,
          86,
          69,
          89,
          85,
          77,
          81,
          81,
          80,
          90,
          73,
          75,
          84,
          82,
          82,
          89,
          91,
          77,
          94,
          79,
          79,
          82,
          88,
          83,
          90,
          82,
          84,
          69,
          89,
          72,
          86,
          81,
          76,
          84,
          73,
          87,
          74,
          88,
          83,
          67,
          78,
          88,
          82,
          86,
          77,
          87,
          88,
          86,
          69,
          91,
          81,
          79,
          83,
          85,
          87,
          83,
          84,
          78,
          82,
          67,
          81,
          89,
          83,
          74,
          80,
          82,
          86,
          79,
          88,
          92,
          75
         ],
         "xaxis": "x",
         "y": [
          78.41976396991248,
          86.36022001601407,
          85.16915160909883,
          87.94831122523439,
          76.83167276069216,
          78.0227411676074,
          81.9929691906582,
          73.65549034225153,
          83.18403759757344,
          83.9780832021836,
          80.80190078374295,
          82.38999199296327,
          86.36022001601407,
          78.41976396991248,
          83.18403759757344,
          81.59594638835313,
          81.59594638835313,
          78.0227411676074,
          85.963197213709,
          78.81678677221757,
          85.963197213709,
          79.61083237682772,
          81.19892358604804,
          81.19892358604804,
          83.58106039987851,
          81.19892358604804,
          83.58106039987851,
          74.44953594686169,
          90.33044803906488,
          82.78701479526836,
          80.0078551791328,
          84.77212880679376,
          85.56617441140392,
          79.21380957452264,
          88.74235682984455,
          76.03762715608201,
          79.21380957452264,
          83.18403759757344,
          81.59594638835313,
          78.81678677221757,
          85.963197213709,
          90.72747084136995,
          74.0525131445566,
          85.56617441140392,
          80.80190078374295,
          80.40487798143788,
          84.37510600448869,
          84.77212880679376,
          80.0078551791328,
          86.75724281831916,
          78.0227411676074,
          75.24358155147185,
          75.24358155147185,
          89.53640243445471,
          77.62571836530232,
          83.58106039987851,
          81.19892358604804,
          76.03762715608201,
          88.74235682984455,
          78.81678677221757,
          85.963197213709,
          74.44953594686169,
          90.33044803906488,
          88.34533402753948,
          76.43464995838708,
          80.0078551791328,
          84.77212880679376,
          78.41976396991248,
          83.9780832021836,
          76.83167276069216,
          87.94831122523439,
          83.18403759757344,
          85.963197213709,
          78.0227411676074,
          92.31556205059027,
          83.9780832021836,
          80.80190078374295,
          81.19892358604804,
          83.58106039987851,
          84.77212880679376,
          80.0078551791328,
          87.55128842292932,
          81.59594638835313,
          82.78701479526836,
          79.21380957452264,
          85.56617441140392,
          85.16915160909883,
          79.61083237682772,
          79.61083237682772,
          85.16915160909883,
          87.15426562062424,
          78.41976396991248,
          80.80190078374295,
          79.61083237682772,
          85.16915160909883,
          78.0227411676074
         ],
         "yaxis": "y"
        },
        {
         "alignmentgroup": "True",
         "bingroup": "x",
         "histnorm": "probability",
         "hovertemplate": "split=train<br>pass_accuracy=%{x}<br>count=%{y}<extra></extra>",
         "legendgroup": "train",
         "marker": {
          "color": "#636efa"
         },
         "name": "train",
         "offsetgroup": "train",
         "opacity": 0.5,
         "showlegend": false,
         "type": "histogram",
         "x": [
          78,
          86,
          86,
          86,
          86,
          87,
          85,
          67,
          85,
          84,
          84,
          83,
          88,
          82,
          88,
          83,
          79,
          82,
          91,
          82,
          87,
          81,
          76,
          76,
          77,
          88,
          86,
          69,
          89,
          85,
          77,
          81,
          81,
          80,
          90,
          73,
          75,
          84,
          82,
          82,
          89,
          91,
          77,
          94,
          79,
          79,
          82,
          88,
          83,
          90,
          82,
          84,
          69,
          89,
          72,
          86,
          81,
          76,
          84,
          73,
          87,
          74,
          88,
          83,
          67,
          78,
          88,
          82,
          86,
          77,
          87,
          88,
          86,
          69,
          91,
          81,
          79,
          83,
          85,
          87,
          83,
          84,
          78,
          82,
          67,
          81,
          89,
          83,
          74,
          80,
          82,
          86,
          79,
          88,
          92,
          75
         ],
         "xaxis": "x3",
         "yaxis": "y3"
        },
        {
         "alignmentgroup": "True",
         "bingroup": "y",
         "histnorm": "probability",
         "hovertemplate": "split=train<br>prediction=%{y}<br>count=%{x}<extra></extra>",
         "legendgroup": "train",
         "marker": {
          "color": "#636efa"
         },
         "name": "train",
         "offsetgroup": "train",
         "opacity": 0.5,
         "showlegend": false,
         "type": "histogram",
         "xaxis": "x2",
         "y": [
          78.41976396991248,
          86.36022001601407,
          85.16915160909883,
          87.94831122523439,
          76.83167276069216,
          78.0227411676074,
          81.9929691906582,
          73.65549034225153,
          83.18403759757344,
          83.9780832021836,
          80.80190078374295,
          82.38999199296327,
          86.36022001601407,
          78.41976396991248,
          83.18403759757344,
          81.59594638835313,
          81.59594638835313,
          78.0227411676074,
          85.963197213709,
          78.81678677221757,
          85.963197213709,
          79.61083237682772,
          81.19892358604804,
          81.19892358604804,
          83.58106039987851,
          81.19892358604804,
          83.58106039987851,
          74.44953594686169,
          90.33044803906488,
          82.78701479526836,
          80.0078551791328,
          84.77212880679376,
          85.56617441140392,
          79.21380957452264,
          88.74235682984455,
          76.03762715608201,
          79.21380957452264,
          83.18403759757344,
          81.59594638835313,
          78.81678677221757,
          85.963197213709,
          90.72747084136995,
          74.0525131445566,
          85.56617441140392,
          80.80190078374295,
          80.40487798143788,
          84.37510600448869,
          84.77212880679376,
          80.0078551791328,
          86.75724281831916,
          78.0227411676074,
          75.24358155147185,
          75.24358155147185,
          89.53640243445471,
          77.62571836530232,
          83.58106039987851,
          81.19892358604804,
          76.03762715608201,
          88.74235682984455,
          78.81678677221757,
          85.963197213709,
          74.44953594686169,
          90.33044803906488,
          88.34533402753948,
          76.43464995838708,
          80.0078551791328,
          84.77212880679376,
          78.41976396991248,
          83.9780832021836,
          76.83167276069216,
          87.94831122523439,
          83.18403759757344,
          85.963197213709,
          78.0227411676074,
          92.31556205059027,
          83.9780832021836,
          80.80190078374295,
          81.19892358604804,
          83.58106039987851,
          84.77212880679376,
          80.0078551791328,
          87.55128842292932,
          81.59594638835313,
          82.78701479526836,
          79.21380957452264,
          85.56617441140392,
          85.16915160909883,
          79.61083237682772,
          79.61083237682772,
          85.16915160909883,
          87.15426562062424,
          78.41976396991248,
          80.80190078374295,
          79.61083237682772,
          85.16915160909883,
          78.0227411676074
         ],
         "yaxis": "y2"
        },
        {
         "hovertemplate": "<b>OLS trendline</b><br>prediction = 0.487255 * pass_accuracy + 42.1305<br>R<sup>2</sup>=0.487255<br><br>split=train<br>pass_accuracy=%{x}<br>prediction=%{y} <b>(trend)</b><extra></extra>",
         "legendgroup": "train",
         "marker": {
          "color": "#636efa",
          "symbol": "circle"
         },
         "mode": "lines",
         "name": "train",
         "showlegend": false,
         "type": "scatter",
         "x": [
          67,
          67,
          67,
          69,
          69,
          69,
          72,
          73,
          73,
          74,
          74,
          75,
          75,
          76,
          76,
          76,
          77,
          77,
          77,
          77,
          78,
          78,
          78,
          79,
          79,
          79,
          79,
          79,
          80,
          80,
          81,
          81,
          81,
          81,
          81,
          81,
          82,
          82,
          82,
          82,
          82,
          82,
          82,
          82,
          82,
          82,
          83,
          83,
          83,
          83,
          83,
          83,
          83,
          84,
          84,
          84,
          84,
          84,
          84,
          85,
          85,
          85,
          85,
          86,
          86,
          86,
          86,
          86,
          86,
          86,
          86,
          86,
          87,
          87,
          87,
          87,
          87,
          88,
          88,
          88,
          88,
          88,
          88,
          88,
          88,
          89,
          89,
          89,
          89,
          90,
          90,
          91,
          91,
          91,
          92,
          94
         ],
         "xaxis": "x",
         "y": [
          74.77662859648805,
          74.77662859648805,
          74.77662859648805,
          75.75113911123688,
          75.75113911123688,
          75.75113911123688,
          77.21290488336014,
          77.70016014073455,
          77.70016014073455,
          78.18741539810897,
          78.18741539810897,
          78.6746706554834,
          78.6746706554834,
          79.16192591285781,
          79.16192591285781,
          79.16192591285781,
          79.64918117023223,
          79.64918117023223,
          79.64918117023223,
          79.64918117023223,
          80.13643642760664,
          80.13643642760664,
          80.13643642760664,
          80.62369168498105,
          80.62369168498105,
          80.62369168498105,
          80.62369168498105,
          80.62369168498105,
          81.11094694235547,
          81.11094694235547,
          81.59820219972988,
          81.59820219972988,
          81.59820219972988,
          81.59820219972988,
          81.59820219972988,
          81.59820219972988,
          82.0854574571043,
          82.0854574571043,
          82.0854574571043,
          82.0854574571043,
          82.0854574571043,
          82.0854574571043,
          82.0854574571043,
          82.0854574571043,
          82.0854574571043,
          82.0854574571043,
          82.57271271447871,
          82.57271271447871,
          82.57271271447871,
          82.57271271447871,
          82.57271271447871,
          82.57271271447871,
          82.57271271447871,
          83.05996797185313,
          83.05996797185313,
          83.05996797185313,
          83.05996797185313,
          83.05996797185313,
          83.05996797185313,
          83.54722322922754,
          83.54722322922754,
          83.54722322922754,
          83.54722322922754,
          84.03447848660197,
          84.03447848660197,
          84.03447848660197,
          84.03447848660197,
          84.03447848660197,
          84.03447848660197,
          84.03447848660197,
          84.03447848660197,
          84.03447848660197,
          84.52173374397638,
          84.52173374397638,
          84.52173374397638,
          84.52173374397638,
          84.52173374397638,
          85.0089890013508,
          85.0089890013508,
          85.0089890013508,
          85.0089890013508,
          85.0089890013508,
          85.0089890013508,
          85.0089890013508,
          85.0089890013508,
          85.49624425872521,
          85.49624425872521,
          85.49624425872521,
          85.49624425872521,
          85.98349951609963,
          85.98349951609963,
          86.47075477347406,
          86.47075477347406,
          86.47075477347406,
          86.95801003084847,
          87.9325205455973
         ],
         "yaxis": "y"
        },
        {
         "hovertemplate": "split=test<br>pass_accuracy=%{x}<br>prediction=%{y}<extra></extra>",
         "legendgroup": "test",
         "marker": {
          "color": "#EF553B",
          "symbol": "circle"
         },
         "mode": "markers",
         "name": "test",
         "orientation": "v",
         "showlegend": true,
         "type": "scatter",
         "x": [
          78,
          93,
          87,
          92,
          82,
          83,
          84,
          89,
          82,
          88,
          81,
          88,
          84,
          78,
          87,
          88,
          84,
          91,
          87,
          87,
          83,
          78,
          83,
          88,
          84,
          84,
          72,
          73,
          69,
          90,
          79,
          83
         ],
         "xaxis": "x",
         "y": [
          79.61083237682772,
          86.75724281831916,
          82.78701479526836,
          91.12449364367504,
          81.59594638835313,
          82.38999199296327,
          83.18403759757344,
          86.75724281831916,
          78.81678677221757,
          85.16915160909883,
          83.58106039987851,
          81.9929691906582,
          85.56617441140392,
          79.21380957452264,
          85.56617441140392,
          79.21380957452264,
          83.9780832021836,
          89.53640243445471,
          87.15426562062424,
          86.36022001601407,
          80.80190078374295,
          79.61083237682772,
          85.16915160909883,
          81.59594638835313,
          78.81678677221757,
          86.75724281831916,
          72.46442193533629,
          77.22869556299725,
          77.62571836530232,
          86.36022001601407,
          83.9780832021836,
          86.75724281831916
         ],
         "yaxis": "y"
        },
        {
         "alignmentgroup": "True",
         "bingroup": "x",
         "histnorm": "probability",
         "hovertemplate": "split=test<br>pass_accuracy=%{x}<br>count=%{y}<extra></extra>",
         "legendgroup": "test",
         "marker": {
          "color": "#EF553B"
         },
         "name": "test",
         "offsetgroup": "test",
         "opacity": 0.5,
         "showlegend": false,
         "type": "histogram",
         "x": [
          78,
          93,
          87,
          92,
          82,
          83,
          84,
          89,
          82,
          88,
          81,
          88,
          84,
          78,
          87,
          88,
          84,
          91,
          87,
          87,
          83,
          78,
          83,
          88,
          84,
          84,
          72,
          73,
          69,
          90,
          79,
          83
         ],
         "xaxis": "x3",
         "yaxis": "y3"
        },
        {
         "alignmentgroup": "True",
         "bingroup": "y",
         "histnorm": "probability",
         "hovertemplate": "split=test<br>prediction=%{y}<br>count=%{x}<extra></extra>",
         "legendgroup": "test",
         "marker": {
          "color": "#EF553B"
         },
         "name": "test",
         "offsetgroup": "test",
         "opacity": 0.5,
         "showlegend": false,
         "type": "histogram",
         "xaxis": "x2",
         "y": [
          79.61083237682772,
          86.75724281831916,
          82.78701479526836,
          91.12449364367504,
          81.59594638835313,
          82.38999199296327,
          83.18403759757344,
          86.75724281831916,
          78.81678677221757,
          85.16915160909883,
          83.58106039987851,
          81.9929691906582,
          85.56617441140392,
          79.21380957452264,
          85.56617441140392,
          79.21380957452264,
          83.9780832021836,
          89.53640243445471,
          87.15426562062424,
          86.36022001601407,
          80.80190078374295,
          79.61083237682772,
          85.16915160909883,
          81.59594638835313,
          78.81678677221757,
          86.75724281831916,
          72.46442193533629,
          77.22869556299725,
          77.62571836530232,
          86.36022001601407,
          83.9780832021836,
          86.75724281831916
         ],
         "yaxis": "y2"
        },
        {
         "hovertemplate": "<b>OLS trendline</b><br>prediction = 0.534655 * pass_accuracy + 38.2869<br>R<sup>2</sup>=0.569842<br><br>split=test<br>pass_accuracy=%{x}<br>prediction=%{y} <b>(trend)</b><extra></extra>",
         "legendgroup": "test",
         "marker": {
          "color": "#EF553B",
          "symbol": "circle"
         },
         "mode": "lines",
         "name": "test",
         "showlegend": false,
         "type": "scatter",
         "x": [
          69,
          72,
          73,
          78,
          78,
          78,
          79,
          81,
          82,
          82,
          83,
          83,
          83,
          83,
          84,
          84,
          84,
          84,
          84,
          87,
          87,
          87,
          87,
          88,
          88,
          88,
          88,
          89,
          90,
          91,
          92,
          93
         ],
         "xaxis": "x",
         "y": [
          75.17810211103154,
          76.78206825589771,
          77.31672363751977,
          79.99000054563004,
          79.99000054563004,
          79.99000054563004,
          80.52465592725208,
          81.59396669049619,
          82.12862207211825,
          82.12862207211825,
          82.6632774537403,
          82.6632774537403,
          82.6632774537403,
          82.6632774537403,
          83.19793283536237,
          83.19793283536237,
          83.19793283536237,
          83.19793283536237,
          83.19793283536237,
          84.80189898022851,
          84.80189898022851,
          84.80189898022851,
          84.80189898022851,
          85.33655436185057,
          85.33655436185057,
          85.33655436185057,
          85.33655436185057,
          85.87120974347263,
          86.40586512509469,
          86.94052050671674,
          87.47517588833878,
          88.00983126996084
         ],
         "yaxis": "y"
        }
       ],
       "layout": {
        "barmode": "overlay",
        "legend": {
         "title": {
          "text": "split"
         },
         "tracegroupgap": 0
        },
        "margin": {
         "t": 60
        },
        "shapes": [
         {
          "line": {
           "dash": "dash"
          },
          "type": "line",
          "x0": 67,
          "x1": 94,
          "y0": 67,
          "y1": 94
         }
        ],
        "template": {
         "data": {
          "bar": [
           {
            "error_x": {
             "color": "#2a3f5f"
            },
            "error_y": {
             "color": "#2a3f5f"
            },
            "marker": {
             "line": {
              "color": "#E5ECF6",
              "width": 0.5
             }
            },
            "type": "bar"
           }
          ],
          "barpolar": [
           {
            "marker": {
             "line": {
              "color": "#E5ECF6",
              "width": 0.5
             }
            },
            "type": "barpolar"
           }
          ],
          "carpet": [
           {
            "aaxis": {
             "endlinecolor": "#2a3f5f",
             "gridcolor": "white",
             "linecolor": "white",
             "minorgridcolor": "white",
             "startlinecolor": "#2a3f5f"
            },
            "baxis": {
             "endlinecolor": "#2a3f5f",
             "gridcolor": "white",
             "linecolor": "white",
             "minorgridcolor": "white",
             "startlinecolor": "#2a3f5f"
            },
            "type": "carpet"
           }
          ],
          "choropleth": [
           {
            "colorbar": {
             "outlinewidth": 0,
             "ticks": ""
            },
            "type": "choropleth"
           }
          ],
          "contour": [
           {
            "colorbar": {
             "outlinewidth": 0,
             "ticks": ""
            },
            "colorscale": [
             [
              0,
              "#0d0887"
             ],
             [
              0.1111111111111111,
              "#46039f"
             ],
             [
              0.2222222222222222,
              "#7201a8"
             ],
             [
              0.3333333333333333,
              "#9c179e"
             ],
             [
              0.4444444444444444,
              "#bd3786"
             ],
             [
              0.5555555555555556,
              "#d8576b"
             ],
             [
              0.6666666666666666,
              "#ed7953"
             ],
             [
              0.7777777777777778,
              "#fb9f3a"
             ],
             [
              0.8888888888888888,
              "#fdca26"
             ],
             [
              1,
              "#f0f921"
             ]
            ],
            "type": "contour"
           }
          ],
          "contourcarpet": [
           {
            "colorbar": {
             "outlinewidth": 0,
             "ticks": ""
            },
            "type": "contourcarpet"
           }
          ],
          "heatmap": [
           {
            "colorbar": {
             "outlinewidth": 0,
             "ticks": ""
            },
            "colorscale": [
             [
              0,
              "#0d0887"
             ],
             [
              0.1111111111111111,
              "#46039f"
             ],
             [
              0.2222222222222222,
              "#7201a8"
             ],
             [
              0.3333333333333333,
              "#9c179e"
             ],
             [
              0.4444444444444444,
              "#bd3786"
             ],
             [
              0.5555555555555556,
              "#d8576b"
             ],
             [
              0.6666666666666666,
              "#ed7953"
             ],
             [
              0.7777777777777778,
              "#fb9f3a"
             ],
             [
              0.8888888888888888,
              "#fdca26"
             ],
             [
              1,
              "#f0f921"
             ]
            ],
            "type": "heatmap"
           }
          ],
          "heatmapgl": [
           {
            "colorbar": {
             "outlinewidth": 0,
             "ticks": ""
            },
            "colorscale": [
             [
              0,
              "#0d0887"
             ],
             [
              0.1111111111111111,
              "#46039f"
             ],
             [
              0.2222222222222222,
              "#7201a8"
             ],
             [
              0.3333333333333333,
              "#9c179e"
             ],
             [
              0.4444444444444444,
              "#bd3786"
             ],
             [
              0.5555555555555556,
              "#d8576b"
             ],
             [
              0.6666666666666666,
              "#ed7953"
             ],
             [
              0.7777777777777778,
              "#fb9f3a"
             ],
             [
              0.8888888888888888,
              "#fdca26"
             ],
             [
              1,
              "#f0f921"
             ]
            ],
            "type": "heatmapgl"
           }
          ],
          "histogram": [
           {
            "marker": {
             "colorbar": {
              "outlinewidth": 0,
              "ticks": ""
             }
            },
            "type": "histogram"
           }
          ],
          "histogram2d": [
           {
            "colorbar": {
             "outlinewidth": 0,
             "ticks": ""
            },
            "colorscale": [
             [
              0,
              "#0d0887"
             ],
             [
              0.1111111111111111,
              "#46039f"
             ],
             [
              0.2222222222222222,
              "#7201a8"
             ],
             [
              0.3333333333333333,
              "#9c179e"
             ],
             [
              0.4444444444444444,
              "#bd3786"
             ],
             [
              0.5555555555555556,
              "#d8576b"
             ],
             [
              0.6666666666666666,
              "#ed7953"
             ],
             [
              0.7777777777777778,
              "#fb9f3a"
             ],
             [
              0.8888888888888888,
              "#fdca26"
             ],
             [
              1,
              "#f0f921"
             ]
            ],
            "type": "histogram2d"
           }
          ],
          "histogram2dcontour": [
           {
            "colorbar": {
             "outlinewidth": 0,
             "ticks": ""
            },
            "colorscale": [
             [
              0,
              "#0d0887"
             ],
             [
              0.1111111111111111,
              "#46039f"
             ],
             [
              0.2222222222222222,
              "#7201a8"
             ],
             [
              0.3333333333333333,
              "#9c179e"
             ],
             [
              0.4444444444444444,
              "#bd3786"
             ],
             [
              0.5555555555555556,
              "#d8576b"
             ],
             [
              0.6666666666666666,
              "#ed7953"
             ],
             [
              0.7777777777777778,
              "#fb9f3a"
             ],
             [
              0.8888888888888888,
              "#fdca26"
             ],
             [
              1,
              "#f0f921"
             ]
            ],
            "type": "histogram2dcontour"
           }
          ],
          "mesh3d": [
           {
            "colorbar": {
             "outlinewidth": 0,
             "ticks": ""
            },
            "type": "mesh3d"
           }
          ],
          "parcoords": [
           {
            "line": {
             "colorbar": {
              "outlinewidth": 0,
              "ticks": ""
             }
            },
            "type": "parcoords"
           }
          ],
          "pie": [
           {
            "automargin": true,
            "type": "pie"
           }
          ],
          "scatter": [
           {
            "marker": {
             "colorbar": {
              "outlinewidth": 0,
              "ticks": ""
             }
            },
            "type": "scatter"
           }
          ],
          "scatter3d": [
           {
            "line": {
             "colorbar": {
              "outlinewidth": 0,
              "ticks": ""
             }
            },
            "marker": {
             "colorbar": {
              "outlinewidth": 0,
              "ticks": ""
             }
            },
            "type": "scatter3d"
           }
          ],
          "scattercarpet": [
           {
            "marker": {
             "colorbar": {
              "outlinewidth": 0,
              "ticks": ""
             }
            },
            "type": "scattercarpet"
           }
          ],
          "scattergeo": [
           {
            "marker": {
             "colorbar": {
              "outlinewidth": 0,
              "ticks": ""
             }
            },
            "type": "scattergeo"
           }
          ],
          "scattergl": [
           {
            "marker": {
             "colorbar": {
              "outlinewidth": 0,
              "ticks": ""
             }
            },
            "type": "scattergl"
           }
          ],
          "scattermapbox": [
           {
            "marker": {
             "colorbar": {
              "outlinewidth": 0,
              "ticks": ""
             }
            },
            "type": "scattermapbox"
           }
          ],
          "scatterpolar": [
           {
            "marker": {
             "colorbar": {
              "outlinewidth": 0,
              "ticks": ""
             }
            },
            "type": "scatterpolar"
           }
          ],
          "scatterpolargl": [
           {
            "marker": {
             "colorbar": {
              "outlinewidth": 0,
              "ticks": ""
             }
            },
            "type": "scatterpolargl"
           }
          ],
          "scatterternary": [
           {
            "marker": {
             "colorbar": {
              "outlinewidth": 0,
              "ticks": ""
             }
            },
            "type": "scatterternary"
           }
          ],
          "surface": [
           {
            "colorbar": {
             "outlinewidth": 0,
             "ticks": ""
            },
            "colorscale": [
             [
              0,
              "#0d0887"
             ],
             [
              0.1111111111111111,
              "#46039f"
             ],
             [
              0.2222222222222222,
              "#7201a8"
             ],
             [
              0.3333333333333333,
              "#9c179e"
             ],
             [
              0.4444444444444444,
              "#bd3786"
             ],
             [
              0.5555555555555556,
              "#d8576b"
             ],
             [
              0.6666666666666666,
              "#ed7953"
             ],
             [
              0.7777777777777778,
              "#fb9f3a"
             ],
             [
              0.8888888888888888,
              "#fdca26"
             ],
             [
              1,
              "#f0f921"
             ]
            ],
            "type": "surface"
           }
          ],
          "table": [
           {
            "cells": {
             "fill": {
              "color": "#EBF0F8"
             },
             "line": {
              "color": "white"
             }
            },
            "header": {
             "fill": {
              "color": "#C8D4E3"
             },
             "line": {
              "color": "white"
             }
            },
            "type": "table"
           }
          ]
         },
         "layout": {
          "annotationdefaults": {
           "arrowcolor": "#2a3f5f",
           "arrowhead": 0,
           "arrowwidth": 1
          },
          "coloraxis": {
           "colorbar": {
            "outlinewidth": 0,
            "ticks": ""
           }
          },
          "colorscale": {
           "diverging": [
            [
             0,
             "#8e0152"
            ],
            [
             0.1,
             "#c51b7d"
            ],
            [
             0.2,
             "#de77ae"
            ],
            [
             0.3,
             "#f1b6da"
            ],
            [
             0.4,
             "#fde0ef"
            ],
            [
             0.5,
             "#f7f7f7"
            ],
            [
             0.6,
             "#e6f5d0"
            ],
            [
             0.7,
             "#b8e186"
            ],
            [
             0.8,
             "#7fbc41"
            ],
            [
             0.9,
             "#4d9221"
            ],
            [
             1,
             "#276419"
            ]
           ],
           "sequential": [
            [
             0,
             "#0d0887"
            ],
            [
             0.1111111111111111,
             "#46039f"
            ],
            [
             0.2222222222222222,
             "#7201a8"
            ],
            [
             0.3333333333333333,
             "#9c179e"
            ],
            [
             0.4444444444444444,
             "#bd3786"
            ],
            [
             0.5555555555555556,
             "#d8576b"
            ],
            [
             0.6666666666666666,
             "#ed7953"
            ],
            [
             0.7777777777777778,
             "#fb9f3a"
            ],
            [
             0.8888888888888888,
             "#fdca26"
            ],
            [
             1,
             "#f0f921"
            ]
           ],
           "sequentialminus": [
            [
             0,
             "#0d0887"
            ],
            [
             0.1111111111111111,
             "#46039f"
            ],
            [
             0.2222222222222222,
             "#7201a8"
            ],
            [
             0.3333333333333333,
             "#9c179e"
            ],
            [
             0.4444444444444444,
             "#bd3786"
            ],
            [
             0.5555555555555556,
             "#d8576b"
            ],
            [
             0.6666666666666666,
             "#ed7953"
            ],
            [
             0.7777777777777778,
             "#fb9f3a"
            ],
            [
             0.8888888888888888,
             "#fdca26"
            ],
            [
             1,
             "#f0f921"
            ]
           ]
          },
          "colorway": [
           "#636efa",
           "#EF553B",
           "#00cc96",
           "#ab63fa",
           "#FFA15A",
           "#19d3f3",
           "#FF6692",
           "#B6E880",
           "#FF97FF",
           "#FECB52"
          ],
          "font": {
           "color": "#2a3f5f"
          },
          "geo": {
           "bgcolor": "white",
           "lakecolor": "white",
           "landcolor": "#E5ECF6",
           "showlakes": true,
           "showland": true,
           "subunitcolor": "white"
          },
          "hoverlabel": {
           "align": "left"
          },
          "hovermode": "closest",
          "mapbox": {
           "style": "light"
          },
          "paper_bgcolor": "white",
          "plot_bgcolor": "#E5ECF6",
          "polar": {
           "angularaxis": {
            "gridcolor": "white",
            "linecolor": "white",
            "ticks": ""
           },
           "bgcolor": "#E5ECF6",
           "radialaxis": {
            "gridcolor": "white",
            "linecolor": "white",
            "ticks": ""
           }
          },
          "scene": {
           "xaxis": {
            "backgroundcolor": "#E5ECF6",
            "gridcolor": "white",
            "gridwidth": 2,
            "linecolor": "white",
            "showbackground": true,
            "ticks": "",
            "zerolinecolor": "white"
           },
           "yaxis": {
            "backgroundcolor": "#E5ECF6",
            "gridcolor": "white",
            "gridwidth": 2,
            "linecolor": "white",
            "showbackground": true,
            "ticks": "",
            "zerolinecolor": "white"
           },
           "zaxis": {
            "backgroundcolor": "#E5ECF6",
            "gridcolor": "white",
            "gridwidth": 2,
            "linecolor": "white",
            "showbackground": true,
            "ticks": "",
            "zerolinecolor": "white"
           }
          },
          "shapedefaults": {
           "line": {
            "color": "#2a3f5f"
           }
          },
          "ternary": {
           "aaxis": {
            "gridcolor": "white",
            "linecolor": "white",
            "ticks": ""
           },
           "baxis": {
            "gridcolor": "white",
            "linecolor": "white",
            "ticks": ""
           },
           "bgcolor": "#E5ECF6",
           "caxis": {
            "gridcolor": "white",
            "linecolor": "white",
            "ticks": ""
           }
          },
          "title": {
           "x": 0.05
          },
          "xaxis": {
           "automargin": true,
           "gridcolor": "white",
           "linecolor": "white",
           "ticks": "",
           "title": {
            "standoff": 15
           },
           "zerolinecolor": "white",
           "zerolinewidth": 2
          },
          "yaxis": {
           "automargin": true,
           "gridcolor": "white",
           "linecolor": "white",
           "ticks": "",
           "title": {
            "standoff": 15
           },
           "zerolinecolor": "white",
           "zerolinewidth": 2
          }
         }
        },
        "xaxis": {
         "anchor": "y",
         "domain": [
          0,
          0.7363
         ],
         "title": {
          "text": "pass_accuracy"
         }
        },
        "xaxis2": {
         "anchor": "y2",
         "domain": [
          0.7413,
          1
         ],
         "matches": "x2",
         "showgrid": true,
         "showline": false,
         "showticklabels": false,
         "ticks": ""
        },
        "xaxis3": {
         "anchor": "y3",
         "domain": [
          0,
          0.7363
         ],
         "matches": "x",
         "showgrid": true,
         "showticklabels": false
        },
        "xaxis4": {
         "anchor": "y4",
         "domain": [
          0.7413,
          1
         ],
         "matches": "x2",
         "showgrid": true,
         "showline": false,
         "showticklabels": false,
         "ticks": ""
        },
        "yaxis": {
         "anchor": "x",
         "domain": [
          0,
          0.7326
         ],
         "title": {
          "text": "prediction"
         }
        },
        "yaxis2": {
         "anchor": "x2",
         "domain": [
          0,
          0.7326
         ],
         "matches": "y",
         "showgrid": true,
         "showticklabels": false
        },
        "yaxis3": {
         "anchor": "x3",
         "domain": [
          0.7426,
          1
         ],
         "matches": "y3",
         "showgrid": true,
         "showline": false,
         "showticklabels": false,
         "ticks": ""
        },
        "yaxis4": {
         "anchor": "x4",
         "domain": [
          0.7426,
          1
         ],
         "matches": "y3",
         "showgrid": true,
         "showline": false,
         "showticklabels": false,
         "ticks": ""
        }
       }
      },
      "text/html": [
       "<div>\n",
       "        \n",
       "        \n",
       "            <div id=\"38ae8fcc-c038-4cfb-9f0b-3143ed1dddf7\" class=\"plotly-graph-div\" style=\"height:525px; width:100%;\"></div>\n",
       "            <script type=\"text/javascript\">\n",
       "                require([\"plotly\"], function(Plotly) {\n",
       "                    window.PLOTLYENV=window.PLOTLYENV || {};\n",
       "                    \n",
       "                if (document.getElementById(\"38ae8fcc-c038-4cfb-9f0b-3143ed1dddf7\")) {\n",
       "                    Plotly.newPlot(\n",
       "                        '38ae8fcc-c038-4cfb-9f0b-3143ed1dddf7',\n",
       "                        [{\"hovertemplate\": \"split=train<br>pass_accuracy=%{x}<br>prediction=%{y}<extra></extra>\", \"legendgroup\": \"train\", \"marker\": {\"color\": \"#636efa\", \"symbol\": \"circle\"}, \"mode\": \"markers\", \"name\": \"train\", \"orientation\": \"v\", \"showlegend\": true, \"type\": \"scatter\", \"x\": [78, 86, 86, 86, 86, 87, 85, 67, 85, 84, 84, 83, 88, 82, 88, 83, 79, 82, 91, 82, 87, 81, 76, 76, 77, 88, 86, 69, 89, 85, 77, 81, 81, 80, 90, 73, 75, 84, 82, 82, 89, 91, 77, 94, 79, 79, 82, 88, 83, 90, 82, 84, 69, 89, 72, 86, 81, 76, 84, 73, 87, 74, 88, 83, 67, 78, 88, 82, 86, 77, 87, 88, 86, 69, 91, 81, 79, 83, 85, 87, 83, 84, 78, 82, 67, 81, 89, 83, 74, 80, 82, 86, 79, 88, 92, 75], \"xaxis\": \"x\", \"y\": [78.41976396991248, 86.36022001601407, 85.16915160909883, 87.94831122523439, 76.83167276069216, 78.0227411676074, 81.9929691906582, 73.65549034225153, 83.18403759757344, 83.9780832021836, 80.80190078374295, 82.38999199296327, 86.36022001601407, 78.41976396991248, 83.18403759757344, 81.59594638835313, 81.59594638835313, 78.0227411676074, 85.963197213709, 78.81678677221757, 85.963197213709, 79.61083237682772, 81.19892358604804, 81.19892358604804, 83.58106039987851, 81.19892358604804, 83.58106039987851, 74.44953594686169, 90.33044803906488, 82.78701479526836, 80.0078551791328, 84.77212880679376, 85.56617441140392, 79.21380957452264, 88.74235682984455, 76.03762715608201, 79.21380957452264, 83.18403759757344, 81.59594638835313, 78.81678677221757, 85.963197213709, 90.72747084136995, 74.0525131445566, 85.56617441140392, 80.80190078374295, 80.40487798143788, 84.37510600448869, 84.77212880679376, 80.0078551791328, 86.75724281831916, 78.0227411676074, 75.24358155147185, 75.24358155147185, 89.53640243445471, 77.62571836530232, 83.58106039987851, 81.19892358604804, 76.03762715608201, 88.74235682984455, 78.81678677221757, 85.963197213709, 74.44953594686169, 90.33044803906488, 88.34533402753948, 76.43464995838708, 80.0078551791328, 84.77212880679376, 78.41976396991248, 83.9780832021836, 76.83167276069216, 87.94831122523439, 83.18403759757344, 85.963197213709, 78.0227411676074, 92.31556205059027, 83.9780832021836, 80.80190078374295, 81.19892358604804, 83.58106039987851, 84.77212880679376, 80.0078551791328, 87.55128842292932, 81.59594638835313, 82.78701479526836, 79.21380957452264, 85.56617441140392, 85.16915160909883, 79.61083237682772, 79.61083237682772, 85.16915160909883, 87.15426562062424, 78.41976396991248, 80.80190078374295, 79.61083237682772, 85.16915160909883, 78.0227411676074], \"yaxis\": \"y\"}, {\"alignmentgroup\": \"True\", \"bingroup\": \"x\", \"histnorm\": \"probability\", \"hovertemplate\": \"split=train<br>pass_accuracy=%{x}<br>count=%{y}<extra></extra>\", \"legendgroup\": \"train\", \"marker\": {\"color\": \"#636efa\"}, \"name\": \"train\", \"offsetgroup\": \"train\", \"opacity\": 0.5, \"showlegend\": false, \"type\": \"histogram\", \"x\": [78, 86, 86, 86, 86, 87, 85, 67, 85, 84, 84, 83, 88, 82, 88, 83, 79, 82, 91, 82, 87, 81, 76, 76, 77, 88, 86, 69, 89, 85, 77, 81, 81, 80, 90, 73, 75, 84, 82, 82, 89, 91, 77, 94, 79, 79, 82, 88, 83, 90, 82, 84, 69, 89, 72, 86, 81, 76, 84, 73, 87, 74, 88, 83, 67, 78, 88, 82, 86, 77, 87, 88, 86, 69, 91, 81, 79, 83, 85, 87, 83, 84, 78, 82, 67, 81, 89, 83, 74, 80, 82, 86, 79, 88, 92, 75], \"xaxis\": \"x3\", \"yaxis\": \"y3\"}, {\"alignmentgroup\": \"True\", \"bingroup\": \"y\", \"histnorm\": \"probability\", \"hovertemplate\": \"split=train<br>prediction=%{y}<br>count=%{x}<extra></extra>\", \"legendgroup\": \"train\", \"marker\": {\"color\": \"#636efa\"}, \"name\": \"train\", \"offsetgroup\": \"train\", \"opacity\": 0.5, \"showlegend\": false, \"type\": \"histogram\", \"xaxis\": \"x2\", \"y\": [78.41976396991248, 86.36022001601407, 85.16915160909883, 87.94831122523439, 76.83167276069216, 78.0227411676074, 81.9929691906582, 73.65549034225153, 83.18403759757344, 83.9780832021836, 80.80190078374295, 82.38999199296327, 86.36022001601407, 78.41976396991248, 83.18403759757344, 81.59594638835313, 81.59594638835313, 78.0227411676074, 85.963197213709, 78.81678677221757, 85.963197213709, 79.61083237682772, 81.19892358604804, 81.19892358604804, 83.58106039987851, 81.19892358604804, 83.58106039987851, 74.44953594686169, 90.33044803906488, 82.78701479526836, 80.0078551791328, 84.77212880679376, 85.56617441140392, 79.21380957452264, 88.74235682984455, 76.03762715608201, 79.21380957452264, 83.18403759757344, 81.59594638835313, 78.81678677221757, 85.963197213709, 90.72747084136995, 74.0525131445566, 85.56617441140392, 80.80190078374295, 80.40487798143788, 84.37510600448869, 84.77212880679376, 80.0078551791328, 86.75724281831916, 78.0227411676074, 75.24358155147185, 75.24358155147185, 89.53640243445471, 77.62571836530232, 83.58106039987851, 81.19892358604804, 76.03762715608201, 88.74235682984455, 78.81678677221757, 85.963197213709, 74.44953594686169, 90.33044803906488, 88.34533402753948, 76.43464995838708, 80.0078551791328, 84.77212880679376, 78.41976396991248, 83.9780832021836, 76.83167276069216, 87.94831122523439, 83.18403759757344, 85.963197213709, 78.0227411676074, 92.31556205059027, 83.9780832021836, 80.80190078374295, 81.19892358604804, 83.58106039987851, 84.77212880679376, 80.0078551791328, 87.55128842292932, 81.59594638835313, 82.78701479526836, 79.21380957452264, 85.56617441140392, 85.16915160909883, 79.61083237682772, 79.61083237682772, 85.16915160909883, 87.15426562062424, 78.41976396991248, 80.80190078374295, 79.61083237682772, 85.16915160909883, 78.0227411676074], \"yaxis\": \"y2\"}, {\"hovertemplate\": \"<b>OLS trendline</b><br>prediction = 0.487255 * pass_accuracy + 42.1305<br>R<sup>2</sup>=0.487255<br><br>split=train<br>pass_accuracy=%{x}<br>prediction=%{y} <b>(trend)</b><extra></extra>\", \"legendgroup\": \"train\", \"marker\": {\"color\": \"#636efa\", \"symbol\": \"circle\"}, \"mode\": \"lines\", \"name\": \"train\", \"showlegend\": false, \"type\": \"scatter\", \"x\": [67, 67, 67, 69, 69, 69, 72, 73, 73, 74, 74, 75, 75, 76, 76, 76, 77, 77, 77, 77, 78, 78, 78, 79, 79, 79, 79, 79, 80, 80, 81, 81, 81, 81, 81, 81, 82, 82, 82, 82, 82, 82, 82, 82, 82, 82, 83, 83, 83, 83, 83, 83, 83, 84, 84, 84, 84, 84, 84, 85, 85, 85, 85, 86, 86, 86, 86, 86, 86, 86, 86, 86, 87, 87, 87, 87, 87, 88, 88, 88, 88, 88, 88, 88, 88, 89, 89, 89, 89, 90, 90, 91, 91, 91, 92, 94], \"xaxis\": \"x\", \"y\": [74.77662859648805, 74.77662859648805, 74.77662859648805, 75.75113911123688, 75.75113911123688, 75.75113911123688, 77.21290488336014, 77.70016014073455, 77.70016014073455, 78.18741539810897, 78.18741539810897, 78.6746706554834, 78.6746706554834, 79.16192591285781, 79.16192591285781, 79.16192591285781, 79.64918117023223, 79.64918117023223, 79.64918117023223, 79.64918117023223, 80.13643642760664, 80.13643642760664, 80.13643642760664, 80.62369168498105, 80.62369168498105, 80.62369168498105, 80.62369168498105, 80.62369168498105, 81.11094694235547, 81.11094694235547, 81.59820219972988, 81.59820219972988, 81.59820219972988, 81.59820219972988, 81.59820219972988, 81.59820219972988, 82.0854574571043, 82.0854574571043, 82.0854574571043, 82.0854574571043, 82.0854574571043, 82.0854574571043, 82.0854574571043, 82.0854574571043, 82.0854574571043, 82.0854574571043, 82.57271271447871, 82.57271271447871, 82.57271271447871, 82.57271271447871, 82.57271271447871, 82.57271271447871, 82.57271271447871, 83.05996797185313, 83.05996797185313, 83.05996797185313, 83.05996797185313, 83.05996797185313, 83.05996797185313, 83.54722322922754, 83.54722322922754, 83.54722322922754, 83.54722322922754, 84.03447848660197, 84.03447848660197, 84.03447848660197, 84.03447848660197, 84.03447848660197, 84.03447848660197, 84.03447848660197, 84.03447848660197, 84.03447848660197, 84.52173374397638, 84.52173374397638, 84.52173374397638, 84.52173374397638, 84.52173374397638, 85.0089890013508, 85.0089890013508, 85.0089890013508, 85.0089890013508, 85.0089890013508, 85.0089890013508, 85.0089890013508, 85.0089890013508, 85.49624425872521, 85.49624425872521, 85.49624425872521, 85.49624425872521, 85.98349951609963, 85.98349951609963, 86.47075477347406, 86.47075477347406, 86.47075477347406, 86.95801003084847, 87.9325205455973], \"yaxis\": \"y\"}, {\"hovertemplate\": \"split=test<br>pass_accuracy=%{x}<br>prediction=%{y}<extra></extra>\", \"legendgroup\": \"test\", \"marker\": {\"color\": \"#EF553B\", \"symbol\": \"circle\"}, \"mode\": \"markers\", \"name\": \"test\", \"orientation\": \"v\", \"showlegend\": true, \"type\": \"scatter\", \"x\": [78, 93, 87, 92, 82, 83, 84, 89, 82, 88, 81, 88, 84, 78, 87, 88, 84, 91, 87, 87, 83, 78, 83, 88, 84, 84, 72, 73, 69, 90, 79, 83], \"xaxis\": \"x\", \"y\": [79.61083237682772, 86.75724281831916, 82.78701479526836, 91.12449364367504, 81.59594638835313, 82.38999199296327, 83.18403759757344, 86.75724281831916, 78.81678677221757, 85.16915160909883, 83.58106039987851, 81.9929691906582, 85.56617441140392, 79.21380957452264, 85.56617441140392, 79.21380957452264, 83.9780832021836, 89.53640243445471, 87.15426562062424, 86.36022001601407, 80.80190078374295, 79.61083237682772, 85.16915160909883, 81.59594638835313, 78.81678677221757, 86.75724281831916, 72.46442193533629, 77.22869556299725, 77.62571836530232, 86.36022001601407, 83.9780832021836, 86.75724281831916], \"yaxis\": \"y\"}, {\"alignmentgroup\": \"True\", \"bingroup\": \"x\", \"histnorm\": \"probability\", \"hovertemplate\": \"split=test<br>pass_accuracy=%{x}<br>count=%{y}<extra></extra>\", \"legendgroup\": \"test\", \"marker\": {\"color\": \"#EF553B\"}, \"name\": \"test\", \"offsetgroup\": \"test\", \"opacity\": 0.5, \"showlegend\": false, \"type\": \"histogram\", \"x\": [78, 93, 87, 92, 82, 83, 84, 89, 82, 88, 81, 88, 84, 78, 87, 88, 84, 91, 87, 87, 83, 78, 83, 88, 84, 84, 72, 73, 69, 90, 79, 83], \"xaxis\": \"x3\", \"yaxis\": \"y3\"}, {\"alignmentgroup\": \"True\", \"bingroup\": \"y\", \"histnorm\": \"probability\", \"hovertemplate\": \"split=test<br>prediction=%{y}<br>count=%{x}<extra></extra>\", \"legendgroup\": \"test\", \"marker\": {\"color\": \"#EF553B\"}, \"name\": \"test\", \"offsetgroup\": \"test\", \"opacity\": 0.5, \"showlegend\": false, \"type\": \"histogram\", \"xaxis\": \"x2\", \"y\": [79.61083237682772, 86.75724281831916, 82.78701479526836, 91.12449364367504, 81.59594638835313, 82.38999199296327, 83.18403759757344, 86.75724281831916, 78.81678677221757, 85.16915160909883, 83.58106039987851, 81.9929691906582, 85.56617441140392, 79.21380957452264, 85.56617441140392, 79.21380957452264, 83.9780832021836, 89.53640243445471, 87.15426562062424, 86.36022001601407, 80.80190078374295, 79.61083237682772, 85.16915160909883, 81.59594638835313, 78.81678677221757, 86.75724281831916, 72.46442193533629, 77.22869556299725, 77.62571836530232, 86.36022001601407, 83.9780832021836, 86.75724281831916], \"yaxis\": \"y2\"}, {\"hovertemplate\": \"<b>OLS trendline</b><br>prediction = 0.534655 * pass_accuracy + 38.2869<br>R<sup>2</sup>=0.569842<br><br>split=test<br>pass_accuracy=%{x}<br>prediction=%{y} <b>(trend)</b><extra></extra>\", \"legendgroup\": \"test\", \"marker\": {\"color\": \"#EF553B\", \"symbol\": \"circle\"}, \"mode\": \"lines\", \"name\": \"test\", \"showlegend\": false, \"type\": \"scatter\", \"x\": [69, 72, 73, 78, 78, 78, 79, 81, 82, 82, 83, 83, 83, 83, 84, 84, 84, 84, 84, 87, 87, 87, 87, 88, 88, 88, 88, 89, 90, 91, 92, 93], \"xaxis\": \"x\", \"y\": [75.17810211103154, 76.78206825589771, 77.31672363751977, 79.99000054563004, 79.99000054563004, 79.99000054563004, 80.52465592725208, 81.59396669049619, 82.12862207211825, 82.12862207211825, 82.6632774537403, 82.6632774537403, 82.6632774537403, 82.6632774537403, 83.19793283536237, 83.19793283536237, 83.19793283536237, 83.19793283536237, 83.19793283536237, 84.80189898022851, 84.80189898022851, 84.80189898022851, 84.80189898022851, 85.33655436185057, 85.33655436185057, 85.33655436185057, 85.33655436185057, 85.87120974347263, 86.40586512509469, 86.94052050671674, 87.47517588833878, 88.00983126996084], \"yaxis\": \"y\"}],\n",
       "                        {\"barmode\": \"overlay\", \"legend\": {\"title\": {\"text\": \"split\"}, \"tracegroupgap\": 0}, \"margin\": {\"t\": 60}, \"shapes\": [{\"line\": {\"dash\": \"dash\"}, \"type\": \"line\", \"x0\": 67, \"x1\": 94, \"y0\": 67, \"y1\": 94}], \"template\": {\"data\": {\"bar\": [{\"error_x\": {\"color\": \"#2a3f5f\"}, \"error_y\": {\"color\": \"#2a3f5f\"}, \"marker\": {\"line\": {\"color\": \"#E5ECF6\", \"width\": 0.5}}, \"type\": \"bar\"}], \"barpolar\": [{\"marker\": {\"line\": {\"color\": \"#E5ECF6\", \"width\": 0.5}}, \"type\": \"barpolar\"}], \"carpet\": [{\"aaxis\": {\"endlinecolor\": \"#2a3f5f\", \"gridcolor\": \"white\", \"linecolor\": \"white\", \"minorgridcolor\": \"white\", \"startlinecolor\": \"#2a3f5f\"}, \"baxis\": {\"endlinecolor\": \"#2a3f5f\", \"gridcolor\": \"white\", \"linecolor\": \"white\", \"minorgridcolor\": \"white\", \"startlinecolor\": \"#2a3f5f\"}, \"type\": \"carpet\"}], \"choropleth\": [{\"colorbar\": {\"outlinewidth\": 0, \"ticks\": \"\"}, \"type\": \"choropleth\"}], \"contour\": [{\"colorbar\": {\"outlinewidth\": 0, \"ticks\": \"\"}, \"colorscale\": [[0.0, \"#0d0887\"], [0.1111111111111111, \"#46039f\"], [0.2222222222222222, \"#7201a8\"], [0.3333333333333333, \"#9c179e\"], [0.4444444444444444, \"#bd3786\"], [0.5555555555555556, \"#d8576b\"], [0.6666666666666666, \"#ed7953\"], [0.7777777777777778, \"#fb9f3a\"], [0.8888888888888888, \"#fdca26\"], [1.0, \"#f0f921\"]], \"type\": \"contour\"}], \"contourcarpet\": [{\"colorbar\": {\"outlinewidth\": 0, \"ticks\": \"\"}, \"type\": \"contourcarpet\"}], \"heatmap\": [{\"colorbar\": {\"outlinewidth\": 0, \"ticks\": \"\"}, \"colorscale\": [[0.0, \"#0d0887\"], [0.1111111111111111, \"#46039f\"], [0.2222222222222222, \"#7201a8\"], [0.3333333333333333, \"#9c179e\"], [0.4444444444444444, \"#bd3786\"], [0.5555555555555556, \"#d8576b\"], [0.6666666666666666, \"#ed7953\"], [0.7777777777777778, \"#fb9f3a\"], [0.8888888888888888, \"#fdca26\"], [1.0, \"#f0f921\"]], \"type\": \"heatmap\"}], \"heatmapgl\": [{\"colorbar\": {\"outlinewidth\": 0, \"ticks\": \"\"}, \"colorscale\": [[0.0, \"#0d0887\"], [0.1111111111111111, \"#46039f\"], [0.2222222222222222, \"#7201a8\"], [0.3333333333333333, \"#9c179e\"], [0.4444444444444444, \"#bd3786\"], [0.5555555555555556, \"#d8576b\"], [0.6666666666666666, \"#ed7953\"], [0.7777777777777778, \"#fb9f3a\"], [0.8888888888888888, \"#fdca26\"], [1.0, \"#f0f921\"]], \"type\": \"heatmapgl\"}], \"histogram\": [{\"marker\": {\"colorbar\": {\"outlinewidth\": 0, \"ticks\": \"\"}}, \"type\": \"histogram\"}], \"histogram2d\": [{\"colorbar\": {\"outlinewidth\": 0, \"ticks\": \"\"}, \"colorscale\": [[0.0, \"#0d0887\"], [0.1111111111111111, \"#46039f\"], [0.2222222222222222, \"#7201a8\"], [0.3333333333333333, \"#9c179e\"], [0.4444444444444444, \"#bd3786\"], [0.5555555555555556, \"#d8576b\"], [0.6666666666666666, \"#ed7953\"], [0.7777777777777778, \"#fb9f3a\"], [0.8888888888888888, \"#fdca26\"], [1.0, \"#f0f921\"]], \"type\": \"histogram2d\"}], \"histogram2dcontour\": [{\"colorbar\": {\"outlinewidth\": 0, \"ticks\": \"\"}, \"colorscale\": [[0.0, \"#0d0887\"], [0.1111111111111111, \"#46039f\"], [0.2222222222222222, \"#7201a8\"], [0.3333333333333333, \"#9c179e\"], [0.4444444444444444, \"#bd3786\"], [0.5555555555555556, \"#d8576b\"], [0.6666666666666666, \"#ed7953\"], [0.7777777777777778, \"#fb9f3a\"], [0.8888888888888888, \"#fdca26\"], [1.0, \"#f0f921\"]], \"type\": \"histogram2dcontour\"}], \"mesh3d\": [{\"colorbar\": {\"outlinewidth\": 0, \"ticks\": \"\"}, \"type\": \"mesh3d\"}], \"parcoords\": [{\"line\": {\"colorbar\": {\"outlinewidth\": 0, \"ticks\": \"\"}}, \"type\": \"parcoords\"}], \"pie\": [{\"automargin\": true, \"type\": \"pie\"}], \"scatter\": [{\"marker\": {\"colorbar\": {\"outlinewidth\": 0, \"ticks\": \"\"}}, \"type\": \"scatter\"}], \"scatter3d\": [{\"line\": {\"colorbar\": {\"outlinewidth\": 0, \"ticks\": \"\"}}, \"marker\": {\"colorbar\": {\"outlinewidth\": 0, \"ticks\": \"\"}}, \"type\": \"scatter3d\"}], \"scattercarpet\": [{\"marker\": {\"colorbar\": {\"outlinewidth\": 0, \"ticks\": \"\"}}, \"type\": \"scattercarpet\"}], \"scattergeo\": [{\"marker\": {\"colorbar\": {\"outlinewidth\": 0, \"ticks\": \"\"}}, \"type\": \"scattergeo\"}], \"scattergl\": [{\"marker\": {\"colorbar\": {\"outlinewidth\": 0, \"ticks\": \"\"}}, \"type\": \"scattergl\"}], \"scattermapbox\": [{\"marker\": {\"colorbar\": {\"outlinewidth\": 0, \"ticks\": \"\"}}, \"type\": \"scattermapbox\"}], \"scatterpolar\": [{\"marker\": {\"colorbar\": {\"outlinewidth\": 0, \"ticks\": \"\"}}, \"type\": \"scatterpolar\"}], \"scatterpolargl\": [{\"marker\": {\"colorbar\": {\"outlinewidth\": 0, \"ticks\": \"\"}}, \"type\": \"scatterpolargl\"}], \"scatterternary\": [{\"marker\": {\"colorbar\": {\"outlinewidth\": 0, \"ticks\": \"\"}}, \"type\": \"scatterternary\"}], \"surface\": [{\"colorbar\": {\"outlinewidth\": 0, \"ticks\": \"\"}, \"colorscale\": [[0.0, \"#0d0887\"], [0.1111111111111111, \"#46039f\"], [0.2222222222222222, \"#7201a8\"], [0.3333333333333333, \"#9c179e\"], [0.4444444444444444, \"#bd3786\"], [0.5555555555555556, \"#d8576b\"], [0.6666666666666666, \"#ed7953\"], [0.7777777777777778, \"#fb9f3a\"], [0.8888888888888888, \"#fdca26\"], [1.0, \"#f0f921\"]], \"type\": \"surface\"}], \"table\": [{\"cells\": {\"fill\": {\"color\": \"#EBF0F8\"}, \"line\": {\"color\": \"white\"}}, \"header\": {\"fill\": {\"color\": \"#C8D4E3\"}, \"line\": {\"color\": \"white\"}}, \"type\": \"table\"}]}, \"layout\": {\"annotationdefaults\": {\"arrowcolor\": \"#2a3f5f\", \"arrowhead\": 0, \"arrowwidth\": 1}, \"coloraxis\": {\"colorbar\": {\"outlinewidth\": 0, \"ticks\": \"\"}}, \"colorscale\": {\"diverging\": [[0, \"#8e0152\"], [0.1, \"#c51b7d\"], [0.2, \"#de77ae\"], [0.3, \"#f1b6da\"], [0.4, \"#fde0ef\"], [0.5, \"#f7f7f7\"], [0.6, \"#e6f5d0\"], [0.7, \"#b8e186\"], [0.8, \"#7fbc41\"], [0.9, \"#4d9221\"], [1, \"#276419\"]], \"sequential\": [[0.0, \"#0d0887\"], [0.1111111111111111, \"#46039f\"], [0.2222222222222222, \"#7201a8\"], [0.3333333333333333, \"#9c179e\"], [0.4444444444444444, \"#bd3786\"], [0.5555555555555556, \"#d8576b\"], [0.6666666666666666, \"#ed7953\"], [0.7777777777777778, \"#fb9f3a\"], [0.8888888888888888, \"#fdca26\"], [1.0, \"#f0f921\"]], \"sequentialminus\": [[0.0, \"#0d0887\"], [0.1111111111111111, \"#46039f\"], [0.2222222222222222, \"#7201a8\"], [0.3333333333333333, \"#9c179e\"], [0.4444444444444444, \"#bd3786\"], [0.5555555555555556, \"#d8576b\"], [0.6666666666666666, \"#ed7953\"], [0.7777777777777778, \"#fb9f3a\"], [0.8888888888888888, \"#fdca26\"], [1.0, \"#f0f921\"]]}, \"colorway\": [\"#636efa\", \"#EF553B\", \"#00cc96\", \"#ab63fa\", \"#FFA15A\", \"#19d3f3\", \"#FF6692\", \"#B6E880\", \"#FF97FF\", \"#FECB52\"], \"font\": {\"color\": \"#2a3f5f\"}, \"geo\": {\"bgcolor\": \"white\", \"lakecolor\": \"white\", \"landcolor\": \"#E5ECF6\", \"showlakes\": true, \"showland\": true, \"subunitcolor\": \"white\"}, \"hoverlabel\": {\"align\": \"left\"}, \"hovermode\": \"closest\", \"mapbox\": {\"style\": \"light\"}, \"paper_bgcolor\": \"white\", \"plot_bgcolor\": \"#E5ECF6\", \"polar\": {\"angularaxis\": {\"gridcolor\": \"white\", \"linecolor\": \"white\", \"ticks\": \"\"}, \"bgcolor\": \"#E5ECF6\", \"radialaxis\": {\"gridcolor\": \"white\", \"linecolor\": \"white\", \"ticks\": \"\"}}, \"scene\": {\"xaxis\": {\"backgroundcolor\": \"#E5ECF6\", \"gridcolor\": \"white\", \"gridwidth\": 2, \"linecolor\": \"white\", \"showbackground\": true, \"ticks\": \"\", \"zerolinecolor\": \"white\"}, \"yaxis\": {\"backgroundcolor\": \"#E5ECF6\", \"gridcolor\": \"white\", \"gridwidth\": 2, \"linecolor\": \"white\", \"showbackground\": true, \"ticks\": \"\", \"zerolinecolor\": \"white\"}, \"zaxis\": {\"backgroundcolor\": \"#E5ECF6\", \"gridcolor\": \"white\", \"gridwidth\": 2, \"linecolor\": \"white\", \"showbackground\": true, \"ticks\": \"\", \"zerolinecolor\": \"white\"}}, \"shapedefaults\": {\"line\": {\"color\": \"#2a3f5f\"}}, \"ternary\": {\"aaxis\": {\"gridcolor\": \"white\", \"linecolor\": \"white\", \"ticks\": \"\"}, \"baxis\": {\"gridcolor\": \"white\", \"linecolor\": \"white\", \"ticks\": \"\"}, \"bgcolor\": \"#E5ECF6\", \"caxis\": {\"gridcolor\": \"white\", \"linecolor\": \"white\", \"ticks\": \"\"}}, \"title\": {\"x\": 0.05}, \"xaxis\": {\"automargin\": true, \"gridcolor\": \"white\", \"linecolor\": \"white\", \"ticks\": \"\", \"title\": {\"standoff\": 15}, \"zerolinecolor\": \"white\", \"zerolinewidth\": 2}, \"yaxis\": {\"automargin\": true, \"gridcolor\": \"white\", \"linecolor\": \"white\", \"ticks\": \"\", \"title\": {\"standoff\": 15}, \"zerolinecolor\": \"white\", \"zerolinewidth\": 2}}}, \"xaxis\": {\"anchor\": \"y\", \"domain\": [0.0, 0.7363], \"title\": {\"text\": \"pass_accuracy\"}}, \"xaxis2\": {\"anchor\": \"y2\", \"domain\": [0.7413, 1.0], \"matches\": \"x2\", \"showgrid\": true, \"showline\": false, \"showticklabels\": false, \"ticks\": \"\"}, \"xaxis3\": {\"anchor\": \"y3\", \"domain\": [0.0, 0.7363], \"matches\": \"x\", \"showgrid\": true, \"showticklabels\": false}, \"xaxis4\": {\"anchor\": \"y4\", \"domain\": [0.7413, 1.0], \"matches\": \"x2\", \"showgrid\": true, \"showline\": false, \"showticklabels\": false, \"ticks\": \"\"}, \"yaxis\": {\"anchor\": \"x\", \"domain\": [0.0, 0.7326], \"title\": {\"text\": \"prediction\"}}, \"yaxis2\": {\"anchor\": \"x2\", \"domain\": [0.0, 0.7326], \"matches\": \"y\", \"showgrid\": true, \"showticklabels\": false}, \"yaxis3\": {\"anchor\": \"x3\", \"domain\": [0.7426, 1.0], \"matches\": \"y3\", \"showgrid\": true, \"showline\": false, \"showticklabels\": false, \"ticks\": \"\"}, \"yaxis4\": {\"anchor\": \"x4\", \"domain\": [0.7426, 1.0], \"matches\": \"y3\", \"showgrid\": true, \"showline\": false, \"showticklabels\": false, \"ticks\": \"\"}},\n",
       "                        {\"responsive\": true}\n",
       "                    ).then(function(){\n",
       "                            \n",
       "var gd = document.getElementById('38ae8fcc-c038-4cfb-9f0b-3143ed1dddf7');\n",
       "var x = new MutationObserver(function (mutations, observer) {{\n",
       "        var display = window.getComputedStyle(gd).display;\n",
       "        if (!display || display === 'none') {{\n",
       "            console.log([gd, 'removed!']);\n",
       "            Plotly.purge(gd);\n",
       "            observer.disconnect();\n",
       "        }}\n",
       "}});\n",
       "\n",
       "// Listen for the removal of the full notebook cells\n",
       "var notebookContainer = gd.closest('#notebook-container');\n",
       "if (notebookContainer) {{\n",
       "    x.observe(notebookContainer, {childList: true});\n",
       "}}\n",
       "\n",
       "// Listen for the clearing of the current output cell\n",
       "var outputEl = gd.closest('.output');\n",
       "if (outputEl) {{\n",
       "    x.observe(outputEl, {childList: true});\n",
       "}}\n",
       "\n",
       "                        })\n",
       "                };\n",
       "                });\n",
       "            </script>\n",
       "        </div>"
      ]
     },
     "metadata": {},
     "output_type": "display_data"
    }
   ],
   "source": [
    "# Split data into training and test splits\n",
    "train_idx, test_idx = train_test_split(df.index, test_size=0.25, random_state=0)\n",
    "df['split'] = 'train'\n",
    "df.loc[test_idx, 'split'] = 'test'\n",
    "\n",
    "X = df['ball_possession'].values.reshape(-1, 1)\n",
    "y = df['pass_accuracy']\n",
    "X_train = df.loc[train_idx, 'ball_possession'].values.reshape(-1, 1)\n",
    "y_train = df.loc[train_idx, 'pass_accuracy']\n",
    "\n",
    "# Condition the model on Ball Possession, predict the Pass Accuracy\n",
    "model = LinearRegression()\n",
    "model.fit(X_train, y_train)\n",
    "df['prediction'] = model.predict(X)\n",
    "\n",
    "fig = px.scatter(df, x='pass_accuracy', y='prediction', marginal_x='histogram', marginal_y='histogram',\n",
    "                color='split', trendline='ols')\n",
    "fig.update_traces(histnorm='probability', selector={'type':'histogram'})\n",
    "fig.add_shape(\n",
    "    type=\"line\", line=dict(dash='dash'),\n",
    "    x0=y.min(), y0=y.min(),\n",
    "    x1=y.max(), y1=y.max()\n",
    "    )\n",
    "fig.show()"
   ]
  },
  {
   "cell_type": "markdown",
   "metadata": {},
   "source": [
    "Add marginal histograms to quickly diagnoses any prediction bias a model might have. The built-in OLS functionality  visualizes how well a model generalizes by comparing it with the theoretical optimal fit, which is a black dotted line.\n",
    "\n",
    "#### (3) Make predictions"
   ]
  },
  {
   "cell_type": "code",
   "execution_count": 23,
   "metadata": {},
   "outputs": [
    {
     "name": "stdout",
     "output_type": "stream",
     "text": [
      "[[77.69084578]]\n"
     ]
    }
   ],
   "source": [
    "# values converts it into a numpy array\n",
    "x = df[\"Ball Possession %\"].values.reshape(-1, 1) \n",
    " \n",
    "# -1 means that calculate the dimension of rows, but have 1 column\n",
    "y = df[\"Pass Accuracy %\"].values.reshape(-1, 1)\n",
    "\n",
    "# create object for the class\n",
    "reg = LinearRegression() \n",
    "\n",
    "# perform linear regression\n",
    "reg.fit(x, y) \n",
    "\n",
    "# make predictions\n",
    "new_x = [[38]] # After-game ball possesison of USMNT in their first match against Ghana in 2014 World Cup\n",
    "print(reg.predict(new_x))"
   ]
  },
  {
   "cell_type": "markdown",
   "metadata": {},
   "source": [
    "#### Observations\n",
    "\n",
    "1. Since linear regression is a basic predictive analytics technique that uses historical data to predict an output variable, let's predict the value of the pass accuracy, from any values of ball possession.\n",
    "2. I found the value of the ball possession of US men's national soccer team in their first match against Ghana in 2014 World Cup, which was 38%.\n",
    "3. After plugging 38% into the linear regression line, we obtain about 78% of pass accuracy. This means that a team with 38% of ball possession can predict about 78% of average pass accuracy.\n",
    "\n",
    "#### <a href='#Table of Contents'>[Move to the Table of Contents]</a>\n",
    "<a id='Linear Regression Visualization'></a>\n",
    "### 5) Linear regression visualization"
   ]
  },
  {
   "cell_type": "code",
   "execution_count": 24,
   "metadata": {},
   "outputs": [
    {
     "data": {
      "application/vnd.plotly.v1+json": {
       "config": {
        "plotlyServerURL": "https://plot.ly"
       },
       "data": [
        {
         "hovertemplate": "<b>%{hovertext}</b><br><br>Result=win<br>Ball Possession %=%{x}<br>Pass Accuracy %=%{y}<br>Passes=%{marker.size}<extra></extra>",
         "hovertext": [
          "Russia",
          "Uruguay",
          "Iran",
          "France",
          "Denmark",
          "Croatia",
          "Serbia",
          "Mexico",
          "Sweden",
          "Belgium",
          "England",
          "Japan",
          "Senegal",
          "Russia",
          "Portugal",
          "Uruguay",
          "Spain",
          "France",
          "Croatia",
          "Brazil",
          "Nigeria",
          "Switzerland",
          "Belgium",
          "Mexico",
          "Germany",
          "England",
          "Colombia",
          "Uruguay",
          "Saudi Arabia",
          "Peru",
          "Argentina",
          "Croatia",
          "Korea Republic",
          "Sweden",
          "Brazil",
          "Poland",
          "Colombia",
          "Tunisia",
          "Belgium",
          "France",
          "Uruguay",
          "Brazil",
          "Belgium",
          "Sweden",
          "France",
          "Belgium",
          "England",
          "France",
          "Croatia",
          "Belgium",
          "France"
         ],
         "legendgroup": "win",
         "marker": {
          "color": "#636efa",
          "size": [
           306,
           589,
           194,
           484,
           342,
           462,
           392,
           281,
           417,
           544,
           492,
           565,
           328,
           380,
           387,
           521,
           805,
           405,
           372,
           732,
           473,
           547,
           468,
           485,
           699,
           593,
           514,
           492,
           655,
           418,
           565,
           524,
           237,
           212,
           631,
           462,
           431,
           626,
           556,
           351,
           269,
           398,
           621,
           271,
           524,
           370,
           525,
           342,
           622,
           510,
           271
          ],
          "sizemode": "area",
          "sizeref": 2.8425,
          "symbol": "circle"
         },
         "mode": "markers",
         "name": "win",
         "orientation": "v",
         "showlegend": true,
         "type": "scatter",
         "x": [
          40,
          57,
          36,
          51,
          48,
          54,
          50,
          40,
          52,
          61,
          59,
          59,
          43,
          47,
          47,
          47,
          70,
          44,
          42,
          66,
          58,
          58,
          52,
          59,
          71,
          58,
          55,
          56,
          61,
          47,
          66,
          59,
          30,
          35,
          56,
          46,
          57,
          64,
          52,
          41,
          39,
          47,
          56,
          37,
          58,
          43,
          57,
          40,
          54,
          43,
          39
         ],
         "xaxis": "x",
         "y": [
          78,
          86,
          86,
          87,
          82,
          84,
          83,
          82,
          84,
          89,
          91,
          87,
          81,
          76,
          76,
          88,
          89,
          77,
          80,
          90,
          84,
          87,
          84,
          89,
          91,
          94,
          82,
          88,
          90,
          81,
          84,
          87,
          74,
          67,
          88,
          83,
          83,
          87,
          88,
          84,
          69,
          83,
          87,
          73,
          81,
          83,
          80,
          86,
          79,
          88,
          75
         ],
         "yaxis": "y"
        },
        {
         "hovertemplate": "<b>OLS trendline</b><br>Pass Accuracy % = 0.401644 * Ball Possession % + 62.9003<br>R<sup>2</sup>=0.458193<br><br>Result=win<br>Ball Possession %=%{x}<br>Pass Accuracy %=%{y} <b>(trend)</b><extra></extra>",
         "legendgroup": "win",
         "marker": {
          "color": "#636efa",
          "symbol": "circle"
         },
         "mode": "lines",
         "name": "win",
         "showlegend": false,
         "type": "scatter",
         "x": [
          30,
          35,
          36,
          37,
          39,
          39,
          40,
          40,
          40,
          41,
          42,
          43,
          43,
          43,
          44,
          46,
          47,
          47,
          47,
          47,
          47,
          48,
          50,
          51,
          52,
          52,
          52,
          54,
          54,
          55,
          56,
          56,
          56,
          57,
          57,
          57,
          58,
          58,
          58,
          58,
          59,
          59,
          59,
          59,
          61,
          61,
          64,
          66,
          66,
          70,
          71
         ],
         "xaxis": "x",
         "y": [
          74.94958738845716,
          76.95780950168225,
          77.35945392432727,
          77.76109834697229,
          78.56438719226232,
          78.56438719226232,
          78.96603161490734,
          78.96603161490734,
          78.96603161490734,
          79.36767603755236,
          79.76932046019738,
          80.17096488284238,
          80.17096488284238,
          80.17096488284238,
          80.5726093054874,
          81.37589815077743,
          81.77754257342245,
          81.77754257342245,
          81.77754257342245,
          81.77754257342245,
          81.77754257342245,
          82.17918699606747,
          82.98247584135751,
          83.38412026400252,
          83.78576468664754,
          83.78576468664754,
          83.78576468664754,
          84.58905353193758,
          84.58905353193758,
          84.9906979545826,
          85.3923423772276,
          85.3923423772276,
          85.3923423772276,
          85.79398679987263,
          85.79398679987263,
          85.79398679987263,
          86.19563122251765,
          86.19563122251765,
          86.19563122251765,
          86.19563122251765,
          86.59727564516267,
          86.59727564516267,
          86.59727564516267,
          86.59727564516267,
          87.4005644904527,
          87.4005644904527,
          88.60549775838774,
          89.40878660367778,
          89.40878660367778,
          91.01536429425785,
          91.41700871690287
         ],
         "yaxis": "y"
        },
        {
         "hovertemplate": "<b>%{hovertext}</b><br><br>Result=lose<br>Ball Possession %=%{x}<br>Pass Accuracy %=%{y}<br>Passes=%{marker.size}<extra></extra>",
         "hovertext": [
          "Saudi Arabia",
          "Egypt",
          "Morocco",
          "Australia",
          "Peru",
          "Nigeria",
          "Costa Rica",
          "Germany",
          "Korea Republic",
          "Panama",
          "Tunisia",
          "Colombia",
          "Poland",
          "Egypt",
          "Morocco",
          "Saudi Arabia",
          "Iran",
          "Peru",
          "Argentina",
          "Costa Rica",
          "Iceland",
          "Serbia",
          "Tunisia",
          "Korea Republic",
          "Sweden",
          "Panama",
          "Poland",
          "Russia",
          "Egypt",
          "Australia",
          "Nigeria",
          "Iceland",
          "Germany",
          "Mexico",
          "Serbia",
          "Japan",
          "Senegal",
          "Panama",
          "England",
          "Argentina",
          "Portugal",
          "Mexico",
          "Japan",
          "Switzerland",
          "Uruguay",
          "Brazil",
          "Sweden",
          "Belgium",
          "England",
          "England",
          "Croatia"
         ],
         "legendgroup": "lose",
         "marker": {
          "color": "#EF553B",
          "size": [
           511,
           395,
           433,
           390,
           394,
           388,
           428,
           595,
           351,
           317,
           326,
           352,
           552,
           438,
           466,
           590,
           219,
           532,
           505,
           271,
           291,
           309,
           477,
           346,
           213,
           398,
           424,
           355,
           357,
           555,
           244,
           324,
           719,
           487,
           467,
           557,
           281,
           284,
           484,
           547,
           583,
           424,
           453,
           599,
           322,
           557,
           379,
           629,
           479,
           698,
           547
          ],
          "sizemode": "area",
          "sizeref": 2.8425,
          "symbol": "circle"
         },
         "mode": "markers",
         "name": "lose",
         "orientation": "v",
         "showlegend": true,
         "type": "scatter",
         "x": [
          60,
          43,
          64,
          49,
          52,
          46,
          50,
          60,
          48,
          39,
          41,
          41,
          57,
          53,
          53,
          53,
          30,
          56,
          58,
          34,
          42,
          42,
          48,
          41,
          29,
          42,
          45,
          44,
          39,
          53,
          34,
          41,
          70,
          65,
          44,
          54,
          43,
          36,
          48,
          59,
          61,
          53,
          44,
          63,
          42,
          57,
          43,
          60,
          46,
          57,
          61
         ],
         "xaxis": "x",
         "y": [
          86,
          78,
          86,
          85,
          85,
          84,
          83,
          88,
          79,
          82,
          82,
          82,
          88,
          81,
          77,
          86,
          69,
          81,
          81,
          73,
          75,
          78,
          82,
          82,
          77,
          88,
          79,
          83,
          82,
          86,
          76,
          73,
          88,
          83,
          78,
          86,
          78,
          77,
          88,
          86,
          84,
          85,
          83,
          84,
          67,
          89,
          74,
          90,
          79,
          92,
          83
         ],
         "yaxis": "y"
        },
        {
         "hovertemplate": "<b>OLS trendline</b><br>Pass Accuracy % = 0.370331 * Ball Possession % + 63.6817<br>R<sup>2</sup>=0.444964<br><br>Result=lose<br>Ball Possession %=%{x}<br>Pass Accuracy %=%{y} <b>(trend)</b><extra></extra>",
         "legendgroup": "lose",
         "marker": {
          "color": "#EF553B",
          "symbol": "circle"
         },
         "mode": "lines",
         "name": "lose",
         "showlegend": false,
         "type": "scatter",
         "x": [
          29,
          30,
          34,
          34,
          36,
          39,
          39,
          41,
          41,
          41,
          41,
          42,
          42,
          42,
          42,
          43,
          43,
          43,
          44,
          44,
          44,
          45,
          46,
          46,
          48,
          48,
          48,
          49,
          50,
          52,
          53,
          53,
          53,
          53,
          53,
          54,
          56,
          57,
          57,
          57,
          58,
          59,
          60,
          60,
          60,
          61,
          61,
          63,
          64,
          65,
          70
         ],
         "xaxis": "x",
         "y": [
          74.42126821041033,
          74.79159890199719,
          76.27292166834461,
          76.27292166834461,
          77.01358305151832,
          78.12457512627888,
          78.12457512627888,
          78.8652365094526,
          78.8652365094526,
          78.8652365094526,
          78.8652365094526,
          79.23556720103946,
          79.23556720103946,
          79.23556720103946,
          79.23556720103946,
          79.60589789262632,
          79.60589789262632,
          79.60589789262632,
          79.97622858421317,
          79.97622858421317,
          79.97622858421317,
          80.34655927580002,
          80.71688996738688,
          80.71688996738688,
          81.45755135056059,
          81.45755135056059,
          81.45755135056059,
          81.82788204214745,
          82.1982127337343,
          82.93887411690801,
          83.30920480849487,
          83.30920480849487,
          83.30920480849487,
          83.30920480849487,
          83.30920480849487,
          83.67953550008173,
          84.42019688325543,
          84.79052757484229,
          84.79052757484229,
          84.79052757484229,
          85.16085826642914,
          85.531188958016,
          85.90151964960285,
          85.90151964960285,
          85.90151964960285,
          86.2718503411897,
          86.2718503411897,
          87.01251172436342,
          87.38284241595028,
          87.75317310753712,
          89.60482656547141
         ],
         "yaxis": "y"
        },
        {
         "hovertemplate": "<b>%{hovertext}</b><br><br>Result=draw<br>Ball Possession %=%{x}<br>Pass Accuracy %=%{y}<br>Passes=%{marker.size}<extra></extra>",
         "hovertext": [
          "Portugal",
          "Spain",
          "Argentina",
          "Iceland",
          "Brazil",
          "Switzerland",
          "Denmark",
          "Australia",
          "Japan",
          "Senegal",
          "Spain",
          "Morocco",
          "Iran",
          "Portugal",
          "Denmark",
          "France",
          "Switzerland",
          "Costa Rica",
          "Spain",
          "Russia",
          "Croatia",
          "Denmark",
          "Colombia",
          "England",
          "Russia",
          "Croatia"
         ],
         "legendgroup": "draw",
         "marker": {
          "color": "#00cc96",
          "size": [
           366,
           727,
           718,
           189,
           521,
           436,
           458,
           520,
           449,
           338,
           762,
           247,
           226,
           619,
           305,
           669,
           594,
           348,
           1137,
           284,
           626,
           539,
           516,
           571,
           399,
           753
          ],
          "sizemode": "area",
          "sizeref": 2.8425,
          "symbol": "circle"
         },
         "mode": "markers",
         "name": "draw",
         "orientation": "v",
         "showlegend": true,
         "type": "scatter",
         "x": [
          39,
          61,
          72,
          28,
          52,
          48,
          49,
          51,
          54,
          46,
          68,
          32,
          32,
          68,
          38,
          62,
          60,
          40,
          75,
          25,
          54,
          46,
          48,
          51,
          38,
          62
         ],
         "xaxis": "x",
         "y": [
          87,
          93,
          92,
          67,
          88,
          83,
          88,
          85,
          84,
          79,
          91,
          84,
          69,
          89,
          72,
          87,
          87,
          82,
          91,
          72,
          81,
          79,
          78,
          82,
          69,
          82
         ],
         "yaxis": "y"
        },
        {
         "hovertemplate": "<b>OLS trendline</b><br>Pass Accuracy % = 0.435125 * Ball Possession % + 60.6066<br>R<sup>2</sup>=0.627216<br><br>Result=draw<br>Ball Possession %=%{x}<br>Pass Accuracy %=%{y} <b>(trend)</b><extra></extra>",
         "legendgroup": "draw",
         "marker": {
          "color": "#00cc96",
          "symbol": "circle"
         },
         "mode": "lines",
         "name": "draw",
         "showlegend": false,
         "type": "scatter",
         "x": [
          25,
          28,
          32,
          32,
          38,
          38,
          39,
          40,
          46,
          46,
          48,
          48,
          49,
          51,
          51,
          52,
          54,
          54,
          60,
          61,
          62,
          62,
          68,
          68,
          72,
          75
         ],
         "xaxis": "x",
         "y": [
          71.48475622471528,
          72.79013221003454,
          74.53063352379355,
          74.53063352379355,
          77.14138549443209,
          77.14138549443209,
          77.57651082287184,
          78.01163615131159,
          80.62238812195011,
          80.62238812195011,
          81.49263877882963,
          81.49263877882963,
          81.92776410726938,
          82.79801476414889,
          82.79801476414889,
          83.23314009258864,
          84.10339074946815,
          84.10339074946815,
          86.71414272010668,
          87.14926804854643,
          87.58439337698618,
          87.58439337698618,
          90.19514534762472,
          90.19514534762472,
          91.93564666138373,
          93.24102264670299
         ],
         "yaxis": "y"
        }
       ],
       "layout": {
        "legend": {
         "itemsizing": "constant",
         "title": {
          "text": "Result"
         },
         "tracegroupgap": 0
        },
        "margin": {
         "t": 60
        },
        "template": {
         "data": {
          "bar": [
           {
            "error_x": {
             "color": "#2a3f5f"
            },
            "error_y": {
             "color": "#2a3f5f"
            },
            "marker": {
             "line": {
              "color": "#E5ECF6",
              "width": 0.5
             }
            },
            "type": "bar"
           }
          ],
          "barpolar": [
           {
            "marker": {
             "line": {
              "color": "#E5ECF6",
              "width": 0.5
             }
            },
            "type": "barpolar"
           }
          ],
          "carpet": [
           {
            "aaxis": {
             "endlinecolor": "#2a3f5f",
             "gridcolor": "white",
             "linecolor": "white",
             "minorgridcolor": "white",
             "startlinecolor": "#2a3f5f"
            },
            "baxis": {
             "endlinecolor": "#2a3f5f",
             "gridcolor": "white",
             "linecolor": "white",
             "minorgridcolor": "white",
             "startlinecolor": "#2a3f5f"
            },
            "type": "carpet"
           }
          ],
          "choropleth": [
           {
            "colorbar": {
             "outlinewidth": 0,
             "ticks": ""
            },
            "type": "choropleth"
           }
          ],
          "contour": [
           {
            "colorbar": {
             "outlinewidth": 0,
             "ticks": ""
            },
            "colorscale": [
             [
              0,
              "#0d0887"
             ],
             [
              0.1111111111111111,
              "#46039f"
             ],
             [
              0.2222222222222222,
              "#7201a8"
             ],
             [
              0.3333333333333333,
              "#9c179e"
             ],
             [
              0.4444444444444444,
              "#bd3786"
             ],
             [
              0.5555555555555556,
              "#d8576b"
             ],
             [
              0.6666666666666666,
              "#ed7953"
             ],
             [
              0.7777777777777778,
              "#fb9f3a"
             ],
             [
              0.8888888888888888,
              "#fdca26"
             ],
             [
              1,
              "#f0f921"
             ]
            ],
            "type": "contour"
           }
          ],
          "contourcarpet": [
           {
            "colorbar": {
             "outlinewidth": 0,
             "ticks": ""
            },
            "type": "contourcarpet"
           }
          ],
          "heatmap": [
           {
            "colorbar": {
             "outlinewidth": 0,
             "ticks": ""
            },
            "colorscale": [
             [
              0,
              "#0d0887"
             ],
             [
              0.1111111111111111,
              "#46039f"
             ],
             [
              0.2222222222222222,
              "#7201a8"
             ],
             [
              0.3333333333333333,
              "#9c179e"
             ],
             [
              0.4444444444444444,
              "#bd3786"
             ],
             [
              0.5555555555555556,
              "#d8576b"
             ],
             [
              0.6666666666666666,
              "#ed7953"
             ],
             [
              0.7777777777777778,
              "#fb9f3a"
             ],
             [
              0.8888888888888888,
              "#fdca26"
             ],
             [
              1,
              "#f0f921"
             ]
            ],
            "type": "heatmap"
           }
          ],
          "heatmapgl": [
           {
            "colorbar": {
             "outlinewidth": 0,
             "ticks": ""
            },
            "colorscale": [
             [
              0,
              "#0d0887"
             ],
             [
              0.1111111111111111,
              "#46039f"
             ],
             [
              0.2222222222222222,
              "#7201a8"
             ],
             [
              0.3333333333333333,
              "#9c179e"
             ],
             [
              0.4444444444444444,
              "#bd3786"
             ],
             [
              0.5555555555555556,
              "#d8576b"
             ],
             [
              0.6666666666666666,
              "#ed7953"
             ],
             [
              0.7777777777777778,
              "#fb9f3a"
             ],
             [
              0.8888888888888888,
              "#fdca26"
             ],
             [
              1,
              "#f0f921"
             ]
            ],
            "type": "heatmapgl"
           }
          ],
          "histogram": [
           {
            "marker": {
             "colorbar": {
              "outlinewidth": 0,
              "ticks": ""
             }
            },
            "type": "histogram"
           }
          ],
          "histogram2d": [
           {
            "colorbar": {
             "outlinewidth": 0,
             "ticks": ""
            },
            "colorscale": [
             [
              0,
              "#0d0887"
             ],
             [
              0.1111111111111111,
              "#46039f"
             ],
             [
              0.2222222222222222,
              "#7201a8"
             ],
             [
              0.3333333333333333,
              "#9c179e"
             ],
             [
              0.4444444444444444,
              "#bd3786"
             ],
             [
              0.5555555555555556,
              "#d8576b"
             ],
             [
              0.6666666666666666,
              "#ed7953"
             ],
             [
              0.7777777777777778,
              "#fb9f3a"
             ],
             [
              0.8888888888888888,
              "#fdca26"
             ],
             [
              1,
              "#f0f921"
             ]
            ],
            "type": "histogram2d"
           }
          ],
          "histogram2dcontour": [
           {
            "colorbar": {
             "outlinewidth": 0,
             "ticks": ""
            },
            "colorscale": [
             [
              0,
              "#0d0887"
             ],
             [
              0.1111111111111111,
              "#46039f"
             ],
             [
              0.2222222222222222,
              "#7201a8"
             ],
             [
              0.3333333333333333,
              "#9c179e"
             ],
             [
              0.4444444444444444,
              "#bd3786"
             ],
             [
              0.5555555555555556,
              "#d8576b"
             ],
             [
              0.6666666666666666,
              "#ed7953"
             ],
             [
              0.7777777777777778,
              "#fb9f3a"
             ],
             [
              0.8888888888888888,
              "#fdca26"
             ],
             [
              1,
              "#f0f921"
             ]
            ],
            "type": "histogram2dcontour"
           }
          ],
          "mesh3d": [
           {
            "colorbar": {
             "outlinewidth": 0,
             "ticks": ""
            },
            "type": "mesh3d"
           }
          ],
          "parcoords": [
           {
            "line": {
             "colorbar": {
              "outlinewidth": 0,
              "ticks": ""
             }
            },
            "type": "parcoords"
           }
          ],
          "pie": [
           {
            "automargin": true,
            "type": "pie"
           }
          ],
          "scatter": [
           {
            "marker": {
             "colorbar": {
              "outlinewidth": 0,
              "ticks": ""
             }
            },
            "type": "scatter"
           }
          ],
          "scatter3d": [
           {
            "line": {
             "colorbar": {
              "outlinewidth": 0,
              "ticks": ""
             }
            },
            "marker": {
             "colorbar": {
              "outlinewidth": 0,
              "ticks": ""
             }
            },
            "type": "scatter3d"
           }
          ],
          "scattercarpet": [
           {
            "marker": {
             "colorbar": {
              "outlinewidth": 0,
              "ticks": ""
             }
            },
            "type": "scattercarpet"
           }
          ],
          "scattergeo": [
           {
            "marker": {
             "colorbar": {
              "outlinewidth": 0,
              "ticks": ""
             }
            },
            "type": "scattergeo"
           }
          ],
          "scattergl": [
           {
            "marker": {
             "colorbar": {
              "outlinewidth": 0,
              "ticks": ""
             }
            },
            "type": "scattergl"
           }
          ],
          "scattermapbox": [
           {
            "marker": {
             "colorbar": {
              "outlinewidth": 0,
              "ticks": ""
             }
            },
            "type": "scattermapbox"
           }
          ],
          "scatterpolar": [
           {
            "marker": {
             "colorbar": {
              "outlinewidth": 0,
              "ticks": ""
             }
            },
            "type": "scatterpolar"
           }
          ],
          "scatterpolargl": [
           {
            "marker": {
             "colorbar": {
              "outlinewidth": 0,
              "ticks": ""
             }
            },
            "type": "scatterpolargl"
           }
          ],
          "scatterternary": [
           {
            "marker": {
             "colorbar": {
              "outlinewidth": 0,
              "ticks": ""
             }
            },
            "type": "scatterternary"
           }
          ],
          "surface": [
           {
            "colorbar": {
             "outlinewidth": 0,
             "ticks": ""
            },
            "colorscale": [
             [
              0,
              "#0d0887"
             ],
             [
              0.1111111111111111,
              "#46039f"
             ],
             [
              0.2222222222222222,
              "#7201a8"
             ],
             [
              0.3333333333333333,
              "#9c179e"
             ],
             [
              0.4444444444444444,
              "#bd3786"
             ],
             [
              0.5555555555555556,
              "#d8576b"
             ],
             [
              0.6666666666666666,
              "#ed7953"
             ],
             [
              0.7777777777777778,
              "#fb9f3a"
             ],
             [
              0.8888888888888888,
              "#fdca26"
             ],
             [
              1,
              "#f0f921"
             ]
            ],
            "type": "surface"
           }
          ],
          "table": [
           {
            "cells": {
             "fill": {
              "color": "#EBF0F8"
             },
             "line": {
              "color": "white"
             }
            },
            "header": {
             "fill": {
              "color": "#C8D4E3"
             },
             "line": {
              "color": "white"
             }
            },
            "type": "table"
           }
          ]
         },
         "layout": {
          "annotationdefaults": {
           "arrowcolor": "#2a3f5f",
           "arrowhead": 0,
           "arrowwidth": 1
          },
          "coloraxis": {
           "colorbar": {
            "outlinewidth": 0,
            "ticks": ""
           }
          },
          "colorscale": {
           "diverging": [
            [
             0,
             "#8e0152"
            ],
            [
             0.1,
             "#c51b7d"
            ],
            [
             0.2,
             "#de77ae"
            ],
            [
             0.3,
             "#f1b6da"
            ],
            [
             0.4,
             "#fde0ef"
            ],
            [
             0.5,
             "#f7f7f7"
            ],
            [
             0.6,
             "#e6f5d0"
            ],
            [
             0.7,
             "#b8e186"
            ],
            [
             0.8,
             "#7fbc41"
            ],
            [
             0.9,
             "#4d9221"
            ],
            [
             1,
             "#276419"
            ]
           ],
           "sequential": [
            [
             0,
             "#0d0887"
            ],
            [
             0.1111111111111111,
             "#46039f"
            ],
            [
             0.2222222222222222,
             "#7201a8"
            ],
            [
             0.3333333333333333,
             "#9c179e"
            ],
            [
             0.4444444444444444,
             "#bd3786"
            ],
            [
             0.5555555555555556,
             "#d8576b"
            ],
            [
             0.6666666666666666,
             "#ed7953"
            ],
            [
             0.7777777777777778,
             "#fb9f3a"
            ],
            [
             0.8888888888888888,
             "#fdca26"
            ],
            [
             1,
             "#f0f921"
            ]
           ],
           "sequentialminus": [
            [
             0,
             "#0d0887"
            ],
            [
             0.1111111111111111,
             "#46039f"
            ],
            [
             0.2222222222222222,
             "#7201a8"
            ],
            [
             0.3333333333333333,
             "#9c179e"
            ],
            [
             0.4444444444444444,
             "#bd3786"
            ],
            [
             0.5555555555555556,
             "#d8576b"
            ],
            [
             0.6666666666666666,
             "#ed7953"
            ],
            [
             0.7777777777777778,
             "#fb9f3a"
            ],
            [
             0.8888888888888888,
             "#fdca26"
            ],
            [
             1,
             "#f0f921"
            ]
           ]
          },
          "colorway": [
           "#636efa",
           "#EF553B",
           "#00cc96",
           "#ab63fa",
           "#FFA15A",
           "#19d3f3",
           "#FF6692",
           "#B6E880",
           "#FF97FF",
           "#FECB52"
          ],
          "font": {
           "color": "#2a3f5f"
          },
          "geo": {
           "bgcolor": "white",
           "lakecolor": "white",
           "landcolor": "#E5ECF6",
           "showlakes": true,
           "showland": true,
           "subunitcolor": "white"
          },
          "hoverlabel": {
           "align": "left"
          },
          "hovermode": "closest",
          "mapbox": {
           "style": "light"
          },
          "paper_bgcolor": "white",
          "plot_bgcolor": "#E5ECF6",
          "polar": {
           "angularaxis": {
            "gridcolor": "white",
            "linecolor": "white",
            "ticks": ""
           },
           "bgcolor": "#E5ECF6",
           "radialaxis": {
            "gridcolor": "white",
            "linecolor": "white",
            "ticks": ""
           }
          },
          "scene": {
           "xaxis": {
            "backgroundcolor": "#E5ECF6",
            "gridcolor": "white",
            "gridwidth": 2,
            "linecolor": "white",
            "showbackground": true,
            "ticks": "",
            "zerolinecolor": "white"
           },
           "yaxis": {
            "backgroundcolor": "#E5ECF6",
            "gridcolor": "white",
            "gridwidth": 2,
            "linecolor": "white",
            "showbackground": true,
            "ticks": "",
            "zerolinecolor": "white"
           },
           "zaxis": {
            "backgroundcolor": "#E5ECF6",
            "gridcolor": "white",
            "gridwidth": 2,
            "linecolor": "white",
            "showbackground": true,
            "ticks": "",
            "zerolinecolor": "white"
           }
          },
          "shapedefaults": {
           "line": {
            "color": "#2a3f5f"
           }
          },
          "ternary": {
           "aaxis": {
            "gridcolor": "white",
            "linecolor": "white",
            "ticks": ""
           },
           "baxis": {
            "gridcolor": "white",
            "linecolor": "white",
            "ticks": ""
           },
           "bgcolor": "#E5ECF6",
           "caxis": {
            "gridcolor": "white",
            "linecolor": "white",
            "ticks": ""
           }
          },
          "title": {
           "x": 0.05
          },
          "xaxis": {
           "automargin": true,
           "gridcolor": "white",
           "linecolor": "white",
           "ticks": "",
           "title": {
            "standoff": 15
           },
           "zerolinecolor": "white",
           "zerolinewidth": 2
          },
          "yaxis": {
           "automargin": true,
           "gridcolor": "white",
           "linecolor": "white",
           "ticks": "",
           "title": {
            "standoff": 15
           },
           "zerolinecolor": "white",
           "zerolinewidth": 2
          }
         }
        },
        "xaxis": {
         "anchor": "y",
         "domain": [
          0,
          1
         ],
         "title": {
          "text": "Ball Possession %"
         }
        },
        "yaxis": {
         "anchor": "x",
         "domain": [
          0,
          1
         ],
         "title": {
          "text": "Pass Accuracy %"
         }
        }
       }
      },
      "text/html": [
       "<div>\n",
       "        \n",
       "        \n",
       "            <div id=\"32cab544-0a56-45e0-89ed-a33aa638ded0\" class=\"plotly-graph-div\" style=\"height:525px; width:100%;\"></div>\n",
       "            <script type=\"text/javascript\">\n",
       "                require([\"plotly\"], function(Plotly) {\n",
       "                    window.PLOTLYENV=window.PLOTLYENV || {};\n",
       "                    \n",
       "                if (document.getElementById(\"32cab544-0a56-45e0-89ed-a33aa638ded0\")) {\n",
       "                    Plotly.newPlot(\n",
       "                        '32cab544-0a56-45e0-89ed-a33aa638ded0',\n",
       "                        [{\"hovertemplate\": \"<b>%{hovertext}</b><br><br>Result=win<br>Ball Possession %=%{x}<br>Pass Accuracy %=%{y}<br>Passes=%{marker.size}<extra></extra>\", \"hovertext\": [\"Russia\", \"Uruguay\", \"Iran\", \"France\", \"Denmark\", \"Croatia\", \"Serbia\", \"Mexico\", \"Sweden\", \"Belgium\", \"England\", \"Japan\", \"Senegal\", \"Russia\", \"Portugal\", \"Uruguay\", \"Spain\", \"France\", \"Croatia\", \"Brazil\", \"Nigeria\", \"Switzerland\", \"Belgium\", \"Mexico\", \"Germany\", \"England\", \"Colombia\", \"Uruguay\", \"Saudi Arabia\", \"Peru\", \"Argentina\", \"Croatia\", \"Korea Republic\", \"Sweden\", \"Brazil\", \"Poland\", \"Colombia\", \"Tunisia\", \"Belgium\", \"France\", \"Uruguay\", \"Brazil\", \"Belgium\", \"Sweden\", \"France\", \"Belgium\", \"England\", \"France\", \"Croatia\", \"Belgium\", \"France\"], \"legendgroup\": \"win\", \"marker\": {\"color\": \"#636efa\", \"size\": [306, 589, 194, 484, 342, 462, 392, 281, 417, 544, 492, 565, 328, 380, 387, 521, 805, 405, 372, 732, 473, 547, 468, 485, 699, 593, 514, 492, 655, 418, 565, 524, 237, 212, 631, 462, 431, 626, 556, 351, 269, 398, 621, 271, 524, 370, 525, 342, 622, 510, 271], \"sizemode\": \"area\", \"sizeref\": 2.8425, \"symbol\": \"circle\"}, \"mode\": \"markers\", \"name\": \"win\", \"orientation\": \"v\", \"showlegend\": true, \"type\": \"scatter\", \"x\": [40, 57, 36, 51, 48, 54, 50, 40, 52, 61, 59, 59, 43, 47, 47, 47, 70, 44, 42, 66, 58, 58, 52, 59, 71, 58, 55, 56, 61, 47, 66, 59, 30, 35, 56, 46, 57, 64, 52, 41, 39, 47, 56, 37, 58, 43, 57, 40, 54, 43, 39], \"xaxis\": \"x\", \"y\": [78, 86, 86, 87, 82, 84, 83, 82, 84, 89, 91, 87, 81, 76, 76, 88, 89, 77, 80, 90, 84, 87, 84, 89, 91, 94, 82, 88, 90, 81, 84, 87, 74, 67, 88, 83, 83, 87, 88, 84, 69, 83, 87, 73, 81, 83, 80, 86, 79, 88, 75], \"yaxis\": \"y\"}, {\"hovertemplate\": \"<b>OLS trendline</b><br>Pass Accuracy % = 0.401644 * Ball Possession % + 62.9003<br>R<sup>2</sup>=0.458193<br><br>Result=win<br>Ball Possession %=%{x}<br>Pass Accuracy %=%{y} <b>(trend)</b><extra></extra>\", \"legendgroup\": \"win\", \"marker\": {\"color\": \"#636efa\", \"symbol\": \"circle\"}, \"mode\": \"lines\", \"name\": \"win\", \"showlegend\": false, \"type\": \"scatter\", \"x\": [30, 35, 36, 37, 39, 39, 40, 40, 40, 41, 42, 43, 43, 43, 44, 46, 47, 47, 47, 47, 47, 48, 50, 51, 52, 52, 52, 54, 54, 55, 56, 56, 56, 57, 57, 57, 58, 58, 58, 58, 59, 59, 59, 59, 61, 61, 64, 66, 66, 70, 71], \"xaxis\": \"x\", \"y\": [74.94958738845716, 76.95780950168225, 77.35945392432727, 77.76109834697229, 78.56438719226232, 78.56438719226232, 78.96603161490734, 78.96603161490734, 78.96603161490734, 79.36767603755236, 79.76932046019738, 80.17096488284238, 80.17096488284238, 80.17096488284238, 80.5726093054874, 81.37589815077743, 81.77754257342245, 81.77754257342245, 81.77754257342245, 81.77754257342245, 81.77754257342245, 82.17918699606747, 82.98247584135751, 83.38412026400252, 83.78576468664754, 83.78576468664754, 83.78576468664754, 84.58905353193758, 84.58905353193758, 84.9906979545826, 85.3923423772276, 85.3923423772276, 85.3923423772276, 85.79398679987263, 85.79398679987263, 85.79398679987263, 86.19563122251765, 86.19563122251765, 86.19563122251765, 86.19563122251765, 86.59727564516267, 86.59727564516267, 86.59727564516267, 86.59727564516267, 87.4005644904527, 87.4005644904527, 88.60549775838774, 89.40878660367778, 89.40878660367778, 91.01536429425785, 91.41700871690287], \"yaxis\": \"y\"}, {\"hovertemplate\": \"<b>%{hovertext}</b><br><br>Result=lose<br>Ball Possession %=%{x}<br>Pass Accuracy %=%{y}<br>Passes=%{marker.size}<extra></extra>\", \"hovertext\": [\"Saudi Arabia\", \"Egypt\", \"Morocco\", \"Australia\", \"Peru\", \"Nigeria\", \"Costa Rica\", \"Germany\", \"Korea Republic\", \"Panama\", \"Tunisia\", \"Colombia\", \"Poland\", \"Egypt\", \"Morocco\", \"Saudi Arabia\", \"Iran\", \"Peru\", \"Argentina\", \"Costa Rica\", \"Iceland\", \"Serbia\", \"Tunisia\", \"Korea Republic\", \"Sweden\", \"Panama\", \"Poland\", \"Russia\", \"Egypt\", \"Australia\", \"Nigeria\", \"Iceland\", \"Germany\", \"Mexico\", \"Serbia\", \"Japan\", \"Senegal\", \"Panama\", \"England\", \"Argentina\", \"Portugal\", \"Mexico\", \"Japan\", \"Switzerland\", \"Uruguay\", \"Brazil\", \"Sweden\", \"Belgium\", \"England\", \"England\", \"Croatia\"], \"legendgroup\": \"lose\", \"marker\": {\"color\": \"#EF553B\", \"size\": [511, 395, 433, 390, 394, 388, 428, 595, 351, 317, 326, 352, 552, 438, 466, 590, 219, 532, 505, 271, 291, 309, 477, 346, 213, 398, 424, 355, 357, 555, 244, 324, 719, 487, 467, 557, 281, 284, 484, 547, 583, 424, 453, 599, 322, 557, 379, 629, 479, 698, 547], \"sizemode\": \"area\", \"sizeref\": 2.8425, \"symbol\": \"circle\"}, \"mode\": \"markers\", \"name\": \"lose\", \"orientation\": \"v\", \"showlegend\": true, \"type\": \"scatter\", \"x\": [60, 43, 64, 49, 52, 46, 50, 60, 48, 39, 41, 41, 57, 53, 53, 53, 30, 56, 58, 34, 42, 42, 48, 41, 29, 42, 45, 44, 39, 53, 34, 41, 70, 65, 44, 54, 43, 36, 48, 59, 61, 53, 44, 63, 42, 57, 43, 60, 46, 57, 61], \"xaxis\": \"x\", \"y\": [86, 78, 86, 85, 85, 84, 83, 88, 79, 82, 82, 82, 88, 81, 77, 86, 69, 81, 81, 73, 75, 78, 82, 82, 77, 88, 79, 83, 82, 86, 76, 73, 88, 83, 78, 86, 78, 77, 88, 86, 84, 85, 83, 84, 67, 89, 74, 90, 79, 92, 83], \"yaxis\": \"y\"}, {\"hovertemplate\": \"<b>OLS trendline</b><br>Pass Accuracy % = 0.370331 * Ball Possession % + 63.6817<br>R<sup>2</sup>=0.444964<br><br>Result=lose<br>Ball Possession %=%{x}<br>Pass Accuracy %=%{y} <b>(trend)</b><extra></extra>\", \"legendgroup\": \"lose\", \"marker\": {\"color\": \"#EF553B\", \"symbol\": \"circle\"}, \"mode\": \"lines\", \"name\": \"lose\", \"showlegend\": false, \"type\": \"scatter\", \"x\": [29, 30, 34, 34, 36, 39, 39, 41, 41, 41, 41, 42, 42, 42, 42, 43, 43, 43, 44, 44, 44, 45, 46, 46, 48, 48, 48, 49, 50, 52, 53, 53, 53, 53, 53, 54, 56, 57, 57, 57, 58, 59, 60, 60, 60, 61, 61, 63, 64, 65, 70], \"xaxis\": \"x\", \"y\": [74.42126821041033, 74.79159890199719, 76.27292166834461, 76.27292166834461, 77.01358305151832, 78.12457512627888, 78.12457512627888, 78.8652365094526, 78.8652365094526, 78.8652365094526, 78.8652365094526, 79.23556720103946, 79.23556720103946, 79.23556720103946, 79.23556720103946, 79.60589789262632, 79.60589789262632, 79.60589789262632, 79.97622858421317, 79.97622858421317, 79.97622858421317, 80.34655927580002, 80.71688996738688, 80.71688996738688, 81.45755135056059, 81.45755135056059, 81.45755135056059, 81.82788204214745, 82.1982127337343, 82.93887411690801, 83.30920480849487, 83.30920480849487, 83.30920480849487, 83.30920480849487, 83.30920480849487, 83.67953550008173, 84.42019688325543, 84.79052757484229, 84.79052757484229, 84.79052757484229, 85.16085826642914, 85.531188958016, 85.90151964960285, 85.90151964960285, 85.90151964960285, 86.2718503411897, 86.2718503411897, 87.01251172436342, 87.38284241595028, 87.75317310753712, 89.60482656547141], \"yaxis\": \"y\"}, {\"hovertemplate\": \"<b>%{hovertext}</b><br><br>Result=draw<br>Ball Possession %=%{x}<br>Pass Accuracy %=%{y}<br>Passes=%{marker.size}<extra></extra>\", \"hovertext\": [\"Portugal\", \"Spain\", \"Argentina\", \"Iceland\", \"Brazil\", \"Switzerland\", \"Denmark\", \"Australia\", \"Japan\", \"Senegal\", \"Spain\", \"Morocco\", \"Iran\", \"Portugal\", \"Denmark\", \"France\", \"Switzerland\", \"Costa Rica\", \"Spain\", \"Russia\", \"Croatia\", \"Denmark\", \"Colombia\", \"England\", \"Russia\", \"Croatia\"], \"legendgroup\": \"draw\", \"marker\": {\"color\": \"#00cc96\", \"size\": [366, 727, 718, 189, 521, 436, 458, 520, 449, 338, 762, 247, 226, 619, 305, 669, 594, 348, 1137, 284, 626, 539, 516, 571, 399, 753], \"sizemode\": \"area\", \"sizeref\": 2.8425, \"symbol\": \"circle\"}, \"mode\": \"markers\", \"name\": \"draw\", \"orientation\": \"v\", \"showlegend\": true, \"type\": \"scatter\", \"x\": [39, 61, 72, 28, 52, 48, 49, 51, 54, 46, 68, 32, 32, 68, 38, 62, 60, 40, 75, 25, 54, 46, 48, 51, 38, 62], \"xaxis\": \"x\", \"y\": [87, 93, 92, 67, 88, 83, 88, 85, 84, 79, 91, 84, 69, 89, 72, 87, 87, 82, 91, 72, 81, 79, 78, 82, 69, 82], \"yaxis\": \"y\"}, {\"hovertemplate\": \"<b>OLS trendline</b><br>Pass Accuracy % = 0.435125 * Ball Possession % + 60.6066<br>R<sup>2</sup>=0.627216<br><br>Result=draw<br>Ball Possession %=%{x}<br>Pass Accuracy %=%{y} <b>(trend)</b><extra></extra>\", \"legendgroup\": \"draw\", \"marker\": {\"color\": \"#00cc96\", \"symbol\": \"circle\"}, \"mode\": \"lines\", \"name\": \"draw\", \"showlegend\": false, \"type\": \"scatter\", \"x\": [25, 28, 32, 32, 38, 38, 39, 40, 46, 46, 48, 48, 49, 51, 51, 52, 54, 54, 60, 61, 62, 62, 68, 68, 72, 75], \"xaxis\": \"x\", \"y\": [71.48475622471528, 72.79013221003454, 74.53063352379355, 74.53063352379355, 77.14138549443209, 77.14138549443209, 77.57651082287184, 78.01163615131159, 80.62238812195011, 80.62238812195011, 81.49263877882963, 81.49263877882963, 81.92776410726938, 82.79801476414889, 82.79801476414889, 83.23314009258864, 84.10339074946815, 84.10339074946815, 86.71414272010668, 87.14926804854643, 87.58439337698618, 87.58439337698618, 90.19514534762472, 90.19514534762472, 91.93564666138373, 93.24102264670299], \"yaxis\": \"y\"}],\n",
       "                        {\"legend\": {\"itemsizing\": \"constant\", \"title\": {\"text\": \"Result\"}, \"tracegroupgap\": 0}, \"margin\": {\"t\": 60}, \"template\": {\"data\": {\"bar\": [{\"error_x\": {\"color\": \"#2a3f5f\"}, \"error_y\": {\"color\": \"#2a3f5f\"}, \"marker\": {\"line\": {\"color\": \"#E5ECF6\", \"width\": 0.5}}, \"type\": \"bar\"}], \"barpolar\": [{\"marker\": {\"line\": {\"color\": \"#E5ECF6\", \"width\": 0.5}}, \"type\": \"barpolar\"}], \"carpet\": [{\"aaxis\": {\"endlinecolor\": \"#2a3f5f\", \"gridcolor\": \"white\", \"linecolor\": \"white\", \"minorgridcolor\": \"white\", \"startlinecolor\": \"#2a3f5f\"}, \"baxis\": {\"endlinecolor\": \"#2a3f5f\", \"gridcolor\": \"white\", \"linecolor\": \"white\", \"minorgridcolor\": \"white\", \"startlinecolor\": \"#2a3f5f\"}, \"type\": \"carpet\"}], \"choropleth\": [{\"colorbar\": {\"outlinewidth\": 0, \"ticks\": \"\"}, \"type\": \"choropleth\"}], \"contour\": [{\"colorbar\": {\"outlinewidth\": 0, \"ticks\": \"\"}, \"colorscale\": [[0.0, \"#0d0887\"], [0.1111111111111111, \"#46039f\"], [0.2222222222222222, \"#7201a8\"], [0.3333333333333333, \"#9c179e\"], [0.4444444444444444, \"#bd3786\"], [0.5555555555555556, \"#d8576b\"], [0.6666666666666666, \"#ed7953\"], [0.7777777777777778, \"#fb9f3a\"], [0.8888888888888888, \"#fdca26\"], [1.0, \"#f0f921\"]], \"type\": \"contour\"}], \"contourcarpet\": [{\"colorbar\": {\"outlinewidth\": 0, \"ticks\": \"\"}, \"type\": \"contourcarpet\"}], \"heatmap\": [{\"colorbar\": {\"outlinewidth\": 0, \"ticks\": \"\"}, \"colorscale\": [[0.0, \"#0d0887\"], [0.1111111111111111, \"#46039f\"], [0.2222222222222222, \"#7201a8\"], [0.3333333333333333, \"#9c179e\"], [0.4444444444444444, \"#bd3786\"], [0.5555555555555556, \"#d8576b\"], [0.6666666666666666, \"#ed7953\"], [0.7777777777777778, \"#fb9f3a\"], [0.8888888888888888, \"#fdca26\"], [1.0, \"#f0f921\"]], \"type\": \"heatmap\"}], \"heatmapgl\": [{\"colorbar\": {\"outlinewidth\": 0, \"ticks\": \"\"}, \"colorscale\": [[0.0, \"#0d0887\"], [0.1111111111111111, \"#46039f\"], [0.2222222222222222, \"#7201a8\"], [0.3333333333333333, \"#9c179e\"], [0.4444444444444444, \"#bd3786\"], [0.5555555555555556, \"#d8576b\"], [0.6666666666666666, \"#ed7953\"], [0.7777777777777778, \"#fb9f3a\"], [0.8888888888888888, \"#fdca26\"], [1.0, \"#f0f921\"]], \"type\": \"heatmapgl\"}], \"histogram\": [{\"marker\": {\"colorbar\": {\"outlinewidth\": 0, \"ticks\": \"\"}}, \"type\": \"histogram\"}], \"histogram2d\": [{\"colorbar\": {\"outlinewidth\": 0, \"ticks\": \"\"}, \"colorscale\": [[0.0, \"#0d0887\"], [0.1111111111111111, \"#46039f\"], [0.2222222222222222, \"#7201a8\"], [0.3333333333333333, \"#9c179e\"], [0.4444444444444444, \"#bd3786\"], [0.5555555555555556, \"#d8576b\"], [0.6666666666666666, \"#ed7953\"], [0.7777777777777778, \"#fb9f3a\"], [0.8888888888888888, \"#fdca26\"], [1.0, \"#f0f921\"]], \"type\": \"histogram2d\"}], \"histogram2dcontour\": [{\"colorbar\": {\"outlinewidth\": 0, \"ticks\": \"\"}, \"colorscale\": [[0.0, \"#0d0887\"], [0.1111111111111111, \"#46039f\"], [0.2222222222222222, \"#7201a8\"], [0.3333333333333333, \"#9c179e\"], [0.4444444444444444, \"#bd3786\"], [0.5555555555555556, \"#d8576b\"], [0.6666666666666666, \"#ed7953\"], [0.7777777777777778, \"#fb9f3a\"], [0.8888888888888888, \"#fdca26\"], [1.0, \"#f0f921\"]], \"type\": \"histogram2dcontour\"}], \"mesh3d\": [{\"colorbar\": {\"outlinewidth\": 0, \"ticks\": \"\"}, \"type\": \"mesh3d\"}], \"parcoords\": [{\"line\": {\"colorbar\": {\"outlinewidth\": 0, \"ticks\": \"\"}}, \"type\": \"parcoords\"}], \"pie\": [{\"automargin\": true, \"type\": \"pie\"}], \"scatter\": [{\"marker\": {\"colorbar\": {\"outlinewidth\": 0, \"ticks\": \"\"}}, \"type\": \"scatter\"}], \"scatter3d\": [{\"line\": {\"colorbar\": {\"outlinewidth\": 0, \"ticks\": \"\"}}, \"marker\": {\"colorbar\": {\"outlinewidth\": 0, \"ticks\": \"\"}}, \"type\": \"scatter3d\"}], \"scattercarpet\": [{\"marker\": {\"colorbar\": {\"outlinewidth\": 0, \"ticks\": \"\"}}, \"type\": \"scattercarpet\"}], \"scattergeo\": [{\"marker\": {\"colorbar\": {\"outlinewidth\": 0, \"ticks\": \"\"}}, \"type\": \"scattergeo\"}], \"scattergl\": [{\"marker\": {\"colorbar\": {\"outlinewidth\": 0, \"ticks\": \"\"}}, \"type\": \"scattergl\"}], \"scattermapbox\": [{\"marker\": {\"colorbar\": {\"outlinewidth\": 0, \"ticks\": \"\"}}, \"type\": \"scattermapbox\"}], \"scatterpolar\": [{\"marker\": {\"colorbar\": {\"outlinewidth\": 0, \"ticks\": \"\"}}, \"type\": \"scatterpolar\"}], \"scatterpolargl\": [{\"marker\": {\"colorbar\": {\"outlinewidth\": 0, \"ticks\": \"\"}}, \"type\": \"scatterpolargl\"}], \"scatterternary\": [{\"marker\": {\"colorbar\": {\"outlinewidth\": 0, \"ticks\": \"\"}}, \"type\": \"scatterternary\"}], \"surface\": [{\"colorbar\": {\"outlinewidth\": 0, \"ticks\": \"\"}, \"colorscale\": [[0.0, \"#0d0887\"], [0.1111111111111111, \"#46039f\"], [0.2222222222222222, \"#7201a8\"], [0.3333333333333333, \"#9c179e\"], [0.4444444444444444, \"#bd3786\"], [0.5555555555555556, \"#d8576b\"], [0.6666666666666666, \"#ed7953\"], [0.7777777777777778, \"#fb9f3a\"], [0.8888888888888888, \"#fdca26\"], [1.0, \"#f0f921\"]], \"type\": \"surface\"}], \"table\": [{\"cells\": {\"fill\": {\"color\": \"#EBF0F8\"}, \"line\": {\"color\": \"white\"}}, \"header\": {\"fill\": {\"color\": \"#C8D4E3\"}, \"line\": {\"color\": \"white\"}}, \"type\": \"table\"}]}, \"layout\": {\"annotationdefaults\": {\"arrowcolor\": \"#2a3f5f\", \"arrowhead\": 0, \"arrowwidth\": 1}, \"coloraxis\": {\"colorbar\": {\"outlinewidth\": 0, \"ticks\": \"\"}}, \"colorscale\": {\"diverging\": [[0, \"#8e0152\"], [0.1, \"#c51b7d\"], [0.2, \"#de77ae\"], [0.3, \"#f1b6da\"], [0.4, \"#fde0ef\"], [0.5, \"#f7f7f7\"], [0.6, \"#e6f5d0\"], [0.7, \"#b8e186\"], [0.8, \"#7fbc41\"], [0.9, \"#4d9221\"], [1, \"#276419\"]], \"sequential\": [[0.0, \"#0d0887\"], [0.1111111111111111, \"#46039f\"], [0.2222222222222222, \"#7201a8\"], [0.3333333333333333, \"#9c179e\"], [0.4444444444444444, \"#bd3786\"], [0.5555555555555556, \"#d8576b\"], [0.6666666666666666, \"#ed7953\"], [0.7777777777777778, \"#fb9f3a\"], [0.8888888888888888, \"#fdca26\"], [1.0, \"#f0f921\"]], \"sequentialminus\": [[0.0, \"#0d0887\"], [0.1111111111111111, \"#46039f\"], [0.2222222222222222, \"#7201a8\"], [0.3333333333333333, \"#9c179e\"], [0.4444444444444444, \"#bd3786\"], [0.5555555555555556, \"#d8576b\"], [0.6666666666666666, \"#ed7953\"], [0.7777777777777778, \"#fb9f3a\"], [0.8888888888888888, \"#fdca26\"], [1.0, \"#f0f921\"]]}, \"colorway\": [\"#636efa\", \"#EF553B\", \"#00cc96\", \"#ab63fa\", \"#FFA15A\", \"#19d3f3\", \"#FF6692\", \"#B6E880\", \"#FF97FF\", \"#FECB52\"], \"font\": {\"color\": \"#2a3f5f\"}, \"geo\": {\"bgcolor\": \"white\", \"lakecolor\": \"white\", \"landcolor\": \"#E5ECF6\", \"showlakes\": true, \"showland\": true, \"subunitcolor\": \"white\"}, \"hoverlabel\": {\"align\": \"left\"}, \"hovermode\": \"closest\", \"mapbox\": {\"style\": \"light\"}, \"paper_bgcolor\": \"white\", \"plot_bgcolor\": \"#E5ECF6\", \"polar\": {\"angularaxis\": {\"gridcolor\": \"white\", \"linecolor\": \"white\", \"ticks\": \"\"}, \"bgcolor\": \"#E5ECF6\", \"radialaxis\": {\"gridcolor\": \"white\", \"linecolor\": \"white\", \"ticks\": \"\"}}, \"scene\": {\"xaxis\": {\"backgroundcolor\": \"#E5ECF6\", \"gridcolor\": \"white\", \"gridwidth\": 2, \"linecolor\": \"white\", \"showbackground\": true, \"ticks\": \"\", \"zerolinecolor\": \"white\"}, \"yaxis\": {\"backgroundcolor\": \"#E5ECF6\", \"gridcolor\": \"white\", \"gridwidth\": 2, \"linecolor\": \"white\", \"showbackground\": true, \"ticks\": \"\", \"zerolinecolor\": \"white\"}, \"zaxis\": {\"backgroundcolor\": \"#E5ECF6\", \"gridcolor\": \"white\", \"gridwidth\": 2, \"linecolor\": \"white\", \"showbackground\": true, \"ticks\": \"\", \"zerolinecolor\": \"white\"}}, \"shapedefaults\": {\"line\": {\"color\": \"#2a3f5f\"}}, \"ternary\": {\"aaxis\": {\"gridcolor\": \"white\", \"linecolor\": \"white\", \"ticks\": \"\"}, \"baxis\": {\"gridcolor\": \"white\", \"linecolor\": \"white\", \"ticks\": \"\"}, \"bgcolor\": \"#E5ECF6\", \"caxis\": {\"gridcolor\": \"white\", \"linecolor\": \"white\", \"ticks\": \"\"}}, \"title\": {\"x\": 0.05}, \"xaxis\": {\"automargin\": true, \"gridcolor\": \"white\", \"linecolor\": \"white\", \"ticks\": \"\", \"title\": {\"standoff\": 15}, \"zerolinecolor\": \"white\", \"zerolinewidth\": 2}, \"yaxis\": {\"automargin\": true, \"gridcolor\": \"white\", \"linecolor\": \"white\", \"ticks\": \"\", \"title\": {\"standoff\": 15}, \"zerolinecolor\": \"white\", \"zerolinewidth\": 2}}}, \"xaxis\": {\"anchor\": \"y\", \"domain\": [0.0, 1.0], \"title\": {\"text\": \"Ball Possession %\"}}, \"yaxis\": {\"anchor\": \"x\", \"domain\": [0.0, 1.0], \"title\": {\"text\": \"Pass Accuracy %\"}}},\n",
       "                        {\"responsive\": true}\n",
       "                    ).then(function(){\n",
       "                            \n",
       "var gd = document.getElementById('32cab544-0a56-45e0-89ed-a33aa638ded0');\n",
       "var x = new MutationObserver(function (mutations, observer) {{\n",
       "        var display = window.getComputedStyle(gd).display;\n",
       "        if (!display || display === 'none') {{\n",
       "            console.log([gd, 'removed!']);\n",
       "            Plotly.purge(gd);\n",
       "            observer.disconnect();\n",
       "        }}\n",
       "}});\n",
       "\n",
       "// Listen for the removal of the full notebook cells\n",
       "var notebookContainer = gd.closest('#notebook-container');\n",
       "if (notebookContainer) {{\n",
       "    x.observe(notebookContainer, {childList: true});\n",
       "}}\n",
       "\n",
       "// Listen for the clearing of the current output cell\n",
       "var outputEl = gd.closest('.output');\n",
       "if (outputEl) {{\n",
       "    x.observe(outputEl, {childList: true});\n",
       "}}\n",
       "\n",
       "                        })\n",
       "                };\n",
       "                });\n",
       "            </script>\n",
       "        </div>"
      ]
     },
     "metadata": {},
     "output_type": "display_data"
    },
    {
     "data": {
      "application/vnd.plotly.v1+json": {
       "config": {
        "plotlyServerURL": "https://plot.ly"
       },
       "data": [
        {
         "hovertemplate": "<b>%{hovertext}</b><br><br>Result=win<br>Ball Possession %=%{x}<br>Pass Accuracy %=%{y}<br>Passes=%{marker.size}<extra></extra>",
         "hovertext": [
          "Russia",
          "Uruguay",
          "Iran",
          "France",
          "Denmark",
          "Croatia",
          "Serbia",
          "Mexico",
          "Sweden",
          "Belgium",
          "England",
          "Japan",
          "Senegal",
          "Russia",
          "Portugal",
          "Uruguay",
          "Spain",
          "France",
          "Croatia",
          "Brazil",
          "Nigeria",
          "Switzerland",
          "Belgium",
          "Mexico",
          "Germany",
          "England",
          "Colombia",
          "Uruguay",
          "Saudi Arabia",
          "Peru",
          "Argentina",
          "Croatia",
          "Korea Republic",
          "Sweden",
          "Brazil",
          "Poland",
          "Colombia",
          "Tunisia",
          "Belgium",
          "France",
          "Uruguay",
          "Brazil",
          "Belgium",
          "Sweden",
          "France",
          "Belgium",
          "England",
          "France",
          "Croatia",
          "Belgium",
          "France"
         ],
         "legendgroup": "win",
         "marker": {
          "color": "#636efa",
          "size": [
           306,
           589,
           194,
           484,
           342,
           462,
           392,
           281,
           417,
           544,
           492,
           565,
           328,
           380,
           387,
           521,
           805,
           405,
           372,
           732,
           473,
           547,
           468,
           485,
           699,
           593,
           514,
           492,
           655,
           418,
           565,
           524,
           237,
           212,
           631,
           462,
           431,
           626,
           556,
           351,
           269,
           398,
           621,
           271,
           524,
           370,
           525,
           342,
           622,
           510,
           271
          ],
          "sizemode": "area",
          "sizeref": 2.8425,
          "symbol": "circle"
         },
         "mode": "markers",
         "name": "win",
         "orientation": "v",
         "showlegend": true,
         "type": "scatter",
         "x": [
          40,
          57,
          36,
          51,
          48,
          54,
          50,
          40,
          52,
          61,
          59,
          59,
          43,
          47,
          47,
          47,
          70,
          44,
          42,
          66,
          58,
          58,
          52,
          59,
          71,
          58,
          55,
          56,
          61,
          47,
          66,
          59,
          30,
          35,
          56,
          46,
          57,
          64,
          52,
          41,
          39,
          47,
          56,
          37,
          58,
          43,
          57,
          40,
          54,
          43,
          39
         ],
         "xaxis": "x",
         "y": [
          78,
          86,
          86,
          87,
          82,
          84,
          83,
          82,
          84,
          89,
          91,
          87,
          81,
          76,
          76,
          88,
          89,
          77,
          80,
          90,
          84,
          87,
          84,
          89,
          91,
          94,
          82,
          88,
          90,
          81,
          84,
          87,
          74,
          67,
          88,
          83,
          83,
          87,
          88,
          84,
          69,
          83,
          87,
          73,
          81,
          83,
          80,
          86,
          79,
          88,
          75
         ],
         "yaxis": "y"
        },
        {
         "hovertemplate": "<b>OLS trendline</b><br>Pass Accuracy % = 0.401644 * Ball Possession % + 62.9003<br>R<sup>2</sup>=0.458193<br><br>Result=win<br>Ball Possession %=%{x}<br>Pass Accuracy %=%{y} <b>(trend)</b><extra></extra>",
         "legendgroup": "win",
         "marker": {
          "color": "#636efa",
          "symbol": "circle"
         },
         "mode": "lines",
         "name": "win",
         "showlegend": false,
         "type": "scatter",
         "x": [
          30,
          35,
          36,
          37,
          39,
          39,
          40,
          40,
          40,
          41,
          42,
          43,
          43,
          43,
          44,
          46,
          47,
          47,
          47,
          47,
          47,
          48,
          50,
          51,
          52,
          52,
          52,
          54,
          54,
          55,
          56,
          56,
          56,
          57,
          57,
          57,
          58,
          58,
          58,
          58,
          59,
          59,
          59,
          59,
          61,
          61,
          64,
          66,
          66,
          70,
          71
         ],
         "xaxis": "x",
         "y": [
          74.94958738845716,
          76.95780950168225,
          77.35945392432727,
          77.76109834697229,
          78.56438719226232,
          78.56438719226232,
          78.96603161490734,
          78.96603161490734,
          78.96603161490734,
          79.36767603755236,
          79.76932046019738,
          80.17096488284238,
          80.17096488284238,
          80.17096488284238,
          80.5726093054874,
          81.37589815077743,
          81.77754257342245,
          81.77754257342245,
          81.77754257342245,
          81.77754257342245,
          81.77754257342245,
          82.17918699606747,
          82.98247584135751,
          83.38412026400252,
          83.78576468664754,
          83.78576468664754,
          83.78576468664754,
          84.58905353193758,
          84.58905353193758,
          84.9906979545826,
          85.3923423772276,
          85.3923423772276,
          85.3923423772276,
          85.79398679987263,
          85.79398679987263,
          85.79398679987263,
          86.19563122251765,
          86.19563122251765,
          86.19563122251765,
          86.19563122251765,
          86.59727564516267,
          86.59727564516267,
          86.59727564516267,
          86.59727564516267,
          87.4005644904527,
          87.4005644904527,
          88.60549775838774,
          89.40878660367778,
          89.40878660367778,
          91.01536429425785,
          91.41700871690287
         ],
         "yaxis": "y"
        },
        {
         "hovertemplate": "<b>%{hovertext}</b><br><br>Result=lose<br>Ball Possession %=%{x}<br>Pass Accuracy %=%{y}<br>Passes=%{marker.size}<extra></extra>",
         "hovertext": [
          "Saudi Arabia",
          "Egypt",
          "Morocco",
          "Australia",
          "Peru",
          "Nigeria",
          "Costa Rica",
          "Germany",
          "Korea Republic",
          "Panama",
          "Tunisia",
          "Colombia",
          "Poland",
          "Egypt",
          "Morocco",
          "Saudi Arabia",
          "Iran",
          "Peru",
          "Argentina",
          "Costa Rica",
          "Iceland",
          "Serbia",
          "Tunisia",
          "Korea Republic",
          "Sweden",
          "Panama",
          "Poland",
          "Russia",
          "Egypt",
          "Australia",
          "Nigeria",
          "Iceland",
          "Germany",
          "Mexico",
          "Serbia",
          "Japan",
          "Senegal",
          "Panama",
          "England",
          "Argentina",
          "Portugal",
          "Mexico",
          "Japan",
          "Switzerland",
          "Uruguay",
          "Brazil",
          "Sweden",
          "Belgium",
          "England",
          "England",
          "Croatia"
         ],
         "legendgroup": "lose",
         "marker": {
          "color": "#EF553B",
          "size": [
           511,
           395,
           433,
           390,
           394,
           388,
           428,
           595,
           351,
           317,
           326,
           352,
           552,
           438,
           466,
           590,
           219,
           532,
           505,
           271,
           291,
           309,
           477,
           346,
           213,
           398,
           424,
           355,
           357,
           555,
           244,
           324,
           719,
           487,
           467,
           557,
           281,
           284,
           484,
           547,
           583,
           424,
           453,
           599,
           322,
           557,
           379,
           629,
           479,
           698,
           547
          ],
          "sizemode": "area",
          "sizeref": 2.8425,
          "symbol": "circle"
         },
         "mode": "markers",
         "name": "lose",
         "orientation": "v",
         "showlegend": true,
         "type": "scatter",
         "x": [
          60,
          43,
          64,
          49,
          52,
          46,
          50,
          60,
          48,
          39,
          41,
          41,
          57,
          53,
          53,
          53,
          30,
          56,
          58,
          34,
          42,
          42,
          48,
          41,
          29,
          42,
          45,
          44,
          39,
          53,
          34,
          41,
          70,
          65,
          44,
          54,
          43,
          36,
          48,
          59,
          61,
          53,
          44,
          63,
          42,
          57,
          43,
          60,
          46,
          57,
          61
         ],
         "xaxis": "x2",
         "y": [
          86,
          78,
          86,
          85,
          85,
          84,
          83,
          88,
          79,
          82,
          82,
          82,
          88,
          81,
          77,
          86,
          69,
          81,
          81,
          73,
          75,
          78,
          82,
          82,
          77,
          88,
          79,
          83,
          82,
          86,
          76,
          73,
          88,
          83,
          78,
          86,
          78,
          77,
          88,
          86,
          84,
          85,
          83,
          84,
          67,
          89,
          74,
          90,
          79,
          92,
          83
         ],
         "yaxis": "y2"
        },
        {
         "hovertemplate": "<b>OLS trendline</b><br>Pass Accuracy % = 0.370331 * Ball Possession % + 63.6817<br>R<sup>2</sup>=0.444964<br><br>Result=lose<br>Ball Possession %=%{x}<br>Pass Accuracy %=%{y} <b>(trend)</b><extra></extra>",
         "legendgroup": "lose",
         "marker": {
          "color": "#EF553B",
          "symbol": "circle"
         },
         "mode": "lines",
         "name": "lose",
         "showlegend": false,
         "type": "scatter",
         "x": [
          29,
          30,
          34,
          34,
          36,
          39,
          39,
          41,
          41,
          41,
          41,
          42,
          42,
          42,
          42,
          43,
          43,
          43,
          44,
          44,
          44,
          45,
          46,
          46,
          48,
          48,
          48,
          49,
          50,
          52,
          53,
          53,
          53,
          53,
          53,
          54,
          56,
          57,
          57,
          57,
          58,
          59,
          60,
          60,
          60,
          61,
          61,
          63,
          64,
          65,
          70
         ],
         "xaxis": "x2",
         "y": [
          74.42126821041033,
          74.79159890199719,
          76.27292166834461,
          76.27292166834461,
          77.01358305151832,
          78.12457512627888,
          78.12457512627888,
          78.8652365094526,
          78.8652365094526,
          78.8652365094526,
          78.8652365094526,
          79.23556720103946,
          79.23556720103946,
          79.23556720103946,
          79.23556720103946,
          79.60589789262632,
          79.60589789262632,
          79.60589789262632,
          79.97622858421317,
          79.97622858421317,
          79.97622858421317,
          80.34655927580002,
          80.71688996738688,
          80.71688996738688,
          81.45755135056059,
          81.45755135056059,
          81.45755135056059,
          81.82788204214745,
          82.1982127337343,
          82.93887411690801,
          83.30920480849487,
          83.30920480849487,
          83.30920480849487,
          83.30920480849487,
          83.30920480849487,
          83.67953550008173,
          84.42019688325543,
          84.79052757484229,
          84.79052757484229,
          84.79052757484229,
          85.16085826642914,
          85.531188958016,
          85.90151964960285,
          85.90151964960285,
          85.90151964960285,
          86.2718503411897,
          86.2718503411897,
          87.01251172436342,
          87.38284241595028,
          87.75317310753712,
          89.60482656547141
         ],
         "yaxis": "y2"
        },
        {
         "hovertemplate": "<b>%{hovertext}</b><br><br>Result=draw<br>Ball Possession %=%{x}<br>Pass Accuracy %=%{y}<br>Passes=%{marker.size}<extra></extra>",
         "hovertext": [
          "Portugal",
          "Spain",
          "Argentina",
          "Iceland",
          "Brazil",
          "Switzerland",
          "Denmark",
          "Australia",
          "Japan",
          "Senegal",
          "Spain",
          "Morocco",
          "Iran",
          "Portugal",
          "Denmark",
          "France",
          "Switzerland",
          "Costa Rica",
          "Spain",
          "Russia",
          "Croatia",
          "Denmark",
          "Colombia",
          "England",
          "Russia",
          "Croatia"
         ],
         "legendgroup": "draw",
         "marker": {
          "color": "#00cc96",
          "size": [
           366,
           727,
           718,
           189,
           521,
           436,
           458,
           520,
           449,
           338,
           762,
           247,
           226,
           619,
           305,
           669,
           594,
           348,
           1137,
           284,
           626,
           539,
           516,
           571,
           399,
           753
          ],
          "sizemode": "area",
          "sizeref": 2.8425,
          "symbol": "circle"
         },
         "mode": "markers",
         "name": "draw",
         "orientation": "v",
         "showlegend": true,
         "type": "scatter",
         "x": [
          39,
          61,
          72,
          28,
          52,
          48,
          49,
          51,
          54,
          46,
          68,
          32,
          32,
          68,
          38,
          62,
          60,
          40,
          75,
          25,
          54,
          46,
          48,
          51,
          38,
          62
         ],
         "xaxis": "x3",
         "y": [
          87,
          93,
          92,
          67,
          88,
          83,
          88,
          85,
          84,
          79,
          91,
          84,
          69,
          89,
          72,
          87,
          87,
          82,
          91,
          72,
          81,
          79,
          78,
          82,
          69,
          82
         ],
         "yaxis": "y3"
        },
        {
         "hovertemplate": "<b>OLS trendline</b><br>Pass Accuracy % = 0.435125 * Ball Possession % + 60.6066<br>R<sup>2</sup>=0.627216<br><br>Result=draw<br>Ball Possession %=%{x}<br>Pass Accuracy %=%{y} <b>(trend)</b><extra></extra>",
         "legendgroup": "draw",
         "marker": {
          "color": "#00cc96",
          "symbol": "circle"
         },
         "mode": "lines",
         "name": "draw",
         "showlegend": false,
         "type": "scatter",
         "x": [
          25,
          28,
          32,
          32,
          38,
          38,
          39,
          40,
          46,
          46,
          48,
          48,
          49,
          51,
          51,
          52,
          54,
          54,
          60,
          61,
          62,
          62,
          68,
          68,
          72,
          75
         ],
         "xaxis": "x3",
         "y": [
          71.48475622471528,
          72.79013221003454,
          74.53063352379355,
          74.53063352379355,
          77.14138549443209,
          77.14138549443209,
          77.57651082287184,
          78.01163615131159,
          80.62238812195011,
          80.62238812195011,
          81.49263877882963,
          81.49263877882963,
          81.92776410726938,
          82.79801476414889,
          82.79801476414889,
          83.23314009258864,
          84.10339074946815,
          84.10339074946815,
          86.71414272010668,
          87.14926804854643,
          87.58439337698618,
          87.58439337698618,
          90.19514534762472,
          90.19514534762472,
          91.93564666138373,
          93.24102264670299
         ],
         "yaxis": "y3"
        }
       ],
       "layout": {
        "annotations": [
         {
          "font": {},
          "showarrow": false,
          "text": "Result=win",
          "x": 0.15999999999999998,
          "xanchor": "center",
          "xref": "paper",
          "y": 1,
          "yanchor": "bottom",
          "yref": "paper"
         },
         {
          "font": {},
          "showarrow": false,
          "text": "Result=lose",
          "x": 0.49999999999999994,
          "xanchor": "center",
          "xref": "paper",
          "y": 1,
          "yanchor": "bottom",
          "yref": "paper"
         },
         {
          "font": {},
          "showarrow": false,
          "text": "Result=draw",
          "x": 0.8399999999999999,
          "xanchor": "center",
          "xref": "paper",
          "y": 1,
          "yanchor": "bottom",
          "yref": "paper"
         }
        ],
        "legend": {
         "itemsizing": "constant",
         "title": {
          "text": "Result"
         },
         "tracegroupgap": 0
        },
        "margin": {
         "t": 60
        },
        "template": {
         "data": {
          "bar": [
           {
            "error_x": {
             "color": "#2a3f5f"
            },
            "error_y": {
             "color": "#2a3f5f"
            },
            "marker": {
             "line": {
              "color": "#E5ECF6",
              "width": 0.5
             }
            },
            "type": "bar"
           }
          ],
          "barpolar": [
           {
            "marker": {
             "line": {
              "color": "#E5ECF6",
              "width": 0.5
             }
            },
            "type": "barpolar"
           }
          ],
          "carpet": [
           {
            "aaxis": {
             "endlinecolor": "#2a3f5f",
             "gridcolor": "white",
             "linecolor": "white",
             "minorgridcolor": "white",
             "startlinecolor": "#2a3f5f"
            },
            "baxis": {
             "endlinecolor": "#2a3f5f",
             "gridcolor": "white",
             "linecolor": "white",
             "minorgridcolor": "white",
             "startlinecolor": "#2a3f5f"
            },
            "type": "carpet"
           }
          ],
          "choropleth": [
           {
            "colorbar": {
             "outlinewidth": 0,
             "ticks": ""
            },
            "type": "choropleth"
           }
          ],
          "contour": [
           {
            "colorbar": {
             "outlinewidth": 0,
             "ticks": ""
            },
            "colorscale": [
             [
              0,
              "#0d0887"
             ],
             [
              0.1111111111111111,
              "#46039f"
             ],
             [
              0.2222222222222222,
              "#7201a8"
             ],
             [
              0.3333333333333333,
              "#9c179e"
             ],
             [
              0.4444444444444444,
              "#bd3786"
             ],
             [
              0.5555555555555556,
              "#d8576b"
             ],
             [
              0.6666666666666666,
              "#ed7953"
             ],
             [
              0.7777777777777778,
              "#fb9f3a"
             ],
             [
              0.8888888888888888,
              "#fdca26"
             ],
             [
              1,
              "#f0f921"
             ]
            ],
            "type": "contour"
           }
          ],
          "contourcarpet": [
           {
            "colorbar": {
             "outlinewidth": 0,
             "ticks": ""
            },
            "type": "contourcarpet"
           }
          ],
          "heatmap": [
           {
            "colorbar": {
             "outlinewidth": 0,
             "ticks": ""
            },
            "colorscale": [
             [
              0,
              "#0d0887"
             ],
             [
              0.1111111111111111,
              "#46039f"
             ],
             [
              0.2222222222222222,
              "#7201a8"
             ],
             [
              0.3333333333333333,
              "#9c179e"
             ],
             [
              0.4444444444444444,
              "#bd3786"
             ],
             [
              0.5555555555555556,
              "#d8576b"
             ],
             [
              0.6666666666666666,
              "#ed7953"
             ],
             [
              0.7777777777777778,
              "#fb9f3a"
             ],
             [
              0.8888888888888888,
              "#fdca26"
             ],
             [
              1,
              "#f0f921"
             ]
            ],
            "type": "heatmap"
           }
          ],
          "heatmapgl": [
           {
            "colorbar": {
             "outlinewidth": 0,
             "ticks": ""
            },
            "colorscale": [
             [
              0,
              "#0d0887"
             ],
             [
              0.1111111111111111,
              "#46039f"
             ],
             [
              0.2222222222222222,
              "#7201a8"
             ],
             [
              0.3333333333333333,
              "#9c179e"
             ],
             [
              0.4444444444444444,
              "#bd3786"
             ],
             [
              0.5555555555555556,
              "#d8576b"
             ],
             [
              0.6666666666666666,
              "#ed7953"
             ],
             [
              0.7777777777777778,
              "#fb9f3a"
             ],
             [
              0.8888888888888888,
              "#fdca26"
             ],
             [
              1,
              "#f0f921"
             ]
            ],
            "type": "heatmapgl"
           }
          ],
          "histogram": [
           {
            "marker": {
             "colorbar": {
              "outlinewidth": 0,
              "ticks": ""
             }
            },
            "type": "histogram"
           }
          ],
          "histogram2d": [
           {
            "colorbar": {
             "outlinewidth": 0,
             "ticks": ""
            },
            "colorscale": [
             [
              0,
              "#0d0887"
             ],
             [
              0.1111111111111111,
              "#46039f"
             ],
             [
              0.2222222222222222,
              "#7201a8"
             ],
             [
              0.3333333333333333,
              "#9c179e"
             ],
             [
              0.4444444444444444,
              "#bd3786"
             ],
             [
              0.5555555555555556,
              "#d8576b"
             ],
             [
              0.6666666666666666,
              "#ed7953"
             ],
             [
              0.7777777777777778,
              "#fb9f3a"
             ],
             [
              0.8888888888888888,
              "#fdca26"
             ],
             [
              1,
              "#f0f921"
             ]
            ],
            "type": "histogram2d"
           }
          ],
          "histogram2dcontour": [
           {
            "colorbar": {
             "outlinewidth": 0,
             "ticks": ""
            },
            "colorscale": [
             [
              0,
              "#0d0887"
             ],
             [
              0.1111111111111111,
              "#46039f"
             ],
             [
              0.2222222222222222,
              "#7201a8"
             ],
             [
              0.3333333333333333,
              "#9c179e"
             ],
             [
              0.4444444444444444,
              "#bd3786"
             ],
             [
              0.5555555555555556,
              "#d8576b"
             ],
             [
              0.6666666666666666,
              "#ed7953"
             ],
             [
              0.7777777777777778,
              "#fb9f3a"
             ],
             [
              0.8888888888888888,
              "#fdca26"
             ],
             [
              1,
              "#f0f921"
             ]
            ],
            "type": "histogram2dcontour"
           }
          ],
          "mesh3d": [
           {
            "colorbar": {
             "outlinewidth": 0,
             "ticks": ""
            },
            "type": "mesh3d"
           }
          ],
          "parcoords": [
           {
            "line": {
             "colorbar": {
              "outlinewidth": 0,
              "ticks": ""
             }
            },
            "type": "parcoords"
           }
          ],
          "pie": [
           {
            "automargin": true,
            "type": "pie"
           }
          ],
          "scatter": [
           {
            "marker": {
             "colorbar": {
              "outlinewidth": 0,
              "ticks": ""
             }
            },
            "type": "scatter"
           }
          ],
          "scatter3d": [
           {
            "line": {
             "colorbar": {
              "outlinewidth": 0,
              "ticks": ""
             }
            },
            "marker": {
             "colorbar": {
              "outlinewidth": 0,
              "ticks": ""
             }
            },
            "type": "scatter3d"
           }
          ],
          "scattercarpet": [
           {
            "marker": {
             "colorbar": {
              "outlinewidth": 0,
              "ticks": ""
             }
            },
            "type": "scattercarpet"
           }
          ],
          "scattergeo": [
           {
            "marker": {
             "colorbar": {
              "outlinewidth": 0,
              "ticks": ""
             }
            },
            "type": "scattergeo"
           }
          ],
          "scattergl": [
           {
            "marker": {
             "colorbar": {
              "outlinewidth": 0,
              "ticks": ""
             }
            },
            "type": "scattergl"
           }
          ],
          "scattermapbox": [
           {
            "marker": {
             "colorbar": {
              "outlinewidth": 0,
              "ticks": ""
             }
            },
            "type": "scattermapbox"
           }
          ],
          "scatterpolar": [
           {
            "marker": {
             "colorbar": {
              "outlinewidth": 0,
              "ticks": ""
             }
            },
            "type": "scatterpolar"
           }
          ],
          "scatterpolargl": [
           {
            "marker": {
             "colorbar": {
              "outlinewidth": 0,
              "ticks": ""
             }
            },
            "type": "scatterpolargl"
           }
          ],
          "scatterternary": [
           {
            "marker": {
             "colorbar": {
              "outlinewidth": 0,
              "ticks": ""
             }
            },
            "type": "scatterternary"
           }
          ],
          "surface": [
           {
            "colorbar": {
             "outlinewidth": 0,
             "ticks": ""
            },
            "colorscale": [
             [
              0,
              "#0d0887"
             ],
             [
              0.1111111111111111,
              "#46039f"
             ],
             [
              0.2222222222222222,
              "#7201a8"
             ],
             [
              0.3333333333333333,
              "#9c179e"
             ],
             [
              0.4444444444444444,
              "#bd3786"
             ],
             [
              0.5555555555555556,
              "#d8576b"
             ],
             [
              0.6666666666666666,
              "#ed7953"
             ],
             [
              0.7777777777777778,
              "#fb9f3a"
             ],
             [
              0.8888888888888888,
              "#fdca26"
             ],
             [
              1,
              "#f0f921"
             ]
            ],
            "type": "surface"
           }
          ],
          "table": [
           {
            "cells": {
             "fill": {
              "color": "#EBF0F8"
             },
             "line": {
              "color": "white"
             }
            },
            "header": {
             "fill": {
              "color": "#C8D4E3"
             },
             "line": {
              "color": "white"
             }
            },
            "type": "table"
           }
          ]
         },
         "layout": {
          "annotationdefaults": {
           "arrowcolor": "#2a3f5f",
           "arrowhead": 0,
           "arrowwidth": 1
          },
          "coloraxis": {
           "colorbar": {
            "outlinewidth": 0,
            "ticks": ""
           }
          },
          "colorscale": {
           "diverging": [
            [
             0,
             "#8e0152"
            ],
            [
             0.1,
             "#c51b7d"
            ],
            [
             0.2,
             "#de77ae"
            ],
            [
             0.3,
             "#f1b6da"
            ],
            [
             0.4,
             "#fde0ef"
            ],
            [
             0.5,
             "#f7f7f7"
            ],
            [
             0.6,
             "#e6f5d0"
            ],
            [
             0.7,
             "#b8e186"
            ],
            [
             0.8,
             "#7fbc41"
            ],
            [
             0.9,
             "#4d9221"
            ],
            [
             1,
             "#276419"
            ]
           ],
           "sequential": [
            [
             0,
             "#0d0887"
            ],
            [
             0.1111111111111111,
             "#46039f"
            ],
            [
             0.2222222222222222,
             "#7201a8"
            ],
            [
             0.3333333333333333,
             "#9c179e"
            ],
            [
             0.4444444444444444,
             "#bd3786"
            ],
            [
             0.5555555555555556,
             "#d8576b"
            ],
            [
             0.6666666666666666,
             "#ed7953"
            ],
            [
             0.7777777777777778,
             "#fb9f3a"
            ],
            [
             0.8888888888888888,
             "#fdca26"
            ],
            [
             1,
             "#f0f921"
            ]
           ],
           "sequentialminus": [
            [
             0,
             "#0d0887"
            ],
            [
             0.1111111111111111,
             "#46039f"
            ],
            [
             0.2222222222222222,
             "#7201a8"
            ],
            [
             0.3333333333333333,
             "#9c179e"
            ],
            [
             0.4444444444444444,
             "#bd3786"
            ],
            [
             0.5555555555555556,
             "#d8576b"
            ],
            [
             0.6666666666666666,
             "#ed7953"
            ],
            [
             0.7777777777777778,
             "#fb9f3a"
            ],
            [
             0.8888888888888888,
             "#fdca26"
            ],
            [
             1,
             "#f0f921"
            ]
           ]
          },
          "colorway": [
           "#636efa",
           "#EF553B",
           "#00cc96",
           "#ab63fa",
           "#FFA15A",
           "#19d3f3",
           "#FF6692",
           "#B6E880",
           "#FF97FF",
           "#FECB52"
          ],
          "font": {
           "color": "#2a3f5f"
          },
          "geo": {
           "bgcolor": "white",
           "lakecolor": "white",
           "landcolor": "#E5ECF6",
           "showlakes": true,
           "showland": true,
           "subunitcolor": "white"
          },
          "hoverlabel": {
           "align": "left"
          },
          "hovermode": "closest",
          "mapbox": {
           "style": "light"
          },
          "paper_bgcolor": "white",
          "plot_bgcolor": "#E5ECF6",
          "polar": {
           "angularaxis": {
            "gridcolor": "white",
            "linecolor": "white",
            "ticks": ""
           },
           "bgcolor": "#E5ECF6",
           "radialaxis": {
            "gridcolor": "white",
            "linecolor": "white",
            "ticks": ""
           }
          },
          "scene": {
           "xaxis": {
            "backgroundcolor": "#E5ECF6",
            "gridcolor": "white",
            "gridwidth": 2,
            "linecolor": "white",
            "showbackground": true,
            "ticks": "",
            "zerolinecolor": "white"
           },
           "yaxis": {
            "backgroundcolor": "#E5ECF6",
            "gridcolor": "white",
            "gridwidth": 2,
            "linecolor": "white",
            "showbackground": true,
            "ticks": "",
            "zerolinecolor": "white"
           },
           "zaxis": {
            "backgroundcolor": "#E5ECF6",
            "gridcolor": "white",
            "gridwidth": 2,
            "linecolor": "white",
            "showbackground": true,
            "ticks": "",
            "zerolinecolor": "white"
           }
          },
          "shapedefaults": {
           "line": {
            "color": "#2a3f5f"
           }
          },
          "ternary": {
           "aaxis": {
            "gridcolor": "white",
            "linecolor": "white",
            "ticks": ""
           },
           "baxis": {
            "gridcolor": "white",
            "linecolor": "white",
            "ticks": ""
           },
           "bgcolor": "#E5ECF6",
           "caxis": {
            "gridcolor": "white",
            "linecolor": "white",
            "ticks": ""
           }
          },
          "title": {
           "x": 0.05
          },
          "xaxis": {
           "automargin": true,
           "gridcolor": "white",
           "linecolor": "white",
           "ticks": "",
           "title": {
            "standoff": 15
           },
           "zerolinecolor": "white",
           "zerolinewidth": 2
          },
          "yaxis": {
           "automargin": true,
           "gridcolor": "white",
           "linecolor": "white",
           "ticks": "",
           "title": {
            "standoff": 15
           },
           "zerolinecolor": "white",
           "zerolinewidth": 2
          }
         }
        },
        "xaxis": {
         "anchor": "y",
         "domain": [
          0,
          0.31999999999999995
         ],
         "title": {
          "text": "Ball Possession %"
         }
        },
        "xaxis2": {
         "anchor": "y2",
         "domain": [
          0.33999999999999997,
          0.6599999999999999
         ],
         "matches": "x",
         "title": {
          "text": "Ball Possession %"
         }
        },
        "xaxis3": {
         "anchor": "y3",
         "domain": [
          0.6799999999999999,
          0.9999999999999999
         ],
         "matches": "x",
         "title": {
          "text": "Ball Possession %"
         }
        },
        "yaxis": {
         "anchor": "x",
         "domain": [
          0,
          1
         ],
         "title": {
          "text": "Pass Accuracy %"
         }
        },
        "yaxis2": {
         "anchor": "x2",
         "domain": [
          0,
          1
         ],
         "matches": "y",
         "showticklabels": false
        },
        "yaxis3": {
         "anchor": "x3",
         "domain": [
          0,
          1
         ],
         "matches": "y",
         "showticklabels": false
        }
       }
      },
      "text/html": [
       "<div>\n",
       "        \n",
       "        \n",
       "            <div id=\"544d9fd9-4b5e-4ebf-875e-66e50f3fa857\" class=\"plotly-graph-div\" style=\"height:525px; width:100%;\"></div>\n",
       "            <script type=\"text/javascript\">\n",
       "                require([\"plotly\"], function(Plotly) {\n",
       "                    window.PLOTLYENV=window.PLOTLYENV || {};\n",
       "                    \n",
       "                if (document.getElementById(\"544d9fd9-4b5e-4ebf-875e-66e50f3fa857\")) {\n",
       "                    Plotly.newPlot(\n",
       "                        '544d9fd9-4b5e-4ebf-875e-66e50f3fa857',\n",
       "                        [{\"hovertemplate\": \"<b>%{hovertext}</b><br><br>Result=win<br>Ball Possession %=%{x}<br>Pass Accuracy %=%{y}<br>Passes=%{marker.size}<extra></extra>\", \"hovertext\": [\"Russia\", \"Uruguay\", \"Iran\", \"France\", \"Denmark\", \"Croatia\", \"Serbia\", \"Mexico\", \"Sweden\", \"Belgium\", \"England\", \"Japan\", \"Senegal\", \"Russia\", \"Portugal\", \"Uruguay\", \"Spain\", \"France\", \"Croatia\", \"Brazil\", \"Nigeria\", \"Switzerland\", \"Belgium\", \"Mexico\", \"Germany\", \"England\", \"Colombia\", \"Uruguay\", \"Saudi Arabia\", \"Peru\", \"Argentina\", \"Croatia\", \"Korea Republic\", \"Sweden\", \"Brazil\", \"Poland\", \"Colombia\", \"Tunisia\", \"Belgium\", \"France\", \"Uruguay\", \"Brazil\", \"Belgium\", \"Sweden\", \"France\", \"Belgium\", \"England\", \"France\", \"Croatia\", \"Belgium\", \"France\"], \"legendgroup\": \"win\", \"marker\": {\"color\": \"#636efa\", \"size\": [306, 589, 194, 484, 342, 462, 392, 281, 417, 544, 492, 565, 328, 380, 387, 521, 805, 405, 372, 732, 473, 547, 468, 485, 699, 593, 514, 492, 655, 418, 565, 524, 237, 212, 631, 462, 431, 626, 556, 351, 269, 398, 621, 271, 524, 370, 525, 342, 622, 510, 271], \"sizemode\": \"area\", \"sizeref\": 2.8425, \"symbol\": \"circle\"}, \"mode\": \"markers\", \"name\": \"win\", \"orientation\": \"v\", \"showlegend\": true, \"type\": \"scatter\", \"x\": [40, 57, 36, 51, 48, 54, 50, 40, 52, 61, 59, 59, 43, 47, 47, 47, 70, 44, 42, 66, 58, 58, 52, 59, 71, 58, 55, 56, 61, 47, 66, 59, 30, 35, 56, 46, 57, 64, 52, 41, 39, 47, 56, 37, 58, 43, 57, 40, 54, 43, 39], \"xaxis\": \"x\", \"y\": [78, 86, 86, 87, 82, 84, 83, 82, 84, 89, 91, 87, 81, 76, 76, 88, 89, 77, 80, 90, 84, 87, 84, 89, 91, 94, 82, 88, 90, 81, 84, 87, 74, 67, 88, 83, 83, 87, 88, 84, 69, 83, 87, 73, 81, 83, 80, 86, 79, 88, 75], \"yaxis\": \"y\"}, {\"hovertemplate\": \"<b>OLS trendline</b><br>Pass Accuracy % = 0.401644 * Ball Possession % + 62.9003<br>R<sup>2</sup>=0.458193<br><br>Result=win<br>Ball Possession %=%{x}<br>Pass Accuracy %=%{y} <b>(trend)</b><extra></extra>\", \"legendgroup\": \"win\", \"marker\": {\"color\": \"#636efa\", \"symbol\": \"circle\"}, \"mode\": \"lines\", \"name\": \"win\", \"showlegend\": false, \"type\": \"scatter\", \"x\": [30, 35, 36, 37, 39, 39, 40, 40, 40, 41, 42, 43, 43, 43, 44, 46, 47, 47, 47, 47, 47, 48, 50, 51, 52, 52, 52, 54, 54, 55, 56, 56, 56, 57, 57, 57, 58, 58, 58, 58, 59, 59, 59, 59, 61, 61, 64, 66, 66, 70, 71], \"xaxis\": \"x\", \"y\": [74.94958738845716, 76.95780950168225, 77.35945392432727, 77.76109834697229, 78.56438719226232, 78.56438719226232, 78.96603161490734, 78.96603161490734, 78.96603161490734, 79.36767603755236, 79.76932046019738, 80.17096488284238, 80.17096488284238, 80.17096488284238, 80.5726093054874, 81.37589815077743, 81.77754257342245, 81.77754257342245, 81.77754257342245, 81.77754257342245, 81.77754257342245, 82.17918699606747, 82.98247584135751, 83.38412026400252, 83.78576468664754, 83.78576468664754, 83.78576468664754, 84.58905353193758, 84.58905353193758, 84.9906979545826, 85.3923423772276, 85.3923423772276, 85.3923423772276, 85.79398679987263, 85.79398679987263, 85.79398679987263, 86.19563122251765, 86.19563122251765, 86.19563122251765, 86.19563122251765, 86.59727564516267, 86.59727564516267, 86.59727564516267, 86.59727564516267, 87.4005644904527, 87.4005644904527, 88.60549775838774, 89.40878660367778, 89.40878660367778, 91.01536429425785, 91.41700871690287], \"yaxis\": \"y\"}, {\"hovertemplate\": \"<b>%{hovertext}</b><br><br>Result=lose<br>Ball Possession %=%{x}<br>Pass Accuracy %=%{y}<br>Passes=%{marker.size}<extra></extra>\", \"hovertext\": [\"Saudi Arabia\", \"Egypt\", \"Morocco\", \"Australia\", \"Peru\", \"Nigeria\", \"Costa Rica\", \"Germany\", \"Korea Republic\", \"Panama\", \"Tunisia\", \"Colombia\", \"Poland\", \"Egypt\", \"Morocco\", \"Saudi Arabia\", \"Iran\", \"Peru\", \"Argentina\", \"Costa Rica\", \"Iceland\", \"Serbia\", \"Tunisia\", \"Korea Republic\", \"Sweden\", \"Panama\", \"Poland\", \"Russia\", \"Egypt\", \"Australia\", \"Nigeria\", \"Iceland\", \"Germany\", \"Mexico\", \"Serbia\", \"Japan\", \"Senegal\", \"Panama\", \"England\", \"Argentina\", \"Portugal\", \"Mexico\", \"Japan\", \"Switzerland\", \"Uruguay\", \"Brazil\", \"Sweden\", \"Belgium\", \"England\", \"England\", \"Croatia\"], \"legendgroup\": \"lose\", \"marker\": {\"color\": \"#EF553B\", \"size\": [511, 395, 433, 390, 394, 388, 428, 595, 351, 317, 326, 352, 552, 438, 466, 590, 219, 532, 505, 271, 291, 309, 477, 346, 213, 398, 424, 355, 357, 555, 244, 324, 719, 487, 467, 557, 281, 284, 484, 547, 583, 424, 453, 599, 322, 557, 379, 629, 479, 698, 547], \"sizemode\": \"area\", \"sizeref\": 2.8425, \"symbol\": \"circle\"}, \"mode\": \"markers\", \"name\": \"lose\", \"orientation\": \"v\", \"showlegend\": true, \"type\": \"scatter\", \"x\": [60, 43, 64, 49, 52, 46, 50, 60, 48, 39, 41, 41, 57, 53, 53, 53, 30, 56, 58, 34, 42, 42, 48, 41, 29, 42, 45, 44, 39, 53, 34, 41, 70, 65, 44, 54, 43, 36, 48, 59, 61, 53, 44, 63, 42, 57, 43, 60, 46, 57, 61], \"xaxis\": \"x2\", \"y\": [86, 78, 86, 85, 85, 84, 83, 88, 79, 82, 82, 82, 88, 81, 77, 86, 69, 81, 81, 73, 75, 78, 82, 82, 77, 88, 79, 83, 82, 86, 76, 73, 88, 83, 78, 86, 78, 77, 88, 86, 84, 85, 83, 84, 67, 89, 74, 90, 79, 92, 83], \"yaxis\": \"y2\"}, {\"hovertemplate\": \"<b>OLS trendline</b><br>Pass Accuracy % = 0.370331 * Ball Possession % + 63.6817<br>R<sup>2</sup>=0.444964<br><br>Result=lose<br>Ball Possession %=%{x}<br>Pass Accuracy %=%{y} <b>(trend)</b><extra></extra>\", \"legendgroup\": \"lose\", \"marker\": {\"color\": \"#EF553B\", \"symbol\": \"circle\"}, \"mode\": \"lines\", \"name\": \"lose\", \"showlegend\": false, \"type\": \"scatter\", \"x\": [29, 30, 34, 34, 36, 39, 39, 41, 41, 41, 41, 42, 42, 42, 42, 43, 43, 43, 44, 44, 44, 45, 46, 46, 48, 48, 48, 49, 50, 52, 53, 53, 53, 53, 53, 54, 56, 57, 57, 57, 58, 59, 60, 60, 60, 61, 61, 63, 64, 65, 70], \"xaxis\": \"x2\", \"y\": [74.42126821041033, 74.79159890199719, 76.27292166834461, 76.27292166834461, 77.01358305151832, 78.12457512627888, 78.12457512627888, 78.8652365094526, 78.8652365094526, 78.8652365094526, 78.8652365094526, 79.23556720103946, 79.23556720103946, 79.23556720103946, 79.23556720103946, 79.60589789262632, 79.60589789262632, 79.60589789262632, 79.97622858421317, 79.97622858421317, 79.97622858421317, 80.34655927580002, 80.71688996738688, 80.71688996738688, 81.45755135056059, 81.45755135056059, 81.45755135056059, 81.82788204214745, 82.1982127337343, 82.93887411690801, 83.30920480849487, 83.30920480849487, 83.30920480849487, 83.30920480849487, 83.30920480849487, 83.67953550008173, 84.42019688325543, 84.79052757484229, 84.79052757484229, 84.79052757484229, 85.16085826642914, 85.531188958016, 85.90151964960285, 85.90151964960285, 85.90151964960285, 86.2718503411897, 86.2718503411897, 87.01251172436342, 87.38284241595028, 87.75317310753712, 89.60482656547141], \"yaxis\": \"y2\"}, {\"hovertemplate\": \"<b>%{hovertext}</b><br><br>Result=draw<br>Ball Possession %=%{x}<br>Pass Accuracy %=%{y}<br>Passes=%{marker.size}<extra></extra>\", \"hovertext\": [\"Portugal\", \"Spain\", \"Argentina\", \"Iceland\", \"Brazil\", \"Switzerland\", \"Denmark\", \"Australia\", \"Japan\", \"Senegal\", \"Spain\", \"Morocco\", \"Iran\", \"Portugal\", \"Denmark\", \"France\", \"Switzerland\", \"Costa Rica\", \"Spain\", \"Russia\", \"Croatia\", \"Denmark\", \"Colombia\", \"England\", \"Russia\", \"Croatia\"], \"legendgroup\": \"draw\", \"marker\": {\"color\": \"#00cc96\", \"size\": [366, 727, 718, 189, 521, 436, 458, 520, 449, 338, 762, 247, 226, 619, 305, 669, 594, 348, 1137, 284, 626, 539, 516, 571, 399, 753], \"sizemode\": \"area\", \"sizeref\": 2.8425, \"symbol\": \"circle\"}, \"mode\": \"markers\", \"name\": \"draw\", \"orientation\": \"v\", \"showlegend\": true, \"type\": \"scatter\", \"x\": [39, 61, 72, 28, 52, 48, 49, 51, 54, 46, 68, 32, 32, 68, 38, 62, 60, 40, 75, 25, 54, 46, 48, 51, 38, 62], \"xaxis\": \"x3\", \"y\": [87, 93, 92, 67, 88, 83, 88, 85, 84, 79, 91, 84, 69, 89, 72, 87, 87, 82, 91, 72, 81, 79, 78, 82, 69, 82], \"yaxis\": \"y3\"}, {\"hovertemplate\": \"<b>OLS trendline</b><br>Pass Accuracy % = 0.435125 * Ball Possession % + 60.6066<br>R<sup>2</sup>=0.627216<br><br>Result=draw<br>Ball Possession %=%{x}<br>Pass Accuracy %=%{y} <b>(trend)</b><extra></extra>\", \"legendgroup\": \"draw\", \"marker\": {\"color\": \"#00cc96\", \"symbol\": \"circle\"}, \"mode\": \"lines\", \"name\": \"draw\", \"showlegend\": false, \"type\": \"scatter\", \"x\": [25, 28, 32, 32, 38, 38, 39, 40, 46, 46, 48, 48, 49, 51, 51, 52, 54, 54, 60, 61, 62, 62, 68, 68, 72, 75], \"xaxis\": \"x3\", \"y\": [71.48475622471528, 72.79013221003454, 74.53063352379355, 74.53063352379355, 77.14138549443209, 77.14138549443209, 77.57651082287184, 78.01163615131159, 80.62238812195011, 80.62238812195011, 81.49263877882963, 81.49263877882963, 81.92776410726938, 82.79801476414889, 82.79801476414889, 83.23314009258864, 84.10339074946815, 84.10339074946815, 86.71414272010668, 87.14926804854643, 87.58439337698618, 87.58439337698618, 90.19514534762472, 90.19514534762472, 91.93564666138373, 93.24102264670299], \"yaxis\": \"y3\"}],\n",
       "                        {\"annotations\": [{\"font\": {}, \"showarrow\": false, \"text\": \"Result=win\", \"x\": 0.15999999999999998, \"xanchor\": \"center\", \"xref\": \"paper\", \"y\": 1.0, \"yanchor\": \"bottom\", \"yref\": \"paper\"}, {\"font\": {}, \"showarrow\": false, \"text\": \"Result=lose\", \"x\": 0.49999999999999994, \"xanchor\": \"center\", \"xref\": \"paper\", \"y\": 1.0, \"yanchor\": \"bottom\", \"yref\": \"paper\"}, {\"font\": {}, \"showarrow\": false, \"text\": \"Result=draw\", \"x\": 0.8399999999999999, \"xanchor\": \"center\", \"xref\": \"paper\", \"y\": 1.0, \"yanchor\": \"bottom\", \"yref\": \"paper\"}], \"legend\": {\"itemsizing\": \"constant\", \"title\": {\"text\": \"Result\"}, \"tracegroupgap\": 0}, \"margin\": {\"t\": 60}, \"template\": {\"data\": {\"bar\": [{\"error_x\": {\"color\": \"#2a3f5f\"}, \"error_y\": {\"color\": \"#2a3f5f\"}, \"marker\": {\"line\": {\"color\": \"#E5ECF6\", \"width\": 0.5}}, \"type\": \"bar\"}], \"barpolar\": [{\"marker\": {\"line\": {\"color\": \"#E5ECF6\", \"width\": 0.5}}, \"type\": \"barpolar\"}], \"carpet\": [{\"aaxis\": {\"endlinecolor\": \"#2a3f5f\", \"gridcolor\": \"white\", \"linecolor\": \"white\", \"minorgridcolor\": \"white\", \"startlinecolor\": \"#2a3f5f\"}, \"baxis\": {\"endlinecolor\": \"#2a3f5f\", \"gridcolor\": \"white\", \"linecolor\": \"white\", \"minorgridcolor\": \"white\", \"startlinecolor\": \"#2a3f5f\"}, \"type\": \"carpet\"}], \"choropleth\": [{\"colorbar\": {\"outlinewidth\": 0, \"ticks\": \"\"}, \"type\": \"choropleth\"}], \"contour\": [{\"colorbar\": {\"outlinewidth\": 0, \"ticks\": \"\"}, \"colorscale\": [[0.0, \"#0d0887\"], [0.1111111111111111, \"#46039f\"], [0.2222222222222222, \"#7201a8\"], [0.3333333333333333, \"#9c179e\"], [0.4444444444444444, \"#bd3786\"], [0.5555555555555556, \"#d8576b\"], [0.6666666666666666, \"#ed7953\"], [0.7777777777777778, \"#fb9f3a\"], [0.8888888888888888, \"#fdca26\"], [1.0, \"#f0f921\"]], \"type\": \"contour\"}], \"contourcarpet\": [{\"colorbar\": {\"outlinewidth\": 0, \"ticks\": \"\"}, \"type\": \"contourcarpet\"}], \"heatmap\": [{\"colorbar\": {\"outlinewidth\": 0, \"ticks\": \"\"}, \"colorscale\": [[0.0, \"#0d0887\"], [0.1111111111111111, \"#46039f\"], [0.2222222222222222, \"#7201a8\"], [0.3333333333333333, \"#9c179e\"], [0.4444444444444444, \"#bd3786\"], [0.5555555555555556, \"#d8576b\"], [0.6666666666666666, \"#ed7953\"], [0.7777777777777778, \"#fb9f3a\"], [0.8888888888888888, \"#fdca26\"], [1.0, \"#f0f921\"]], \"type\": \"heatmap\"}], \"heatmapgl\": [{\"colorbar\": {\"outlinewidth\": 0, \"ticks\": \"\"}, \"colorscale\": [[0.0, \"#0d0887\"], [0.1111111111111111, \"#46039f\"], [0.2222222222222222, \"#7201a8\"], [0.3333333333333333, \"#9c179e\"], [0.4444444444444444, \"#bd3786\"], [0.5555555555555556, \"#d8576b\"], [0.6666666666666666, \"#ed7953\"], [0.7777777777777778, \"#fb9f3a\"], [0.8888888888888888, \"#fdca26\"], [1.0, \"#f0f921\"]], \"type\": \"heatmapgl\"}], \"histogram\": [{\"marker\": {\"colorbar\": {\"outlinewidth\": 0, \"ticks\": \"\"}}, \"type\": \"histogram\"}], \"histogram2d\": [{\"colorbar\": {\"outlinewidth\": 0, \"ticks\": \"\"}, \"colorscale\": [[0.0, \"#0d0887\"], [0.1111111111111111, \"#46039f\"], [0.2222222222222222, \"#7201a8\"], [0.3333333333333333, \"#9c179e\"], [0.4444444444444444, \"#bd3786\"], [0.5555555555555556, \"#d8576b\"], [0.6666666666666666, \"#ed7953\"], [0.7777777777777778, \"#fb9f3a\"], [0.8888888888888888, \"#fdca26\"], [1.0, \"#f0f921\"]], \"type\": \"histogram2d\"}], \"histogram2dcontour\": [{\"colorbar\": {\"outlinewidth\": 0, \"ticks\": \"\"}, \"colorscale\": [[0.0, \"#0d0887\"], [0.1111111111111111, \"#46039f\"], [0.2222222222222222, \"#7201a8\"], [0.3333333333333333, \"#9c179e\"], [0.4444444444444444, \"#bd3786\"], [0.5555555555555556, \"#d8576b\"], [0.6666666666666666, \"#ed7953\"], [0.7777777777777778, \"#fb9f3a\"], [0.8888888888888888, \"#fdca26\"], [1.0, \"#f0f921\"]], \"type\": \"histogram2dcontour\"}], \"mesh3d\": [{\"colorbar\": {\"outlinewidth\": 0, \"ticks\": \"\"}, \"type\": \"mesh3d\"}], \"parcoords\": [{\"line\": {\"colorbar\": {\"outlinewidth\": 0, \"ticks\": \"\"}}, \"type\": \"parcoords\"}], \"pie\": [{\"automargin\": true, \"type\": \"pie\"}], \"scatter\": [{\"marker\": {\"colorbar\": {\"outlinewidth\": 0, \"ticks\": \"\"}}, \"type\": \"scatter\"}], \"scatter3d\": [{\"line\": {\"colorbar\": {\"outlinewidth\": 0, \"ticks\": \"\"}}, \"marker\": {\"colorbar\": {\"outlinewidth\": 0, \"ticks\": \"\"}}, \"type\": \"scatter3d\"}], \"scattercarpet\": [{\"marker\": {\"colorbar\": {\"outlinewidth\": 0, \"ticks\": \"\"}}, \"type\": \"scattercarpet\"}], \"scattergeo\": [{\"marker\": {\"colorbar\": {\"outlinewidth\": 0, \"ticks\": \"\"}}, \"type\": \"scattergeo\"}], \"scattergl\": [{\"marker\": {\"colorbar\": {\"outlinewidth\": 0, \"ticks\": \"\"}}, \"type\": \"scattergl\"}], \"scattermapbox\": [{\"marker\": {\"colorbar\": {\"outlinewidth\": 0, \"ticks\": \"\"}}, \"type\": \"scattermapbox\"}], \"scatterpolar\": [{\"marker\": {\"colorbar\": {\"outlinewidth\": 0, \"ticks\": \"\"}}, \"type\": \"scatterpolar\"}], \"scatterpolargl\": [{\"marker\": {\"colorbar\": {\"outlinewidth\": 0, \"ticks\": \"\"}}, \"type\": \"scatterpolargl\"}], \"scatterternary\": [{\"marker\": {\"colorbar\": {\"outlinewidth\": 0, \"ticks\": \"\"}}, \"type\": \"scatterternary\"}], \"surface\": [{\"colorbar\": {\"outlinewidth\": 0, \"ticks\": \"\"}, \"colorscale\": [[0.0, \"#0d0887\"], [0.1111111111111111, \"#46039f\"], [0.2222222222222222, \"#7201a8\"], [0.3333333333333333, \"#9c179e\"], [0.4444444444444444, \"#bd3786\"], [0.5555555555555556, \"#d8576b\"], [0.6666666666666666, \"#ed7953\"], [0.7777777777777778, \"#fb9f3a\"], [0.8888888888888888, \"#fdca26\"], [1.0, \"#f0f921\"]], \"type\": \"surface\"}], \"table\": [{\"cells\": {\"fill\": {\"color\": \"#EBF0F8\"}, \"line\": {\"color\": \"white\"}}, \"header\": {\"fill\": {\"color\": \"#C8D4E3\"}, \"line\": {\"color\": \"white\"}}, \"type\": \"table\"}]}, \"layout\": {\"annotationdefaults\": {\"arrowcolor\": \"#2a3f5f\", \"arrowhead\": 0, \"arrowwidth\": 1}, \"coloraxis\": {\"colorbar\": {\"outlinewidth\": 0, \"ticks\": \"\"}}, \"colorscale\": {\"diverging\": [[0, \"#8e0152\"], [0.1, \"#c51b7d\"], [0.2, \"#de77ae\"], [0.3, \"#f1b6da\"], [0.4, \"#fde0ef\"], [0.5, \"#f7f7f7\"], [0.6, \"#e6f5d0\"], [0.7, \"#b8e186\"], [0.8, \"#7fbc41\"], [0.9, \"#4d9221\"], [1, \"#276419\"]], \"sequential\": [[0.0, \"#0d0887\"], [0.1111111111111111, \"#46039f\"], [0.2222222222222222, \"#7201a8\"], [0.3333333333333333, \"#9c179e\"], [0.4444444444444444, \"#bd3786\"], [0.5555555555555556, \"#d8576b\"], [0.6666666666666666, \"#ed7953\"], [0.7777777777777778, \"#fb9f3a\"], [0.8888888888888888, \"#fdca26\"], [1.0, \"#f0f921\"]], \"sequentialminus\": [[0.0, \"#0d0887\"], [0.1111111111111111, \"#46039f\"], [0.2222222222222222, \"#7201a8\"], [0.3333333333333333, \"#9c179e\"], [0.4444444444444444, \"#bd3786\"], [0.5555555555555556, \"#d8576b\"], [0.6666666666666666, \"#ed7953\"], [0.7777777777777778, \"#fb9f3a\"], [0.8888888888888888, \"#fdca26\"], [1.0, \"#f0f921\"]]}, \"colorway\": [\"#636efa\", \"#EF553B\", \"#00cc96\", \"#ab63fa\", \"#FFA15A\", \"#19d3f3\", \"#FF6692\", \"#B6E880\", \"#FF97FF\", \"#FECB52\"], \"font\": {\"color\": \"#2a3f5f\"}, \"geo\": {\"bgcolor\": \"white\", \"lakecolor\": \"white\", \"landcolor\": \"#E5ECF6\", \"showlakes\": true, \"showland\": true, \"subunitcolor\": \"white\"}, \"hoverlabel\": {\"align\": \"left\"}, \"hovermode\": \"closest\", \"mapbox\": {\"style\": \"light\"}, \"paper_bgcolor\": \"white\", \"plot_bgcolor\": \"#E5ECF6\", \"polar\": {\"angularaxis\": {\"gridcolor\": \"white\", \"linecolor\": \"white\", \"ticks\": \"\"}, \"bgcolor\": \"#E5ECF6\", \"radialaxis\": {\"gridcolor\": \"white\", \"linecolor\": \"white\", \"ticks\": \"\"}}, \"scene\": {\"xaxis\": {\"backgroundcolor\": \"#E5ECF6\", \"gridcolor\": \"white\", \"gridwidth\": 2, \"linecolor\": \"white\", \"showbackground\": true, \"ticks\": \"\", \"zerolinecolor\": \"white\"}, \"yaxis\": {\"backgroundcolor\": \"#E5ECF6\", \"gridcolor\": \"white\", \"gridwidth\": 2, \"linecolor\": \"white\", \"showbackground\": true, \"ticks\": \"\", \"zerolinecolor\": \"white\"}, \"zaxis\": {\"backgroundcolor\": \"#E5ECF6\", \"gridcolor\": \"white\", \"gridwidth\": 2, \"linecolor\": \"white\", \"showbackground\": true, \"ticks\": \"\", \"zerolinecolor\": \"white\"}}, \"shapedefaults\": {\"line\": {\"color\": \"#2a3f5f\"}}, \"ternary\": {\"aaxis\": {\"gridcolor\": \"white\", \"linecolor\": \"white\", \"ticks\": \"\"}, \"baxis\": {\"gridcolor\": \"white\", \"linecolor\": \"white\", \"ticks\": \"\"}, \"bgcolor\": \"#E5ECF6\", \"caxis\": {\"gridcolor\": \"white\", \"linecolor\": \"white\", \"ticks\": \"\"}}, \"title\": {\"x\": 0.05}, \"xaxis\": {\"automargin\": true, \"gridcolor\": \"white\", \"linecolor\": \"white\", \"ticks\": \"\", \"title\": {\"standoff\": 15}, \"zerolinecolor\": \"white\", \"zerolinewidth\": 2}, \"yaxis\": {\"automargin\": true, \"gridcolor\": \"white\", \"linecolor\": \"white\", \"ticks\": \"\", \"title\": {\"standoff\": 15}, \"zerolinecolor\": \"white\", \"zerolinewidth\": 2}}}, \"xaxis\": {\"anchor\": \"y\", \"domain\": [0.0, 0.31999999999999995], \"title\": {\"text\": \"Ball Possession %\"}}, \"xaxis2\": {\"anchor\": \"y2\", \"domain\": [0.33999999999999997, 0.6599999999999999], \"matches\": \"x\", \"title\": {\"text\": \"Ball Possession %\"}}, \"xaxis3\": {\"anchor\": \"y3\", \"domain\": [0.6799999999999999, 0.9999999999999999], \"matches\": \"x\", \"title\": {\"text\": \"Ball Possession %\"}}, \"yaxis\": {\"anchor\": \"x\", \"domain\": [0.0, 1.0], \"title\": {\"text\": \"Pass Accuracy %\"}}, \"yaxis2\": {\"anchor\": \"x2\", \"domain\": [0.0, 1.0], \"matches\": \"y\", \"showticklabels\": false}, \"yaxis3\": {\"anchor\": \"x3\", \"domain\": [0.0, 1.0], \"matches\": \"y\", \"showticklabels\": false}},\n",
       "                        {\"responsive\": true}\n",
       "                    ).then(function(){\n",
       "                            \n",
       "var gd = document.getElementById('544d9fd9-4b5e-4ebf-875e-66e50f3fa857');\n",
       "var x = new MutationObserver(function (mutations, observer) {{\n",
       "        var display = window.getComputedStyle(gd).display;\n",
       "        if (!display || display === 'none') {{\n",
       "            console.log([gd, 'removed!']);\n",
       "            Plotly.purge(gd);\n",
       "            observer.disconnect();\n",
       "        }}\n",
       "}});\n",
       "\n",
       "// Listen for the removal of the full notebook cells\n",
       "var notebookContainer = gd.closest('#notebook-container');\n",
       "if (notebookContainer) {{\n",
       "    x.observe(notebookContainer, {childList: true});\n",
       "}}\n",
       "\n",
       "// Listen for the clearing of the current output cell\n",
       "var outputEl = gd.closest('.output');\n",
       "if (outputEl) {{\n",
       "    x.observe(outputEl, {childList: true});\n",
       "}}\n",
       "\n",
       "                        })\n",
       "                };\n",
       "                });\n",
       "            </script>\n",
       "        </div>"
      ]
     },
     "metadata": {},
     "output_type": "display_data"
    },
    {
     "name": "stdout",
     "output_type": "stream",
     "text": [
      "  Result                                     px_fit_results\n",
      "0    win  <statsmodels.regression.linear_model.Regressio...\n",
      "1   lose  <statsmodels.regression.linear_model.Regressio...\n",
      "2   draw  <statsmodels.regression.linear_model.Regressio...\n"
     ]
    },
    {
     "data": {
      "text/html": [
       "<table class=\"simpletable\">\n",
       "<caption>OLS Regression Results</caption>\n",
       "<tr>\n",
       "  <th>Dep. Variable:</th>            <td>y</td>        <th>  R-squared:         </th> <td>   0.458</td>\n",
       "</tr>\n",
       "<tr>\n",
       "  <th>Model:</th>                   <td>OLS</td>       <th>  Adj. R-squared:    </th> <td>   0.447</td>\n",
       "</tr>\n",
       "<tr>\n",
       "  <th>Method:</th>             <td>Least Squares</td>  <th>  F-statistic:       </th> <td>   41.44</td>\n",
       "</tr>\n",
       "<tr>\n",
       "  <th>Date:</th>             <td>Sun, 27 Sep 2020</td> <th>  Prob (F-statistic):</th> <td>4.94e-08</td>\n",
       "</tr>\n",
       "<tr>\n",
       "  <th>Time:</th>                 <td>18:36:33</td>     <th>  Log-Likelihood:    </th> <td> -144.68</td>\n",
       "</tr>\n",
       "<tr>\n",
       "  <th>No. Observations:</th>      <td>    51</td>      <th>  AIC:               </th> <td>   293.4</td>\n",
       "</tr>\n",
       "<tr>\n",
       "  <th>Df Residuals:</th>          <td>    49</td>      <th>  BIC:               </th> <td>   297.2</td>\n",
       "</tr>\n",
       "<tr>\n",
       "  <th>Df Model:</th>              <td>     1</td>      <th>                     </th>     <td> </td>   \n",
       "</tr>\n",
       "<tr>\n",
       "  <th>Covariance Type:</th>      <td>nonrobust</td>    <th>                     </th>     <td> </td>   \n",
       "</tr>\n",
       "</table>\n",
       "<table class=\"simpletable\">\n",
       "<tr>\n",
       "    <td></td>       <th>coef</th>     <th>std err</th>      <th>t</th>      <th>P>|t|</th>  <th>[0.025</th>    <th>0.975]</th>  \n",
       "</tr>\n",
       "<tr>\n",
       "  <th>const</th> <td>   62.9003</td> <td>    3.244</td> <td>   19.393</td> <td> 0.000</td> <td>   56.382</td> <td>   69.418</td>\n",
       "</tr>\n",
       "<tr>\n",
       "  <th>x1</th>    <td>    0.4016</td> <td>    0.062</td> <td>    6.437</td> <td> 0.000</td> <td>    0.276</td> <td>    0.527</td>\n",
       "</tr>\n",
       "</table>\n",
       "<table class=\"simpletable\">\n",
       "<tr>\n",
       "  <th>Omnibus:</th>       <td> 0.371</td> <th>  Durbin-Watson:     </th> <td>   1.968</td>\n",
       "</tr>\n",
       "<tr>\n",
       "  <th>Prob(Omnibus):</th> <td> 0.831</td> <th>  Jarque-Bera (JB):  </th> <td>   0.210</td>\n",
       "</tr>\n",
       "<tr>\n",
       "  <th>Skew:</th>          <td>-0.156</td> <th>  Prob(JB):          </th> <td>   0.900</td>\n",
       "</tr>\n",
       "<tr>\n",
       "  <th>Kurtosis:</th>      <td> 2.956</td> <th>  Cond. No.          </th> <td>    286.</td>\n",
       "</tr>\n",
       "</table><br/><br/>Warnings:<br/>[1] Standard Errors assume that the covariance matrix of the errors is correctly specified."
      ],
      "text/plain": [
       "<class 'statsmodels.iolib.summary.Summary'>\n",
       "\"\"\"\n",
       "                            OLS Regression Results                            \n",
       "==============================================================================\n",
       "Dep. Variable:                      y   R-squared:                       0.458\n",
       "Model:                            OLS   Adj. R-squared:                  0.447\n",
       "Method:                 Least Squares   F-statistic:                     41.44\n",
       "Date:                Sun, 27 Sep 2020   Prob (F-statistic):           4.94e-08\n",
       "Time:                        18:36:33   Log-Likelihood:                -144.68\n",
       "No. Observations:                  51   AIC:                             293.4\n",
       "Df Residuals:                      49   BIC:                             297.2\n",
       "Df Model:                           1                                         \n",
       "Covariance Type:            nonrobust                                         \n",
       "==============================================================================\n",
       "                 coef    std err          t      P>|t|      [0.025      0.975]\n",
       "------------------------------------------------------------------------------\n",
       "const         62.9003      3.244     19.393      0.000      56.382      69.418\n",
       "x1             0.4016      0.062      6.437      0.000       0.276       0.527\n",
       "==============================================================================\n",
       "Omnibus:                        0.371   Durbin-Watson:                   1.968\n",
       "Prob(Omnibus):                  0.831   Jarque-Bera (JB):                0.210\n",
       "Skew:                          -0.156   Prob(JB):                        0.900\n",
       "Kurtosis:                       2.956   Cond. No.                         286.\n",
       "==============================================================================\n",
       "\n",
       "Warnings:\n",
       "[1] Standard Errors assume that the covariance matrix of the errors is correctly specified.\n",
       "\"\"\""
      ]
     },
     "execution_count": 24,
     "metadata": {},
     "output_type": "execute_result"
    }
   ],
   "source": [
    "# Linear regression lines by match result\n",
    "\n",
    "fig = px.scatter(df, x=\"Ball Possession %\", y=\"Pass Accuracy %\", color=\"Result\", \n",
    "                 size=\"Passes\", hover_name=\"Team\", trendline=\"ols\")\n",
    "fig.show()\n",
    "\n",
    "fig = px.scatter(df, x=\"Ball Possession %\", y=\"Pass Accuracy %\", color=\"Result\", \n",
    "                 size=\"Passes\", hover_name=\"Team\", trendline=\"ols\", facet_col=\"Result\")\n",
    "fig.show()\n",
    "\n",
    "results = px.get_trendline_results(fig)\n",
    "print(results)\n",
    "\n",
    "results.px_fit_results.iloc[0].summary()"
   ]
  },
  {
   "cell_type": "code",
   "execution_count": 25,
   "metadata": {},
   "outputs": [
    {
     "data": {
      "application/vnd.plotly.v1+json": {
       "config": {
        "plotlyServerURL": "https://plot.ly"
       },
       "data": [
        {
         "hovertemplate": "ball_possession=%{x}<br>pass_accuracy=%{y}<extra></extra>",
         "legendgroup": "",
         "marker": {
          "color": "#636efa",
          "opacity": 0.65,
          "symbol": "circle"
         },
         "mode": "markers",
         "name": "",
         "orientation": "v",
         "showlegend": false,
         "type": "scatter",
         "x": [
          40,
          60,
          43,
          57,
          64,
          36,
          39,
          61,
          51,
          49,
          72,
          28,
          52,
          48,
          54,
          46,
          50,
          50,
          60,
          40,
          52,
          48,
          52,
          48,
          61,
          39,
          41,
          59,
          41,
          59,
          57,
          43,
          47,
          53,
          47,
          53,
          47,
          53,
          30,
          70,
          49,
          51,
          44,
          56,
          58,
          42,
          66,
          34,
          58,
          42,
          42,
          58,
          52,
          48,
          41,
          59,
          71,
          29,
          58,
          42,
          54,
          46,
          45,
          55,
          56,
          44,
          61,
          39,
          68,
          32,
          32,
          68,
          38,
          62,
          53,
          47,
          34,
          66,
          41,
          59,
          30,
          70,
          65,
          35,
          44,
          56,
          60,
          40,
          54,
          46,
          43,
          57,
          36,
          64,
          48,
          52,
          41,
          59,
          39,
          61,
          75,
          25,
          54,
          46,
          47,
          53,
          56,
          44,
          37,
          63,
          48,
          51,
          42,
          58,
          57,
          43,
          43,
          57,
          38,
          62,
          40,
          60,
          54,
          46,
          43,
          57,
          39,
          61
         ],
         "xaxis": "x",
         "y": [
          78,
          86,
          78,
          86,
          86,
          86,
          87,
          93,
          87,
          85,
          92,
          67,
          85,
          82,
          84,
          84,
          83,
          83,
          88,
          82,
          88,
          83,
          84,
          79,
          89,
          82,
          82,
          91,
          82,
          87,
          88,
          81,
          76,
          81,
          76,
          77,
          88,
          86,
          69,
          89,
          88,
          85,
          77,
          81,
          81,
          80,
          90,
          73,
          84,
          75,
          78,
          87,
          84,
          82,
          82,
          89,
          91,
          77,
          94,
          88,
          84,
          79,
          79,
          82,
          88,
          83,
          90,
          82,
          91,
          84,
          69,
          89,
          72,
          87,
          86,
          81,
          76,
          84,
          73,
          87,
          74,
          88,
          83,
          67,
          78,
          88,
          87,
          82,
          86,
          83,
          78,
          83,
          77,
          87,
          88,
          88,
          84,
          86,
          69,
          84,
          91,
          72,
          81,
          79,
          83,
          85,
          87,
          83,
          73,
          84,
          78,
          82,
          67,
          81,
          89,
          83,
          74,
          80,
          69,
          82,
          86,
          90,
          79,
          79,
          88,
          92,
          75,
          83
         ],
         "yaxis": "y"
        },
        {
         "name": "$62.28 + 0.41x$",
         "type": "scatter",
         "x": [
          25,
          25.505050505050505,
          26.01010101010101,
          26.515151515151516,
          27.02020202020202,
          27.525252525252526,
          28.03030303030303,
          28.535353535353536,
          29.04040404040404,
          29.545454545454547,
          30.050505050505052,
          30.555555555555557,
          31.060606060606062,
          31.565656565656568,
          32.07070707070707,
          32.57575757575758,
          33.08080808080808,
          33.58585858585859,
          34.09090909090909,
          34.5959595959596,
          35.101010101010104,
          35.60606060606061,
          36.111111111111114,
          36.61616161616162,
          37.121212121212125,
          37.62626262626263,
          38.131313131313135,
          38.63636363636364,
          39.141414141414145,
          39.64646464646465,
          40.151515151515156,
          40.65656565656566,
          41.161616161616166,
          41.66666666666667,
          42.17171717171718,
          42.67676767676768,
          43.18181818181819,
          43.68686868686869,
          44.1919191919192,
          44.6969696969697,
          45.20202020202021,
          45.70707070707071,
          46.21212121212122,
          46.71717171717172,
          47.22222222222223,
          47.727272727272734,
          48.23232323232324,
          48.737373737373744,
          49.24242424242424,
          49.74747474747475,
          50.25252525252525,
          50.75757575757576,
          51.26262626262626,
          51.76767676767677,
          52.27272727272727,
          52.77777777777778,
          53.282828282828284,
          53.78787878787879,
          54.292929292929294,
          54.7979797979798,
          55.303030303030305,
          55.80808080808081,
          56.313131313131315,
          56.81818181818182,
          57.323232323232325,
          57.82828282828283,
          58.333333333333336,
          58.83838383838384,
          59.343434343434346,
          59.84848484848485,
          60.35353535353536,
          60.85858585858586,
          61.36363636363637,
          61.86868686868687,
          62.37373737373738,
          62.87878787878788,
          63.38383838383839,
          63.88888888888889,
          64.3939393939394,
          64.8989898989899,
          65.40404040404042,
          65.9090909090909,
          66.41414141414143,
          66.91919191919192,
          67.42424242424244,
          67.92929292929293,
          68.43434343434345,
          68.93939393939394,
          69.44444444444446,
          69.94949494949495,
          70.45454545454547,
          70.95959595959596,
          71.46464646464648,
          71.96969696969697,
          72.47474747474749,
          72.97979797979798,
          73.48484848484848,
          73.98989898989899,
          74.4949494949495,
          75
         ],
         "y": [
          72.41825124648723,
          72.62309174911427,
          72.82793225174129,
          73.03277275436831,
          73.23761325699533,
          73.44245375962237,
          73.64729426224939,
          73.85213476487641,
          74.05697526750343,
          74.26181577013047,
          74.46665627275749,
          74.67149677538451,
          74.87633727801153,
          75.08117778063857,
          75.28601828326559,
          75.49085878589261,
          75.69569928851965,
          75.90053979114667,
          76.10538029377369,
          76.31022079640071,
          76.51506129902775,
          76.71990180165477,
          76.92474230428179,
          77.12958280690881,
          77.33442330953585,
          77.53926381216287,
          77.7441043147899,
          77.94894481741692,
          78.15378532004395,
          78.35862582267097,
          78.563466325298,
          78.76830682792502,
          78.97314733055205,
          79.17798783317907,
          79.3828283358061,
          79.58766883843313,
          79.79250934106015,
          79.99734984368718,
          80.2021903463142,
          80.40703084894122,
          80.61187135156825,
          80.81671185419528,
          81.0215523568223,
          81.22639285944933,
          81.43123336207636,
          81.63607386470338,
          81.84091436733041,
          82.04575486995743,
          82.25059537258446,
          82.45543587521148,
          82.6602763778385,
          82.86511688046554,
          83.06995738309256,
          83.27479788571958,
          83.4796383883466,
          83.68447889097362,
          83.88931939360066,
          84.09415989622768,
          84.2990003988547,
          84.50384090148174,
          84.70868140410876,
          84.91352190673578,
          85.11836240936282,
          85.32320291198984,
          85.52804341461686,
          85.73288391724388,
          85.9377244198709,
          86.14256492249794,
          86.34740542512496,
          86.55224592775198,
          86.75708643037902,
          86.96192693300604,
          87.16676743563306,
          87.37160793826008,
          87.5764484408871,
          87.78128894351414,
          87.98612944614116,
          88.19096994876818,
          88.39581045139522,
          88.60065095402224,
          88.80549145664926,
          89.01033195927629,
          89.21517246190332,
          89.42001296453034,
          89.62485346715738,
          89.82969396978439,
          90.03453447241142,
          90.23937497503844,
          90.44421547766547,
          90.64905598029249,
          90.85389648291952,
          91.05873698554655,
          91.26357748817358,
          91.46841799080059,
          91.67325849342762,
          91.87809899605465,
          92.08293949868167,
          92.2877800013087,
          92.49262050393573,
          92.69746100656275
         ]
        },
        {
         "name": "$50.92 + 0.88x - 0.0x^2$",
         "type": "scatter",
         "x": [
          25,
          25.505050505050505,
          26.01010101010101,
          26.515151515151516,
          27.02020202020202,
          27.525252525252526,
          28.03030303030303,
          28.535353535353536,
          29.04040404040404,
          29.545454545454547,
          30.050505050505052,
          30.555555555555557,
          31.060606060606062,
          31.565656565656568,
          32.07070707070707,
          32.57575757575758,
          33.08080808080808,
          33.58585858585859,
          34.09090909090909,
          34.5959595959596,
          35.101010101010104,
          35.60606060606061,
          36.111111111111114,
          36.61616161616162,
          37.121212121212125,
          37.62626262626263,
          38.131313131313135,
          38.63636363636364,
          39.141414141414145,
          39.64646464646465,
          40.151515151515156,
          40.65656565656566,
          41.161616161616166,
          41.66666666666667,
          42.17171717171718,
          42.67676767676768,
          43.18181818181819,
          43.68686868686869,
          44.1919191919192,
          44.6969696969697,
          45.20202020202021,
          45.70707070707071,
          46.21212121212122,
          46.71717171717172,
          47.22222222222223,
          47.727272727272734,
          48.23232323232324,
          48.737373737373744,
          49.24242424242424,
          49.74747474747475,
          50.25252525252525,
          50.75757575757576,
          51.26262626262626,
          51.76767676767677,
          52.27272727272727,
          52.77777777777778,
          53.282828282828284,
          53.78787878787879,
          54.292929292929294,
          54.7979797979798,
          55.303030303030305,
          55.80808080808081,
          56.313131313131315,
          56.81818181818182,
          57.323232323232325,
          57.82828282828283,
          58.333333333333336,
          58.83838383838384,
          59.343434343434346,
          59.84848484848485,
          60.35353535353536,
          60.85858585858586,
          61.36363636363637,
          61.86868686868687,
          62.37373737373738,
          62.87878787878788,
          63.38383838383839,
          63.88888888888889,
          64.3939393939394,
          64.8989898989899,
          65.40404040404042,
          65.9090909090909,
          66.41414141414143,
          66.91919191919192,
          67.42424242424244,
          67.92929292929293,
          68.43434343434345,
          68.93939393939394,
          69.44444444444446,
          69.94949494949495,
          70.45454545454547,
          70.95959595959596,
          71.46464646464648,
          71.96969696969697,
          72.47474747474749,
          72.97979797979798,
          73.48484848484848,
          73.98989898989899,
          74.4949494949495,
          75
         ],
         "y": [
          69.96450243758022,
          70.2880116657934,
          70.60909944077217,
          70.92776576251649,
          71.24401063102636,
          71.5578340463018,
          71.86923600834281,
          72.17821651714941,
          72.48477557272155,
          72.78891317505925,
          73.0906293241625,
          73.38992402003134,
          73.68679726266575,
          73.98124905206572,
          74.27327938823124,
          74.56288827116234,
          74.85007570085898,
          75.13484167732122,
          75.41718620054901,
          75.69710927054236,
          75.97461088730127,
          76.24969105082575,
          76.5223497611158,
          76.79258701817142,
          77.06040282199258,
          77.32579717257934,
          77.58877006993163,
          77.8493215140495,
          78.10745150493294,
          78.36316004258194,
          78.6164471269965,
          78.86731275817662,
          79.11575693612232,
          79.36177966083358,
          79.6053809323104,
          79.8465607505528,
          80.08531911556074,
          80.32165602733426,
          80.55557148587333,
          80.78706549117797,
          81.01613804324819,
          81.24278914208395,
          81.4670187876853,
          81.68882698005221,
          81.90821371918467,
          82.12517900508271,
          82.3397228377463,
          82.55184521717547,
          82.76154614337018,
          82.96882561633049,
          83.17368363605635,
          83.37612020254777,
          83.57613531580476,
          83.7737289758273,
          83.96890118261543,
          84.16165193616911,
          84.35198123648834,
          84.53988908357316,
          84.72537547742353,
          84.90844041803948,
          85.08908390542098,
          85.26730593956803,
          85.44310652048068,
          85.61648564815886,
          85.78744332260264,
          85.95597954381196,
          86.12209431178685,
          86.28578762652731,
          86.44705948803333,
          86.60590989630492,
          86.76233885134207,
          86.91634635314477,
          87.06793240171307,
          87.21709699704691,
          87.36384013914632,
          87.50816182801128,
          87.65006206364183,
          87.78954084603794,
          87.9265981751996,
          88.06123405112683,
          88.19344847381963,
          88.323241443278,
          88.45061295950191,
          88.5755630224914,
          88.69809163224646,
          88.81819878876708,
          88.93588449205328,
          89.05114874210501,
          89.16399153892235,
          89.27441288250522,
          89.38241277285366,
          89.48799120996766,
          89.59114819384723,
          89.69188372449236,
          89.79019780190308,
          89.88609042607933,
          89.97956159702117,
          90.07061131472857,
          90.15923957920151,
          90.24544639044007
         ]
        },
        {
         "name": "$48.0 + 1.07x - 0.01x^2 + 0.0x^3$",
         "type": "scatter",
         "x": [
          25,
          25.505050505050505,
          26.01010101010101,
          26.515151515151516,
          27.02020202020202,
          27.525252525252526,
          28.03030303030303,
          28.535353535353536,
          29.04040404040404,
          29.545454545454547,
          30.050505050505052,
          30.555555555555557,
          31.060606060606062,
          31.565656565656568,
          32.07070707070707,
          32.57575757575758,
          33.08080808080808,
          33.58585858585859,
          34.09090909090909,
          34.5959595959596,
          35.101010101010104,
          35.60606060606061,
          36.111111111111114,
          36.61616161616162,
          37.121212121212125,
          37.62626262626263,
          38.131313131313135,
          38.63636363636364,
          39.141414141414145,
          39.64646464646465,
          40.151515151515156,
          40.65656565656566,
          41.161616161616166,
          41.66666666666667,
          42.17171717171718,
          42.67676767676768,
          43.18181818181819,
          43.68686868686869,
          44.1919191919192,
          44.6969696969697,
          45.20202020202021,
          45.70707070707071,
          46.21212121212122,
          46.71717171717172,
          47.22222222222223,
          47.727272727272734,
          48.23232323232324,
          48.737373737373744,
          49.24242424242424,
          49.74747474747475,
          50.25252525252525,
          50.75757575757576,
          51.26262626262626,
          51.76767676767677,
          52.27272727272727,
          52.77777777777778,
          53.282828282828284,
          53.78787878787879,
          54.292929292929294,
          54.7979797979798,
          55.303030303030305,
          55.80808080808081,
          56.313131313131315,
          56.81818181818182,
          57.323232323232325,
          57.82828282828283,
          58.333333333333336,
          58.83838383838384,
          59.343434343434346,
          59.84848484848485,
          60.35353535353536,
          60.85858585858586,
          61.36363636363637,
          61.86868686868687,
          62.37373737373738,
          62.87878787878788,
          63.38383838383839,
          63.88888888888889,
          64.3939393939394,
          64.8989898989899,
          65.40404040404042,
          65.9090909090909,
          66.41414141414143,
          66.91919191919192,
          67.42424242424244,
          67.92929292929293,
          68.43434343434345,
          68.93939393939394,
          69.44444444444446,
          69.94949494949495,
          70.45454545454547,
          70.95959595959596,
          71.46464646464648,
          71.96969696969697,
          72.47474747474749,
          72.97979797979798,
          73.48484848484848,
          73.98989898989899,
          74.4949494949495,
          75
         ],
         "y": [
          69.73118100452234,
          70.07547825309996,
          70.41636971249538,
          70.75387568157872,
          71.08801645922017,
          71.4188123442898,
          71.74628363565778,
          72.07045063219421,
          72.39133363276926,
          72.70895293625301,
          73.02332884151564,
          73.33448164742725,
          73.64243165285797,
          73.94719915667794,
          74.24880445775733,
          74.5472678549662,
          74.8426096471747,
          75.134850133253,
          75.4240096120712,
          75.71010838249943,
          75.99316674340784,
          76.27320499366654,
          76.55024343214566,
          76.82430235771534,
          77.09540206924572,
          77.36356286560692,
          77.62880504566907,
          77.89114890830231,
          78.15061475237675,
          78.40722287676252,
          78.66099358032982,
          78.91194716194867,
          79.16010392048928,
          79.40548415482175,
          79.64810816381623,
          79.88799624634282,
          80.12516870127169,
          80.35964582747296,
          80.59144792381672,
          80.82059528917316,
          81.04710822241238,
          81.27100702240449,
          81.49231198801967,
          81.71104341812801,
          81.92722161159966,
          82.14086686730475,
          82.35199948411343,
          82.56063976089578,
          82.76680799652198,
          82.97052448986211,
          83.17180953978638,
          83.37068344516484,
          83.56716650486766,
          83.76127901776496,
          83.95304128272689,
          84.14247359862355,
          84.32959626432509,
          84.51442957870165,
          84.69699384062332,
          84.8773093489603,
          85.05539640258266,
          85.23127530036054,
          85.4049663411641,
          85.57648982386345,
          85.74586604732872,
          85.91311531043002,
          86.07825791203756,
          86.24131415102137,
          86.40230432625162,
          86.56124873659849,
          86.71816768093205,
          86.87308145812244,
          87.02601036703982,
          87.17697470655429,
          87.32599477553597,
          87.47309087285505,
          87.61828329738162,
          87.76159234798578,
          87.90303832353773,
          88.04264152290756,
          88.1804222449654,
          88.31640078858138,
          88.45059745262566,
          88.58303253596831,
          88.71372633747956,
          88.84269915602944,
          88.96997129048812,
          89.09556303972576,
          89.21949470261245,
          89.34178657801831,
          89.46245896481354,
          89.58153216186818,
          89.69902646805245,
          89.81496218223643,
          89.92935960329024,
          90.04223903008403,
          90.15362076148794,
          90.26352509637208,
          90.3719723336066,
          90.47898277206161
         ]
        },
        {
         "name": "$99.01 - 3.47x + 0.14x^2 - 0.0x^3 + 0.0x^4$",
         "type": "scatter",
         "x": [
          25,
          25.505050505050505,
          26.01010101010101,
          26.515151515151516,
          27.02020202020202,
          27.525252525252526,
          28.03030303030303,
          28.535353535353536,
          29.04040404040404,
          29.545454545454547,
          30.050505050505052,
          30.555555555555557,
          31.060606060606062,
          31.565656565656568,
          32.07070707070707,
          32.57575757575758,
          33.08080808080808,
          33.58585858585859,
          34.09090909090909,
          34.5959595959596,
          35.101010101010104,
          35.60606060606061,
          36.111111111111114,
          36.61616161616162,
          37.121212121212125,
          37.62626262626263,
          38.131313131313135,
          38.63636363636364,
          39.141414141414145,
          39.64646464646465,
          40.151515151515156,
          40.65656565656566,
          41.161616161616166,
          41.66666666666667,
          42.17171717171718,
          42.67676767676768,
          43.18181818181819,
          43.68686868686869,
          44.1919191919192,
          44.6969696969697,
          45.20202020202021,
          45.70707070707071,
          46.21212121212122,
          46.71717171717172,
          47.22222222222223,
          47.727272727272734,
          48.23232323232324,
          48.737373737373744,
          49.24242424242424,
          49.74747474747475,
          50.25252525252525,
          50.75757575757576,
          51.26262626262626,
          51.76767676767677,
          52.27272727272727,
          52.77777777777778,
          53.282828282828284,
          53.78787878787879,
          54.292929292929294,
          54.7979797979798,
          55.303030303030305,
          55.80808080808081,
          56.313131313131315,
          56.81818181818182,
          57.323232323232325,
          57.82828282828283,
          58.333333333333336,
          58.83838383838384,
          59.343434343434346,
          59.84848484848485,
          60.35353535353536,
          60.85858585858586,
          61.36363636363637,
          61.86868686868687,
          62.37373737373738,
          62.87878787878788,
          63.38383838383839,
          63.88888888888889,
          64.3939393939394,
          64.8989898989899,
          65.40404040404042,
          65.9090909090909,
          66.41414141414143,
          66.91919191919192,
          67.42424242424244,
          67.92929292929293,
          68.43434343434345,
          68.93939393939394,
          69.44444444444446,
          69.94949494949495,
          70.45454545454547,
          70.95959595959596,
          71.46464646464648,
          71.96969696969697,
          72.47474747474749,
          72.97979797979798,
          73.48484848484848,
          73.98989898989899,
          74.4949494949495,
          75
         ],
         "y": [
          70.91430123126598,
          71.06978911887703,
          71.23785904731182,
          71.41778079058366,
          71.60883975690003,
          71.8103369886625,
          72.02158916246682,
          72.241928589103,
          72.47070321355511,
          72.70727661500142,
          72.95102800681434,
          73.20135223656048,
          73.45765978600065,
          73.71937677108971,
          73.98594494197678,
          74.25682168300513,
          74.53148001271217,
          74.80940858382947,
          75.0901116832828,
          75.37310923219208,
          75.65793678587136,
          75.94414553382892,
          76.23130229976712,
          76.51898954158261,
          76.80680535136607,
          77.09436345540239,
          77.38129321417065,
          77.66723962234416,
          77.9518633087902,
          78.23484053657043,
          78.51586320294054,
          78.79463883935038,
          79.07089061144406,
          79.34435731905972,
          79.61479339622986,
          79.88196891118093,
          80.14566956633371,
          80.40569669830307,
          80.66186727789801,
          80.91401391012181,
          81.16198483417176,
          81.40564392343947,
          81.6448706855106,
          81.87956026216503,
          82.1096234293768,
          82.33498659731399,
          82.55559181033922,
          82.7713967470088,
          82.98237472007344,
          83.18851467647801,
          83.38982119736164,
          83.58631449805736,
          83.77803042809262,
          83.96502047118886,
          84.14735174526186,
          84.3251070024213,
          84.49838462897145,
          84.66729864541023,
          84.83197870643005,
          84.99257010091742,
          85.14923375195303,
          85.30214621681168,
          85.45149968696236,
          85.5975019880683,
          85.74037657998673,
          85.88036255676917,
          86.01771464666132,
          86.152703212103,
          86.2856142497281,
          86.4167493903648,
          86.54642589903551,
          86.67497667495655,
          86.80275025153867,
          86.93011079638677,
          87.05743811129949,
          87.18512763227028,
          87.31359042948634,
          87.44325320732918,
          87.57455830437422,
          87.70796369339163,
          87.8439429813449,
          87.98298540939263,
          88.1255958528869,
          88.27229482137409,
          88.4236184585948,
          88.580118542484,
          88.74236248517042,
          88.91093333297732,
          89.08642976642199,
          89.26946610021565,
          89.46067228326427,
          89.66069389866723,
          89.87019216371871,
          90.08984392990683,
          90.32034168291372,
          90.56239354261592,
          90.81672326308384,
          91.08407023258252,
          91.36518947357058,
          91.66085164270135
         ]
        }
       ],
       "layout": {
        "legend": {
         "tracegroupgap": 0
        },
        "margin": {
         "t": 60
        },
        "template": {
         "data": {
          "bar": [
           {
            "error_x": {
             "color": "#2a3f5f"
            },
            "error_y": {
             "color": "#2a3f5f"
            },
            "marker": {
             "line": {
              "color": "#E5ECF6",
              "width": 0.5
             }
            },
            "type": "bar"
           }
          ],
          "barpolar": [
           {
            "marker": {
             "line": {
              "color": "#E5ECF6",
              "width": 0.5
             }
            },
            "type": "barpolar"
           }
          ],
          "carpet": [
           {
            "aaxis": {
             "endlinecolor": "#2a3f5f",
             "gridcolor": "white",
             "linecolor": "white",
             "minorgridcolor": "white",
             "startlinecolor": "#2a3f5f"
            },
            "baxis": {
             "endlinecolor": "#2a3f5f",
             "gridcolor": "white",
             "linecolor": "white",
             "minorgridcolor": "white",
             "startlinecolor": "#2a3f5f"
            },
            "type": "carpet"
           }
          ],
          "choropleth": [
           {
            "colorbar": {
             "outlinewidth": 0,
             "ticks": ""
            },
            "type": "choropleth"
           }
          ],
          "contour": [
           {
            "colorbar": {
             "outlinewidth": 0,
             "ticks": ""
            },
            "colorscale": [
             [
              0,
              "#0d0887"
             ],
             [
              0.1111111111111111,
              "#46039f"
             ],
             [
              0.2222222222222222,
              "#7201a8"
             ],
             [
              0.3333333333333333,
              "#9c179e"
             ],
             [
              0.4444444444444444,
              "#bd3786"
             ],
             [
              0.5555555555555556,
              "#d8576b"
             ],
             [
              0.6666666666666666,
              "#ed7953"
             ],
             [
              0.7777777777777778,
              "#fb9f3a"
             ],
             [
              0.8888888888888888,
              "#fdca26"
             ],
             [
              1,
              "#f0f921"
             ]
            ],
            "type": "contour"
           }
          ],
          "contourcarpet": [
           {
            "colorbar": {
             "outlinewidth": 0,
             "ticks": ""
            },
            "type": "contourcarpet"
           }
          ],
          "heatmap": [
           {
            "colorbar": {
             "outlinewidth": 0,
             "ticks": ""
            },
            "colorscale": [
             [
              0,
              "#0d0887"
             ],
             [
              0.1111111111111111,
              "#46039f"
             ],
             [
              0.2222222222222222,
              "#7201a8"
             ],
             [
              0.3333333333333333,
              "#9c179e"
             ],
             [
              0.4444444444444444,
              "#bd3786"
             ],
             [
              0.5555555555555556,
              "#d8576b"
             ],
             [
              0.6666666666666666,
              "#ed7953"
             ],
             [
              0.7777777777777778,
              "#fb9f3a"
             ],
             [
              0.8888888888888888,
              "#fdca26"
             ],
             [
              1,
              "#f0f921"
             ]
            ],
            "type": "heatmap"
           }
          ],
          "heatmapgl": [
           {
            "colorbar": {
             "outlinewidth": 0,
             "ticks": ""
            },
            "colorscale": [
             [
              0,
              "#0d0887"
             ],
             [
              0.1111111111111111,
              "#46039f"
             ],
             [
              0.2222222222222222,
              "#7201a8"
             ],
             [
              0.3333333333333333,
              "#9c179e"
             ],
             [
              0.4444444444444444,
              "#bd3786"
             ],
             [
              0.5555555555555556,
              "#d8576b"
             ],
             [
              0.6666666666666666,
              "#ed7953"
             ],
             [
              0.7777777777777778,
              "#fb9f3a"
             ],
             [
              0.8888888888888888,
              "#fdca26"
             ],
             [
              1,
              "#f0f921"
             ]
            ],
            "type": "heatmapgl"
           }
          ],
          "histogram": [
           {
            "marker": {
             "colorbar": {
              "outlinewidth": 0,
              "ticks": ""
             }
            },
            "type": "histogram"
           }
          ],
          "histogram2d": [
           {
            "colorbar": {
             "outlinewidth": 0,
             "ticks": ""
            },
            "colorscale": [
             [
              0,
              "#0d0887"
             ],
             [
              0.1111111111111111,
              "#46039f"
             ],
             [
              0.2222222222222222,
              "#7201a8"
             ],
             [
              0.3333333333333333,
              "#9c179e"
             ],
             [
              0.4444444444444444,
              "#bd3786"
             ],
             [
              0.5555555555555556,
              "#d8576b"
             ],
             [
              0.6666666666666666,
              "#ed7953"
             ],
             [
              0.7777777777777778,
              "#fb9f3a"
             ],
             [
              0.8888888888888888,
              "#fdca26"
             ],
             [
              1,
              "#f0f921"
             ]
            ],
            "type": "histogram2d"
           }
          ],
          "histogram2dcontour": [
           {
            "colorbar": {
             "outlinewidth": 0,
             "ticks": ""
            },
            "colorscale": [
             [
              0,
              "#0d0887"
             ],
             [
              0.1111111111111111,
              "#46039f"
             ],
             [
              0.2222222222222222,
              "#7201a8"
             ],
             [
              0.3333333333333333,
              "#9c179e"
             ],
             [
              0.4444444444444444,
              "#bd3786"
             ],
             [
              0.5555555555555556,
              "#d8576b"
             ],
             [
              0.6666666666666666,
              "#ed7953"
             ],
             [
              0.7777777777777778,
              "#fb9f3a"
             ],
             [
              0.8888888888888888,
              "#fdca26"
             ],
             [
              1,
              "#f0f921"
             ]
            ],
            "type": "histogram2dcontour"
           }
          ],
          "mesh3d": [
           {
            "colorbar": {
             "outlinewidth": 0,
             "ticks": ""
            },
            "type": "mesh3d"
           }
          ],
          "parcoords": [
           {
            "line": {
             "colorbar": {
              "outlinewidth": 0,
              "ticks": ""
             }
            },
            "type": "parcoords"
           }
          ],
          "pie": [
           {
            "automargin": true,
            "type": "pie"
           }
          ],
          "scatter": [
           {
            "marker": {
             "colorbar": {
              "outlinewidth": 0,
              "ticks": ""
             }
            },
            "type": "scatter"
           }
          ],
          "scatter3d": [
           {
            "line": {
             "colorbar": {
              "outlinewidth": 0,
              "ticks": ""
             }
            },
            "marker": {
             "colorbar": {
              "outlinewidth": 0,
              "ticks": ""
             }
            },
            "type": "scatter3d"
           }
          ],
          "scattercarpet": [
           {
            "marker": {
             "colorbar": {
              "outlinewidth": 0,
              "ticks": ""
             }
            },
            "type": "scattercarpet"
           }
          ],
          "scattergeo": [
           {
            "marker": {
             "colorbar": {
              "outlinewidth": 0,
              "ticks": ""
             }
            },
            "type": "scattergeo"
           }
          ],
          "scattergl": [
           {
            "marker": {
             "colorbar": {
              "outlinewidth": 0,
              "ticks": ""
             }
            },
            "type": "scattergl"
           }
          ],
          "scattermapbox": [
           {
            "marker": {
             "colorbar": {
              "outlinewidth": 0,
              "ticks": ""
             }
            },
            "type": "scattermapbox"
           }
          ],
          "scatterpolar": [
           {
            "marker": {
             "colorbar": {
              "outlinewidth": 0,
              "ticks": ""
             }
            },
            "type": "scatterpolar"
           }
          ],
          "scatterpolargl": [
           {
            "marker": {
             "colorbar": {
              "outlinewidth": 0,
              "ticks": ""
             }
            },
            "type": "scatterpolargl"
           }
          ],
          "scatterternary": [
           {
            "marker": {
             "colorbar": {
              "outlinewidth": 0,
              "ticks": ""
             }
            },
            "type": "scatterternary"
           }
          ],
          "surface": [
           {
            "colorbar": {
             "outlinewidth": 0,
             "ticks": ""
            },
            "colorscale": [
             [
              0,
              "#0d0887"
             ],
             [
              0.1111111111111111,
              "#46039f"
             ],
             [
              0.2222222222222222,
              "#7201a8"
             ],
             [
              0.3333333333333333,
              "#9c179e"
             ],
             [
              0.4444444444444444,
              "#bd3786"
             ],
             [
              0.5555555555555556,
              "#d8576b"
             ],
             [
              0.6666666666666666,
              "#ed7953"
             ],
             [
              0.7777777777777778,
              "#fb9f3a"
             ],
             [
              0.8888888888888888,
              "#fdca26"
             ],
             [
              1,
              "#f0f921"
             ]
            ],
            "type": "surface"
           }
          ],
          "table": [
           {
            "cells": {
             "fill": {
              "color": "#EBF0F8"
             },
             "line": {
              "color": "white"
             }
            },
            "header": {
             "fill": {
              "color": "#C8D4E3"
             },
             "line": {
              "color": "white"
             }
            },
            "type": "table"
           }
          ]
         },
         "layout": {
          "annotationdefaults": {
           "arrowcolor": "#2a3f5f",
           "arrowhead": 0,
           "arrowwidth": 1
          },
          "coloraxis": {
           "colorbar": {
            "outlinewidth": 0,
            "ticks": ""
           }
          },
          "colorscale": {
           "diverging": [
            [
             0,
             "#8e0152"
            ],
            [
             0.1,
             "#c51b7d"
            ],
            [
             0.2,
             "#de77ae"
            ],
            [
             0.3,
             "#f1b6da"
            ],
            [
             0.4,
             "#fde0ef"
            ],
            [
             0.5,
             "#f7f7f7"
            ],
            [
             0.6,
             "#e6f5d0"
            ],
            [
             0.7,
             "#b8e186"
            ],
            [
             0.8,
             "#7fbc41"
            ],
            [
             0.9,
             "#4d9221"
            ],
            [
             1,
             "#276419"
            ]
           ],
           "sequential": [
            [
             0,
             "#0d0887"
            ],
            [
             0.1111111111111111,
             "#46039f"
            ],
            [
             0.2222222222222222,
             "#7201a8"
            ],
            [
             0.3333333333333333,
             "#9c179e"
            ],
            [
             0.4444444444444444,
             "#bd3786"
            ],
            [
             0.5555555555555556,
             "#d8576b"
            ],
            [
             0.6666666666666666,
             "#ed7953"
            ],
            [
             0.7777777777777778,
             "#fb9f3a"
            ],
            [
             0.8888888888888888,
             "#fdca26"
            ],
            [
             1,
             "#f0f921"
            ]
           ],
           "sequentialminus": [
            [
             0,
             "#0d0887"
            ],
            [
             0.1111111111111111,
             "#46039f"
            ],
            [
             0.2222222222222222,
             "#7201a8"
            ],
            [
             0.3333333333333333,
             "#9c179e"
            ],
            [
             0.4444444444444444,
             "#bd3786"
            ],
            [
             0.5555555555555556,
             "#d8576b"
            ],
            [
             0.6666666666666666,
             "#ed7953"
            ],
            [
             0.7777777777777778,
             "#fb9f3a"
            ],
            [
             0.8888888888888888,
             "#fdca26"
            ],
            [
             1,
             "#f0f921"
            ]
           ]
          },
          "colorway": [
           "#636efa",
           "#EF553B",
           "#00cc96",
           "#ab63fa",
           "#FFA15A",
           "#19d3f3",
           "#FF6692",
           "#B6E880",
           "#FF97FF",
           "#FECB52"
          ],
          "font": {
           "color": "#2a3f5f"
          },
          "geo": {
           "bgcolor": "white",
           "lakecolor": "white",
           "landcolor": "#E5ECF6",
           "showlakes": true,
           "showland": true,
           "subunitcolor": "white"
          },
          "hoverlabel": {
           "align": "left"
          },
          "hovermode": "closest",
          "mapbox": {
           "style": "light"
          },
          "paper_bgcolor": "white",
          "plot_bgcolor": "#E5ECF6",
          "polar": {
           "angularaxis": {
            "gridcolor": "white",
            "linecolor": "white",
            "ticks": ""
           },
           "bgcolor": "#E5ECF6",
           "radialaxis": {
            "gridcolor": "white",
            "linecolor": "white",
            "ticks": ""
           }
          },
          "scene": {
           "xaxis": {
            "backgroundcolor": "#E5ECF6",
            "gridcolor": "white",
            "gridwidth": 2,
            "linecolor": "white",
            "showbackground": true,
            "ticks": "",
            "zerolinecolor": "white"
           },
           "yaxis": {
            "backgroundcolor": "#E5ECF6",
            "gridcolor": "white",
            "gridwidth": 2,
            "linecolor": "white",
            "showbackground": true,
            "ticks": "",
            "zerolinecolor": "white"
           },
           "zaxis": {
            "backgroundcolor": "#E5ECF6",
            "gridcolor": "white",
            "gridwidth": 2,
            "linecolor": "white",
            "showbackground": true,
            "ticks": "",
            "zerolinecolor": "white"
           }
          },
          "shapedefaults": {
           "line": {
            "color": "#2a3f5f"
           }
          },
          "ternary": {
           "aaxis": {
            "gridcolor": "white",
            "linecolor": "white",
            "ticks": ""
           },
           "baxis": {
            "gridcolor": "white",
            "linecolor": "white",
            "ticks": ""
           },
           "bgcolor": "#E5ECF6",
           "caxis": {
            "gridcolor": "white",
            "linecolor": "white",
            "ticks": ""
           }
          },
          "title": {
           "x": 0.05
          },
          "xaxis": {
           "automargin": true,
           "gridcolor": "white",
           "linecolor": "white",
           "ticks": "",
           "title": {
            "standoff": 15
           },
           "zerolinecolor": "white",
           "zerolinewidth": 2
          },
          "yaxis": {
           "automargin": true,
           "gridcolor": "white",
           "linecolor": "white",
           "ticks": "",
           "title": {
            "standoff": 15
           },
           "zerolinecolor": "white",
           "zerolinewidth": 2
          }
         }
        },
        "xaxis": {
         "anchor": "y",
         "domain": [
          0,
          1
         ],
         "title": {
          "text": "ball_possession"
         }
        },
        "yaxis": {
         "anchor": "x",
         "domain": [
          0,
          1
         ],
         "title": {
          "text": "pass_accuracy"
         }
        }
       }
      },
      "text/html": [
       "<div>\n",
       "        \n",
       "        \n",
       "            <div id=\"f9dd5914-32a9-4a7b-a1ba-c4ec62c0a396\" class=\"plotly-graph-div\" style=\"height:525px; width:100%;\"></div>\n",
       "            <script type=\"text/javascript\">\n",
       "                require([\"plotly\"], function(Plotly) {\n",
       "                    window.PLOTLYENV=window.PLOTLYENV || {};\n",
       "                    \n",
       "                if (document.getElementById(\"f9dd5914-32a9-4a7b-a1ba-c4ec62c0a396\")) {\n",
       "                    Plotly.newPlot(\n",
       "                        'f9dd5914-32a9-4a7b-a1ba-c4ec62c0a396',\n",
       "                        [{\"hovertemplate\": \"ball_possession=%{x}<br>pass_accuracy=%{y}<extra></extra>\", \"legendgroup\": \"\", \"marker\": {\"color\": \"#636efa\", \"opacity\": 0.65, \"symbol\": \"circle\"}, \"mode\": \"markers\", \"name\": \"\", \"orientation\": \"v\", \"showlegend\": false, \"type\": \"scatter\", \"x\": [40, 60, 43, 57, 64, 36, 39, 61, 51, 49, 72, 28, 52, 48, 54, 46, 50, 50, 60, 40, 52, 48, 52, 48, 61, 39, 41, 59, 41, 59, 57, 43, 47, 53, 47, 53, 47, 53, 30, 70, 49, 51, 44, 56, 58, 42, 66, 34, 58, 42, 42, 58, 52, 48, 41, 59, 71, 29, 58, 42, 54, 46, 45, 55, 56, 44, 61, 39, 68, 32, 32, 68, 38, 62, 53, 47, 34, 66, 41, 59, 30, 70, 65, 35, 44, 56, 60, 40, 54, 46, 43, 57, 36, 64, 48, 52, 41, 59, 39, 61, 75, 25, 54, 46, 47, 53, 56, 44, 37, 63, 48, 51, 42, 58, 57, 43, 43, 57, 38, 62, 40, 60, 54, 46, 43, 57, 39, 61], \"xaxis\": \"x\", \"y\": [78, 86, 78, 86, 86, 86, 87, 93, 87, 85, 92, 67, 85, 82, 84, 84, 83, 83, 88, 82, 88, 83, 84, 79, 89, 82, 82, 91, 82, 87, 88, 81, 76, 81, 76, 77, 88, 86, 69, 89, 88, 85, 77, 81, 81, 80, 90, 73, 84, 75, 78, 87, 84, 82, 82, 89, 91, 77, 94, 88, 84, 79, 79, 82, 88, 83, 90, 82, 91, 84, 69, 89, 72, 87, 86, 81, 76, 84, 73, 87, 74, 88, 83, 67, 78, 88, 87, 82, 86, 83, 78, 83, 77, 87, 88, 88, 84, 86, 69, 84, 91, 72, 81, 79, 83, 85, 87, 83, 73, 84, 78, 82, 67, 81, 89, 83, 74, 80, 69, 82, 86, 90, 79, 79, 88, 92, 75, 83], \"yaxis\": \"y\"}, {\"name\": \"$62.28 + 0.41x$\", \"type\": \"scatter\", \"x\": [25.0, 25.505050505050505, 26.01010101010101, 26.515151515151516, 27.02020202020202, 27.525252525252526, 28.03030303030303, 28.535353535353536, 29.04040404040404, 29.545454545454547, 30.050505050505052, 30.555555555555557, 31.060606060606062, 31.565656565656568, 32.07070707070707, 32.57575757575758, 33.08080808080808, 33.58585858585859, 34.09090909090909, 34.5959595959596, 35.101010101010104, 35.60606060606061, 36.111111111111114, 36.61616161616162, 37.121212121212125, 37.62626262626263, 38.131313131313135, 38.63636363636364, 39.141414141414145, 39.64646464646465, 40.151515151515156, 40.65656565656566, 41.161616161616166, 41.66666666666667, 42.17171717171718, 42.67676767676768, 43.18181818181819, 43.68686868686869, 44.1919191919192, 44.6969696969697, 45.20202020202021, 45.70707070707071, 46.21212121212122, 46.71717171717172, 47.22222222222223, 47.727272727272734, 48.23232323232324, 48.737373737373744, 49.24242424242424, 49.74747474747475, 50.25252525252525, 50.75757575757576, 51.26262626262626, 51.76767676767677, 52.27272727272727, 52.77777777777778, 53.282828282828284, 53.78787878787879, 54.292929292929294, 54.7979797979798, 55.303030303030305, 55.80808080808081, 56.313131313131315, 56.81818181818182, 57.323232323232325, 57.82828282828283, 58.333333333333336, 58.83838383838384, 59.343434343434346, 59.84848484848485, 60.35353535353536, 60.85858585858586, 61.36363636363637, 61.86868686868687, 62.37373737373738, 62.87878787878788, 63.38383838383839, 63.88888888888889, 64.3939393939394, 64.8989898989899, 65.40404040404042, 65.9090909090909, 66.41414141414143, 66.91919191919192, 67.42424242424244, 67.92929292929293, 68.43434343434345, 68.93939393939394, 69.44444444444446, 69.94949494949495, 70.45454545454547, 70.95959595959596, 71.46464646464648, 71.96969696969697, 72.47474747474749, 72.97979797979798, 73.48484848484848, 73.98989898989899, 74.4949494949495, 75.0], \"y\": [72.41825124648723, 72.62309174911427, 72.82793225174129, 73.03277275436831, 73.23761325699533, 73.44245375962237, 73.64729426224939, 73.85213476487641, 74.05697526750343, 74.26181577013047, 74.46665627275749, 74.67149677538451, 74.87633727801153, 75.08117778063857, 75.28601828326559, 75.49085878589261, 75.69569928851965, 75.90053979114667, 76.10538029377369, 76.31022079640071, 76.51506129902775, 76.71990180165477, 76.92474230428179, 77.12958280690881, 77.33442330953585, 77.53926381216287, 77.7441043147899, 77.94894481741692, 78.15378532004395, 78.35862582267097, 78.563466325298, 78.76830682792502, 78.97314733055205, 79.17798783317907, 79.3828283358061, 79.58766883843313, 79.79250934106015, 79.99734984368718, 80.2021903463142, 80.40703084894122, 80.61187135156825, 80.81671185419528, 81.0215523568223, 81.22639285944933, 81.43123336207636, 81.63607386470338, 81.84091436733041, 82.04575486995743, 82.25059537258446, 82.45543587521148, 82.6602763778385, 82.86511688046554, 83.06995738309256, 83.27479788571958, 83.4796383883466, 83.68447889097362, 83.88931939360066, 84.09415989622768, 84.2990003988547, 84.50384090148174, 84.70868140410876, 84.91352190673578, 85.11836240936282, 85.32320291198984, 85.52804341461686, 85.73288391724388, 85.9377244198709, 86.14256492249794, 86.34740542512496, 86.55224592775198, 86.75708643037902, 86.96192693300604, 87.16676743563306, 87.37160793826008, 87.5764484408871, 87.78128894351414, 87.98612944614116, 88.19096994876818, 88.39581045139522, 88.60065095402224, 88.80549145664926, 89.01033195927629, 89.21517246190332, 89.42001296453034, 89.62485346715738, 89.82969396978439, 90.03453447241142, 90.23937497503844, 90.44421547766547, 90.64905598029249, 90.85389648291952, 91.05873698554655, 91.26357748817358, 91.46841799080059, 91.67325849342762, 91.87809899605465, 92.08293949868167, 92.2877800013087, 92.49262050393573, 92.69746100656275]}, {\"name\": \"$50.92 + 0.88x - 0.0x^2$\", \"type\": \"scatter\", \"x\": [25.0, 25.505050505050505, 26.01010101010101, 26.515151515151516, 27.02020202020202, 27.525252525252526, 28.03030303030303, 28.535353535353536, 29.04040404040404, 29.545454545454547, 30.050505050505052, 30.555555555555557, 31.060606060606062, 31.565656565656568, 32.07070707070707, 32.57575757575758, 33.08080808080808, 33.58585858585859, 34.09090909090909, 34.5959595959596, 35.101010101010104, 35.60606060606061, 36.111111111111114, 36.61616161616162, 37.121212121212125, 37.62626262626263, 38.131313131313135, 38.63636363636364, 39.141414141414145, 39.64646464646465, 40.151515151515156, 40.65656565656566, 41.161616161616166, 41.66666666666667, 42.17171717171718, 42.67676767676768, 43.18181818181819, 43.68686868686869, 44.1919191919192, 44.6969696969697, 45.20202020202021, 45.70707070707071, 46.21212121212122, 46.71717171717172, 47.22222222222223, 47.727272727272734, 48.23232323232324, 48.737373737373744, 49.24242424242424, 49.74747474747475, 50.25252525252525, 50.75757575757576, 51.26262626262626, 51.76767676767677, 52.27272727272727, 52.77777777777778, 53.282828282828284, 53.78787878787879, 54.292929292929294, 54.7979797979798, 55.303030303030305, 55.80808080808081, 56.313131313131315, 56.81818181818182, 57.323232323232325, 57.82828282828283, 58.333333333333336, 58.83838383838384, 59.343434343434346, 59.84848484848485, 60.35353535353536, 60.85858585858586, 61.36363636363637, 61.86868686868687, 62.37373737373738, 62.87878787878788, 63.38383838383839, 63.88888888888889, 64.3939393939394, 64.8989898989899, 65.40404040404042, 65.9090909090909, 66.41414141414143, 66.91919191919192, 67.42424242424244, 67.92929292929293, 68.43434343434345, 68.93939393939394, 69.44444444444446, 69.94949494949495, 70.45454545454547, 70.95959595959596, 71.46464646464648, 71.96969696969697, 72.47474747474749, 72.97979797979798, 73.48484848484848, 73.98989898989899, 74.4949494949495, 75.0], \"y\": [69.96450243758022, 70.2880116657934, 70.60909944077217, 70.92776576251649, 71.24401063102636, 71.5578340463018, 71.86923600834281, 72.17821651714941, 72.48477557272155, 72.78891317505925, 73.0906293241625, 73.38992402003134, 73.68679726266575, 73.98124905206572, 74.27327938823124, 74.56288827116234, 74.85007570085898, 75.13484167732122, 75.41718620054901, 75.69710927054236, 75.97461088730127, 76.24969105082575, 76.5223497611158, 76.79258701817142, 77.06040282199258, 77.32579717257934, 77.58877006993163, 77.8493215140495, 78.10745150493294, 78.36316004258194, 78.6164471269965, 78.86731275817662, 79.11575693612232, 79.36177966083358, 79.6053809323104, 79.8465607505528, 80.08531911556074, 80.32165602733426, 80.55557148587333, 80.78706549117797, 81.01613804324819, 81.24278914208395, 81.4670187876853, 81.68882698005221, 81.90821371918467, 82.12517900508271, 82.3397228377463, 82.55184521717547, 82.76154614337018, 82.96882561633049, 83.17368363605635, 83.37612020254777, 83.57613531580476, 83.7737289758273, 83.96890118261543, 84.16165193616911, 84.35198123648834, 84.53988908357316, 84.72537547742353, 84.90844041803948, 85.08908390542098, 85.26730593956803, 85.44310652048068, 85.61648564815886, 85.78744332260264, 85.95597954381196, 86.12209431178685, 86.28578762652731, 86.44705948803333, 86.60590989630492, 86.76233885134207, 86.91634635314477, 87.06793240171307, 87.21709699704691, 87.36384013914632, 87.50816182801128, 87.65006206364183, 87.78954084603794, 87.9265981751996, 88.06123405112683, 88.19344847381963, 88.323241443278, 88.45061295950191, 88.5755630224914, 88.69809163224646, 88.81819878876708, 88.93588449205328, 89.05114874210501, 89.16399153892235, 89.27441288250522, 89.38241277285366, 89.48799120996766, 89.59114819384723, 89.69188372449236, 89.79019780190308, 89.88609042607933, 89.97956159702117, 90.07061131472857, 90.15923957920151, 90.24544639044007]}, {\"name\": \"$48.0 + 1.07x - 0.01x^2 + 0.0x^3$\", \"type\": \"scatter\", \"x\": [25.0, 25.505050505050505, 26.01010101010101, 26.515151515151516, 27.02020202020202, 27.525252525252526, 28.03030303030303, 28.535353535353536, 29.04040404040404, 29.545454545454547, 30.050505050505052, 30.555555555555557, 31.060606060606062, 31.565656565656568, 32.07070707070707, 32.57575757575758, 33.08080808080808, 33.58585858585859, 34.09090909090909, 34.5959595959596, 35.101010101010104, 35.60606060606061, 36.111111111111114, 36.61616161616162, 37.121212121212125, 37.62626262626263, 38.131313131313135, 38.63636363636364, 39.141414141414145, 39.64646464646465, 40.151515151515156, 40.65656565656566, 41.161616161616166, 41.66666666666667, 42.17171717171718, 42.67676767676768, 43.18181818181819, 43.68686868686869, 44.1919191919192, 44.6969696969697, 45.20202020202021, 45.70707070707071, 46.21212121212122, 46.71717171717172, 47.22222222222223, 47.727272727272734, 48.23232323232324, 48.737373737373744, 49.24242424242424, 49.74747474747475, 50.25252525252525, 50.75757575757576, 51.26262626262626, 51.76767676767677, 52.27272727272727, 52.77777777777778, 53.282828282828284, 53.78787878787879, 54.292929292929294, 54.7979797979798, 55.303030303030305, 55.80808080808081, 56.313131313131315, 56.81818181818182, 57.323232323232325, 57.82828282828283, 58.333333333333336, 58.83838383838384, 59.343434343434346, 59.84848484848485, 60.35353535353536, 60.85858585858586, 61.36363636363637, 61.86868686868687, 62.37373737373738, 62.87878787878788, 63.38383838383839, 63.88888888888889, 64.3939393939394, 64.8989898989899, 65.40404040404042, 65.9090909090909, 66.41414141414143, 66.91919191919192, 67.42424242424244, 67.92929292929293, 68.43434343434345, 68.93939393939394, 69.44444444444446, 69.94949494949495, 70.45454545454547, 70.95959595959596, 71.46464646464648, 71.96969696969697, 72.47474747474749, 72.97979797979798, 73.48484848484848, 73.98989898989899, 74.4949494949495, 75.0], \"y\": [69.73118100452234, 70.07547825309996, 70.41636971249538, 70.75387568157872, 71.08801645922017, 71.4188123442898, 71.74628363565778, 72.07045063219421, 72.39133363276926, 72.70895293625301, 73.02332884151564, 73.33448164742725, 73.64243165285797, 73.94719915667794, 74.24880445775733, 74.5472678549662, 74.8426096471747, 75.134850133253, 75.4240096120712, 75.71010838249943, 75.99316674340784, 76.27320499366654, 76.55024343214566, 76.82430235771534, 77.09540206924572, 77.36356286560692, 77.62880504566907, 77.89114890830231, 78.15061475237675, 78.40722287676252, 78.66099358032982, 78.91194716194867, 79.16010392048928, 79.40548415482175, 79.64810816381623, 79.88799624634282, 80.12516870127169, 80.35964582747296, 80.59144792381672, 80.82059528917316, 81.04710822241238, 81.27100702240449, 81.49231198801967, 81.71104341812801, 81.92722161159966, 82.14086686730475, 82.35199948411343, 82.56063976089578, 82.76680799652198, 82.97052448986211, 83.17180953978638, 83.37068344516484, 83.56716650486766, 83.76127901776496, 83.95304128272689, 84.14247359862355, 84.32959626432509, 84.51442957870165, 84.69699384062332, 84.8773093489603, 85.05539640258266, 85.23127530036054, 85.4049663411641, 85.57648982386345, 85.74586604732872, 85.91311531043002, 86.07825791203756, 86.24131415102137, 86.40230432625162, 86.56124873659849, 86.71816768093205, 86.87308145812244, 87.02601036703982, 87.17697470655429, 87.32599477553597, 87.47309087285505, 87.61828329738162, 87.76159234798578, 87.90303832353773, 88.04264152290756, 88.1804222449654, 88.31640078858138, 88.45059745262566, 88.58303253596831, 88.71372633747956, 88.84269915602944, 88.96997129048812, 89.09556303972576, 89.21949470261245, 89.34178657801831, 89.46245896481354, 89.58153216186818, 89.69902646805245, 89.81496218223643, 89.92935960329024, 90.04223903008403, 90.15362076148794, 90.26352509637208, 90.3719723336066, 90.47898277206161]}, {\"name\": \"$99.01 - 3.47x + 0.14x^2 - 0.0x^3 + 0.0x^4$\", \"type\": \"scatter\", \"x\": [25.0, 25.505050505050505, 26.01010101010101, 26.515151515151516, 27.02020202020202, 27.525252525252526, 28.03030303030303, 28.535353535353536, 29.04040404040404, 29.545454545454547, 30.050505050505052, 30.555555555555557, 31.060606060606062, 31.565656565656568, 32.07070707070707, 32.57575757575758, 33.08080808080808, 33.58585858585859, 34.09090909090909, 34.5959595959596, 35.101010101010104, 35.60606060606061, 36.111111111111114, 36.61616161616162, 37.121212121212125, 37.62626262626263, 38.131313131313135, 38.63636363636364, 39.141414141414145, 39.64646464646465, 40.151515151515156, 40.65656565656566, 41.161616161616166, 41.66666666666667, 42.17171717171718, 42.67676767676768, 43.18181818181819, 43.68686868686869, 44.1919191919192, 44.6969696969697, 45.20202020202021, 45.70707070707071, 46.21212121212122, 46.71717171717172, 47.22222222222223, 47.727272727272734, 48.23232323232324, 48.737373737373744, 49.24242424242424, 49.74747474747475, 50.25252525252525, 50.75757575757576, 51.26262626262626, 51.76767676767677, 52.27272727272727, 52.77777777777778, 53.282828282828284, 53.78787878787879, 54.292929292929294, 54.7979797979798, 55.303030303030305, 55.80808080808081, 56.313131313131315, 56.81818181818182, 57.323232323232325, 57.82828282828283, 58.333333333333336, 58.83838383838384, 59.343434343434346, 59.84848484848485, 60.35353535353536, 60.85858585858586, 61.36363636363637, 61.86868686868687, 62.37373737373738, 62.87878787878788, 63.38383838383839, 63.88888888888889, 64.3939393939394, 64.8989898989899, 65.40404040404042, 65.9090909090909, 66.41414141414143, 66.91919191919192, 67.42424242424244, 67.92929292929293, 68.43434343434345, 68.93939393939394, 69.44444444444446, 69.94949494949495, 70.45454545454547, 70.95959595959596, 71.46464646464648, 71.96969696969697, 72.47474747474749, 72.97979797979798, 73.48484848484848, 73.98989898989899, 74.4949494949495, 75.0], \"y\": [70.91430123126598, 71.06978911887703, 71.23785904731182, 71.41778079058366, 71.60883975690003, 71.8103369886625, 72.02158916246682, 72.241928589103, 72.47070321355511, 72.70727661500142, 72.95102800681434, 73.20135223656048, 73.45765978600065, 73.71937677108971, 73.98594494197678, 74.25682168300513, 74.53148001271217, 74.80940858382947, 75.0901116832828, 75.37310923219208, 75.65793678587136, 75.94414553382892, 76.23130229976712, 76.51898954158261, 76.80680535136607, 77.09436345540239, 77.38129321417065, 77.66723962234416, 77.9518633087902, 78.23484053657043, 78.51586320294054, 78.79463883935038, 79.07089061144406, 79.34435731905972, 79.61479339622986, 79.88196891118093, 80.14566956633371, 80.40569669830307, 80.66186727789801, 80.91401391012181, 81.16198483417176, 81.40564392343947, 81.6448706855106, 81.87956026216503, 82.1096234293768, 82.33498659731399, 82.55559181033922, 82.7713967470088, 82.98237472007344, 83.18851467647801, 83.38982119736164, 83.58631449805736, 83.77803042809262, 83.96502047118886, 84.14735174526186, 84.3251070024213, 84.49838462897145, 84.66729864541023, 84.83197870643005, 84.99257010091742, 85.14923375195303, 85.30214621681168, 85.45149968696236, 85.5975019880683, 85.74037657998673, 85.88036255676917, 86.01771464666132, 86.152703212103, 86.2856142497281, 86.4167493903648, 86.54642589903551, 86.67497667495655, 86.80275025153867, 86.93011079638677, 87.05743811129949, 87.18512763227028, 87.31359042948634, 87.44325320732918, 87.57455830437422, 87.70796369339163, 87.8439429813449, 87.98298540939263, 88.1255958528869, 88.27229482137409, 88.4236184585948, 88.580118542484, 88.74236248517042, 88.91093333297732, 89.08642976642199, 89.26946610021565, 89.46067228326427, 89.66069389866723, 89.87019216371871, 90.08984392990683, 90.32034168291372, 90.56239354261592, 90.81672326308384, 91.08407023258252, 91.36518947357058, 91.66085164270135]}],\n",
       "                        {\"legend\": {\"tracegroupgap\": 0}, \"margin\": {\"t\": 60}, \"template\": {\"data\": {\"bar\": [{\"error_x\": {\"color\": \"#2a3f5f\"}, \"error_y\": {\"color\": \"#2a3f5f\"}, \"marker\": {\"line\": {\"color\": \"#E5ECF6\", \"width\": 0.5}}, \"type\": \"bar\"}], \"barpolar\": [{\"marker\": {\"line\": {\"color\": \"#E5ECF6\", \"width\": 0.5}}, \"type\": \"barpolar\"}], \"carpet\": [{\"aaxis\": {\"endlinecolor\": \"#2a3f5f\", \"gridcolor\": \"white\", \"linecolor\": \"white\", \"minorgridcolor\": \"white\", \"startlinecolor\": \"#2a3f5f\"}, \"baxis\": {\"endlinecolor\": \"#2a3f5f\", \"gridcolor\": \"white\", \"linecolor\": \"white\", \"minorgridcolor\": \"white\", \"startlinecolor\": \"#2a3f5f\"}, \"type\": \"carpet\"}], \"choropleth\": [{\"colorbar\": {\"outlinewidth\": 0, \"ticks\": \"\"}, \"type\": \"choropleth\"}], \"contour\": [{\"colorbar\": {\"outlinewidth\": 0, \"ticks\": \"\"}, \"colorscale\": [[0.0, \"#0d0887\"], [0.1111111111111111, \"#46039f\"], [0.2222222222222222, \"#7201a8\"], [0.3333333333333333, \"#9c179e\"], [0.4444444444444444, \"#bd3786\"], [0.5555555555555556, \"#d8576b\"], [0.6666666666666666, \"#ed7953\"], [0.7777777777777778, \"#fb9f3a\"], [0.8888888888888888, \"#fdca26\"], [1.0, \"#f0f921\"]], \"type\": \"contour\"}], \"contourcarpet\": [{\"colorbar\": {\"outlinewidth\": 0, \"ticks\": \"\"}, \"type\": \"contourcarpet\"}], \"heatmap\": [{\"colorbar\": {\"outlinewidth\": 0, \"ticks\": \"\"}, \"colorscale\": [[0.0, \"#0d0887\"], [0.1111111111111111, \"#46039f\"], [0.2222222222222222, \"#7201a8\"], [0.3333333333333333, \"#9c179e\"], [0.4444444444444444, \"#bd3786\"], [0.5555555555555556, \"#d8576b\"], [0.6666666666666666, \"#ed7953\"], [0.7777777777777778, \"#fb9f3a\"], [0.8888888888888888, \"#fdca26\"], [1.0, \"#f0f921\"]], \"type\": \"heatmap\"}], \"heatmapgl\": [{\"colorbar\": {\"outlinewidth\": 0, \"ticks\": \"\"}, \"colorscale\": [[0.0, \"#0d0887\"], [0.1111111111111111, \"#46039f\"], [0.2222222222222222, \"#7201a8\"], [0.3333333333333333, \"#9c179e\"], [0.4444444444444444, \"#bd3786\"], [0.5555555555555556, \"#d8576b\"], [0.6666666666666666, \"#ed7953\"], [0.7777777777777778, \"#fb9f3a\"], [0.8888888888888888, \"#fdca26\"], [1.0, \"#f0f921\"]], \"type\": \"heatmapgl\"}], \"histogram\": [{\"marker\": {\"colorbar\": {\"outlinewidth\": 0, \"ticks\": \"\"}}, \"type\": \"histogram\"}], \"histogram2d\": [{\"colorbar\": {\"outlinewidth\": 0, \"ticks\": \"\"}, \"colorscale\": [[0.0, \"#0d0887\"], [0.1111111111111111, \"#46039f\"], [0.2222222222222222, \"#7201a8\"], [0.3333333333333333, \"#9c179e\"], [0.4444444444444444, \"#bd3786\"], [0.5555555555555556, \"#d8576b\"], [0.6666666666666666, \"#ed7953\"], [0.7777777777777778, \"#fb9f3a\"], [0.8888888888888888, \"#fdca26\"], [1.0, \"#f0f921\"]], \"type\": \"histogram2d\"}], \"histogram2dcontour\": [{\"colorbar\": {\"outlinewidth\": 0, \"ticks\": \"\"}, \"colorscale\": [[0.0, \"#0d0887\"], [0.1111111111111111, \"#46039f\"], [0.2222222222222222, \"#7201a8\"], [0.3333333333333333, \"#9c179e\"], [0.4444444444444444, \"#bd3786\"], [0.5555555555555556, \"#d8576b\"], [0.6666666666666666, \"#ed7953\"], [0.7777777777777778, \"#fb9f3a\"], [0.8888888888888888, \"#fdca26\"], [1.0, \"#f0f921\"]], \"type\": \"histogram2dcontour\"}], \"mesh3d\": [{\"colorbar\": {\"outlinewidth\": 0, \"ticks\": \"\"}, \"type\": \"mesh3d\"}], \"parcoords\": [{\"line\": {\"colorbar\": {\"outlinewidth\": 0, \"ticks\": \"\"}}, \"type\": \"parcoords\"}], \"pie\": [{\"automargin\": true, \"type\": \"pie\"}], \"scatter\": [{\"marker\": {\"colorbar\": {\"outlinewidth\": 0, \"ticks\": \"\"}}, \"type\": \"scatter\"}], \"scatter3d\": [{\"line\": {\"colorbar\": {\"outlinewidth\": 0, \"ticks\": \"\"}}, \"marker\": {\"colorbar\": {\"outlinewidth\": 0, \"ticks\": \"\"}}, \"type\": \"scatter3d\"}], \"scattercarpet\": [{\"marker\": {\"colorbar\": {\"outlinewidth\": 0, \"ticks\": \"\"}}, \"type\": \"scattercarpet\"}], \"scattergeo\": [{\"marker\": {\"colorbar\": {\"outlinewidth\": 0, \"ticks\": \"\"}}, \"type\": \"scattergeo\"}], \"scattergl\": [{\"marker\": {\"colorbar\": {\"outlinewidth\": 0, \"ticks\": \"\"}}, \"type\": \"scattergl\"}], \"scattermapbox\": [{\"marker\": {\"colorbar\": {\"outlinewidth\": 0, \"ticks\": \"\"}}, \"type\": \"scattermapbox\"}], \"scatterpolar\": [{\"marker\": {\"colorbar\": {\"outlinewidth\": 0, \"ticks\": \"\"}}, \"type\": \"scatterpolar\"}], \"scatterpolargl\": [{\"marker\": {\"colorbar\": {\"outlinewidth\": 0, \"ticks\": \"\"}}, \"type\": \"scatterpolargl\"}], \"scatterternary\": [{\"marker\": {\"colorbar\": {\"outlinewidth\": 0, \"ticks\": \"\"}}, \"type\": \"scatterternary\"}], \"surface\": [{\"colorbar\": {\"outlinewidth\": 0, \"ticks\": \"\"}, \"colorscale\": [[0.0, \"#0d0887\"], [0.1111111111111111, \"#46039f\"], [0.2222222222222222, \"#7201a8\"], [0.3333333333333333, \"#9c179e\"], [0.4444444444444444, \"#bd3786\"], [0.5555555555555556, \"#d8576b\"], [0.6666666666666666, \"#ed7953\"], [0.7777777777777778, \"#fb9f3a\"], [0.8888888888888888, \"#fdca26\"], [1.0, \"#f0f921\"]], \"type\": \"surface\"}], \"table\": [{\"cells\": {\"fill\": {\"color\": \"#EBF0F8\"}, \"line\": {\"color\": \"white\"}}, \"header\": {\"fill\": {\"color\": \"#C8D4E3\"}, \"line\": {\"color\": \"white\"}}, \"type\": \"table\"}]}, \"layout\": {\"annotationdefaults\": {\"arrowcolor\": \"#2a3f5f\", \"arrowhead\": 0, \"arrowwidth\": 1}, \"coloraxis\": {\"colorbar\": {\"outlinewidth\": 0, \"ticks\": \"\"}}, \"colorscale\": {\"diverging\": [[0, \"#8e0152\"], [0.1, \"#c51b7d\"], [0.2, \"#de77ae\"], [0.3, \"#f1b6da\"], [0.4, \"#fde0ef\"], [0.5, \"#f7f7f7\"], [0.6, \"#e6f5d0\"], [0.7, \"#b8e186\"], [0.8, \"#7fbc41\"], [0.9, \"#4d9221\"], [1, \"#276419\"]], \"sequential\": [[0.0, \"#0d0887\"], [0.1111111111111111, \"#46039f\"], [0.2222222222222222, \"#7201a8\"], [0.3333333333333333, \"#9c179e\"], [0.4444444444444444, \"#bd3786\"], [0.5555555555555556, \"#d8576b\"], [0.6666666666666666, \"#ed7953\"], [0.7777777777777778, \"#fb9f3a\"], [0.8888888888888888, \"#fdca26\"], [1.0, \"#f0f921\"]], \"sequentialminus\": [[0.0, \"#0d0887\"], [0.1111111111111111, \"#46039f\"], [0.2222222222222222, \"#7201a8\"], [0.3333333333333333, \"#9c179e\"], [0.4444444444444444, \"#bd3786\"], [0.5555555555555556, \"#d8576b\"], [0.6666666666666666, \"#ed7953\"], [0.7777777777777778, \"#fb9f3a\"], [0.8888888888888888, \"#fdca26\"], [1.0, \"#f0f921\"]]}, \"colorway\": [\"#636efa\", \"#EF553B\", \"#00cc96\", \"#ab63fa\", \"#FFA15A\", \"#19d3f3\", \"#FF6692\", \"#B6E880\", \"#FF97FF\", \"#FECB52\"], \"font\": {\"color\": \"#2a3f5f\"}, \"geo\": {\"bgcolor\": \"white\", \"lakecolor\": \"white\", \"landcolor\": \"#E5ECF6\", \"showlakes\": true, \"showland\": true, \"subunitcolor\": \"white\"}, \"hoverlabel\": {\"align\": \"left\"}, \"hovermode\": \"closest\", \"mapbox\": {\"style\": \"light\"}, \"paper_bgcolor\": \"white\", \"plot_bgcolor\": \"#E5ECF6\", \"polar\": {\"angularaxis\": {\"gridcolor\": \"white\", \"linecolor\": \"white\", \"ticks\": \"\"}, \"bgcolor\": \"#E5ECF6\", \"radialaxis\": {\"gridcolor\": \"white\", \"linecolor\": \"white\", \"ticks\": \"\"}}, \"scene\": {\"xaxis\": {\"backgroundcolor\": \"#E5ECF6\", \"gridcolor\": \"white\", \"gridwidth\": 2, \"linecolor\": \"white\", \"showbackground\": true, \"ticks\": \"\", \"zerolinecolor\": \"white\"}, \"yaxis\": {\"backgroundcolor\": \"#E5ECF6\", \"gridcolor\": \"white\", \"gridwidth\": 2, \"linecolor\": \"white\", \"showbackground\": true, \"ticks\": \"\", \"zerolinecolor\": \"white\"}, \"zaxis\": {\"backgroundcolor\": \"#E5ECF6\", \"gridcolor\": \"white\", \"gridwidth\": 2, \"linecolor\": \"white\", \"showbackground\": true, \"ticks\": \"\", \"zerolinecolor\": \"white\"}}, \"shapedefaults\": {\"line\": {\"color\": \"#2a3f5f\"}}, \"ternary\": {\"aaxis\": {\"gridcolor\": \"white\", \"linecolor\": \"white\", \"ticks\": \"\"}, \"baxis\": {\"gridcolor\": \"white\", \"linecolor\": \"white\", \"ticks\": \"\"}, \"bgcolor\": \"#E5ECF6\", \"caxis\": {\"gridcolor\": \"white\", \"linecolor\": \"white\", \"ticks\": \"\"}}, \"title\": {\"x\": 0.05}, \"xaxis\": {\"automargin\": true, \"gridcolor\": \"white\", \"linecolor\": \"white\", \"ticks\": \"\", \"title\": {\"standoff\": 15}, \"zerolinecolor\": \"white\", \"zerolinewidth\": 2}, \"yaxis\": {\"automargin\": true, \"gridcolor\": \"white\", \"linecolor\": \"white\", \"ticks\": \"\", \"title\": {\"standoff\": 15}, \"zerolinecolor\": \"white\", \"zerolinewidth\": 2}}}, \"xaxis\": {\"anchor\": \"y\", \"domain\": [0.0, 1.0], \"title\": {\"text\": \"ball_possession\"}}, \"yaxis\": {\"anchor\": \"x\", \"domain\": [0.0, 1.0], \"title\": {\"text\": \"pass_accuracy\"}}},\n",
       "                        {\"responsive\": true}\n",
       "                    ).then(function(){\n",
       "                            \n",
       "var gd = document.getElementById('f9dd5914-32a9-4a7b-a1ba-c4ec62c0a396');\n",
       "var x = new MutationObserver(function (mutations, observer) {{\n",
       "        var display = window.getComputedStyle(gd).display;\n",
       "        if (!display || display === 'none') {{\n",
       "            console.log([gd, 'removed!']);\n",
       "            Plotly.purge(gd);\n",
       "            observer.disconnect();\n",
       "        }}\n",
       "}});\n",
       "\n",
       "// Listen for the removal of the full notebook cells\n",
       "var notebookContainer = gd.closest('#notebook-container');\n",
       "if (notebookContainer) {{\n",
       "    x.observe(notebookContainer, {childList: true});\n",
       "}}\n",
       "\n",
       "// Listen for the clearing of the current output cell\n",
       "var outputEl = gd.closest('.output');\n",
       "if (outputEl) {{\n",
       "    x.observe(outputEl, {childList: true});\n",
       "}}\n",
       "\n",
       "                        })\n",
       "                };\n",
       "                });\n",
       "            </script>\n",
       "        </div>"
      ]
     },
     "metadata": {},
     "output_type": "display_data"
    }
   ],
   "source": [
    "# Displaying PolynomialFeatures using 𝐿𝐴𝑇𝐸𝑋\n",
    "\n",
    "def format_coefs(coefs):\n",
    "    equation_list = [f\"{coef}x^{i}\" for i, coef in enumerate(coefs)]\n",
    "    equation = \"$\" + \" + \".join(equation_list) + \"$\"\n",
    "    \n",
    "    replace_map = {\"x^0\": \"\", \"x^1\": \"x\", '+ -': '- '}\n",
    "    for old, new in replace_map.items():\n",
    "        equation = equation.replace(old, new)\n",
    "        \n",
    "    return equation\n",
    "\n",
    "X = df.ball_possession.values.reshape(-1, 1)\n",
    "x_range = np.linspace(X.min(), X.max(), 100).reshape(-1, 1)\n",
    "\n",
    "fig = px.scatter(df, x='ball_possession', y='pass_accuracy', opacity=0.65)\n",
    "for degree in [1, 2, 3, 4]:\n",
    "    poly = PolynomialFeatures(degree)\n",
    "    poly.fit(X)\n",
    "    X_poly = poly.transform(X)\n",
    "    x_range_poly = poly.transform(x_range)\n",
    "    \n",
    "    model = LinearRegression(fit_intercept=False)\n",
    "    model.fit(X_poly, df.pass_accuracy)\n",
    "    y_poly = model.predict(x_range_poly)\n",
    "    \n",
    "    equation = format_coefs(model.coef_.round(2))\n",
    "    fig.add_traces(go.Scatter(x=x_range.squeeze(), y=y_poly, name=equation))\n",
    "    \n",
    "fig.show()"
   ]
  },
  {
   "cell_type": "markdown",
   "metadata": {},
   "source": [
    "Notice how linear regression fits a straight line. Moreover, it is possible to extend linear regression to polynomial regression by using scikit-learn's PolynomialFeatures, which fits a slope for features raised to the power of n, where n=1, 2, 3, 4 in codes above.\n",
    "\n",
    "With Plotly, it's easy to diplay latex equations in legend and titles by simply adding $ before and after your equation. This way, we can see the coefficients that our polynomial regression fitted.\n",
    "\n",
    "### <a href='#Table of Contents'>[Move to the Table of Contents]</a>"
   ]
  }
 ],
 "metadata": {
  "kernelspec": {
   "display_name": "Python 3",
   "language": "python",
   "name": "python3"
  },
  "language_info": {
   "codemirror_mode": {
    "name": "ipython",
    "version": 3
   },
   "file_extension": ".py",
   "mimetype": "text/x-python",
   "name": "python",
   "nbconvert_exporter": "python",
   "pygments_lexer": "ipython3",
   "version": "3.8.3"
  }
 },
 "nbformat": 4,
 "nbformat_minor": 4
}
