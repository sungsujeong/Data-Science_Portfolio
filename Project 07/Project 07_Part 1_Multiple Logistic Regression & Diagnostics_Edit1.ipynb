{
 "cells": [
  {
   "cell_type": "markdown",
   "metadata": {},
   "source": [
    "# Project 07: Logistic Regression & Probabilistic Predictions\n",
    "\n",
    "### Introduction\n",
    "1. Data source: https://www.kaggle.com/anmolkumar/health-insurance-cross-sell-prediction\n",
    "2. Data description\n",
    "    1. There are two datasets loaded, a training dataset and a testing dataset.\n",
    "        1. The training dataset is implemented to build up a model, while the testing dataset is to validate the model built.\n",
    "        2. Variable definition\n",
    "            * id: unique ID for the customer\n",
    "            * Gender: gender of the customer\n",
    "            * Age: age of the customer\n",
    "            * Driving_License: 0 = customer does not have DL, 1 = customer already has DL\n",
    "            * Region_Code: unique code for the region of the customer\n",
    "            * Previously_Insured: 1 = customer already has Vehicle Insurance, 0 = customer doesn't have Vehicle Insurance\n",
    "            * Vehicle_Age: age of the Vehicle\n",
    "            * Vehicle_Damage: \n",
    "                * 1 = customer got his/her vehicle damaged in the past, \n",
    "                * 0 = customer didn't get his/her vehicle damaged in the past\n",
    "            * Annual_Premium: the amount customer needs to pay as premium in the year\n",
    "            * Policy_Sales_Channel: anonymized code for the channel of outreaching to the customer i.e., Different Agents, Over Mail, Over Phone, In Person, etc.\n",
    "            * Vintage: number of days customer has been associated with the company\n",
    "            * Response:\t1 = customer is interested, 0 = customer is not interested\n",
    "    2. The training dataset contains a predictor, Response, the testing dataset, however, does not contain it.\n",
    "3. Objective\n",
    "    1. To build up a model that predict whether the policyholders (customers) from past year will also be interested in Vehicle Insurance provided by the company.\n",
    "    2. To perform multiple logistic regression to predict the probability of a client's interested in Vehicle Insurance.\n",
    "\n",
    "<a id='Table of Contents'></a>\n",
    "### Table of Contents\n",
    "1. Part 1\n",
    "    1. Data Preparation & Simple EDA\n",
    "    2. Fitting Logistic Regression Models\n",
    "    3. Quantifying Logistic Regression Model Fit\n",
    "\n",
    "2. Part 2\n",
    "    4. Generating Probabilistic Predictions\n",
    "    5. Visualizing Logistic Regression Models\n",
    "\n",
    "\n",
    "## 1. Data Preparation & Simple EDA"
   ]
  },
  {
   "cell_type": "code",
   "execution_count": 1,
   "metadata": {},
   "outputs": [],
   "source": [
    "# Set up the path for installing packages\n",
    ".libPaths('C:/Users/james/anaconda3/envs/r-tutorial/Lib/R/library')"
   ]
  },
  {
   "cell_type": "code",
   "execution_count": 2,
   "metadata": {},
   "outputs": [],
   "source": [
    "# install.packages('IRdisplay')"
   ]
  },
  {
   "cell_type": "code",
   "execution_count": 21,
   "metadata": {},
   "outputs": [],
   "source": [
    "# Load packages\n",
    "library(data.table)\n",
    "library(magrittr)\n",
    "library(dplyr)\n",
    "library(tidyr) \n",
    "library(skimr)\n",
    "library(ggplot2)\n",
    "library(yardstick)\n",
    "library(pscl)\n",
    "library(MASS)\n",
    "library(caret)\n",
    "library(workflows)\n",
    "library(plotly)\n",
    "library(IRdisplay)\n",
    "\n",
    "# Suppress warning messages\n",
    "options(warn = -1)\n",
    "\n",
    "# Turn on warning messages\n",
    "# options(warn = 0)"
   ]
  },
  {
   "cell_type": "code",
   "execution_count": 4,
   "metadata": {},
   "outputs": [
    {
     "data": {
      "text/html": [
       "<ol class=list-inline>\n",
       "\t<li>'1.png'</li>\n",
       "\t<li>'data descriptions.txt'</li>\n",
       "\t<li>'submission.csv'</li>\n",
       "\t<li>'test.csv'</li>\n",
       "\t<li>'train.csv'</li>\n",
       "</ol>\n"
      ],
      "text/latex": [
       "\\begin{enumerate*}\n",
       "\\item '1.png'\n",
       "\\item 'data descriptions.txt'\n",
       "\\item 'submission.csv'\n",
       "\\item 'test.csv'\n",
       "\\item 'train.csv'\n",
       "\\end{enumerate*}\n"
      ],
      "text/markdown": [
       "1. '1.png'\n",
       "2. 'data descriptions.txt'\n",
       "3. 'submission.csv'\n",
       "4. 'test.csv'\n",
       "5. 'train.csv'\n",
       "\n",
       "\n"
      ],
      "text/plain": [
       "[1] \"1.png\"                 \"data descriptions.txt\" \"submission.csv\"       \n",
       "[4] \"test.csv\"              \"train.csv\"            "
      ]
     },
     "metadata": {},
     "output_type": "display_data"
    },
    {
     "data": {
      "text/html": [
       "<table>\n",
       "<thead><tr><th scope=col>id</th><th scope=col>Gender</th><th scope=col>Age</th><th scope=col>Driving_License</th><th scope=col>Region_Code</th><th scope=col>Previously_Insured</th><th scope=col>Vehicle_Age</th><th scope=col>Vehicle_Damage</th><th scope=col>Annual_Premium</th><th scope=col>Policy_Sales_Channel</th><th scope=col>Vintage</th><th scope=col>Response</th></tr></thead>\n",
       "<tbody>\n",
       "\t<tr><td>1                                             </td><td><span style=white-space:pre-wrap>Male  </span></td><td>44                                            </td><td>1                                             </td><td>28                                            </td><td>0                                             </td><td>&gt; 2 Years                                  </td><td>Yes                                           </td><td>40454                                         </td><td> 26                                           </td><td>217                                           </td><td>1                                             </td></tr>\n",
       "\t<tr><td>2        </td><td>Male     </td><td>76       </td><td>1        </td><td> 3       </td><td>0        </td><td>1-2 Year </td><td>No       </td><td>33536    </td><td> 26      </td><td>183      </td><td>0        </td></tr>\n",
       "\t<tr><td>3                                             </td><td><span style=white-space:pre-wrap>Male  </span></td><td>47                                            </td><td>1                                             </td><td>28                                            </td><td>0                                             </td><td>&gt; 2 Years                                  </td><td>Yes                                           </td><td>38294                                         </td><td> 26                                           </td><td> 27                                           </td><td>1                                             </td></tr>\n",
       "\t<tr><td>4                                             </td><td><span style=white-space:pre-wrap>Male  </span></td><td>21                                            </td><td>1                                             </td><td>11                                            </td><td>1                                             </td><td>&lt; 1 Year                                   </td><td>No                                            </td><td>28619                                         </td><td>152                                           </td><td>203                                           </td><td>0                                             </td></tr>\n",
       "\t<tr><td>5           </td><td>Female      </td><td>29          </td><td>1           </td><td>41          </td><td>1           </td><td>&lt; 1 Year </td><td>No          </td><td>27496       </td><td>152         </td><td> 39         </td><td>0           </td></tr>\n",
       "\t<tr><td>6           </td><td>Female      </td><td>24          </td><td>1           </td><td>33          </td><td>0           </td><td>&lt; 1 Year </td><td>Yes         </td><td> 2630       </td><td>160         </td><td>176         </td><td>0           </td></tr>\n",
       "</tbody>\n",
       "</table>\n"
      ],
      "text/latex": [
       "\\begin{tabular}{r|llllllllllll}\n",
       " id & Gender & Age & Driving\\_License & Region\\_Code & Previously\\_Insured & Vehicle\\_Age & Vehicle\\_Damage & Annual\\_Premium & Policy\\_Sales\\_Channel & Vintage & Response\\\\\n",
       "\\hline\n",
       "\t 1         & Male      & 44        & 1         & 28        & 0         & > 2 Years & Yes       & 40454     &  26       & 217       & 1        \\\\\n",
       "\t 2         & Male      & 76        & 1         &  3        & 0         & 1-2 Year  & No        & 33536     &  26       & 183       & 0        \\\\\n",
       "\t 3         & Male      & 47        & 1         & 28        & 0         & > 2 Years & Yes       & 38294     &  26       &  27       & 1        \\\\\n",
       "\t 4         & Male      & 21        & 1         & 11        & 1         & < 1 Year  & No        & 28619     & 152       & 203       & 0        \\\\\n",
       "\t 5         & Female    & 29        & 1         & 41        & 1         & < 1 Year  & No        & 27496     & 152       &  39       & 0        \\\\\n",
       "\t 6         & Female    & 24        & 1         & 33        & 0         & < 1 Year  & Yes       &  2630     & 160       & 176       & 0        \\\\\n",
       "\\end{tabular}\n"
      ],
      "text/markdown": [
       "\n",
       "| id | Gender | Age | Driving_License | Region_Code | Previously_Insured | Vehicle_Age | Vehicle_Damage | Annual_Premium | Policy_Sales_Channel | Vintage | Response |\n",
       "|---|---|---|---|---|---|---|---|---|---|---|---|\n",
       "| 1         | Male      | 44        | 1         | 28        | 0         | > 2 Years | Yes       | 40454     |  26       | 217       | 1         |\n",
       "| 2         | Male      | 76        | 1         |  3        | 0         | 1-2 Year  | No        | 33536     |  26       | 183       | 0         |\n",
       "| 3         | Male      | 47        | 1         | 28        | 0         | > 2 Years | Yes       | 38294     |  26       |  27       | 1         |\n",
       "| 4         | Male      | 21        | 1         | 11        | 1         | < 1 Year  | No        | 28619     | 152       | 203       | 0         |\n",
       "| 5         | Female    | 29        | 1         | 41        | 1         | < 1 Year  | No        | 27496     | 152       |  39       | 0         |\n",
       "| 6         | Female    | 24        | 1         | 33        | 0         | < 1 Year  | Yes       |  2630     | 160       | 176       | 0         |\n",
       "\n"
      ],
      "text/plain": [
       "  id Gender Age Driving_License Region_Code Previously_Insured Vehicle_Age\n",
       "1 1  Male   44  1               28          0                  > 2 Years  \n",
       "2 2  Male   76  1                3          0                  1-2 Year   \n",
       "3 3  Male   47  1               28          0                  > 2 Years  \n",
       "4 4  Male   21  1               11          1                  < 1 Year   \n",
       "5 5  Female 29  1               41          1                  < 1 Year   \n",
       "6 6  Female 24  1               33          0                  < 1 Year   \n",
       "  Vehicle_Damage Annual_Premium Policy_Sales_Channel Vintage Response\n",
       "1 Yes            40454           26                  217     1       \n",
       "2 No             33536           26                  183     0       \n",
       "3 Yes            38294           26                   27     1       \n",
       "4 No             28619          152                  203     0       \n",
       "5 No             27496          152                   39     0       \n",
       "6 Yes             2630          160                  176     0       "
      ]
     },
     "metadata": {},
     "output_type": "display_data"
    }
   ],
   "source": [
    "# Set up the working directory\n",
    "setwd('C:/Users/james/Desktop/Coding/Kaggle/Health Insurance')\n",
    "\n",
    "# Inspect the workspace\n",
    "dir()\n",
    "\n",
    "# Import trainng & testing dataset train.csv with fread()\n",
    "train_df <- fread(\"train.csv\")\n",
    "test_df <- fread(\"test.csv\")\n",
    "\n",
    "# Call head() on training dataset: train_df\n",
    "head(train_df)"
   ]
  },
  {
   "cell_type": "code",
   "execution_count": 5,
   "metadata": {},
   "outputs": [
    {
     "name": "stdout",
     "output_type": "stream",
     "text": [
      "-- Data Summary ------------------------\n",
      "                           Values  \n",
      "Name                       train_df\n",
      "Number of rows             381109  \n",
      "Number of columns          12      \n",
      "_______________________            \n",
      "Column type frequency:             \n",
      "  character                3       \n",
      "  numeric                  9       \n",
      "________________________           \n",
      "Group variables            None    \n",
      "\n",
      "-- Variable type: character ----------------------------------------------------\n",
      "# A tibble: 3 x 8\n",
      "  skim_variable  n_missing complete_rate   min   max empty n_unique whitespace\n",
      "* <chr>              <int>         <dbl> <int> <int> <int>    <int>      <int>\n",
      "1 Gender                 0             1     4     6     0        2          0\n",
      "2 Vehicle_Age            0             1     8     9     0        3          0\n",
      "3 Vehicle_Damage         0             1     2     3     0        2          0\n",
      "\n",
      "-- Variable type: numeric ------------------------------------------------------\n",
      "# A tibble: 9 x 11\n",
      "  skim_variable        n_missing complete_rate       mean          sd    p0\n",
      "* <chr>                    <int>         <dbl>      <dbl>       <dbl> <dbl>\n",
      "1 id                           0             1 190555     110017.         1\n",
      "2 Age                          0             1     38.8       15.5       20\n",
      "3 Driving_License              0             1      0.998      0.0461     0\n",
      "4 Region_Code                  0             1     26.4       13.2        0\n",
      "5 Previously_Insured           0             1      0.458      0.498      0\n",
      "6 Annual_Premium               0             1  30564.     17213.      2630\n",
      "7 Policy_Sales_Channel         0             1    112.        54.2        1\n",
      "8 Vintage                      0             1    154.        83.7       10\n",
      "9 Response                     0             1      0.123      0.328      0\n",
      "    p25    p50    p75   p100 hist \n",
      "* <dbl>  <dbl>  <dbl>  <dbl> <chr>\n",
      "1 95278 190555 285832 381109 <U+2587><U+2587><U+2587><U+2587><U+2587>\n",
      "2    25     36     49     85 <U+2587><U+2583><U+2583><U+2582><U+2581>\n",
      "3     1      1      1      1 <U+2581><U+2581><U+2581><U+2581><U+2587>\n",
      "4    15     28     35     52 <U+2583><U+2582><U+2587><U+2583><U+2583>\n",
      "5     0      0      1      1 <U+2587><U+2581><U+2581><U+2581><U+2587>\n",
      "6 24405  31669  39400 540165 <U+2587><U+2581><U+2581><U+2581><U+2581>\n",
      "7    29    133    152    163 <U+2585><U+2581><U+2581><U+2583><U+2587>\n",
      "8    82    154    227    299 <U+2587><U+2587><U+2587><U+2587><U+2587>\n",
      "9     0      0      0      1 <U+2587><U+2581><U+2581><U+2581><U+2581>\n"
     ]
    }
   ],
   "source": [
    "# Quick EDA to take a look at the training dataset\n",
    "skimr::skim(train_df)"
   ]
  },
  {
   "cell_type": "markdown",
   "metadata": {},
   "source": [
    "## 2. Fitting Logistic Regression Models\n",
    "### (1) Computing full logistic regression model"
   ]
  },
  {
   "cell_type": "code",
   "execution_count": 6,
   "metadata": {},
   "outputs": [],
   "source": [
    "# Fit the model to the train_df without interaction\n",
    "# and predictiors not considered important: id\n",
    "\n",
    "mdl_full <- glm(Response ~ Gender + Age + Driving_License + Region_Code + Previously_Insured + \n",
    "                    Vehicle_Age + Vehicle_Damage + Policy_Sales_Channel + Annual_Premium + Vintage,\n",
    "                    data = train_df,\n",
    "                    family = \"binomial\")"
   ]
  },
  {
   "cell_type": "code",
   "execution_count": 7,
   "metadata": {},
   "outputs": [
    {
     "data": {
      "text/html": [
       "<table>\n",
       "<thead><tr><th></th><th scope=col>Estimate</th><th scope=col>Std. Error</th><th scope=col>z value</th><th scope=col>Pr(&gt;|z|)</th></tr></thead>\n",
       "<tbody>\n",
       "\t<tr><th scope=row>(Intercept)</th><td>-4.06999 </td><td>0.17033  </td><td>-23.89542</td><td>0.00000  </td></tr>\n",
       "\t<tr><th scope=row>GenderMale</th><td> 0.09069 </td><td>0.01113  </td><td>  8.15015</td><td>0.00000  </td></tr>\n",
       "\t<tr><th scope=row>Age</th><td>-0.02535 </td><td>0.00055  </td><td>-46.44958</td><td>0.00000  </td></tr>\n",
       "\t<tr><th scope=row>Driving_License</th><td> 1.21131 </td><td>0.16343  </td><td>  7.41198</td><td>0.00000  </td></tr>\n",
       "\t<tr><th scope=row>Region_Code</th><td>-0.00037 </td><td>0.00044  </td><td> -0.84370</td><td>0.39884  </td></tr>\n",
       "\t<tr><th scope=row>Previously_Insured</th><td>-3.97282 </td><td>0.08265  </td><td>-48.06926</td><td>0.00000  </td></tr>\n",
       "\t<tr><th scope=row>Vehicle_Age&gt; 2 Years</th><td> 1.38133 </td><td>0.02696  </td><td> 51.23876</td><td>0.00000  </td></tr>\n",
       "\t<tr><th scope=row>Vehicle_Age1-2 Year</th><td> 1.17210 </td><td>0.01880  </td><td> 62.34012</td><td>0.00000  </td></tr>\n",
       "\t<tr><th scope=row>Vehicle_DamageYes</th><td> 2.02806 </td><td>0.03427  </td><td> 59.18698</td><td>0.00000  </td></tr>\n",
       "\t<tr><th scope=row>Policy_Sales_Channel</th><td>-0.00244 </td><td>0.00011  </td><td>-22.30165</td><td>0.00000  </td></tr>\n",
       "\t<tr><th scope=row>Annual_Premium</th><td> 0.00000 </td><td>0.00000  </td><td>  8.69928</td><td>0.00000  </td></tr>\n",
       "\t<tr><th scope=row>Vintage</th><td>-0.00001 </td><td>0.00006  </td><td> -0.11092</td><td>0.91168  </td></tr>\n",
       "</tbody>\n",
       "</table>\n"
      ],
      "text/latex": [
       "\\begin{tabular}{r|llll}\n",
       "  & Estimate & Std. Error & z value & Pr(>\\textbar{}z\\textbar{})\\\\\n",
       "\\hline\n",
       "\t(Intercept) & -4.06999  & 0.17033   & -23.89542 & 0.00000  \\\\\n",
       "\tGenderMale &  0.09069  & 0.01113   &   8.15015 & 0.00000  \\\\\n",
       "\tAge & -0.02535  & 0.00055   & -46.44958 & 0.00000  \\\\\n",
       "\tDriving\\_License &  1.21131  & 0.16343   &   7.41198 & 0.00000  \\\\\n",
       "\tRegion\\_Code & -0.00037  & 0.00044   &  -0.84370 & 0.39884  \\\\\n",
       "\tPreviously\\_Insured & -3.97282  & 0.08265   & -48.06926 & 0.00000  \\\\\n",
       "\tVehicle\\_Age> 2 Years &  1.38133  & 0.02696   &  51.23876 & 0.00000  \\\\\n",
       "\tVehicle\\_Age1-2 Year &  1.17210  & 0.01880   &  62.34012 & 0.00000  \\\\\n",
       "\tVehicle\\_DamageYes &  2.02806  & 0.03427   &  59.18698 & 0.00000  \\\\\n",
       "\tPolicy\\_Sales\\_Channel & -0.00244  & 0.00011   & -22.30165 & 0.00000  \\\\\n",
       "\tAnnual\\_Premium &  0.00000  & 0.00000   &   8.69928 & 0.00000  \\\\\n",
       "\tVintage & -0.00001  & 0.00006   &  -0.11092 & 0.91168  \\\\\n",
       "\\end{tabular}\n"
      ],
      "text/markdown": [
       "\n",
       "| <!--/--> | Estimate | Std. Error | z value | Pr(>|z|) |\n",
       "|---|---|---|---|---|\n",
       "| (Intercept) | -4.06999  | 0.17033   | -23.89542 | 0.00000   |\n",
       "| GenderMale |  0.09069  | 0.01113   |   8.15015 | 0.00000   |\n",
       "| Age | -0.02535  | 0.00055   | -46.44958 | 0.00000   |\n",
       "| Driving_License |  1.21131  | 0.16343   |   7.41198 | 0.00000   |\n",
       "| Region_Code | -0.00037  | 0.00044   |  -0.84370 | 0.39884   |\n",
       "| Previously_Insured | -3.97282  | 0.08265   | -48.06926 | 0.00000   |\n",
       "| Vehicle_Age> 2 Years |  1.38133  | 0.02696   |  51.23876 | 0.00000   |\n",
       "| Vehicle_Age1-2 Year |  1.17210  | 0.01880   |  62.34012 | 0.00000   |\n",
       "| Vehicle_DamageYes |  2.02806  | 0.03427   |  59.18698 | 0.00000   |\n",
       "| Policy_Sales_Channel | -0.00244  | 0.00011   | -22.30165 | 0.00000   |\n",
       "| Annual_Premium |  0.00000  | 0.00000   |   8.69928 | 0.00000   |\n",
       "| Vintage | -0.00001  | 0.00006   |  -0.11092 | 0.91168   |\n",
       "\n"
      ],
      "text/plain": [
       "                     Estimate Std. Error z value   Pr(>|z|)\n",
       "(Intercept)          -4.06999 0.17033    -23.89542 0.00000 \n",
       "GenderMale            0.09069 0.01113      8.15015 0.00000 \n",
       "Age                  -0.02535 0.00055    -46.44958 0.00000 \n",
       "Driving_License       1.21131 0.16343      7.41198 0.00000 \n",
       "Region_Code          -0.00037 0.00044     -0.84370 0.39884 \n",
       "Previously_Insured   -3.97282 0.08265    -48.06926 0.00000 \n",
       "Vehicle_Age> 2 Years  1.38133 0.02696     51.23876 0.00000 \n",
       "Vehicle_Age1-2 Year   1.17210 0.01880     62.34012 0.00000 \n",
       "Vehicle_DamageYes     2.02806 0.03427     59.18698 0.00000 \n",
       "Policy_Sales_Channel -0.00244 0.00011    -22.30165 0.00000 \n",
       "Annual_Premium        0.00000 0.00000      8.69928 0.00000 \n",
       "Vintage              -0.00001 0.00006     -0.11092 0.91168 "
      ]
     },
     "metadata": {},
     "output_type": "display_data"
    }
   ],
   "source": [
    "# Summary results of the full model\n",
    "round(summary(mdl_full)$coef, digits = 5)  # ex) 2e-16 = 2.0 * 10-16"
   ]
  },
  {
   "cell_type": "markdown",
   "metadata": {},
   "source": [
    "#### Observations\n",
    "1. Except for Vintage and Region_Code, all other variables are statistically significant predictors(p < 0.05).\n",
    "2. All significant predictors, except for Age, Region_Code, Policy_Sales_Channel, Previously_Insured and Vintage, have a positive coefficient."
   ]
  },
  {
   "cell_type": "markdown",
   "metadata": {},
   "source": [
    "### (2) Computing stepwise logistic regression model"
   ]
  },
  {
   "cell_type": "code",
   "execution_count": 8,
   "metadata": {},
   "outputs": [
    {
     "data": {
      "text/html": [
       "<table>\n",
       "<thead><tr><th></th><th scope=col>Estimate</th><th scope=col>Std. Error</th><th scope=col>z value</th><th scope=col>Pr(&gt;|z|)</th></tr></thead>\n",
       "<tbody>\n",
       "\t<tr><th scope=row>(Intercept)</th><td>-4.080521e+00</td><td>1.696599e-01 </td><td>-24.051188   </td><td>8.112272e-128</td></tr>\n",
       "\t<tr><th scope=row>GenderMale</th><td> 9.080387e-02</td><td>1.112682e-02 </td><td>  8.160813   </td><td> 3.327759e-16</td></tr>\n",
       "\t<tr><th scope=row>Age</th><td>-2.535045e-02</td><td>5.456680e-04 </td><td>-46.457644   </td><td> 0.000000e+00</td></tr>\n",
       "\t<tr><th scope=row>Driving_License</th><td> 1.210940e+00</td><td>1.634228e-01 </td><td>  7.409861   </td><td> 1.264318e-13</td></tr>\n",
       "\t<tr><th scope=row>Previously_Insured</th><td>-3.972858e+00</td><td>8.264784e-02 </td><td>-48.069709   </td><td> 0.000000e+00</td></tr>\n",
       "\t<tr><th scope=row>Vehicle_Age&gt; 2 Years</th><td> 1.381141e+00</td><td>2.695760e-02 </td><td> 51.233843   </td><td> 0.000000e+00</td></tr>\n",
       "\t<tr><th scope=row>Vehicle_Age1-2 Year</th><td> 1.172021e+00</td><td>1.880127e-02 </td><td> 62.337339   </td><td> 0.000000e+00</td></tr>\n",
       "\t<tr><th scope=row>Vehicle_DamageYes</th><td> 2.027891e+00</td><td>3.426464e-02 </td><td> 59.183178   </td><td> 0.000000e+00</td></tr>\n",
       "\t<tr><th scope=row>Policy_Sales_Channel</th><td>-2.439167e-03</td><td>1.094386e-04 </td><td>-22.287990   </td><td>4.832077e-110</td></tr>\n",
       "\t<tr><th scope=row>Annual_Premium</th><td> 2.574046e-06</td><td>2.956401e-07 </td><td>  8.706688   </td><td> 3.128833e-18</td></tr>\n",
       "</tbody>\n",
       "</table>\n"
      ],
      "text/latex": [
       "\\begin{tabular}{r|llll}\n",
       "  & Estimate & Std. Error & z value & Pr(>\\textbar{}z\\textbar{})\\\\\n",
       "\\hline\n",
       "\t(Intercept) & -4.080521e+00 & 1.696599e-01  & -24.051188    & 8.112272e-128\\\\\n",
       "\tGenderMale &  9.080387e-02 & 1.112682e-02  &   8.160813    &  3.327759e-16\\\\\n",
       "\tAge & -2.535045e-02 & 5.456680e-04  & -46.457644    &  0.000000e+00\\\\\n",
       "\tDriving\\_License &  1.210940e+00 & 1.634228e-01  &   7.409861    &  1.264318e-13\\\\\n",
       "\tPreviously\\_Insured & -3.972858e+00 & 8.264784e-02  & -48.069709    &  0.000000e+00\\\\\n",
       "\tVehicle\\_Age> 2 Years &  1.381141e+00 & 2.695760e-02  &  51.233843    &  0.000000e+00\\\\\n",
       "\tVehicle\\_Age1-2 Year &  1.172021e+00 & 1.880127e-02  &  62.337339    &  0.000000e+00\\\\\n",
       "\tVehicle\\_DamageYes &  2.027891e+00 & 3.426464e-02  &  59.183178    &  0.000000e+00\\\\\n",
       "\tPolicy\\_Sales\\_Channel & -2.439167e-03 & 1.094386e-04  & -22.287990    & 4.832077e-110\\\\\n",
       "\tAnnual\\_Premium &  2.574046e-06 & 2.956401e-07  &   8.706688    &  3.128833e-18\\\\\n",
       "\\end{tabular}\n"
      ],
      "text/markdown": [
       "\n",
       "| <!--/--> | Estimate | Std. Error | z value | Pr(>|z|) |\n",
       "|---|---|---|---|---|\n",
       "| (Intercept) | -4.080521e+00 | 1.696599e-01  | -24.051188    | 8.112272e-128 |\n",
       "| GenderMale |  9.080387e-02 | 1.112682e-02  |   8.160813    |  3.327759e-16 |\n",
       "| Age | -2.535045e-02 | 5.456680e-04  | -46.457644    |  0.000000e+00 |\n",
       "| Driving_License |  1.210940e+00 | 1.634228e-01  |   7.409861    |  1.264318e-13 |\n",
       "| Previously_Insured | -3.972858e+00 | 8.264784e-02  | -48.069709    |  0.000000e+00 |\n",
       "| Vehicle_Age> 2 Years |  1.381141e+00 | 2.695760e-02  |  51.233843    |  0.000000e+00 |\n",
       "| Vehicle_Age1-2 Year |  1.172021e+00 | 1.880127e-02  |  62.337339    |  0.000000e+00 |\n",
       "| Vehicle_DamageYes |  2.027891e+00 | 3.426464e-02  |  59.183178    |  0.000000e+00 |\n",
       "| Policy_Sales_Channel | -2.439167e-03 | 1.094386e-04  | -22.287990    | 4.832077e-110 |\n",
       "| Annual_Premium |  2.574046e-06 | 2.956401e-07  |   8.706688    |  3.128833e-18 |\n",
       "\n"
      ],
      "text/plain": [
       "                     Estimate      Std. Error   z value    Pr(>|z|)     \n",
       "(Intercept)          -4.080521e+00 1.696599e-01 -24.051188 8.112272e-128\n",
       "GenderMale            9.080387e-02 1.112682e-02   8.160813  3.327759e-16\n",
       "Age                  -2.535045e-02 5.456680e-04 -46.457644  0.000000e+00\n",
       "Driving_License       1.210940e+00 1.634228e-01   7.409861  1.264318e-13\n",
       "Previously_Insured   -3.972858e+00 8.264784e-02 -48.069709  0.000000e+00\n",
       "Vehicle_Age> 2 Years  1.381141e+00 2.695760e-02  51.233843  0.000000e+00\n",
       "Vehicle_Age1-2 Year   1.172021e+00 1.880127e-02  62.337339  0.000000e+00\n",
       "Vehicle_DamageYes     2.027891e+00 3.426464e-02  59.183178  0.000000e+00\n",
       "Policy_Sales_Channel -2.439167e-03 1.094386e-04 -22.287990 4.832077e-110\n",
       "Annual_Premium        2.574046e-06 2.956401e-07   8.706688  3.128833e-18"
      ]
     },
     "metadata": {},
     "output_type": "display_data"
    }
   ],
   "source": [
    "# Fit the model\n",
    "mdl_step <- glm(Response ~ Gender + Age + Driving_License + Region_Code + Previously_Insured + \n",
    "                    Vehicle_Age + Vehicle_Damage + Policy_Sales_Channel + Annual_Premium + Vintage,\n",
    "                    data = train_df,\n",
    "                    family = \"binomial\") %>%\n",
    "                    stepAIC(trace = FALSE)\n",
    "\n",
    "# Summary results of the final selected model\n",
    "summary(mdl_step)$coef"
   ]
  },
  {
   "cell_type": "markdown",
   "metadata": {},
   "source": [
    "#### Observations\n",
    "As I expected, the function chose a final model in which two variables, Region_Code and Vintage, have been removed from the original full model.\n",
    "\n",
    "\n",
    "## 3. Quantifying Logistic Regression Model Fit\n",
    "1. In this chapter, I will:\n",
    "    1. compare the full logistic regression model with the stepwise logistic regression model with model performance metrics.\n",
    "    2. arbitrarily narrow down the predictors by comparing their contribution to the residual deviance reduction.\n",
    "\n",
    "\n",
    "### (1) Comparing full vs stepwise model with Prediction Accuracy\n",
    "1. I will compare the performance of the full and stepwise logistic model.\n",
    "2. The best model is defined as the model that has the lowest classification error rate in predicting the class of new test data.\n",
    "3. Let's compare the prediction accuracy of each model.\n",
    "\n",
    "\n",
    "#### (a) Full model"
   ]
  },
  {
   "cell_type": "code",
   "execution_count": 9,
   "metadata": {},
   "outputs": [
    {
     "data": {
      "text/plain": [
       "                  actual_response\n",
       "predicted_response      0      1\n",
       "                 0 334388  46704\n",
       "                 1     11      6"
      ]
     },
     "metadata": {},
     "output_type": "display_data"
    }
   ],
   "source": [
    "# Fit the model\n",
    "mdl_full <- glm(Response ~ Gender + Age + Driving_License + Region_Code + Previously_Insured + \n",
    "                    Vehicle_Age + Vehicle_Damage + Policy_Sales_Channel + Annual_Premium + Vintage,\n",
    "                    data = train_df,\n",
    "                    family = \"binomial\")\n",
    "\n",
    "# Obtain the actual client's responses and predicted responses by the model\n",
    "actual_response <- train_df$Response\n",
    "predicted_response <- round(fitted(mdl_full))\n",
    "\n",
    "# Tabulate both responses\n",
    "outcomes <- table(predicted_response, actual_response)\n",
    "outcomes"
   ]
  },
  {
   "cell_type": "code",
   "execution_count": 10,
   "metadata": {},
   "outputs": [
    {
     "data": {
      "text/html": [
       "<table>\n",
       "<thead><tr><th scope=col>.metric</th><th scope=col>.estimator</th><th scope=col>.estimate</th></tr></thead>\n",
       "<tbody>\n",
       "\t<tr><td>accuracy    </td><td>binary      </td><td>0.8774235193</td></tr>\n",
       "\t<tr><td>kap         </td><td>binary      </td><td>0.0001676449</td></tr>\n",
       "\t<tr><td>sens        </td><td>binary      </td><td>0.0001284522</td></tr>\n",
       "\t<tr><td>spec        </td><td>binary      </td><td>0.9999671052</td></tr>\n",
       "</tbody>\n",
       "</table>\n"
      ],
      "text/latex": [
       "\\begin{tabular}{r|lll}\n",
       " .metric & .estimator & .estimate\\\\\n",
       "\\hline\n",
       "\t accuracy     & binary       & 0.8774235193\\\\\n",
       "\t kap          & binary       & 0.0001676449\\\\\n",
       "\t sens         & binary       & 0.0001284522\\\\\n",
       "\t spec         & binary       & 0.9999671052\\\\\n",
       "\\end{tabular}\n"
      ],
      "text/markdown": [
       "\n",
       "| .metric | .estimator | .estimate |\n",
       "|---|---|---|\n",
       "| accuracy     | binary       | 0.8774235193 |\n",
       "| kap          | binary       | 0.0001676449 |\n",
       "| sens         | binary       | 0.0001284522 |\n",
       "| spec         | binary       | 0.9999671052 |\n",
       "\n"
      ],
      "text/plain": [
       "  .metric  .estimator .estimate   \n",
       "1 accuracy binary     0.8774235193\n",
       "2 kap      binary     0.0001676449\n",
       "3 sens     binary     0.0001284522\n",
       "4 spec     binary     0.9999671052"
      ]
     },
     "metadata": {},
     "output_type": "display_data"
    }
   ],
   "source": [
    "# Convert the table into a yardstick confusion matrix object using conf_mat()\n",
    "confusion <- conf_mat(outcomes)\n",
    "\n",
    "# Gain the major model performance metrics\n",
    "summary(confusion, event_level = \"second\")[1:4, ]"
   ]
  },
  {
   "cell_type": "markdown",
   "metadata": {},
   "source": [
    "#### (b) Stepwise model"
   ]
  },
  {
   "cell_type": "code",
   "execution_count": 11,
   "metadata": {},
   "outputs": [
    {
     "data": {
      "text/plain": [
       "                  actual_response\n",
       "predicted_response      0      1\n",
       "                 0 334387  46703\n",
       "                 1     12      7"
      ]
     },
     "metadata": {},
     "output_type": "display_data"
    }
   ],
   "source": [
    "# Fit the model\n",
    "mdl_step <- glm(Response ~ Gender + Age + Driving_License + Previously_Insured + \n",
    "                    Vehicle_Age + Vehicle_Damage + Policy_Sales_Channel + Annual_Premium,\n",
    "                    data = train_df,\n",
    "                    family = \"binomial\")\n",
    "\n",
    "# Obtain the actual client's responses and predicted responses by the model\n",
    "actual_response <- train_df$Response\n",
    "predicted_response <- round(fitted(mdl_step))\n",
    "\n",
    "# Tabulate both responses\n",
    "outcomes <- table(predicted_response, actual_response)\n",
    "outcomes"
   ]
  },
  {
   "cell_type": "code",
   "execution_count": 12,
   "metadata": {},
   "outputs": [
    {
     "data": {
      "text/html": [
       "<table>\n",
       "<thead><tr><th scope=col>.metric</th><th scope=col>.estimator</th><th scope=col>.estimate</th></tr></thead>\n",
       "<tbody>\n",
       "\t<tr><td>accuracy    </td><td>binary      </td><td>0.8774235193</td></tr>\n",
       "\t<tr><td>kap         </td><td>binary      </td><td>0.0001999513</td></tr>\n",
       "\t<tr><td>sens        </td><td>binary      </td><td>0.0001498608</td></tr>\n",
       "\t<tr><td>spec        </td><td>binary      </td><td>0.9999641147</td></tr>\n",
       "</tbody>\n",
       "</table>\n"
      ],
      "text/latex": [
       "\\begin{tabular}{r|lll}\n",
       " .metric & .estimator & .estimate\\\\\n",
       "\\hline\n",
       "\t accuracy     & binary       & 0.8774235193\\\\\n",
       "\t kap          & binary       & 0.0001999513\\\\\n",
       "\t sens         & binary       & 0.0001498608\\\\\n",
       "\t spec         & binary       & 0.9999641147\\\\\n",
       "\\end{tabular}\n"
      ],
      "text/markdown": [
       "\n",
       "| .metric | .estimator | .estimate |\n",
       "|---|---|---|\n",
       "| accuracy     | binary       | 0.8774235193 |\n",
       "| kap          | binary       | 0.0001999513 |\n",
       "| sens         | binary       | 0.0001498608 |\n",
       "| spec         | binary       | 0.9999641147 |\n",
       "\n"
      ],
      "text/plain": [
       "  .metric  .estimator .estimate   \n",
       "1 accuracy binary     0.8774235193\n",
       "2 kap      binary     0.0001999513\n",
       "3 sens     binary     0.0001498608\n",
       "4 spec     binary     0.9999641147"
      ]
     },
     "metadata": {},
     "output_type": "display_data"
    }
   ],
   "source": [
    "# Convert the table into a yardstick confusion matrix object using conf_mat()\n",
    "confusion <- conf_mat(outcomes)\n",
    "\n",
    "# Gain the major model performance metrics\n",
    "summary(confusion, event_level = \"second\")[1:4, ]"
   ]
  },
  {
   "cell_type": "markdown",
   "metadata": {},
   "source": [
    "#### Observations\n",
    "\n",
    "1. First of all, both models have the identical prediction accuracy value of 0.87742, meaning there is no difference in predicting outcomes between these two models.\n",
    "2. To interpret the confusion matrix derived from the step model c, for example, we should pay attention to two numbers, 334387 and 7, which determine the model's prediction accuracy. \n",
    "    * It means that the stepwise model predicted correctly that 334387 clients are not interested and 7 clients are interested.\n",
    "    * There are 46703 false negatives and 12 false positives.\n",
    "    * Prediction accuray is computed as follows: \n",
    "        * Dividing the sum of 334387, TN; True Negative and 7, TP; True Positive by the total number of clients 381109.\n",
    "        * 334387 / 381109 = 0.8774"
   ]
  },
  {
   "cell_type": "markdown",
   "metadata": {},
   "source": [
    "### (2) With k-fold Cross Validation\n",
    "#### (a) Full model"
   ]
  },
  {
   "cell_type": "code",
   "execution_count": 13,
   "metadata": {},
   "outputs": [
    {
     "name": "stderr",
     "output_type": "stream",
     "text": [
      "Warning message in train.default(x, y, weights = w, ...):\n",
      "\"You are trying to do regression and your outcome only has two possible values Are you trying to do classification? If so, use a 2 level factor as your outcome column.\""
     ]
    },
    {
     "data": {
      "text/html": [
       "<table>\n",
       "<thead><tr><th scope=col>parameter</th><th scope=col>RMSE</th><th scope=col>Rsquared</th><th scope=col>MAE</th><th scope=col>RMSESD</th><th scope=col>RsquaredSD</th><th scope=col>MAESD</th></tr></thead>\n",
       "<tbody>\n",
       "\t<tr><td>none       </td><td>0.2995545  </td><td>0.165583   </td><td>0.179514   </td><td>0.001605387</td><td>0.003833521</td><td>0.001329068</td></tr>\n",
       "</tbody>\n",
       "</table>\n"
      ],
      "text/latex": [
       "\\begin{tabular}{r|lllllll}\n",
       " parameter & RMSE & Rsquared & MAE & RMSESD & RsquaredSD & MAESD\\\\\n",
       "\\hline\n",
       "\t none        & 0.2995545   & 0.165583    & 0.179514    & 0.001605387 & 0.003833521 & 0.001329068\\\\\n",
       "\\end{tabular}\n"
      ],
      "text/markdown": [
       "\n",
       "| parameter | RMSE | Rsquared | MAE | RMSESD | RsquaredSD | MAESD |\n",
       "|---|---|---|---|---|---|---|\n",
       "| none        | 0.2995545   | 0.165583    | 0.179514    | 0.001605387 | 0.003833521 | 0.001329068 |\n",
       "\n"
      ],
      "text/plain": [
       "  parameter RMSE      Rsquared MAE      RMSESD      RsquaredSD  MAESD      \n",
       "1 none      0.2995545 0.165583 0.179514 0.001605387 0.003833521 0.001329068"
      ]
     },
     "metadata": {},
     "output_type": "display_data"
    }
   ],
   "source": [
    "# Define training control\n",
    "train_control <- trainControl(method = \"cv\", number = 10)  \n",
    "\n",
    "# Train the model on training set\n",
    "mdl_full_cv <- train(Response ~ .,\n",
    "                       data = train_df,\n",
    "                       trControl = train_control,\n",
    "                       method = \"glm\",\n",
    "                       family = binomial()\n",
    "                       )\n",
    "\n",
    "# Print cv scores\n",
    "mdl_full_cv$results"
   ]
  },
  {
   "cell_type": "markdown",
   "metadata": {},
   "source": [
    "#### (b) Stepwise model"
   ]
  },
  {
   "cell_type": "code",
   "execution_count": 14,
   "metadata": {},
   "outputs": [
    {
     "name": "stderr",
     "output_type": "stream",
     "text": [
      "Warning message in train.default(x, y, weights = w, ...):\n",
      "\"You are trying to do regression and your outcome only has two possible values Are you trying to do classification? If so, use a 2 level factor as your outcome column.\""
     ]
    },
    {
     "data": {
      "text/html": [
       "<table>\n",
       "<thead><tr><th scope=col>parameter</th><th scope=col>RMSE</th><th scope=col>Rsquared</th><th scope=col>MAE</th><th scope=col>RMSESD</th><th scope=col>RsquaredSD</th><th scope=col>MAESD</th></tr></thead>\n",
       "<tbody>\n",
       "\t<tr><td>none       </td><td>0.299552   </td><td>0.1656299  </td><td>0.1795127  </td><td>0.001176911</td><td>0.003307528</td><td>0.001050904</td></tr>\n",
       "</tbody>\n",
       "</table>\n"
      ],
      "text/latex": [
       "\\begin{tabular}{r|lllllll}\n",
       " parameter & RMSE & Rsquared & MAE & RMSESD & RsquaredSD & MAESD\\\\\n",
       "\\hline\n",
       "\t none        & 0.299552    & 0.1656299   & 0.1795127   & 0.001176911 & 0.003307528 & 0.001050904\\\\\n",
       "\\end{tabular}\n"
      ],
      "text/markdown": [
       "\n",
       "| parameter | RMSE | Rsquared | MAE | RMSESD | RsquaredSD | MAESD |\n",
       "|---|---|---|---|---|---|---|\n",
       "| none        | 0.299552    | 0.1656299   | 0.1795127   | 0.001176911 | 0.003307528 | 0.001050904 |\n",
       "\n"
      ],
      "text/plain": [
       "  parameter RMSE     Rsquared  MAE       RMSESD      RsquaredSD  MAESD      \n",
       "1 none      0.299552 0.1656299 0.1795127 0.001176911 0.003307528 0.001050904"
      ]
     },
     "metadata": {},
     "output_type": "display_data"
    }
   ],
   "source": [
    "# Define training control\n",
    "train_control <- trainControl(method = \"cv\", number = 10)\n",
    "\n",
    "# Train the model on training set\n",
    "mdl_step_cv <- train(Response ~ Gender + Age + Driving_License + Previously_Insured + \n",
    "                       Vehicle_Age + Vehicle_Damage + Policy_Sales_Channel + Annual_Premium,\n",
    "                       data = train_df,\n",
    "                       trControl = train_control,\n",
    "                       method = \"glm\",\n",
    "                       family = binomial()\n",
    "                       )\n",
    "\n",
    "# Print cv scores\n",
    "mdl_step_cv$results"
   ]
  },
  {
   "cell_type": "markdown",
   "metadata": {},
   "source": [
    "#### Observations\n",
    "\n",
    "1. Let's pay attention to the values of RMSE from both results. \n",
    "2. Root Mean Squared Error (RMSE), which measures the average prediction error made by the model in predicting the outcome for an observation. That is, the average difference between the observed known outcome values and the values predicted by the model. The lower the RMSE, the better the model.\n",
    "3. As seen above, both models have almost an identical value of RMSE, meaning technically they do not have difference in terms of their performance in predicting outcomes."
   ]
  },
  {
   "cell_type": "markdown",
   "metadata": {},
   "source": [
    "### (3) Other model performance metrics\n",
    "#### (a) McFadden's pseudo R-squared\n",
    "1. McFadden's pseudo R-squared is sometimes referred to as a closer equivalent of the coefficient of determination, R-squared, in linear regressions.\n",
    "2. McFadden's R-squared tend to be considerably lower than those of the R-squared index.\n",
    "For example, values of 0.2 to 0.4 for McFadden's R-squared represent excellent model fit."
   ]
  },
  {
   "cell_type": "code",
   "execution_count": 15,
   "metadata": {},
   "outputs": [
    {
     "name": "stdout",
     "output_type": "stream",
     "text": [
      "fitting null model for pseudo-r2\n"
     ]
    },
    {
     "data": {
      "text/html": [
       "<dl class=dl-horizontal>\n",
       "\t<dt>llh</dt>\n",
       "\t\t<dd>-104750.9806</dd>\n",
       "\t<dt>llhNull</dt>\n",
       "\t\t<dd>-141773.0765</dd>\n",
       "\t<dt>G2</dt>\n",
       "\t\t<dd>74044.1917</dd>\n",
       "\t<dt>McFadden</dt>\n",
       "\t\t<dd>0.2611</dd>\n",
       "\t<dt>r2ML</dt>\n",
       "\t\t<dd>0.1766</dd>\n",
       "\t<dt>r2CU</dt>\n",
       "\t\t<dd>0.3365</dd>\n",
       "</dl>\n"
      ],
      "text/latex": [
       "\\begin{description*}\n",
       "\\item[llh] -104750.9806\n",
       "\\item[llhNull] -141773.0765\n",
       "\\item[G2] 74044.1917\n",
       "\\item[McFadden] 0.2611\n",
       "\\item[r2ML] 0.1766\n",
       "\\item[r2CU] 0.3365\n",
       "\\end{description*}\n"
      ],
      "text/markdown": [
       "llh\n",
       ":   -104750.9806llhNull\n",
       ":   -141773.0765G2\n",
       ":   74044.1917McFadden\n",
       ":   0.2611r2ML\n",
       ":   0.1766r2CU\n",
       ":   0.3365\n",
       "\n"
      ],
      "text/plain": [
       "         llh      llhNull           G2     McFadden         r2ML         r2CU \n",
       "-104750.9806 -141773.0765   74044.1917       0.2611       0.1766       0.3365 "
      ]
     },
     "metadata": {},
     "output_type": "display_data"
    }
   ],
   "source": [
    "# Obtain McFadden's pseudo R-squared for the full model\n",
    "round(pR2(mdl_full), digits = 4)"
   ]
  },
  {
   "cell_type": "code",
   "execution_count": 16,
   "metadata": {},
   "outputs": [
    {
     "name": "stdout",
     "output_type": "stream",
     "text": [
      "fitting null model for pseudo-r2\n"
     ]
    },
    {
     "data": {
      "text/html": [
       "<dl class=dl-horizontal>\n",
       "\t<dt>llh</dt>\n",
       "\t\t<dd>-104751.3425</dd>\n",
       "\t<dt>llhNull</dt>\n",
       "\t\t<dd>-141773.0765</dd>\n",
       "\t<dt>G2</dt>\n",
       "\t\t<dd>74043.468</dd>\n",
       "\t<dt>McFadden</dt>\n",
       "\t\t<dd>0.2611</dd>\n",
       "\t<dt>r2ML</dt>\n",
       "\t\t<dd>0.1766</dd>\n",
       "\t<dt>r2CU</dt>\n",
       "\t\t<dd>0.3365</dd>\n",
       "</dl>\n"
      ],
      "text/latex": [
       "\\begin{description*}\n",
       "\\item[llh] -104751.3425\n",
       "\\item[llhNull] -141773.0765\n",
       "\\item[G2] 74043.468\n",
       "\\item[McFadden] 0.2611\n",
       "\\item[r2ML] 0.1766\n",
       "\\item[r2CU] 0.3365\n",
       "\\end{description*}\n"
      ],
      "text/markdown": [
       "llh\n",
       ":   -104751.3425llhNull\n",
       ":   -141773.0765G2\n",
       ":   74043.468McFadden\n",
       ":   0.2611r2ML\n",
       ":   0.1766r2CU\n",
       ":   0.3365\n",
       "\n"
      ],
      "text/plain": [
       "         llh      llhNull           G2     McFadden         r2ML         r2CU \n",
       "-104751.3425 -141773.0765   74043.4680       0.2611       0.1766       0.3365 "
      ]
     },
     "metadata": {},
     "output_type": "display_data"
    }
   ],
   "source": [
    "# Obtain McFadden's pseudo R-squared for the stepwise model\n",
    "round(pR2(mdl_step), digits = 4)"
   ]
  },
  {
   "cell_type": "markdown",
   "metadata": {},
   "source": [
    "#### Observations\n",
    "As seen above, McFadden's index is about 0.26 for both models indicating that they are greatly fitted.\n",
    "\n",
    "\n",
    "#### (b) Residual deviance reduction\n",
    "Let's get the detailed table of deviance from the stepwise model"
   ]
  },
  {
   "cell_type": "code",
   "execution_count": 17,
   "metadata": {},
   "outputs": [
    {
     "data": {
      "text/html": [
       "<table>\n",
       "<thead><tr><th></th><th scope=col>Df</th><th scope=col>Deviance</th><th scope=col>Resid. Df</th><th scope=col>Resid. Dev</th><th scope=col>Pr(&gt;Chi)</th></tr></thead>\n",
       "<tbody>\n",
       "\t<tr><th scope=row>NULL</th><td>NA           </td><td>         NA  </td><td>381108       </td><td>283546.2     </td><td>           NA</td></tr>\n",
       "\t<tr><th scope=row>Gender</th><td> 1           </td><td> 1058.14502  </td><td>381107       </td><td>282488.0     </td><td>4.130355e-232</td></tr>\n",
       "\t<tr><th scope=row>Age</th><td> 1           </td><td> 4002.12514  </td><td>381106       </td><td>278485.9     </td><td> 0.000000e+00</td></tr>\n",
       "\t<tr><th scope=row>Driving_License</th><td> 1           </td><td>  143.97930  </td><td>381105       </td><td>278341.9     </td><td> 3.590187e-33</td></tr>\n",
       "\t<tr><th scope=row>Previously_Insured</th><td> 1           </td><td>56009.88369  </td><td>381104       </td><td>222332.0     </td><td> 0.000000e+00</td></tr>\n",
       "\t<tr><th scope=row>Vehicle_Age</th><td> 2           </td><td> 5990.06873  </td><td>381102       </td><td>216342.0     </td><td> 0.000000e+00</td></tr>\n",
       "\t<tr><th scope=row>Vehicle_Damage</th><td> 1           </td><td> 6190.02350  </td><td>381101       </td><td>210151.9     </td><td> 0.000000e+00</td></tr>\n",
       "\t<tr><th scope=row>Policy_Sales_Channel</th><td> 1           </td><td>  573.91643  </td><td>381100       </td><td>209578.0     </td><td>7.895742e-127</td></tr>\n",
       "\t<tr><th scope=row>Annual_Premium</th><td> 1           </td><td>   75.32623  </td><td>381099       </td><td>209502.7     </td><td> 3.990231e-18</td></tr>\n",
       "</tbody>\n",
       "</table>\n"
      ],
      "text/latex": [
       "\\begin{tabular}{r|lllll}\n",
       "  & Df & Deviance & Resid. Df & Resid. Dev & Pr(>Chi)\\\\\n",
       "\\hline\n",
       "\tNULL & NA            &          NA   & 381108        & 283546.2      &            NA\\\\\n",
       "\tGender &  1            &  1058.14502   & 381107        & 282488.0      & 4.130355e-232\\\\\n",
       "\tAge &  1            &  4002.12514   & 381106        & 278485.9      &  0.000000e+00\\\\\n",
       "\tDriving\\_License &  1            &   143.97930   & 381105        & 278341.9      &  3.590187e-33\\\\\n",
       "\tPreviously\\_Insured &  1            & 56009.88369   & 381104        & 222332.0      &  0.000000e+00\\\\\n",
       "\tVehicle\\_Age &  2            &  5990.06873   & 381102        & 216342.0      &  0.000000e+00\\\\\n",
       "\tVehicle\\_Damage &  1            &  6190.02350   & 381101        & 210151.9      &  0.000000e+00\\\\\n",
       "\tPolicy\\_Sales\\_Channel &  1            &   573.91643   & 381100        & 209578.0      & 7.895742e-127\\\\\n",
       "\tAnnual\\_Premium &  1            &    75.32623   & 381099        & 209502.7      &  3.990231e-18\\\\\n",
       "\\end{tabular}\n"
      ],
      "text/markdown": [
       "\n",
       "| <!--/--> | Df | Deviance | Resid. Df | Resid. Dev | Pr(>Chi) |\n",
       "|---|---|---|---|---|---|\n",
       "| NULL | NA            |          NA   | 381108        | 283546.2      |            NA |\n",
       "| Gender |  1            |  1058.14502   | 381107        | 282488.0      | 4.130355e-232 |\n",
       "| Age |  1            |  4002.12514   | 381106        | 278485.9      |  0.000000e+00 |\n",
       "| Driving_License |  1            |   143.97930   | 381105        | 278341.9      |  3.590187e-33 |\n",
       "| Previously_Insured |  1            | 56009.88369   | 381104        | 222332.0      |  0.000000e+00 |\n",
       "| Vehicle_Age |  2            |  5990.06873   | 381102        | 216342.0      |  0.000000e+00 |\n",
       "| Vehicle_Damage |  1            |  6190.02350   | 381101        | 210151.9      |  0.000000e+00 |\n",
       "| Policy_Sales_Channel |  1            |   573.91643   | 381100        | 209578.0      | 7.895742e-127 |\n",
       "| Annual_Premium |  1            |    75.32623   | 381099        | 209502.7      |  3.990231e-18 |\n",
       "\n"
      ],
      "text/plain": [
       "                     Df Deviance    Resid. Df Resid. Dev Pr(>Chi)     \n",
       "NULL                 NA          NA 381108    283546.2              NA\n",
       "Gender                1  1058.14502 381107    282488.0   4.130355e-232\n",
       "Age                   1  4002.12514 381106    278485.9    0.000000e+00\n",
       "Driving_License       1   143.97930 381105    278341.9    3.590187e-33\n",
       "Previously_Insured    1 56009.88369 381104    222332.0    0.000000e+00\n",
       "Vehicle_Age           2  5990.06873 381102    216342.0    0.000000e+00\n",
       "Vehicle_Damage        1  6190.02350 381101    210151.9    0.000000e+00\n",
       "Policy_Sales_Channel  1   573.91643 381100    209578.0   7.895742e-127\n",
       "Annual_Premium        1    75.32623 381099    209502.7    3.990231e-18"
      ]
     },
     "metadata": {},
     "output_type": "display_data"
    },
    {
     "data": {
      "text/html": [
       "<table>\n",
       "<thead><tr><th></th><th scope=col>Resid. Dev</th></tr></thead>\n",
       "<tbody>\n",
       "\t<tr><th scope=row>NULL</th><td>283546.2</td></tr>\n",
       "\t<tr><th scope=row>Gender</th><td>282488.0</td></tr>\n",
       "\t<tr><th scope=row>Age</th><td>278485.9</td></tr>\n",
       "\t<tr><th scope=row>Driving_License</th><td>278341.9</td></tr>\n",
       "\t<tr><th scope=row>Previously_Insured</th><td>222332.0</td></tr>\n",
       "\t<tr><th scope=row>Vehicle_Age</th><td>216342.0</td></tr>\n",
       "\t<tr><th scope=row>Vehicle_Damage</th><td>210151.9</td></tr>\n",
       "\t<tr><th scope=row>Policy_Sales_Channel</th><td>209578.0</td></tr>\n",
       "\t<tr><th scope=row>Annual_Premium</th><td>209502.7</td></tr>\n",
       "</tbody>\n",
       "</table>\n"
      ],
      "text/latex": [
       "\\begin{tabular}{r|l}\n",
       "  & Resid. Dev\\\\\n",
       "\\hline\n",
       "\tNULL & 283546.2\\\\\n",
       "\tGender & 282488.0\\\\\n",
       "\tAge & 278485.9\\\\\n",
       "\tDriving\\_License & 278341.9\\\\\n",
       "\tPreviously\\_Insured & 222332.0\\\\\n",
       "\tVehicle\\_Age & 216342.0\\\\\n",
       "\tVehicle\\_Damage & 210151.9\\\\\n",
       "\tPolicy\\_Sales\\_Channel & 209578.0\\\\\n",
       "\tAnnual\\_Premium & 209502.7\\\\\n",
       "\\end{tabular}\n"
      ],
      "text/markdown": [
       "\n",
       "| <!--/--> | Resid. Dev |\n",
       "|---|---|\n",
       "| NULL | 283546.2 |\n",
       "| Gender | 282488.0 |\n",
       "| Age | 278485.9 |\n",
       "| Driving_License | 278341.9 |\n",
       "| Previously_Insured | 222332.0 |\n",
       "| Vehicle_Age | 216342.0 |\n",
       "| Vehicle_Damage | 210151.9 |\n",
       "| Policy_Sales_Channel | 209578.0 |\n",
       "| Annual_Premium | 209502.7 |\n",
       "\n"
      ],
      "text/plain": [
       "                     Resid. Dev\n",
       "NULL                 283546.2  \n",
       "Gender               282488.0  \n",
       "Age                  278485.9  \n",
       "Driving_License      278341.9  \n",
       "Previously_Insured   222332.0  \n",
       "Vehicle_Age          216342.0  \n",
       "Vehicle_Damage       210151.9  \n",
       "Policy_Sales_Channel 209578.0  \n",
       "Annual_Premium       209502.7  "
      ]
     },
     "metadata": {},
     "output_type": "display_data"
    }
   ],
   "source": [
    "# Return a table of deviance\n",
    "df <- anova(mdl_step, test = \"Chisq\")\n",
    "df\n",
    "\n",
    "# Extract the column: Residual Deviance\n",
    "df1 <- subset(df, select = c(\"Resid. Dev\"))\n",
    "df1"
   ]
  },
  {
   "cell_type": "code",
   "execution_count": 18,
   "metadata": {},
   "outputs": [
    {
     "name": "stdout",
     "output_type": "stream",
     "text": [
      "[1] 1058.15\n",
      "[1] 4002.13\n",
      "[1] 143.98\n",
      "[1] 56009.88\n",
      "[1] 5990.07\n",
      "[1] 6190.02\n",
      "[1] 573.92\n",
      "[1] 75.33\n"
     ]
    }
   ],
   "source": [
    "# Loop over the rows to compute the difference in deviance between rows\n",
    "for(i in 1:nrow(df1)) {\n",
    "    diff_vars <- df1[i, ] - df1[i+1, ]\n",
    "    \n",
    "    if (i == 9) {\n",
    "        break\n",
    "    }\n",
    "    print(round(diff_vars, digits = 2))\n",
    "}"
   ]
  },
  {
   "cell_type": "code",
   "execution_count": 19,
   "metadata": {
    "scrolled": false
   },
   "outputs": [
    {
     "data": {
      "text/html": [
       "<table>\n",
       "<thead><tr><th scope=col>vars</th><th scope=col>resid_dev_reduced</th></tr></thead>\n",
       "<tbody>\n",
       "\t<tr><td>Gender              </td><td> 1058.15            </td></tr>\n",
       "\t<tr><td>Age                 </td><td> 4002.13            </td></tr>\n",
       "\t<tr><td>Driving_License     </td><td>  143.98            </td></tr>\n",
       "\t<tr><td>Previously_Insured  </td><td>56009.88            </td></tr>\n",
       "\t<tr><td>Vehicle_Age         </td><td> 5990.07            </td></tr>\n",
       "\t<tr><td> Vehicle_Damage     </td><td> 6190.02            </td></tr>\n",
       "\t<tr><td>Policy_Sales_Channel</td><td>  573.92            </td></tr>\n",
       "\t<tr><td>Annual_Premium      </td><td>   75.33            </td></tr>\n",
       "</tbody>\n",
       "</table>\n"
      ],
      "text/latex": [
       "\\begin{tabular}{r|ll}\n",
       " vars & resid\\_dev\\_reduced\\\\\n",
       "\\hline\n",
       "\t Gender               &  1058.15            \\\\\n",
       "\t Age                  &  4002.13            \\\\\n",
       "\t Driving\\_License      &   143.98              \\\\\n",
       "\t Previously\\_Insured   & 56009.88              \\\\\n",
       "\t Vehicle\\_Age          &  5990.07              \\\\\n",
       "\t  Vehicle\\_Damage      &  6190.02              \\\\\n",
       "\t Policy\\_Sales\\_Channel &   573.92                \\\\\n",
       "\t Annual\\_Premium       &    75.33              \\\\\n",
       "\\end{tabular}\n"
      ],
      "text/markdown": [
       "\n",
       "| vars | resid_dev_reduced |\n",
       "|---|---|\n",
       "| Gender               |  1058.15             |\n",
       "| Age                  |  4002.13             |\n",
       "| Driving_License      |   143.98             |\n",
       "| Previously_Insured   | 56009.88             |\n",
       "| Vehicle_Age          |  5990.07             |\n",
       "|  Vehicle_Damage      |  6190.02             |\n",
       "| Policy_Sales_Channel |   573.92             |\n",
       "| Annual_Premium       |    75.33             |\n",
       "\n"
      ],
      "text/plain": [
       "  vars                 resid_dev_reduced\n",
       "1 Gender                1058.15         \n",
       "2 Age                   4002.13         \n",
       "3 Driving_License        143.98         \n",
       "4 Previously_Insured   56009.88         \n",
       "5 Vehicle_Age           5990.07         \n",
       "6  Vehicle_Damage       6190.02         \n",
       "7 Policy_Sales_Channel   573.92         \n",
       "8 Annual_Premium          75.33         "
      ]
     },
     "metadata": {},
     "output_type": "display_data"
    }
   ],
   "source": [
    "# Create a dataframe that shows variables and its contribution to residual deviance reduction \n",
    "vars <- c(\"Gender\", \"Age\", \"Driving_License\", \"Previously_Insured\", \"Vehicle_Age\",\n",
    "                        \" Vehicle_Damage\", \"Policy_Sales_Channel\", \"Annual_Premium\")\n",
    "resid_dev_reduced <- c(1058.15, 4002.13, 143.98, 56009.88, 5990.07, 6190.02, 573.92, 75.33)\n",
    "diff_df <- data.frame(vars, resid_dev_reduced)\n",
    "diff_df"
   ]
  },
  {
   "cell_type": "code",
   "execution_count": 20,
   "metadata": {},
   "outputs": [],
   "source": [
    "# Plot the amount of residual deviance reduced by each variable with a barplot\n",
    "p4 <- ggplot(diff_df, aes(resid_dev_reduced, vars, fill = vars)) +\n",
    "        geom_bar(stat = 'identity', width = 0.8) +\n",
    "        theme(axis.text.x = element_text(face = \"bold\"), axis.text.y = element_text(face = \"bold\")) +\n",
    "        labs(x=\"Reduction in Residual Deviance\", y=\"Predictors\", title=\"Predictors Contribution to Reduction in Resid. Dev\")\n",
    "\n",
    "fig4 <- ggplotly(p4)\n",
    "# fig4\n",
    "\n",
    "# Save a plot as a html file\n",
    "# htmlwidgets::saveWidget(fig4, \"C:/Users/james/Desktop/Coding/Projects/fig4.html\")"
   ]
  },
  {
   "attachments": {
    "Part1_fig4.png": {
     "image/png": "[encoded data removed]"
    }
   },
   "cell_type": "markdown",
   "metadata": {},
   "source": [
    "![Part1_fig4.png](attachment:Part1_fig4.png)"
   ]
  },
  {
   "cell_type": "markdown",
   "metadata": {},
   "source": [
    "#### Observations\n",
    "1. First, let's look at the difference between the null deviance, which is the deviance of the null model (i.e., a model with only an intercept), and the residual deviance.\n",
    "2. The bigger the difference is, the better the model is doing against the null model.\n",
    "3. I tabulated the residual deviance reduced by each variable and also plotted them in the bar plot for easy comparison.\n",
    "4. As seen above, adding the ownership of vehicle insurance; Previously_Insured, alone reduces the residual deviance drastically.\n",
    "5. On the other hand, the predictors whose residual deviance reduction is comparatively small, such as Policy_Sales_Channel, Gender, Driving_License, and Annual_Premium, indicate that these variables do not add much to the model."
   ]
  },
  {
   "cell_type": "markdown",
   "metadata": {},
   "source": [
    "### <a href='#Table of Contents'>[Move to Table of Contents]</a>"
   ]
  }
 ],
 "metadata": {
  "kernelspec": {
   "display_name": "R",
   "language": "R",
   "name": "ir"
  },
  "language_info": {
   "codemirror_mode": "r",
   "file_extension": ".r",
   "mimetype": "text/x-r-source",
   "name": "R",
   "pygments_lexer": "r",
   "version": "3.6.3"
  }
 },
 "nbformat": 4,
 "nbformat_minor": 4
}
